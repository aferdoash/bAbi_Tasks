{
 "cells": [
  {
   "cell_type": "markdown",
   "metadata": {},
   "source": [
    "### Memory network on the bAbI dataset.\n",
    "\n",
    "Building an intelligent dialogue agent is tricky because of the inherent difficulties in building a robust natural Language understanding and reasoning system. The bAbI dataset and tasks were simulated to test performances of different deep learning nets towards 'AI-Complete\" question answering. Following is an implementation of the Question-Answering tasks described in Weston et al. using Memory Networks.\n",
    "\n",
    "References:\n",
    "- Jason Weston, Antoine Bordes, Sumit Chopra, Tomas Mikolov, Alexander M. Rush,\n",
    "  \"Towards AI-Complete Question Answering: A Set of Prerequisite Toy Tasks\",\n",
    "  http://arxiv.org/abs/1502.05698\n",
    "- Sainbayar Sukhbaatar, Arthur Szlam, Jason Weston, Rob Fergus,\n",
    "  \"End-To-End Memory Networks\",\n",
    "  http://arxiv.org/abs/1503.08895\n",
    "- https://github.com/fchollet/keras/blob/master/examples/babi_memnn.py\n",
    "\n"
   ]
  },
  {
   "cell_type": "code",
   "execution_count": 25,
   "metadata": {
    "collapsed": false
   },
   "outputs": [],
   "source": [
    "from __future__ import print_function\n",
    "from keras.models import Sequential\n",
    "from keras.layers.embeddings import Embedding\n",
    "from keras.layers import Activation, Dense, Merge, Permute, Dropout, Reshape, Flatten\n",
    "from keras.layers import LSTM, SimpleRNN\n",
    "from keras.utils.data_utils import get_file\n",
    "from keras.preprocessing.sequence import pad_sequences\n",
    "from keras.regularizers import l2, activity_l2\n",
    "from functools import reduce\n",
    "import tarfile\n",
    "import numpy as np\n",
    "import re"
   ]
  },
  {
   "cell_type": "markdown",
   "metadata": {},
   "source": [
    "### Story processing\n",
    "\n",
    "Each story is processed to reduce sentences to tokens and combine all facts and queries relevant to the story. "
   ]
  },
  {
   "cell_type": "code",
   "execution_count": 26,
   "metadata": {
    "collapsed": false
   },
   "outputs": [],
   "source": [
    "def tokenize(sent):\n",
    "    '''Return the tokens of a sentence including punctuation.\n",
    "    >>> tokenize('Bob dropped the apple. Where is the apple?')\n",
    "    ['Bob', 'dropped', 'the', 'apple', '.', 'Where', 'is', 'the', 'apple', '?']\n",
    "    '''\n",
    "    return [x.strip() for x in re.split('(\\W+)?', sent) if x.strip()]\n"
   ]
  },
  {
   "cell_type": "code",
   "execution_count": 27,
   "metadata": {
    "collapsed": true
   },
   "outputs": [],
   "source": [
    "def parse_stories(lines, only_supporting=False):\n",
    "    '''Parse stories provided in the bAbi tasks format\n",
    "    If only_supporting is true, only the sentences that support the answer are kept.\n",
    "    '''\n",
    "    data = []\n",
    "    story = []\n",
    "    for line in lines:\n",
    "        line = line.decode('utf-8').strip()\n",
    "        nid, line = line.split(' ', 1)\n",
    "        nid = int(nid)\n",
    "        if nid == 1:\n",
    "            story = []\n",
    "        if '\\t' in line:\n",
    "            q, a, supporting = line.split('\\t')\n",
    "            q = tokenize(q)\n",
    "            substory = None\n",
    "            if only_supporting:\n",
    "                # Only select the related substory\n",
    "                supporting = map(int, supporting.split())\n",
    "                substory = [story[i - 1] for i in supporting]\n",
    "            else:\n",
    "                # Provide all the substories\n",
    "                substory = [x for x in story if x]\n",
    "            data.append((substory, q, a))\n",
    "            story.append('')\n",
    "        else:\n",
    "            sent = tokenize(line)\n",
    "            story.append(sent)\n",
    "    return data"
   ]
  },
  {
   "cell_type": "code",
   "execution_count": 28,
   "metadata": {
    "collapsed": true
   },
   "outputs": [],
   "source": [
    "\n",
    "def get_stories(f, only_supporting=False, max_length=None):\n",
    "    '''Given a file name, read the file, retrieve the stories, and then convert the sentences into a single story.\n",
    "    If max_length is supplied, any stories longer than max_length tokens will be discarded.\n",
    "    '''\n",
    "    data = parse_stories(f.readlines(), only_supporting=only_supporting)\n",
    "    flatten = lambda data: reduce(lambda x, y: x + y, data)\n",
    "    data = [(flatten(story), q, answer) for story, q, answer in data if not max_length or len(flatten(story)) < max_length]\n",
    "    return data\n"
   ]
  },
  {
   "cell_type": "code",
   "execution_count": 29,
   "metadata": {
    "collapsed": true
   },
   "outputs": [],
   "source": [
    "def vectorize_stories(data, word_idx, story_maxlen, query_maxlen):\n",
    "    X = []\n",
    "    Xq = []\n",
    "    Y = []\n",
    "    for story, query, answer in data:\n",
    "        x = [word_idx[w] for w in story]\n",
    "        xq = [word_idx[w] for w in query]\n",
    "        y = np.zeros(len(word_idx) + 1)  # let's not forget that index 0 is reserved\n",
    "        y[word_idx[answer]] = 1\n",
    "        X.append(x)\n",
    "        Xq.append(xq)\n",
    "        Y.append(y)\n",
    "    return (pad_sequences(X, maxlen=story_maxlen),\n",
    "            pad_sequences(Xq, maxlen=query_maxlen), np.array(Y))"
   ]
  },
  {
   "cell_type": "markdown",
   "metadata": {},
   "source": [
    "### Training Set\n",
    "\n",
    "Here the selection of 'Question' type (single supporting fact, three supporting facts etc.) is made for generating the training and test set. "
   ]
  },
  {
   "cell_type": "code",
   "execution_count": 30,
   "metadata": {
    "collapsed": false
   },
   "outputs": [
    {
     "name": "stdout",
     "output_type": "stream",
     "text": [
      "Extracting stories for the challenge: Single Supporting Fact\n"
     ]
    }
   ],
   "source": [
    "print('Extracting stories for the challenge: Single Supporting Fact')\n",
    "train_stories = get_stories(open('task_1_10k.txt','r+'))\n",
    "test_stories = get_stories(open('task_1_test.txt','r+'))\n",
    "\n"
   ]
  },
  {
   "cell_type": "code",
   "execution_count": 31,
   "metadata": {
    "collapsed": false
   },
   "outputs": [
    {
     "name": "stdout",
     "output_type": "stream",
     "text": [
      "Vocab size: 20 unique words\n",
      "Story max length: 58 words\n",
      "Query max length: 4 words\n",
      "Number of training stories: 10000\n",
      "Number of test stories: 1000\n",
      "\n",
      "\n",
      "Here's what a \"story\" tuple looks like (input, query, answer):\n",
      "([u'Chameli', u'shayankaksh', u'ko', u'gayi', u'.', u'Chameli', u'snanghar', u'gayi', u'.'], [u'Chameli', u'kahan', u'hai', u'?'], u'snanghar')\n"
     ]
    }
   ],
   "source": [
    "vocab = sorted(reduce(lambda x, y: x | y, (set(story + q + [answer]) for story, q, answer in train_stories + test_stories)))\n",
    "# Reserve 0 for masking via pad_sequences\n",
    "vocab_size = len(vocab) + 1\n",
    "story_maxlen = max(map(len, (x for x, _, _ in train_stories + test_stories)))\n",
    "query_maxlen = max(map(len, (x for _, x, _ in train_stories + test_stories)))\n",
    "\n",
    "print('Vocab size:', vocab_size, 'unique words')\n",
    "print('Story max length:', story_maxlen, 'words')\n",
    "print('Query max length:', query_maxlen, 'words')\n",
    "print('Number of training stories:', len(train_stories))\n",
    "print('Number of test stories:', len(test_stories))\n",
    "print('\\n')\n",
    "print('Here\\'s what a \"story\" tuple looks like (input, query, answer):')\n",
    "print(train_stories[0])"
   ]
  },
  {
   "cell_type": "markdown",
   "metadata": {},
   "source": [
    "### Vectorizing the word sequences\n",
    "\n",
    "Here we convert the word tokens to word vectors. We know the total number of unique words in the corpus, that is the size of the vocabulary. Thus, to each word in the corpus we assign a number. We also know the maximum length of a story, story_maxlen (story includes facts, query and answer). Thus, for each story we can construct a word vector of length story_maxlen. For eg. suppose, story_maxlen is 68 and the current story length is 24, then we can have a word vector with the first 34 indices as 0 and the next 24 indices with vocabulary index values of words in the current story"
   ]
  },
  {
   "cell_type": "code",
   "execution_count": 32,
   "metadata": {
    "collapsed": false
   },
   "outputs": [
    {
     "name": "stdout",
     "output_type": "stream",
     "text": [
      "inputs: integer tensor of shape (samples, max_length)\n",
      "inputs_train shape: (10000, 58)\n",
      "inputs_test shape: (1000, 58)\n",
      "\n",
      "\n",
      "queries: integer tensor of shape (samples, max_length)\n",
      "queries_train shape: (10000, 4)\n",
      "queries_test shape: (1000, 4)\n",
      "\n",
      "\n",
      "answers: binary (1 or 0) tensor of shape (samples, vocab_size)\n",
      "answers_train shape: (10000, 20)\n",
      "answers_test shape: (1000, 20)\n",
      "\n",
      "\n"
     ]
    }
   ],
   "source": [
    "word_idx = dict((c, i + 1) for i, c in enumerate(vocab))\n",
    "inputs_train, queries_train, answers_train = vectorize_stories(train_stories, word_idx, story_maxlen, query_maxlen)\n",
    "inputs_test, queries_test, answers_test = vectorize_stories(test_stories, word_idx, story_maxlen, query_maxlen)\n",
    "\n",
    "\n",
    "print('inputs: integer tensor of shape (samples, max_length)')\n",
    "print('inputs_train shape:', inputs_train.shape)\n",
    "print('inputs_test shape:', inputs_test.shape)\n",
    "print('\\n')\n",
    "print('queries: integer tensor of shape (samples, max_length)')\n",
    "print('queries_train shape:', queries_train.shape)\n",
    "print('queries_test shape:', queries_test.shape)\n",
    "print('\\n')\n",
    "print('answers: binary (1 or 0) tensor of shape (samples, vocab_size)')\n",
    "print('answers_train shape:', answers_train.shape)\n",
    "print('answers_test shape:', answers_test.shape)\n",
    "print('\\n')\n"
   ]
  },
  {
   "cell_type": "markdown",
   "metadata": {},
   "source": [
    "### End-to-End Memory Networks\n",
    "\n",
    "The model employed is the End-to-End Memory Networks described in Sukhbaatar et. al. (2015). The architecture is a modified form of Memory Network (Weston, 2014) with the training being weakly supervised.Weston's Memory Network was not easy to train via backpropagation and required supervision at each layer.\n",
    "\n",
    "\n",
    "Briefly, the model takes a discrete set of inputs x1, x2, ...xn that are to be stored in memory, a query q, and an answer a. The model writes all x to the memory up to a fixed buffer size, and then finds a continuous representation for x and q. The continuous representation is then processed via multiple hops to output a. \n"
   ]
  },
  {
   "cell_type": "code",
   "execution_count": 33,
   "metadata": {
    "collapsed": false
   },
   "outputs": [],
   "source": [
    "# embed the input sequence into a sequence of vectors\n",
    "# output: (samples, story_maxlen, embedding_dim)\n",
    "input_encoder_m = Sequential()\n",
    "input_encoder_m.add(Embedding(input_dim=vocab_size,\n",
    "                              output_dim=64,\n",
    "                              input_length=story_maxlen))\n",
    "input_encoder_m.add(Dropout(0.3))\n",
    "\n",
    "\n",
    "# embed the question into a sequence of vectors\n",
    "# output: (samples, query_maxlen, embedding_dim)\n",
    "question_encoder = Sequential()\n",
    "question_encoder.add(Embedding(input_dim=vocab_size,\n",
    "                               output_dim=64,\n",
    "                               input_length=query_maxlen))\n",
    "question_encoder.add(Dropout(0.3))\n",
    "\n",
    "# compute a 'match' between input sequence elements (which are vectors)\n",
    "# and the question vector sequence\n",
    "\n",
    "# output: (samples, story_maxlen, query_maxlen)\n",
    "match = Sequential()\n",
    "match.add(Merge([input_encoder_m, question_encoder],\n",
    "                mode='dot',\n",
    "                dot_axes=[2, 2]))\n",
    "match.add(Activation('softmax'))\n",
    "\n",
    "# embed the input into a single vector with size = story_maxlen:\n",
    "# output: (samples, story_maxlen, query_maxlen)\n",
    "input_encoder_c = Sequential()\n",
    "input_encoder_c.add(Embedding(input_dim=vocab_size,\n",
    "                              output_dim=query_maxlen,\n",
    "                              input_length=story_maxlen))\n",
    "input_encoder_c.add(Dropout(0.3))\n",
    "\n",
    "\n",
    "# sum the match vector with the input vector:\n",
    "# output: (samples, story_maxlen, query_maxlen)\n",
    "response = Sequential()\n",
    "response.add(Merge([match, input_encoder_c], mode='sum'))\n",
    "\n",
    "# Permutes the dimensions of input\n",
    "response.add(Permute((2, 1)))  # output: (samples, query_maxlen, story_maxlen)\n",
    "\n",
    "# concatenate the match vector with the question vector,\n",
    "# and do logistic regression on top\n",
    "answer = Sequential()\n",
    "answer.add(Merge([response, question_encoder], mode='concat', concat_axis=-1))\n",
    "\n",
    "\n",
    "#HOW TO GET SHAPE OF LAYER question_encoder.layers[-1].output_shape\n",
    "\n",
    "# the original paper uses a matrix multiplication for this reduction step.\n",
    "# we choose to use a RNN instead.\n",
    "answer.add(LSTM(32))\n",
    "#one regularization layer -- more would probably be needed.\n",
    "answer.add(Dropout(0.3))\n",
    "answer.add(Dense(vocab_size))\n",
    "# we output a probability distribution over the vocabulary\n",
    "answer.add(Activation('softmax'))\n",
    "\n"
   ]
  },
  {
   "cell_type": "code",
   "execution_count": 34,
   "metadata": {
    "collapsed": false
   },
   "outputs": [
    {
     "name": "stdout",
     "output_type": "stream",
     "text": [
      "Train on 10000 samples, validate on 1000 samples\n",
      "Epoch 1/120\n",
      "10000/10000 [==============================] - 5s - loss: 1.9554 - acc: 0.1783 - val_loss: 1.7941 - val_acc: 0.1950\n",
      "Epoch 2/120\n",
      "10000/10000 [==============================] - 5s - loss: 1.8104 - acc: 0.1828 - val_loss: 1.7804 - val_acc: 0.2010\n",
      "Epoch 3/120\n",
      "10000/10000 [==============================] - 5s - loss: 1.7859 - acc: 0.1971 - val_loss: 1.7550 - val_acc: 0.2150\n",
      "Epoch 4/120\n",
      "10000/10000 [==============================] - 5s - loss: 1.7308 - acc: 0.2531 - val_loss: 1.6655 - val_acc: 0.3270\n",
      "Epoch 5/120\n",
      "10000/10000 [==============================] - 5s - loss: 1.6633 - acc: 0.3095 - val_loss: 1.5928 - val_acc: 0.3550\n",
      "Epoch 6/120\n",
      "10000/10000 [==============================] - 5s - loss: 1.6113 - acc: 0.3472 - val_loss: 1.5432 - val_acc: 0.3920\n",
      "Epoch 7/120\n",
      "10000/10000 [==============================] - 5s - loss: 1.5829 - acc: 0.3685 - val_loss: 1.5280 - val_acc: 0.3790\n",
      "Epoch 8/120\n",
      "10000/10000 [==============================] - 5s - loss: 1.5679 - acc: 0.3798 - val_loss: 1.4965 - val_acc: 0.4000\n",
      "Epoch 9/120\n",
      "10000/10000 [==============================] - 5s - loss: 1.5470 - acc: 0.3882 - val_loss: 1.4778 - val_acc: 0.4080\n",
      "Epoch 10/120\n",
      "10000/10000 [==============================] - 5s - loss: 1.5307 - acc: 0.3946 - val_loss: 1.4539 - val_acc: 0.4360\n",
      "Epoch 11/120\n",
      "10000/10000 [==============================] - 5s - loss: 1.5026 - acc: 0.4101 - val_loss: 1.4575 - val_acc: 0.4300\n",
      "Epoch 12/120\n",
      "10000/10000 [==============================] - 5s - loss: 1.4831 - acc: 0.4197 - val_loss: 1.3868 - val_acc: 0.4730\n",
      "Epoch 13/120\n",
      "10000/10000 [==============================] - 5s - loss: 1.4635 - acc: 0.4293 - val_loss: 1.3786 - val_acc: 0.4730\n",
      "Epoch 14/120\n",
      "10000/10000 [==============================] - 5s - loss: 1.4561 - acc: 0.4342 - val_loss: 1.3921 - val_acc: 0.4620\n",
      "Epoch 15/120\n",
      "10000/10000 [==============================] - 5s - loss: 1.4460 - acc: 0.4364 - val_loss: 1.3973 - val_acc: 0.4540\n",
      "Epoch 16/120\n",
      "10000/10000 [==============================] - 5s - loss: 1.4386 - acc: 0.4385 - val_loss: 1.3629 - val_acc: 0.4640\n",
      "Epoch 17/120\n",
      "10000/10000 [==============================] - 5s - loss: 1.4310 - acc: 0.4427 - val_loss: 1.3329 - val_acc: 0.4830\n",
      "Epoch 18/120\n",
      "10000/10000 [==============================] - 5s - loss: 1.4052 - acc: 0.4489 - val_loss: 1.3143 - val_acc: 0.4820\n",
      "Epoch 19/120\n",
      "10000/10000 [==============================] - 5s - loss: 1.3844 - acc: 0.4652 - val_loss: 1.2953 - val_acc: 0.4890\n",
      "Epoch 20/120\n",
      "10000/10000 [==============================] - 5s - loss: 1.3752 - acc: 0.4593 - val_loss: 1.2826 - val_acc: 0.5000\n",
      "Epoch 21/120\n",
      "10000/10000 [==============================] - 5s - loss: 1.3645 - acc: 0.4653 - val_loss: 1.2744 - val_acc: 0.5060\n",
      "Epoch 22/120\n",
      "10000/10000 [==============================] - 5s - loss: 1.3571 - acc: 0.4633 - val_loss: 1.2860 - val_acc: 0.4930\n",
      "Epoch 23/120\n",
      "10000/10000 [==============================] - 5s - loss: 1.3517 - acc: 0.4663 - val_loss: 1.2922 - val_acc: 0.4950\n",
      "Epoch 24/120\n",
      "10000/10000 [==============================] - 5s - loss: 1.3449 - acc: 0.4741 - val_loss: 1.2649 - val_acc: 0.4990\n",
      "Epoch 25/120\n",
      "10000/10000 [==============================] - 5s - loss: 1.3289 - acc: 0.4824 - val_loss: 1.2605 - val_acc: 0.5090\n",
      "Epoch 26/120\n",
      "10000/10000 [==============================] - 5s - loss: 1.3202 - acc: 0.4802 - val_loss: 1.2595 - val_acc: 0.4980\n",
      "Epoch 27/120\n",
      "10000/10000 [==============================] - 5s - loss: 1.3108 - acc: 0.4885 - val_loss: 1.2370 - val_acc: 0.5080\n",
      "Epoch 28/120\n",
      "10000/10000 [==============================] - 5s - loss: 1.3027 - acc: 0.4853 - val_loss: 1.2722 - val_acc: 0.4930\n",
      "Epoch 29/120\n",
      "10000/10000 [==============================] - 5s - loss: 1.2943 - acc: 0.4962 - val_loss: 1.2151 - val_acc: 0.5260\n",
      "Epoch 30/120\n",
      "10000/10000 [==============================] - 5s - loss: 1.2631 - acc: 0.5039 - val_loss: 1.1688 - val_acc: 0.5460\n",
      "Epoch 31/120\n",
      "10000/10000 [==============================] - 5s - loss: 1.2271 - acc: 0.5304 - val_loss: 1.1075 - val_acc: 0.5870\n",
      "Epoch 32/120\n",
      "10000/10000 [==============================] - 5s - loss: 1.1585 - acc: 0.5662 - val_loss: 1.0184 - val_acc: 0.6230\n",
      "Epoch 33/120\n",
      "10000/10000 [==============================] - 5s - loss: 1.0942 - acc: 0.5934 - val_loss: 0.9750 - val_acc: 0.6480\n",
      "Epoch 34/120\n",
      "10000/10000 [==============================] - 5s - loss: 1.0303 - acc: 0.6218 - val_loss: 0.8682 - val_acc: 0.6840\n",
      "Epoch 35/120\n",
      "10000/10000 [==============================] - 5s - loss: 0.9794 - acc: 0.6355 - val_loss: 0.8370 - val_acc: 0.6860\n",
      "Epoch 36/120\n",
      "10000/10000 [==============================] - 5s - loss: 0.9483 - acc: 0.6509 - val_loss: 0.8445 - val_acc: 0.6780\n",
      "Epoch 37/120\n",
      "10000/10000 [==============================] - 5s - loss: 0.9251 - acc: 0.6631 - val_loss: 0.8255 - val_acc: 0.6910\n",
      "Epoch 38/120\n",
      "10000/10000 [==============================] - 5s - loss: 0.8994 - acc: 0.6685 - val_loss: 0.8291 - val_acc: 0.6760\n",
      "Epoch 39/120\n",
      "10000/10000 [==============================] - 5s - loss: 0.8813 - acc: 0.6762 - val_loss: 0.7815 - val_acc: 0.6990\n",
      "Epoch 40/120\n",
      "10000/10000 [==============================] - 5s - loss: 0.8712 - acc: 0.6844 - val_loss: 0.7831 - val_acc: 0.7070\n",
      "Epoch 41/120\n",
      "10000/10000 [==============================] - 5s - loss: 0.8539 - acc: 0.6867 - val_loss: 0.7522 - val_acc: 0.7140\n",
      "Epoch 42/120\n",
      "10000/10000 [==============================] - 5s - loss: 0.8273 - acc: 0.6926 - val_loss: 0.7458 - val_acc: 0.7140\n",
      "Epoch 43/120\n",
      "10000/10000 [==============================] - 5s - loss: 0.8114 - acc: 0.7009 - val_loss: 0.7067 - val_acc: 0.7300\n",
      "Epoch 44/120\n",
      "10000/10000 [==============================] - 5s - loss: 0.7947 - acc: 0.7077 - val_loss: 0.6847 - val_acc: 0.7400\n",
      "Epoch 45/120\n",
      "10000/10000 [==============================] - 5s - loss: 0.7624 - acc: 0.7149 - val_loss: 0.6830 - val_acc: 0.7440\n",
      "Epoch 46/120\n",
      "10000/10000 [==============================] - 5s - loss: 0.7423 - acc: 0.7252 - val_loss: 0.6745 - val_acc: 0.7490\n",
      "Epoch 47/120\n",
      "10000/10000 [==============================] - 5s - loss: 0.7209 - acc: 0.7289 - val_loss: 0.6450 - val_acc: 0.7640\n",
      "Epoch 48/120\n",
      "10000/10000 [==============================] - 5s - loss: 0.7025 - acc: 0.7412 - val_loss: 0.6035 - val_acc: 0.7750\n",
      "Epoch 49/120\n",
      "10000/10000 [==============================] - 5s - loss: 0.6875 - acc: 0.7401 - val_loss: 0.5951 - val_acc: 0.7780\n",
      "Epoch 50/120\n",
      "10000/10000 [==============================] - 5s - loss: 0.6806 - acc: 0.7434 - val_loss: 0.6097 - val_acc: 0.7810\n",
      "Epoch 51/120\n",
      "10000/10000 [==============================] - 5s - loss: 0.6611 - acc: 0.7474 - val_loss: 0.5872 - val_acc: 0.7780\n",
      "Epoch 52/120\n",
      "10000/10000 [==============================] - 5s - loss: 0.6526 - acc: 0.7560 - val_loss: 0.5728 - val_acc: 0.7950\n",
      "Epoch 53/120\n",
      "10000/10000 [==============================] - 5s - loss: 0.6392 - acc: 0.7611 - val_loss: 0.5857 - val_acc: 0.7860\n",
      "Epoch 54/120\n",
      "10000/10000 [==============================] - 5s - loss: 0.6379 - acc: 0.7597 - val_loss: 0.6005 - val_acc: 0.7880\n",
      "Epoch 55/120\n",
      "10000/10000 [==============================] - 5s - loss: 0.6187 - acc: 0.7693 - val_loss: 0.6001 - val_acc: 0.7950\n",
      "Epoch 56/120\n",
      "10000/10000 [==============================] - 5s - loss: 0.6178 - acc: 0.7732 - val_loss: 0.5887 - val_acc: 0.7870\n",
      "Epoch 57/120\n",
      "10000/10000 [==============================] - 5s - loss: 0.6054 - acc: 0.7711 - val_loss: 0.5703 - val_acc: 0.7990\n",
      "Epoch 58/120\n",
      "10000/10000 [==============================] - 5s - loss: 0.6092 - acc: 0.7726 - val_loss: 0.5713 - val_acc: 0.7930\n",
      "Epoch 59/120\n",
      "10000/10000 [==============================] - 5s - loss: 0.6008 - acc: 0.7736 - val_loss: 0.5756 - val_acc: 0.7910\n",
      "Epoch 60/120\n",
      "10000/10000 [==============================] - 5s - loss: 0.5918 - acc: 0.7763 - val_loss: 0.5490 - val_acc: 0.7900\n",
      "Epoch 61/120\n",
      "10000/10000 [==============================] - 5s - loss: 0.5827 - acc: 0.7792 - val_loss: 0.5609 - val_acc: 0.7830\n",
      "Epoch 62/120\n",
      "10000/10000 [==============================] - 5s - loss: 0.5820 - acc: 0.7808 - val_loss: 0.5579 - val_acc: 0.7970\n",
      "Epoch 63/120\n",
      "10000/10000 [==============================] - 5s - loss: 0.5761 - acc: 0.7879 - val_loss: 0.5573 - val_acc: 0.7990\n",
      "Epoch 64/120\n",
      "10000/10000 [==============================] - 5s - loss: 0.5780 - acc: 0.7835 - val_loss: 0.5622 - val_acc: 0.7890\n",
      "Epoch 65/120\n",
      "10000/10000 [==============================] - 5s - loss: 0.5670 - acc: 0.7883 - val_loss: 0.5443 - val_acc: 0.8090\n",
      "Epoch 66/120\n",
      "10000/10000 [==============================] - 5s - loss: 0.5569 - acc: 0.7916 - val_loss: 0.5535 - val_acc: 0.8010\n",
      "Epoch 67/120\n",
      "10000/10000 [==============================] - 5s - loss: 0.5542 - acc: 0.7928 - val_loss: 0.5708 - val_acc: 0.7990\n",
      "Epoch 68/120\n",
      "10000/10000 [==============================] - 5s - loss: 0.5475 - acc: 0.7923 - val_loss: 0.5598 - val_acc: 0.7910\n",
      "Epoch 69/120\n",
      "10000/10000 [==============================] - 5s - loss: 0.5564 - acc: 0.7920 - val_loss: 0.5469 - val_acc: 0.8010\n",
      "Epoch 70/120\n",
      "10000/10000 [==============================] - 5s - loss: 0.5470 - acc: 0.7952 - val_loss: 0.5420 - val_acc: 0.8000\n",
      "Epoch 71/120\n",
      "10000/10000 [==============================] - 5s - loss: 0.5328 - acc: 0.7985 - val_loss: 0.5785 - val_acc: 0.7940\n",
      "Epoch 72/120\n",
      "10000/10000 [==============================] - 5s - loss: 0.5310 - acc: 0.8001 - val_loss: 0.5646 - val_acc: 0.8080\n",
      "Epoch 73/120\n",
      "10000/10000 [==============================] - 5s - loss: 0.5305 - acc: 0.7993 - val_loss: 0.5551 - val_acc: 0.7940\n",
      "Epoch 74/120\n",
      "10000/10000 [==============================] - 5s - loss: 0.5172 - acc: 0.8057 - val_loss: 0.5467 - val_acc: 0.7890\n",
      "Epoch 75/120\n",
      "10000/10000 [==============================] - 5s - loss: 0.5193 - acc: 0.8051 - val_loss: 0.5737 - val_acc: 0.7860\n",
      "Epoch 76/120\n",
      "10000/10000 [==============================] - 5s - loss: 0.5132 - acc: 0.8091 - val_loss: 0.5631 - val_acc: 0.8000\n",
      "Epoch 77/120\n",
      "10000/10000 [==============================] - 5s - loss: 0.5122 - acc: 0.8077 - val_loss: 0.5561 - val_acc: 0.8010\n",
      "Epoch 78/120\n",
      "10000/10000 [==============================] - 5s - loss: 0.5116 - acc: 0.8074 - val_loss: 0.5391 - val_acc: 0.8010\n",
      "Epoch 79/120\n",
      "10000/10000 [==============================] - 5s - loss: 0.5068 - acc: 0.8106 - val_loss: 0.5578 - val_acc: 0.7960\n",
      "Epoch 80/120\n",
      "10000/10000 [==============================] - 5s - loss: 0.5049 - acc: 0.8098 - val_loss: 0.5470 - val_acc: 0.7970\n",
      "Epoch 81/120\n",
      "10000/10000 [==============================] - 5s - loss: 0.5008 - acc: 0.8123 - val_loss: 0.5689 - val_acc: 0.7940\n",
      "Epoch 82/120\n",
      "10000/10000 [==============================] - 5s - loss: 0.4954 - acc: 0.8162 - val_loss: 0.5403 - val_acc: 0.7950\n",
      "Epoch 83/120\n",
      "10000/10000 [==============================] - 5s - loss: 0.4927 - acc: 0.8158 - val_loss: 0.5508 - val_acc: 0.7980\n",
      "Epoch 84/120\n",
      "10000/10000 [==============================] - 5s - loss: 0.4866 - acc: 0.8139 - val_loss: 0.5658 - val_acc: 0.7960\n",
      "Epoch 85/120\n",
      "10000/10000 [==============================] - 5s - loss: 0.4771 - acc: 0.8239 - val_loss: 0.5483 - val_acc: 0.7980\n",
      "Epoch 86/120\n",
      "10000/10000 [==============================] - 5s - loss: 0.4848 - acc: 0.8155 - val_loss: 0.5517 - val_acc: 0.7960\n",
      "Epoch 87/120\n",
      "10000/10000 [==============================] - 5s - loss: 0.4777 - acc: 0.8217 - val_loss: 0.5432 - val_acc: 0.8020\n",
      "Epoch 88/120\n",
      "10000/10000 [==============================] - 5s - loss: 0.4698 - acc: 0.8264 - val_loss: 0.5797 - val_acc: 0.7960\n",
      "Epoch 89/120\n",
      "10000/10000 [==============================] - 5s - loss: 0.4641 - acc: 0.8258 - val_loss: 0.5462 - val_acc: 0.8020\n",
      "Epoch 90/120\n",
      "10000/10000 [==============================] - 5s - loss: 0.4609 - acc: 0.8271 - val_loss: 0.5428 - val_acc: 0.8120\n",
      "Epoch 91/120\n",
      "10000/10000 [==============================] - 5s - loss: 0.4479 - acc: 0.8334 - val_loss: 0.5543 - val_acc: 0.8070\n",
      "Epoch 92/120\n",
      "10000/10000 [==============================] - 5s - loss: 0.4515 - acc: 0.8363 - val_loss: 0.5310 - val_acc: 0.8130\n",
      "Epoch 93/120\n",
      "10000/10000 [==============================] - 5s - loss: 0.4448 - acc: 0.8370 - val_loss: 0.5664 - val_acc: 0.7960\n",
      "Epoch 94/120\n",
      "10000/10000 [==============================] - 5s - loss: 0.4450 - acc: 0.8339 - val_loss: 0.5345 - val_acc: 0.8020\n",
      "Epoch 95/120\n",
      "10000/10000 [==============================] - 5s - loss: 0.4510 - acc: 0.8343 - val_loss: 0.5614 - val_acc: 0.8030\n",
      "Epoch 96/120\n",
      "10000/10000 [==============================] - 5s - loss: 0.4373 - acc: 0.8396 - val_loss: 0.5248 - val_acc: 0.8050\n",
      "Epoch 97/120\n",
      "10000/10000 [==============================] - 5s - loss: 0.4257 - acc: 0.8374 - val_loss: 0.5346 - val_acc: 0.8060\n",
      "Epoch 98/120\n",
      "10000/10000 [==============================] - 5s - loss: 0.4211 - acc: 0.8411 - val_loss: 0.5376 - val_acc: 0.8100\n",
      "Epoch 99/120\n",
      "10000/10000 [==============================] - 5s - loss: 0.4219 - acc: 0.8448 - val_loss: 0.5187 - val_acc: 0.8140\n",
      "Epoch 100/120\n",
      "10000/10000 [==============================] - 5s - loss: 0.4167 - acc: 0.8439 - val_loss: 0.5236 - val_acc: 0.8170\n",
      "Epoch 101/120\n",
      "10000/10000 [==============================] - 5s - loss: 0.4154 - acc: 0.8418 - val_loss: 0.5301 - val_acc: 0.8050\n",
      "Epoch 102/120\n",
      "10000/10000 [==============================] - 5s - loss: 0.4183 - acc: 0.8456 - val_loss: 0.5177 - val_acc: 0.8220\n",
      "Epoch 103/120\n",
      "10000/10000 [==============================] - 5s - loss: 0.4058 - acc: 0.8491 - val_loss: 0.5372 - val_acc: 0.8190\n",
      "Epoch 104/120\n",
      "10000/10000 [==============================] - 5s - loss: 0.4093 - acc: 0.8478 - val_loss: 0.5095 - val_acc: 0.8190\n",
      "Epoch 105/120\n",
      "10000/10000 [==============================] - 5s - loss: 0.4085 - acc: 0.8470 - val_loss: 0.5176 - val_acc: 0.8170\n",
      "Epoch 106/120\n",
      "10000/10000 [==============================] - 5s - loss: 0.3977 - acc: 0.8542 - val_loss: 0.5228 - val_acc: 0.8080\n",
      "Epoch 107/120\n",
      "10000/10000 [==============================] - 5s - loss: 0.3971 - acc: 0.8525 - val_loss: 0.5401 - val_acc: 0.8170\n",
      "Epoch 108/120\n",
      "10000/10000 [==============================] - 5s - loss: 0.3861 - acc: 0.8596 - val_loss: 0.5351 - val_acc: 0.8140\n",
      "Epoch 109/120\n",
      "10000/10000 [==============================] - 5s - loss: 0.3824 - acc: 0.8591 - val_loss: 0.5084 - val_acc: 0.8150\n",
      "Epoch 110/120\n",
      "10000/10000 [==============================] - 5s - loss: 0.3714 - acc: 0.8637 - val_loss: 0.5162 - val_acc: 0.8100\n",
      "Epoch 111/120\n",
      "10000/10000 [==============================] - 5s - loss: 0.3815 - acc: 0.8619 - val_loss: 0.5285 - val_acc: 0.8190\n",
      "Epoch 112/120\n",
      "10000/10000 [==============================] - 5s - loss: 0.3832 - acc: 0.8609 - val_loss: 0.5030 - val_acc: 0.8210\n",
      "Epoch 113/120\n",
      "10000/10000 [==============================] - 5s - loss: 0.3656 - acc: 0.8657 - val_loss: 0.5235 - val_acc: 0.8140\n",
      "Epoch 114/120\n",
      "10000/10000 [==============================] - 5s - loss: 0.3719 - acc: 0.8632 - val_loss: 0.4982 - val_acc: 0.8220\n",
      "Epoch 115/120\n",
      "10000/10000 [==============================] - 5s - loss: 0.3691 - acc: 0.8652 - val_loss: 0.5406 - val_acc: 0.8170\n",
      "Epoch 116/120\n",
      "10000/10000 [==============================] - 5s - loss: 0.3598 - acc: 0.8663 - val_loss: 0.5103 - val_acc: 0.8260\n",
      "Epoch 117/120\n",
      "10000/10000 [==============================] - 5s - loss: 0.3581 - acc: 0.8689 - val_loss: 0.5206 - val_acc: 0.8160\n",
      "Epoch 118/120\n",
      "10000/10000 [==============================] - 5s - loss: 0.3576 - acc: 0.8667 - val_loss: 0.4845 - val_acc: 0.8250\n",
      "Epoch 119/120\n",
      "10000/10000 [==============================] - 5s - loss: 0.3547 - acc: 0.8665 - val_loss: 0.4910 - val_acc: 0.8200\n",
      "Epoch 120/120\n",
      "10000/10000 [==============================] - 5s - loss: 0.3440 - acc: 0.8729 - val_loss: 0.5089 - val_acc: 0.8290\n"
     ]
    },
    {
     "data": {
      "text/plain": [
       "<keras.callbacks.History at 0x7f1f40aacb10>"
      ]
     },
     "execution_count": 34,
     "metadata": {},
     "output_type": "execute_result"
    }
   ],
   "source": [
    "answer.compile(optimizer='rmsprop', loss='categorical_crossentropy',\n",
    "               metrics=['accuracy'])\n",
    "# Note: you could use a Graph model to avoid repeat the input twice\n",
    "answer.fit([inputs_train, queries_train, inputs_train], answers_train,\n",
    "           batch_size=32,\n",
    "           nb_epoch=120,\n",
    "           validation_data=([inputs_test, queries_test, inputs_test], answers_test))"
   ]
  },
  {
   "cell_type": "markdown",
   "metadata": {},
   "source": [
    "### Making predictions based on the fitted model"
   ]
  },
  {
   "cell_type": "code",
   "execution_count": 35,
   "metadata": {
    "collapsed": false
   },
   "outputs": [
    {
     "name": "stdout",
     "output_type": "stream",
     "text": [
      " 992/1000 [============================>.] - ETA: 0s"
     ]
    }
   ],
   "source": [
    "predictions=answer.predict_classes([inputs_test, queries_test, inputs_test], batch_size=32)"
   ]
  },
  {
   "cell_type": "markdown",
   "metadata": {},
   "source": [
    "### Example story and model prediction"
   ]
  },
  {
   "cell_type": "code",
   "execution_count": 36,
   "metadata": {
    "collapsed": false,
    "scrolled": true
   },
   "outputs": [],
   "source": [
    "def pred_evaluation(ind):\n",
    "    \n",
    "    print (\"The story is -: \")\n",
    "    facts = test_stories[ind]\n",
    "    print(' '.join(facts[0]))\n",
    "    print('\\n')\n",
    "    \n",
    "    print (\"The query is -:\")\n",
    "    print(' '.join(facts[1]))\n",
    "\n",
    "    print (\"\\nThe predicted answer is -:\")\n",
    "    ans = predictions[ind]\n",
    "    for key, value in (word_idx).items():\n",
    "        if value == ans:\n",
    "            print(key)\n",
    "            print('\\n')\n",
    "            \n"
   ]
  },
  {
   "cell_type": "code",
   "execution_count": 37,
   "metadata": {
    "collapsed": false
   },
   "outputs": [
    {
     "name": "stdout",
     "output_type": "stream",
     "text": [
      "The story is -: \n",
      "Bagheera daftar mein chale gaya . Chameli snanghar gayi . Bagheera shayankaksh mein chale gaya . Mowgli daftar mein chale gaya .\n",
      "\n",
      "\n",
      "The query is -:\n",
      "Chameli kahan hai ?\n",
      "\n",
      "The predicted answer is -:\n",
      "rasoi\n",
      "\n",
      "\n"
     ]
    }
   ],
   "source": [
    "pred_evaluation(1)\n"
   ]
  },
  {
   "cell_type": "code",
   "execution_count": 38,
   "metadata": {
    "collapsed": false
   },
   "outputs": [
    {
     "name": "stdout",
     "output_type": "stream",
     "text": [
      "The story is -: \n",
      "Bagheera shayankaksh mein chale gaya . Bagheera bageecha gaya .\n",
      "\n",
      "\n",
      "The query is -:\n",
      "Bagheera kahan hai ?\n",
      "\n",
      "The predicted answer is -:\n",
      "bageecha\n",
      "\n",
      "\n"
     ]
    }
   ],
   "source": [
    "pred_evaluation(20)\n"
   ]
  },
  {
   "cell_type": "code",
   "execution_count": 39,
   "metadata": {
    "collapsed": false
   },
   "outputs": [
    {
     "name": "stdout",
     "output_type": "stream",
     "text": [
      "The story is -: \n",
      "Mowgli shayankaksh gaya . Mowgli daalaan mein chale gaya .\n",
      "\n",
      "\n",
      "The query is -:\n",
      "Mowgli kahan hai ?\n",
      "\n",
      "The predicted answer is -:\n",
      "daalaan\n",
      "\n",
      "\n"
     ]
    }
   ],
   "source": [
    "pred_evaluation(540)"
   ]
  }
 ],
 "metadata": {
  "kernelspec": {
   "display_name": "Python 2",
   "language": "python",
   "name": "python2"
  },
  "language_info": {
   "codemirror_mode": {
    "name": "ipython",
    "version": 2
   },
   "file_extension": ".py",
   "mimetype": "text/x-python",
   "name": "python",
   "nbconvert_exporter": "python",
   "pygments_lexer": "ipython2",
   "version": "2.7.6"
  }
 },
 "nbformat": 4,
 "nbformat_minor": 1
}
