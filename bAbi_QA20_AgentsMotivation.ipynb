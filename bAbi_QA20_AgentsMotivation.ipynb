{
 "cells": [
  {
   "cell_type": "markdown",
   "metadata": {},
   "source": [
    "### QA Type 20 : Agent's Motivation\n",
    "\n",
    "Finally, task 20 questions, in the simplest way possible, why an agent performs an action. It addresses the case of actors being in a given state (hungry, thirsty, tired, . . . ) and the actions they then take, e.g. it should learn that hungry people might go to the kitchen, and so on. \n",
    "\n",
    "For training and testing we have used the 10k dataset, containing 10,000 training examples and 10,000 testing examples.\n",
    "An example QA set is as below -:\n",
    "\n",
    "1. Sumit is tired.\n",
    "2. Where will sumit go?\tbedroom\t\n",
    "\n"
   ]
  },
  {
   "cell_type": "code",
   "execution_count": 33,
   "metadata": {
    "collapsed": false
   },
   "outputs": [],
   "source": [
    "from __future__ import print_function\n",
    "from keras.models import Sequential\n",
    "from keras.layers.embeddings import Embedding\n",
    "from keras.layers import Activation, Dense, Merge, Permute, Dropout\n",
    "from keras.layers import LSTM\n",
    "from keras.utils.data_utils import get_file\n",
    "from keras.preprocessing.sequence import pad_sequences\n",
    "from functools import reduce\n",
    "import tarfile\n",
    "import numpy as np\n",
    "import re"
   ]
  },
  {
   "cell_type": "markdown",
   "metadata": {},
   "source": [
    "### Story processing\n",
    "\n",
    "Each story is processed to reduce sentences to tokens and combine all facts and queries relevant to the story. "
   ]
  },
  {
   "cell_type": "code",
   "execution_count": 34,
   "metadata": {
    "collapsed": false
   },
   "outputs": [],
   "source": [
    "def tokenize(sent):\n",
    "    '''Return the tokens of a sentence including punctuation.\n",
    "    >>> tokenize('Bob dropped the apple. Where is the apple?')\n",
    "    ['Bob', 'dropped', 'the', 'apple', '.', 'Where', 'is', 'the', 'apple', '?']\n",
    "    '''\n",
    "    return [x.strip() for x in re.split('(\\W+)?', sent) if x.strip()]\n"
   ]
  },
  {
   "cell_type": "code",
   "execution_count": 35,
   "metadata": {
    "collapsed": true
   },
   "outputs": [],
   "source": [
    "def parse_stories(lines, only_supporting=False):\n",
    "    '''Parse stories provided in the bAbi tasks format\n",
    "    If only_supporting is true, only the sentences that support the answer are kept.\n",
    "    '''\n",
    "    data = []\n",
    "    story = []\n",
    "    for line in lines:\n",
    "        line = line.decode('utf-8').strip()\n",
    "        nid, line = line.split(' ', 1)\n",
    "        nid = int(nid)\n",
    "        if nid == 1:\n",
    "            story = []\n",
    "        if '\\t' in line:\n",
    "            q, a, supporting = line.split('\\t')\n",
    "            q = tokenize(q)\n",
    "            substory = None\n",
    "            if only_supporting:\n",
    "                # Only select the related substory\n",
    "                supporting = map(int, supporting.split())\n",
    "                substory = [story[i - 1] for i in supporting]\n",
    "            else:\n",
    "                # Provide all the substories\n",
    "                substory = [x for x in story if x]\n",
    "            data.append((substory, q, a))\n",
    "            story.append('')\n",
    "        else:\n",
    "            sent = tokenize(line)\n",
    "            story.append(sent)\n",
    "    return data"
   ]
  },
  {
   "cell_type": "code",
   "execution_count": 36,
   "metadata": {
    "collapsed": true
   },
   "outputs": [],
   "source": [
    "\n",
    "def get_stories(f, only_supporting=False, max_length=None):\n",
    "    '''Given a file name, read the file, retrieve the stories, and then convert the sentences into a single story.\n",
    "    If max_length is supplied, any stories longer than max_length tokens will be discarded.\n",
    "    '''\n",
    "    data = parse_stories(f.readlines(), only_supporting=only_supporting)\n",
    "    flatten = lambda data: reduce(lambda x, y: x + y, data)\n",
    "    data = [(flatten(story), q, answer) for story, q, answer in data if not max_length or len(flatten(story)) < max_length]\n",
    "    return data\n"
   ]
  },
  {
   "cell_type": "code",
   "execution_count": 37,
   "metadata": {
    "collapsed": true
   },
   "outputs": [],
   "source": [
    "def vectorize_stories(data, word_idx, story_maxlen, query_maxlen):\n",
    "    X = []\n",
    "    Xq = []\n",
    "    Y = []\n",
    "    for story, query, answer in data:\n",
    "        x = [word_idx[w] for w in story]\n",
    "        xq = [word_idx[w] for w in query]\n",
    "        y = np.zeros(len(word_idx) + 1)  # let's not forget that index 0 is reserved\n",
    "        y[word_idx[answer]] = 1\n",
    "        X.append(x)\n",
    "        Xq.append(xq)\n",
    "        Y.append(y)\n",
    "    return (pad_sequences(X, maxlen=story_maxlen),\n",
    "            pad_sequences(Xq, maxlen=query_maxlen), np.array(Y))"
   ]
  },
  {
   "cell_type": "code",
   "execution_count": 38,
   "metadata": {
    "collapsed": false
   },
   "outputs": [],
   "source": [
    "try:\n",
    "    path = get_file('babi-tasks-v1-2.tar.gz', origin='https://s3.amazonaws.com/text-datasets/babi_tasks_1-20_v1-2.tar.gz')\n",
    "except:\n",
    "    print('Error downloading dataset, please download it manually:\\n'\n",
    "          '$ wget http://www.thespermwhale.com/jaseweston/babi/tasks_1-20_v1-2.tar.gz\\n'\n",
    "          '$ mv tasks_1-20_v1-2.tar.gz ~/.keras/datasets/babi-tasks-v1-2.tar.gz')\n",
    "    raise\n",
    "tar = tarfile.open(path)"
   ]
  },
  {
   "cell_type": "markdown",
   "metadata": {},
   "source": [
    "### Training Set\n",
    "\n",
    "Here the selection of 'Question' type (single supporting fact, three supporting facts etc.) is made for generating the training and test set. "
   ]
  },
  {
   "cell_type": "code",
   "execution_count": 39,
   "metadata": {
    "collapsed": false
   },
   "outputs": [
    {
     "name": "stdout",
     "output_type": "stream",
     "text": [
      "Extracting stories for the challenge: agents-motivations_10k\n"
     ]
    }
   ],
   "source": [
    "challenges = {\n",
    "    'single_supporting_fact_10k': 'tasks_1-20_v1-2/en-10k/qa1_single-supporting-fact_{}.txt',\n",
    "    'two_supporting_facts_10k': 'tasks_1-20_v1-2/en-10k/qa2_two-supporting-facts_{}.txt',\n",
    "    'three_supporting_facts_10k': 'tasks_1-20_v1-2/en-10k/qa2_three-supporting-facts_{}.txt',\n",
    "    'two-arg-relations_10k' : 'tasks_1-20_v1-2/en-10k/qa4_two-arg-relations_{}.txt',\n",
    "    'three-arg-relations_10k' : 'tasks_1-20_v1-2/en-10k/qa5_three-arg-relations_{}.txt',\n",
    "    'yes-no-questions_10k' :'tasks_1-20_v1-2/en-10k/qa6_yes-no-questions_{}.txt',\n",
    "    'counting_10k':'tasks_1-20_v1-2/en-10k/qa7_counting_{}.txt',\n",
    "    'lists-sets_10k' : 'tasks_1-20_v1-2/en-10k/qa8_lists-sets_{}.txt',\n",
    "    'simple-negation_10k':'tasks_1-20_v1-2/en-10k/qa9_simple-negation_{}.txt',\n",
    "    'indefinite-knowledge_10k' : 'tasks_1-20_v1-2/en-10k/qa10_indefinite-knowledge_{}.txt',\n",
    "    'basic-coreference_10k':'tasks_1-20_v1-2/en-10k/qa11_basic-coreference_{}.txt',\n",
    "    'conjunction_10k':'tasks_1-20_v1-2/en-10k/qa12_conjunction_{}.txt',\n",
    "    'compound-coreference_10k':'tasks_1-20_v1-2/en-10k/qa13_compound-coreference_{}.txt',\n",
    "    'time-reasoning_10k':'tasks_1-20_v1-2/en-10k/qa14_time-reasoning_{}.txt',\n",
    "    'basic-deduction_10k' : 'tasks_1-20_v1-2/en-10k/qa15_basic-deduction_{}.txt',\n",
    "    'basic-induction_10k':'tasks_1-20_v1-2/en-10k/qa16_basic-induction_{}.txt',\n",
    "    'positional-reasoning_10k':'tasks_1-20_v1-2/en-10k/qa17_positional-reasoning_{}.txt',\n",
    "    'size-reasoning_10k':'tasks_1-20_v1-2/en-10k/qa18_size-reasoning_{}.txt',\n",
    "    'path-finding_10k':'tasks_1-20_v1-2/en-10k/qa19_path-finding_{}.txt',\n",
    "    'agents-motivations_10k':'tasks_1-20_v1-2/en-10k/qa20_agents-motivations_{}.txt'\n",
    "    \n",
    "}\n",
    "challenge_type = 'agents-motivations_10k'\n",
    "challenge = challenges[challenge_type]\n",
    "\n",
    "print('Extracting stories for the challenge:', challenge_type)\n",
    "train_stories = get_stories(tar.extractfile(challenge.format('train')))\n",
    "test_stories = get_stories(tar.extractfile(challenge.format('test')))\n"
   ]
  },
  {
   "cell_type": "code",
   "execution_count": 40,
   "metadata": {
    "collapsed": false
   },
   "outputs": [
    {
     "name": "stdout",
     "output_type": "stream",
     "text": [
      "Vocab size: 42 unique words\n",
      "Story max length: 69 words\n",
      "Query max length: 8 words\n",
      "Number of training stories: 10000\n",
      "Number of test stories: 1000\n",
      "\n",
      "\n",
      "Here's what a \"story\" tuple looks like (input, query, answer):\n",
      "([u'Sumit', u'is', u'tired', u'.'], [u'Where', u'will', u'sumit', u'go', u'?'], u'bedroom')\n"
     ]
    }
   ],
   "source": [
    "vocab = sorted(reduce(lambda x, y: x | y, (set(story + q + [answer]) for story, q, answer in train_stories + test_stories)))\n",
    "# Reserve 0 for masking via pad_sequences\n",
    "vocab_size = len(vocab) + 1\n",
    "story_maxlen = max(map(len, (x for x, _, _ in train_stories + test_stories)))\n",
    "query_maxlen = max(map(len, (x for _, x, _ in train_stories + test_stories)))\n",
    "\n",
    "print('Vocab size:', vocab_size, 'unique words')\n",
    "print('Story max length:', story_maxlen, 'words')\n",
    "print('Query max length:', query_maxlen, 'words')\n",
    "print('Number of training stories:', len(train_stories))\n",
    "print('Number of test stories:', len(test_stories))\n",
    "print('\\n')\n",
    "print('Here\\'s what a \"story\" tuple looks like (input, query, answer):')\n",
    "print(train_stories[0])"
   ]
  },
  {
   "cell_type": "markdown",
   "metadata": {},
   "source": [
    "### Vectorizing the word sequences\n",
    "\n",
    "Here we convert the word tokens to word vectors. We know the total number of unique words in the corpus, that is the size of the vocabulary. Thus, to each word in the corpus we assign a number. We also know the maximum length of a story, story_maxlen (story includes facts, query and answer). Thus, for each story we can construct a word vector of length story_maxlen. For eg. suppose, story_maxlen is 68 and the current story length is 24, then we can have a word vector with the first 34 indices as 0 and the next 24 indices with vocabulary index values of words in the current story"
   ]
  },
  {
   "cell_type": "code",
   "execution_count": 41,
   "metadata": {
    "collapsed": false
   },
   "outputs": [
    {
     "name": "stdout",
     "output_type": "stream",
     "text": [
      "inputs: integer tensor of shape (samples, max_length)\n",
      "inputs_train shape: (10000, 69)\n",
      "inputs_test shape: (1000, 69)\n",
      "\n",
      "\n",
      "queries: integer tensor of shape (samples, max_length)\n",
      "queries_train shape: (10000, 8)\n",
      "queries_test shape: (1000, 8)\n",
      "\n",
      "\n",
      "answers: binary (1 or 0) tensor of shape (samples, vocab_size)\n",
      "answers_train shape: (10000, 42)\n",
      "answers_test shape: (1000, 42)\n",
      "\n",
      "\n"
     ]
    }
   ],
   "source": [
    "word_idx = dict((c, i + 1) for i, c in enumerate(vocab))\n",
    "inputs_train, queries_train, answers_train = vectorize_stories(train_stories, word_idx, story_maxlen, query_maxlen)\n",
    "inputs_test, queries_test, answers_test = vectorize_stories(test_stories, word_idx, story_maxlen, query_maxlen)\n",
    "\n",
    "\n",
    "print('inputs: integer tensor of shape (samples, max_length)')\n",
    "print('inputs_train shape:', inputs_train.shape)\n",
    "print('inputs_test shape:', inputs_test.shape)\n",
    "print('\\n')\n",
    "print('queries: integer tensor of shape (samples, max_length)')\n",
    "print('queries_train shape:', queries_train.shape)\n",
    "print('queries_test shape:', queries_test.shape)\n",
    "print('\\n')\n",
    "print('answers: binary (1 or 0) tensor of shape (samples, vocab_size)')\n",
    "print('answers_train shape:', answers_train.shape)\n",
    "print('answers_test shape:', answers_test.shape)\n",
    "print('\\n')\n"
   ]
  },
  {
   "cell_type": "markdown",
   "metadata": {},
   "source": [
    "### End-to-End Memory Networks\n",
    "\n",
    "The model employed is the End-to-End Memory Networks described in Sukhbaatar et. al. (2015). The architecture is a modified form of Memory Network (Weston, 2014) with the training being weakly supervised.Weston's Memory Network was not easy to train via backpropagation and required supervision at each layer.\n",
    "\n",
    "\n",
    "Briefly, the model takes a discrete set of inputs x1, x2, ...xn that are to be stored in memory, a query q, and an answer a. The model writes all x to the memory up to a fixed buffer size, and then finds a continuous representation for x and q. The continuous representation is then processed via multiple hops to output a. \n"
   ]
  },
  {
   "cell_type": "code",
   "execution_count": 42,
   "metadata": {
    "collapsed": false
   },
   "outputs": [],
   "source": [
    "# embed the input sequence into a sequence of vectors\n",
    "# output: (samples, story_maxlen, embedding_dim)\n",
    "input_encoder_m = Sequential()\n",
    "input_encoder_m.add(Embedding(input_dim=vocab_size,\n",
    "                              output_dim=64,\n",
    "                              input_length=story_maxlen))\n",
    "input_encoder_m.add(Dropout(0.3))\n",
    "\n",
    "\n",
    "# embed the question into a sequence of vectors\n",
    "# output: (samples, query_maxlen, embedding_dim)\n",
    "question_encoder = Sequential()\n",
    "question_encoder.add(Embedding(input_dim=vocab_size,\n",
    "                               output_dim=64,\n",
    "                               input_length=query_maxlen))\n",
    "question_encoder.add(Dropout(0.3))\n",
    "\n",
    "# compute a 'match' between input sequence elements (which are vectors)\n",
    "# and the question vector sequence\n",
    "\n",
    "# output: (samples, story_maxlen, query_maxlen)\n",
    "match = Sequential()\n",
    "match.add(Merge([input_encoder_m, question_encoder],\n",
    "                mode='dot',\n",
    "                dot_axes=[2, 2]))\n",
    "match.add(Activation('softmax'))\n",
    "\n",
    "# embed the input into a single vector with size = story_maxlen:\n",
    "# output: (samples, story_maxlen, query_maxlen)\n",
    "input_encoder_c = Sequential()\n",
    "input_encoder_c.add(Embedding(input_dim=vocab_size,\n",
    "                              output_dim=query_maxlen,\n",
    "                              input_length=story_maxlen))\n",
    "input_encoder_c.add(Dropout(0.3))\n",
    "\n",
    "\n",
    "# sum the match vector with the input vector:\n",
    "# output: (samples, story_maxlen, query_maxlen)\n",
    "response = Sequential()\n",
    "response.add(Merge([match, input_encoder_c], mode='sum'))\n",
    "\n",
    "response.add(Permute((2, 1)))  # output: (samples, query_maxlen, story_maxlen)\n",
    "\n",
    "# concatenate the match vector with the question vector,\n",
    "# and do logistic regression on top\n",
    "answer = Sequential()\n",
    "answer.add(Merge([response, question_encoder], mode='concat', concat_axis=-1))\n",
    "\n",
    "\n",
    "# the original paper uses a matrix multiplication for this reduction step.\n",
    "# we choose to use a RNN instead.\n",
    "answer.add(LSTM(32))\n",
    "# one regularization layer -- more would probably be needed.\n",
    "answer.add(Dropout(0.3))\n",
    "answer.add(Dense(vocab_size))\n",
    "# we output a probability distribution over the vocabulary\n",
    "answer.add(Activation('softmax'))\n",
    "\n"
   ]
  },
  {
   "cell_type": "code",
   "execution_count": 43,
   "metadata": {
    "collapsed": false
   },
   "outputs": [
    {
     "name": "stdout",
     "output_type": "stream",
     "text": [
      "Train on 10000 samples, validate on 1000 samples\n",
      "Epoch 1/60\n",
      "10000/10000 [==============================] - 16s - loss: 1.3624 - acc: 0.5076 - val_loss: 0.6557 - val_acc: 0.7190\n",
      "Epoch 2/60\n",
      "10000/10000 [==============================] - 15s - loss: 0.6238 - acc: 0.7173 - val_loss: 0.4890 - val_acc: 0.7520\n",
      "Epoch 3/60\n",
      "10000/10000 [==============================] - 15s - loss: 0.3463 - acc: 0.8587 - val_loss: 0.1602 - val_acc: 0.9370\n",
      "Epoch 4/60\n",
      "10000/10000 [==============================] - 15s - loss: 0.1729 - acc: 0.9260 - val_loss: 0.1127 - val_acc: 0.9470\n",
      "Epoch 5/60\n",
      "10000/10000 [==============================] - 15s - loss: 0.1381 - acc: 0.9362 - val_loss: 0.1026 - val_acc: 0.9540\n",
      "Epoch 6/60\n",
      "10000/10000 [==============================] - 15s - loss: 0.1181 - acc: 0.9483 - val_loss: 0.0978 - val_acc: 0.9540\n",
      "Epoch 7/60\n",
      "10000/10000 [==============================] - 15s - loss: 0.1137 - acc: 0.9516 - val_loss: 0.0821 - val_acc: 0.9650\n",
      "Epoch 8/60\n",
      "10000/10000 [==============================] - 14s - loss: 0.1051 - acc: 0.9543 - val_loss: 0.0741 - val_acc: 0.9660\n",
      "Epoch 9/60\n",
      "10000/10000 [==============================] - 13s - loss: 0.0941 - acc: 0.9592 - val_loss: 0.0928 - val_acc: 0.9560\n",
      "Epoch 10/60\n",
      "10000/10000 [==============================] - 14s - loss: 0.0900 - acc: 0.9620 - val_loss: 0.0673 - val_acc: 0.9750\n",
      "Epoch 11/60\n",
      "10000/10000 [==============================] - 13s - loss: 0.0843 - acc: 0.9644 - val_loss: 0.0624 - val_acc: 0.9780\n",
      "Epoch 12/60\n",
      "10000/10000 [==============================] - 13s - loss: 0.0866 - acc: 0.9620 - val_loss: 0.0596 - val_acc: 0.9780\n",
      "Epoch 13/60\n",
      "10000/10000 [==============================] - 14s - loss: 0.0818 - acc: 0.9654 - val_loss: 0.0572 - val_acc: 0.9740\n",
      "Epoch 14/60\n",
      "10000/10000 [==============================] - 15s - loss: 0.0721 - acc: 0.9709 - val_loss: 0.0563 - val_acc: 0.9770\n",
      "Epoch 15/60\n",
      "10000/10000 [==============================] - 11s - loss: 0.0732 - acc: 0.9695 - val_loss: 0.0547 - val_acc: 0.9780\n",
      "Epoch 16/60\n",
      "10000/10000 [==============================] - 15s - loss: 0.0712 - acc: 0.9708 - val_loss: 0.0584 - val_acc: 0.9770\n",
      "Epoch 17/60\n",
      "10000/10000 [==============================] - 11s - loss: 0.0704 - acc: 0.9716 - val_loss: 0.0479 - val_acc: 0.9770\n",
      "Epoch 18/60\n",
      "10000/10000 [==============================] - 13s - loss: 0.0682 - acc: 0.9715 - val_loss: 0.0559 - val_acc: 0.9740\n",
      "Epoch 19/60\n",
      "10000/10000 [==============================] - 15s - loss: 0.0663 - acc: 0.9728 - val_loss: 0.0479 - val_acc: 0.9800\n",
      "Epoch 20/60\n",
      "10000/10000 [==============================] - 15s - loss: 0.0650 - acc: 0.9731 - val_loss: 0.0462 - val_acc: 0.9810\n",
      "Epoch 21/60\n",
      "10000/10000 [==============================] - 15s - loss: 0.0621 - acc: 0.9741 - val_loss: 0.0457 - val_acc: 0.9800\n",
      "Epoch 22/60\n",
      "10000/10000 [==============================] - 15s - loss: 0.0609 - acc: 0.9745 - val_loss: 0.0493 - val_acc: 0.9760\n",
      "Epoch 23/60\n",
      "10000/10000 [==============================] - 15s - loss: 0.0619 - acc: 0.9733 - val_loss: 0.0423 - val_acc: 0.9830\n",
      "Epoch 24/60\n",
      "10000/10000 [==============================] - 15s - loss: 0.0594 - acc: 0.9744 - val_loss: 0.0513 - val_acc: 0.9750\n",
      "Epoch 25/60\n",
      "10000/10000 [==============================] - 15s - loss: 0.0597 - acc: 0.9750 - val_loss: 0.0465 - val_acc: 0.9800\n",
      "Epoch 26/60\n",
      "10000/10000 [==============================] - 15s - loss: 0.0569 - acc: 0.9739 - val_loss: 0.0608 - val_acc: 0.9750\n",
      "Epoch 27/60\n",
      "10000/10000 [==============================] - 15s - loss: 0.0571 - acc: 0.9753 - val_loss: 0.0476 - val_acc: 0.9790\n",
      "Epoch 28/60\n",
      "10000/10000 [==============================] - 12s - loss: 0.0604 - acc: 0.9748 - val_loss: 0.0522 - val_acc: 0.9760\n",
      "Epoch 29/60\n",
      "10000/10000 [==============================] - 14s - loss: 0.0559 - acc: 0.9759 - val_loss: 0.0447 - val_acc: 0.9820\n",
      "Epoch 30/60\n",
      "10000/10000 [==============================] - 15s - loss: 0.0532 - acc: 0.9757 - val_loss: 0.0467 - val_acc: 0.9800\n",
      "Epoch 31/60\n",
      "10000/10000 [==============================] - 12s - loss: 0.0558 - acc: 0.9767 - val_loss: 0.0486 - val_acc: 0.9810\n",
      "Epoch 32/60\n",
      "10000/10000 [==============================] - 15s - loss: 0.0522 - acc: 0.9788 - val_loss: 0.0439 - val_acc: 0.9830\n",
      "Epoch 33/60\n",
      "10000/10000 [==============================] - 11s - loss: 0.0550 - acc: 0.9766 - val_loss: 0.0504 - val_acc: 0.9790\n",
      "Epoch 34/60\n",
      "10000/10000 [==============================] - 15s - loss: 0.0495 - acc: 0.9788 - val_loss: 0.0416 - val_acc: 0.9820\n",
      "Epoch 35/60\n",
      "10000/10000 [==============================] - 12s - loss: 0.0494 - acc: 0.9786 - val_loss: 0.0426 - val_acc: 0.9810\n",
      "Epoch 36/60\n",
      "10000/10000 [==============================] - 13s - loss: 0.0517 - acc: 0.9772 - val_loss: 0.0461 - val_acc: 0.9780\n",
      "Epoch 37/60\n",
      "10000/10000 [==============================] - 15s - loss: 0.0481 - acc: 0.9785 - val_loss: 0.0447 - val_acc: 0.9820\n",
      "Epoch 38/60\n",
      "10000/10000 [==============================] - 10s - loss: 0.0474 - acc: 0.9791 - val_loss: 0.0461 - val_acc: 0.9810\n",
      "Epoch 39/60\n",
      "10000/10000 [==============================] - 13s - loss: 0.0509 - acc: 0.9777 - val_loss: 0.0435 - val_acc: 0.9820\n",
      "Epoch 40/60\n",
      "10000/10000 [==============================] - 15s - loss: 0.0475 - acc: 0.9790 - val_loss: 0.0473 - val_acc: 0.9810\n",
      "Epoch 41/60\n",
      "10000/10000 [==============================] - 15s - loss: 0.0505 - acc: 0.9788 - val_loss: 0.0475 - val_acc: 0.9810\n",
      "Epoch 42/60\n",
      "10000/10000 [==============================] - 15s - loss: 0.0485 - acc: 0.9793 - val_loss: 0.0480 - val_acc: 0.9820\n",
      "Epoch 43/60\n",
      "10000/10000 [==============================] - 15s - loss: 0.0423 - acc: 0.9804 - val_loss: 0.0461 - val_acc: 0.9830\n",
      "Epoch 44/60\n",
      "10000/10000 [==============================] - 15s - loss: 0.0473 - acc: 0.9787 - val_loss: 0.0448 - val_acc: 0.9820\n",
      "Epoch 45/60\n",
      "10000/10000 [==============================] - 15s - loss: 0.0447 - acc: 0.9795 - val_loss: 0.0478 - val_acc: 0.9830\n",
      "Epoch 46/60\n",
      "10000/10000 [==============================] - 15s - loss: 0.0465 - acc: 0.9802 - val_loss: 0.0531 - val_acc: 0.9810\n",
      "Epoch 47/60\n",
      "10000/10000 [==============================] - 15s - loss: 0.0476 - acc: 0.9800 - val_loss: 0.0478 - val_acc: 0.9800\n",
      "Epoch 48/60\n",
      "10000/10000 [==============================] - 13s - loss: 0.0449 - acc: 0.9804 - val_loss: 0.0516 - val_acc: 0.9800\n",
      "Epoch 49/60\n",
      "10000/10000 [==============================] - 15s - loss: 0.0430 - acc: 0.9818 - val_loss: 0.0496 - val_acc: 0.9820\n",
      "Epoch 50/60\n",
      "10000/10000 [==============================] - 16s - loss: 0.0417 - acc: 0.9819 - val_loss: 0.0504 - val_acc: 0.9800\n",
      "Epoch 51/60\n",
      "10000/10000 [==============================] - 13s - loss: 0.0406 - acc: 0.9832 - val_loss: 0.0484 - val_acc: 0.9820\n",
      "Epoch 52/60\n",
      "10000/10000 [==============================] - 15s - loss: 0.0437 - acc: 0.9806 - val_loss: 0.0523 - val_acc: 0.9820\n",
      "Epoch 53/60\n",
      "10000/10000 [==============================] - 12s - loss: 0.0388 - acc: 0.9826 - val_loss: 0.0581 - val_acc: 0.9800\n",
      "Epoch 54/60\n",
      "10000/10000 [==============================] - 14s - loss: 0.0375 - acc: 0.9832 - val_loss: 0.0584 - val_acc: 0.9790\n",
      "Epoch 55/60\n",
      "10000/10000 [==============================] - 13s - loss: 0.0416 - acc: 0.9829 - val_loss: 0.0552 - val_acc: 0.9790\n",
      "Epoch 56/60\n",
      "10000/10000 [==============================] - 11s - loss: 0.0380 - acc: 0.9834 - val_loss: 0.0532 - val_acc: 0.9800\n",
      "Epoch 57/60\n",
      "10000/10000 [==============================] - 15s - loss: 0.0409 - acc: 0.9820 - val_loss: 0.0707 - val_acc: 0.9800\n",
      "Epoch 58/60\n",
      "10000/10000 [==============================] - 15s - loss: 0.0404 - acc: 0.9849 - val_loss: 0.0578 - val_acc: 0.9790\n",
      "Epoch 59/60\n",
      "10000/10000 [==============================] - 15s - loss: 0.0351 - acc: 0.9861 - val_loss: 0.0564 - val_acc: 0.9800\n",
      "Epoch 60/60\n",
      "10000/10000 [==============================] - 15s - loss: 0.0368 - acc: 0.9836 - val_loss: 0.0509 - val_acc: 0.9820\n"
     ]
    },
    {
     "data": {
      "text/plain": [
       "<keras.callbacks.History at 0x7f09295d5e10>"
      ]
     },
     "execution_count": 43,
     "metadata": {},
     "output_type": "execute_result"
    }
   ],
   "source": [
    "answer.compile(optimizer='rmsprop', loss='categorical_crossentropy',\n",
    "               metrics=['accuracy'])\n",
    "# Note: you could use a Graph model to avoid repeat the input twice\n",
    "answer.fit([inputs_train, queries_train, inputs_train], answers_train,\n",
    "           batch_size=32,\n",
    "           nb_epoch=60,\n",
    "           validation_data=([inputs_test, queries_test, inputs_test], answers_test))"
   ]
  },
  {
   "cell_type": "markdown",
   "metadata": {},
   "source": [
    "### Making predictions based on the fitted model"
   ]
  },
  {
   "cell_type": "code",
   "execution_count": 44,
   "metadata": {
    "collapsed": false
   },
   "outputs": [
    {
     "name": "stdout",
     "output_type": "stream",
     "text": [
      "1000/1000 [==============================] - 0s     \n"
     ]
    }
   ],
   "source": [
    "predictions=answer.predict_classes([inputs_test, queries_test, inputs_test], batch_size=32)"
   ]
  },
  {
   "cell_type": "markdown",
   "metadata": {},
   "source": [
    "### Example story and model prediction"
   ]
  },
  {
   "cell_type": "code",
   "execution_count": 45,
   "metadata": {
    "collapsed": false,
    "scrolled": true
   },
   "outputs": [],
   "source": [
    "def pred_evaluation(ind):\n",
    "    \n",
    "    print (\"The story is -: \")\n",
    "    facts = test_stories[ind]\n",
    "    print(' '.join(facts[0]))\n",
    "    print('\\n')\n",
    "    \n",
    "    print (\"The query is -:\")\n",
    "    print(' '.join(facts[1]))\n",
    "\n",
    "    print (\"\\nThe predicted answer is -:\")\n",
    "    ans = predictions[ind]\n",
    "    for key, value in (word_idx).items():\n",
    "        if value == ans:\n",
    "            print(key)\n",
    "            print('\\n')\n",
    "            \n"
   ]
  },
  {
   "cell_type": "code",
   "execution_count": 46,
   "metadata": {
    "collapsed": false
   },
   "outputs": [
    {
     "name": "stdout",
     "output_type": "stream",
     "text": [
      "The story is -: \n",
      "Jason is thirsty . Antoine is bored .\n",
      "\n",
      "\n",
      "The query is -:\n",
      "Where will antoine go ?\n",
      "\n",
      "The predicted answer is -:\n",
      "garden\n",
      "\n",
      "\n"
     ]
    }
   ],
   "source": [
    "pred_evaluation(1)\n"
   ]
  },
  {
   "cell_type": "code",
   "execution_count": 47,
   "metadata": {
    "collapsed": false
   },
   "outputs": [
    {
     "name": "stdout",
     "output_type": "stream",
     "text": [
      "The story is -: \n",
      "Yann is thirsty . Yann journeyed to the kitchen . Yann took the milk there . Jason is hungry . Antoine is bored . Antoine went back to the garden . Sumit is hungry . Jason travelled to the kitchen . Sumit went to the kitchen . Jason grabbed the apple there .\n",
      "\n",
      "\n",
      "The query is -:\n",
      "Why did jason get the apple ?\n",
      "\n",
      "The predicted answer is -:\n",
      "hungry\n",
      "\n",
      "\n"
     ]
    }
   ],
   "source": [
    "pred_evaluation(20)\n"
   ]
  },
  {
   "cell_type": "code",
   "execution_count": 48,
   "metadata": {
    "collapsed": false
   },
   "outputs": [
    {
     "name": "stdout",
     "output_type": "stream",
     "text": [
      "The story is -: \n",
      "Sumit is bored . Antoine is thirsty .\n",
      "\n",
      "\n",
      "The query is -:\n",
      "Where will antoine go ?\n",
      "\n",
      "The predicted answer is -:\n",
      "kitchen\n",
      "\n",
      "\n"
     ]
    }
   ],
   "source": [
    "pred_evaluation(540)"
   ]
  }
 ],
 "metadata": {
  "kernelspec": {
   "display_name": "Python 2",
   "language": "python",
   "name": "python2"
  },
  "language_info": {
   "codemirror_mode": {
    "name": "ipython",
    "version": 2
   },
   "file_extension": ".py",
   "mimetype": "text/x-python",
   "name": "python",
   "nbconvert_exporter": "python",
   "pygments_lexer": "ipython2",
   "version": "2.7.9"
  }
 },
 "nbformat": 4,
 "nbformat_minor": 1
}
