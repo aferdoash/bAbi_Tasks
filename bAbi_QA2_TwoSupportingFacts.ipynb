{
 "cells": [
  {
   "cell_type": "markdown",
   "metadata": {},
   "source": [
    "### QA Type 2 : Two Supporting Facts\n",
    "\n",
    "A harder task is to answer questions where two supporting statements have to be chained to answer the question, as in task 2, where to answer the question “Where is the football?” one has to combine information from two sentences “John is in the playground” and “John picked up the football” \n",
    "\n",
    "For training and testing we have used the 10k dataset, containing 10,000 training examples.\n",
    "An example QA set is as below -:\n",
    "\n",
    "1. Mary moved to the bathroom.\n",
    "2. Sandra journeyed to the bedroom.\n",
    "3. Mary got the football there.\n",
    "4. John went to the kitchen.\n",
    "5. Mary went back to the kitchen.\n",
    "6. Mary went back to the garden.\n",
    "7. Where is the football? \tgarden\t\n"
   ]
  },
  {
   "cell_type": "code",
   "execution_count": 1,
   "metadata": {
    "collapsed": false
   },
   "outputs": [
    {
     "name": "stderr",
     "output_type": "stream",
     "text": [
      "Using TensorFlow backend.\n"
     ]
    }
   ],
   "source": [
    "from __future__ import print_function\n",
    "from keras.models import Sequential\n",
    "from keras.layers.embeddings import Embedding\n",
    "from keras.layers import Activation, Dense, Merge, Permute, Dropout\n",
    "from keras.layers import LSTM\n",
    "from keras.utils.data_utils import get_file\n",
    "from keras.preprocessing.sequence import pad_sequences\n",
    "from functools import reduce\n",
    "import tarfile\n",
    "import numpy as np\n",
    "import re"
   ]
  },
  {
   "cell_type": "markdown",
   "metadata": {},
   "source": [
    "### Story processing\n",
    "\n",
    "Each story is processed to reduce sentences to tokens and combine all facts and queries relevant to the story. "
   ]
  },
  {
   "cell_type": "code",
   "execution_count": 2,
   "metadata": {
    "collapsed": false
   },
   "outputs": [],
   "source": [
    "def tokenize(sent):\n",
    "    '''Return the tokens of a sentence including punctuation.\n",
    "    >>> tokenize('Bob dropped the apple. Where is the apple?')\n",
    "    ['Bob', 'dropped', 'the', 'apple', '.', 'Where', 'is', 'the', 'apple', '?']\n",
    "    '''\n",
    "    return [x.strip() for x in re.split('(\\W+)?', sent) if x.strip()]\n"
   ]
  },
  {
   "cell_type": "code",
   "execution_count": 3,
   "metadata": {
    "collapsed": true
   },
   "outputs": [],
   "source": [
    "def parse_stories(lines, only_supporting=False):\n",
    "    '''Parse stories provided in the bAbi tasks format\n",
    "    If only_supporting is true, only the sentences that support the answer are kept.\n",
    "    '''\n",
    "    data = []\n",
    "    story = []\n",
    "    for line in lines:\n",
    "        line = line.decode('utf-8').strip()\n",
    "        nid, line = line.split(' ', 1)\n",
    "        nid = int(nid)\n",
    "        if nid == 1:\n",
    "            story = []\n",
    "        if '\\t' in line:\n",
    "            q, a, supporting = line.split('\\t')\n",
    "            q = tokenize(q)\n",
    "            substory = None\n",
    "            if only_supporting:\n",
    "                # Only select the related substory\n",
    "                supporting = map(int, supporting.split())\n",
    "                substory = [story[i - 1] for i in supporting]\n",
    "            else:\n",
    "                # Provide all the substories\n",
    "                substory = [x for x in story if x]\n",
    "            data.append((substory, q, a))\n",
    "            story.append('')\n",
    "        else:\n",
    "            sent = tokenize(line)\n",
    "            story.append(sent)\n",
    "    return data"
   ]
  },
  {
   "cell_type": "code",
   "execution_count": 4,
   "metadata": {
    "collapsed": true
   },
   "outputs": [],
   "source": [
    "\n",
    "def get_stories(f, only_supporting=False, max_length=None):\n",
    "    '''Given a file name, read the file, retrieve the stories, and then convert the sentences into a single story.\n",
    "    If max_length is supplied, any stories longer than max_length tokens will be discarded.\n",
    "    '''\n",
    "    data = parse_stories(f.readlines(), only_supporting=only_supporting)\n",
    "    flatten = lambda data: reduce(lambda x, y: x + y, data)\n",
    "    data = [(flatten(story), q, answer) for story, q, answer in data if not max_length or len(flatten(story)) < max_length]\n",
    "    return data\n"
   ]
  },
  {
   "cell_type": "code",
   "execution_count": 5,
   "metadata": {
    "collapsed": true
   },
   "outputs": [],
   "source": [
    "def vectorize_stories(data, word_idx, story_maxlen, query_maxlen):\n",
    "    X = []\n",
    "    Xq = []\n",
    "    Y = []\n",
    "    for story, query, answer in data:\n",
    "        x = [word_idx[w] for w in story]\n",
    "        xq = [word_idx[w] for w in query]\n",
    "        y = np.zeros(len(word_idx) + 1)  # let's not forget that index 0 is reserved\n",
    "        y[word_idx[answer]] = 1\n",
    "        X.append(x)\n",
    "        Xq.append(xq)\n",
    "        Y.append(y)\n",
    "    return (pad_sequences(X, maxlen=story_maxlen),\n",
    "            pad_sequences(Xq, maxlen=query_maxlen), np.array(Y))"
   ]
  },
  {
   "cell_type": "code",
   "execution_count": 6,
   "metadata": {
    "collapsed": true
   },
   "outputs": [],
   "source": [
    "try:\n",
    "    path = get_file('babi-tasks-v1-2.tar.gz', origin='https://s3.amazonaws.com/text-datasets/babi_tasks_1-20_v1-2.tar.gz')\n",
    "except:\n",
    "    print('Error downloading dataset, please download it manually:\\n'\n",
    "          '$ wget http://www.thespermwhale.com/jaseweston/babi/tasks_1-20_v1-2.tar.gz\\n'\n",
    "          '$ mv tasks_1-20_v1-2.tar.gz ~/.keras/datasets/babi-tasks-v1-2.tar.gz')\n",
    "    raise\n",
    "tar = tarfile.open(path)"
   ]
  },
  {
   "cell_type": "markdown",
   "metadata": {},
   "source": [
    "### Training Set\n",
    "\n",
    "Here the selection of 'Question' type (single supporting fact, three supporting facts etc.) is made for generating the training and test set. "
   ]
  },
  {
   "cell_type": "code",
   "execution_count": 7,
   "metadata": {
    "collapsed": false
   },
   "outputs": [
    {
     "name": "stdout",
     "output_type": "stream",
     "text": [
      "Extracting stories for the challenge: two_supporting_facts_10k\n"
     ]
    }
   ],
   "source": [
    "challenges = {\n",
    "    # QA1 with 10,000 samples\n",
    "    'single_supporting_fact_10k': 'tasks_1-20_v1-2/en-10k/qa1_single-supporting-fact_{}.txt',\n",
    "    # QA2 with 10,000 samples\n",
    "    'two_supporting_facts_10k': 'tasks_1-20_v1-2/en-10k/qa2_two-supporting-facts_{}.txt',\n",
    "}\n",
    "challenge_type = 'two_supporting_facts_10k'\n",
    "challenge = challenges[challenge_type]\n",
    "\n",
    "print('Extracting stories for the challenge:', challenge_type)\n",
    "train_stories = get_stories(tar.extractfile(challenge.format('train')))\n",
    "test_stories = get_stories(tar.extractfile(challenge.format('test')))\n"
   ]
  },
  {
   "cell_type": "code",
   "execution_count": 8,
   "metadata": {
    "collapsed": false
   },
   "outputs": [
    {
     "name": "stdout",
     "output_type": "stream",
     "text": [
      "Vocab size: 36 unique words\n",
      "Story max length: 552 words\n",
      "Query max length: 5 words\n",
      "Number of training stories: 10000\n",
      "Number of test stories: 1000\n",
      "\n",
      "\n",
      "Here's what a \"story\" tuple looks like (input, query, answer):\n",
      "([u'Mary', u'moved', u'to', u'the', u'bathroom', u'.', u'Sandra', u'journeyed', u'to', u'the', u'bedroom', u'.', u'Mary', u'got', u'the', u'football', u'there', u'.', u'John', u'went', u'to', u'the', u'kitchen', u'.', u'Mary', u'went', u'back', u'to', u'the', u'kitchen', u'.', u'Mary', u'went', u'back', u'to', u'the', u'garden', u'.'], [u'Where', u'is', u'the', u'football', u'?'], u'garden')\n"
     ]
    }
   ],
   "source": [
    "vocab = sorted(reduce(lambda x, y: x | y, (set(story + q + [answer]) for story, q, answer in train_stories + test_stories)))\n",
    "# Reserve 0 for masking via pad_sequences\n",
    "vocab_size = len(vocab) + 1\n",
    "story_maxlen = max(map(len, (x for x, _, _ in train_stories + test_stories)))\n",
    "query_maxlen = max(map(len, (x for _, x, _ in train_stories + test_stories)))\n",
    "\n",
    "print('Vocab size:', vocab_size, 'unique words')\n",
    "print('Story max length:', story_maxlen, 'words')\n",
    "print('Query max length:', query_maxlen, 'words')\n",
    "print('Number of training stories:', len(train_stories))\n",
    "print('Number of test stories:', len(test_stories))\n",
    "print('\\n')\n",
    "print('Here\\'s what a \"story\" tuple looks like (input, query, answer):')\n",
    "print(train_stories[0])"
   ]
  },
  {
   "cell_type": "markdown",
   "metadata": {},
   "source": [
    "### Vectorizing the word sequences\n",
    "\n",
    "Here we convert the word tokens to word vectors. We know the total number of unique words in the corpus, that is the size of the vocabulary. Thus, to each word in the corpus we assign a number. We also know the maximum length of a story, story_maxlen (story includes facts, query and answer). Thus, for each story we can construct a word vector of length story_maxlen. For eg. suppose, story_maxlen is 68 and the current story length is 24, then we can have a word vector with the first 34 indices as 0 and the next 24 indices with vocabulary index values of words in the current story"
   ]
  },
  {
   "cell_type": "code",
   "execution_count": 9,
   "metadata": {
    "collapsed": false
   },
   "outputs": [
    {
     "name": "stdout",
     "output_type": "stream",
     "text": [
      "inputs: integer tensor of shape (samples, max_length)\n",
      "inputs_train shape: (10000, 552)\n",
      "inputs_test shape: (1000, 552)\n",
      "\n",
      "\n",
      "queries: integer tensor of shape (samples, max_length)\n",
      "queries_train shape: (10000, 5)\n",
      "queries_test shape: (1000, 5)\n",
      "\n",
      "\n",
      "answers: binary (1 or 0) tensor of shape (samples, vocab_size)\n",
      "answers_train shape: (10000, 36)\n",
      "answers_test shape: (1000, 36)\n",
      "\n",
      "\n"
     ]
    }
   ],
   "source": [
    "word_idx = dict((c, i + 1) for i, c in enumerate(vocab))\n",
    "inputs_train, queries_train, answers_train = vectorize_stories(train_stories, word_idx, story_maxlen, query_maxlen)\n",
    "inputs_test, queries_test, answers_test = vectorize_stories(test_stories, word_idx, story_maxlen, query_maxlen)\n",
    "\n",
    "\n",
    "print('inputs: integer tensor of shape (samples, max_length)')\n",
    "print('inputs_train shape:', inputs_train.shape)\n",
    "print('inputs_test shape:', inputs_test.shape)\n",
    "print('\\n')\n",
    "print('queries: integer tensor of shape (samples, max_length)')\n",
    "print('queries_train shape:', queries_train.shape)\n",
    "print('queries_test shape:', queries_test.shape)\n",
    "print('\\n')\n",
    "print('answers: binary (1 or 0) tensor of shape (samples, vocab_size)')\n",
    "print('answers_train shape:', answers_train.shape)\n",
    "print('answers_test shape:', answers_test.shape)\n",
    "print('\\n')\n"
   ]
  },
  {
   "cell_type": "markdown",
   "metadata": {},
   "source": [
    "### End-to-End Memory Networks\n",
    "\n",
    "The model employed is the End-to-End Memory Networks described in Sukhbaatar et. al. (2015). The architecture is a modified form of Memory Network (Weston, 2014) with the training being weakly supervised.Weston's Memory Network was not easy to train via backpropagation and required supervision at each layer.\n",
    "\n",
    "\n",
    "Briefly, the model takes a discrete set of inputs x1, x2, ...xn that are to be stored in memory, a query q, and an answer a. The model writes all x to the memory up to a fixed buffer size, and then finds a continuous representation for x and q. The continuous representation is then processed via multiple hops to output a. \n"
   ]
  },
  {
   "cell_type": "code",
   "execution_count": 10,
   "metadata": {
    "collapsed": false
   },
   "outputs": [],
   "source": [
    "# embed the input sequence into a sequence of vectors\n",
    "# output: (samples, story_maxlen, embedding_dim)\n",
    "input_encoder_m = Sequential()\n",
    "input_encoder_m.add(Embedding(input_dim=vocab_size,\n",
    "                              output_dim=64,\n",
    "                              input_length=story_maxlen))\n",
    "input_encoder_m.add(Dropout(0.3))\n",
    "\n",
    "\n",
    "# embed the question into a sequence of vectors\n",
    "# output: (samples, query_maxlen, embedding_dim)\n",
    "question_encoder = Sequential()\n",
    "question_encoder.add(Embedding(input_dim=vocab_size,\n",
    "                               output_dim=64,\n",
    "                               input_length=query_maxlen))\n",
    "question_encoder.add(Dropout(0.3))\n",
    "\n",
    "# compute a 'match' between input sequence elements (which are vectors)\n",
    "# and the question vector sequence\n",
    "\n",
    "# output: (samples, story_maxlen, query_maxlen)\n",
    "match = Sequential()\n",
    "match.add(Merge([input_encoder_m, question_encoder],\n",
    "                mode='dot',\n",
    "                dot_axes=[2, 2]))\n",
    "match.add(Activation('softmax'))\n",
    "\n",
    "# embed the input into a single vector with size = story_maxlen:\n",
    "# output: (samples, story_maxlen, query_maxlen)\n",
    "input_encoder_c = Sequential()\n",
    "input_encoder_c.add(Embedding(input_dim=vocab_size,\n",
    "                              output_dim=query_maxlen,\n",
    "                              input_length=story_maxlen))\n",
    "input_encoder_c.add(Dropout(0.3))\n",
    "\n",
    "\n",
    "# sum the match vector with the input vector:\n",
    "# output: (samples, story_maxlen, query_maxlen)\n",
    "response = Sequential()\n",
    "response.add(Merge([match, input_encoder_c], mode='sum'))\n",
    "\n",
    "# Permutes the dimensions of input\n",
    "response.add(Permute((2, 1)))  # output: (samples, query_maxlen, story_maxlen)\n",
    "\n",
    "# concatenate the match vector with the question vector,\n",
    "# and do logistic regression on top\n",
    "answer = Sequential()\n",
    "answer.add(Merge([response, question_encoder], mode='concat', concat_axis=-1))\n",
    "\n",
    "\n",
    "# the original paper uses a matrix multiplication for this reduction step.\n",
    "# we choose to use a RNN instead.\n",
    "answer.add(LSTM(32))\n",
    "# one regularization layer -- more would probably be needed.\n",
    "answer.add(Dropout(0.3))\n",
    "answer.add(Dense(vocab_size))\n",
    "# we output a probability distribution over the vocabulary\n",
    "answer.add(Activation('softmax'))\n",
    "\n"
   ]
  },
  {
   "cell_type": "code",
   "execution_count": 11,
   "metadata": {
    "collapsed": false
   },
   "outputs": [
    {
     "name": "stdout",
     "output_type": "stream",
     "text": [
      "Train on 10000 samples, validate on 1000 samples\n",
      "Epoch 1/120\n",
      "10000/10000 [==============================] - 9s - loss: 1.9394 - acc: 0.1652 - val_loss: 1.8105 - val_acc: 0.1460\n",
      "Epoch 2/120\n",
      "10000/10000 [==============================] - 8s - loss: 1.8149 - acc: 0.1606 - val_loss: 1.7902 - val_acc: 0.1870\n",
      "Epoch 3/120\n",
      "10000/10000 [==============================] - 8s - loss: 1.7930 - acc: 0.1849 - val_loss: 1.7799 - val_acc: 0.2040\n",
      "Epoch 4/120\n",
      "10000/10000 [==============================] - 8s - loss: 1.7706 - acc: 0.2181 - val_loss: 1.7674 - val_acc: 0.2320\n",
      "Epoch 5/120\n",
      "10000/10000 [==============================] - 8s - loss: 1.7462 - acc: 0.2352 - val_loss: 1.7284 - val_acc: 0.2380\n",
      "Epoch 6/120\n",
      "10000/10000 [==============================] - 8s - loss: 1.7132 - acc: 0.2713 - val_loss: 1.7011 - val_acc: 0.2770\n",
      "Epoch 7/120\n",
      "10000/10000 [==============================] - 8s - loss: 1.6911 - acc: 0.2970 - val_loss: 1.6763 - val_acc: 0.3000\n",
      "Epoch 8/120\n",
      "10000/10000 [==============================] - 8s - loss: 1.6783 - acc: 0.3000 - val_loss: 1.6630 - val_acc: 0.3020\n",
      "Epoch 9/120\n",
      "10000/10000 [==============================] - 8s - loss: 1.6649 - acc: 0.3068 - val_loss: 1.6593 - val_acc: 0.3060\n",
      "Epoch 10/120\n",
      "10000/10000 [==============================] - 8s - loss: 1.6566 - acc: 0.3214 - val_loss: 1.6456 - val_acc: 0.3170\n",
      "Epoch 11/120\n",
      "10000/10000 [==============================] - 8s - loss: 1.6397 - acc: 0.3327 - val_loss: 1.6362 - val_acc: 0.3300\n",
      "Epoch 12/120\n",
      "10000/10000 [==============================] - 8s - loss: 1.6272 - acc: 0.3355 - val_loss: 1.6212 - val_acc: 0.3380\n",
      "Epoch 13/120\n",
      "10000/10000 [==============================] - 8s - loss: 1.6195 - acc: 0.3355 - val_loss: 1.6157 - val_acc: 0.3470\n",
      "Epoch 14/120\n",
      "10000/10000 [==============================] - 8s - loss: 1.6065 - acc: 0.3479 - val_loss: 1.6187 - val_acc: 0.3330\n",
      "Epoch 15/120\n",
      "10000/10000 [==============================] - 8s - loss: 1.5893 - acc: 0.3596 - val_loss: 1.6033 - val_acc: 0.3430\n",
      "Epoch 16/120\n",
      "10000/10000 [==============================] - 8s - loss: 1.5825 - acc: 0.3615 - val_loss: 1.5793 - val_acc: 0.3700\n",
      "Epoch 17/120\n",
      "10000/10000 [==============================] - 8s - loss: 1.5661 - acc: 0.3707 - val_loss: 1.5685 - val_acc: 0.3680\n",
      "Epoch 18/120\n",
      "10000/10000 [==============================] - 8s - loss: 1.5483 - acc: 0.3755 - val_loss: 1.5620 - val_acc: 0.3700\n",
      "Epoch 19/120\n",
      "10000/10000 [==============================] - 8s - loss: 1.5420 - acc: 0.3833 - val_loss: 1.5670 - val_acc: 0.3670\n",
      "Epoch 20/120\n",
      "10000/10000 [==============================] - 8s - loss: 1.5343 - acc: 0.3865 - val_loss: 1.5646 - val_acc: 0.3730\n",
      "Epoch 21/120\n",
      "10000/10000 [==============================] - 8s - loss: 1.5285 - acc: 0.3927 - val_loss: 1.5539 - val_acc: 0.3670\n",
      "Epoch 22/120\n",
      "10000/10000 [==============================] - 8s - loss: 1.5201 - acc: 0.4000 - val_loss: 1.5594 - val_acc: 0.3720\n",
      "Epoch 23/120\n",
      "10000/10000 [==============================] - 8s - loss: 1.5189 - acc: 0.3948 - val_loss: 1.5704 - val_acc: 0.3570\n",
      "Epoch 24/120\n",
      "10000/10000 [==============================] - 8s - loss: 1.5122 - acc: 0.4026 - val_loss: 1.5655 - val_acc: 0.3710\n",
      "Epoch 25/120\n",
      "10000/10000 [==============================] - 8s - loss: 1.5065 - acc: 0.4014 - val_loss: 1.5675 - val_acc: 0.3730\n",
      "Epoch 26/120\n",
      "10000/10000 [==============================] - 8s - loss: 1.5006 - acc: 0.4021 - val_loss: 1.5634 - val_acc: 0.3690\n",
      "Epoch 27/120\n",
      "10000/10000 [==============================] - 8s - loss: 1.4902 - acc: 0.4119 - val_loss: 1.5773 - val_acc: 0.3650\n",
      "Epoch 28/120\n",
      "10000/10000 [==============================] - 8s - loss: 1.4874 - acc: 0.4080 - val_loss: 1.5729 - val_acc: 0.3790\n",
      "Epoch 29/120\n",
      "10000/10000 [==============================] - 8s - loss: 1.4818 - acc: 0.4094 - val_loss: 1.5683 - val_acc: 0.3680\n",
      "Epoch 30/120\n",
      "10000/10000 [==============================] - 8s - loss: 1.4813 - acc: 0.4106 - val_loss: 1.5732 - val_acc: 0.3740\n",
      "Epoch 31/120\n",
      "10000/10000 [==============================] - 8s - loss: 1.4692 - acc: 0.4185 - val_loss: 1.5785 - val_acc: 0.3530\n",
      "Epoch 32/120\n",
      "10000/10000 [==============================] - 8s - loss: 1.4656 - acc: 0.4202 - val_loss: 1.5753 - val_acc: 0.3620\n",
      "Epoch 33/120\n",
      "10000/10000 [==============================] - 8s - loss: 1.4610 - acc: 0.4229 - val_loss: 1.5702 - val_acc: 0.3570\n",
      "Epoch 34/120\n",
      "10000/10000 [==============================] - 8s - loss: 1.4509 - acc: 0.4240 - val_loss: 1.5939 - val_acc: 0.3440\n",
      "Epoch 35/120\n",
      "10000/10000 [==============================] - 8s - loss: 1.4488 - acc: 0.4285 - val_loss: 1.5675 - val_acc: 0.3610\n",
      "Epoch 36/120\n",
      "10000/10000 [==============================] - 8s - loss: 1.4431 - acc: 0.4244 - val_loss: 1.5867 - val_acc: 0.3540\n",
      "Epoch 37/120\n",
      "10000/10000 [==============================] - 8s - loss: 1.4337 - acc: 0.4346 - val_loss: 1.6006 - val_acc: 0.3620\n",
      "Epoch 38/120\n",
      "10000/10000 [==============================] - 8s - loss: 1.4357 - acc: 0.4296 - val_loss: 1.5730 - val_acc: 0.3620\n",
      "Epoch 39/120\n",
      "10000/10000 [==============================] - 8s - loss: 1.4258 - acc: 0.4383 - val_loss: 1.5692 - val_acc: 0.3640\n",
      "Epoch 40/120\n",
      "10000/10000 [==============================] - 8s - loss: 1.4175 - acc: 0.4345 - val_loss: 1.5909 - val_acc: 0.3410\n",
      "Epoch 41/120\n",
      "10000/10000 [==============================] - 8s - loss: 1.4262 - acc: 0.4406 - val_loss: 1.5776 - val_acc: 0.3660\n",
      "Epoch 42/120\n",
      "10000/10000 [==============================] - 8s - loss: 1.4207 - acc: 0.4368 - val_loss: 1.5817 - val_acc: 0.3680\n",
      "Epoch 43/120\n",
      "10000/10000 [==============================] - 8s - loss: 1.3992 - acc: 0.4539 - val_loss: 1.5864 - val_acc: 0.3530\n",
      "Epoch 44/120\n",
      "10000/10000 [==============================] - 8s - loss: 1.4015 - acc: 0.4480 - val_loss: 1.5930 - val_acc: 0.3630\n",
      "Epoch 45/120\n",
      "10000/10000 [==============================] - 8s - loss: 1.3941 - acc: 0.4452 - val_loss: 1.6101 - val_acc: 0.3830\n",
      "Epoch 46/120\n",
      "10000/10000 [==============================] - 8s - loss: 1.4023 - acc: 0.4500 - val_loss: 1.5751 - val_acc: 0.3690\n",
      "Epoch 47/120\n",
      "10000/10000 [==============================] - 8s - loss: 1.3938 - acc: 0.4568 - val_loss: 1.5769 - val_acc: 0.3610\n",
      "Epoch 48/120\n",
      "10000/10000 [==============================] - 8s - loss: 1.3882 - acc: 0.4546 - val_loss: 1.5933 - val_acc: 0.3580\n",
      "Epoch 49/120\n",
      "10000/10000 [==============================] - 8s - loss: 1.3765 - acc: 0.4567 - val_loss: 1.5867 - val_acc: 0.3640\n",
      "Epoch 50/120\n",
      "10000/10000 [==============================] - 8s - loss: 1.3849 - acc: 0.4529 - val_loss: 1.6122 - val_acc: 0.3670\n",
      "Epoch 51/120\n",
      "10000/10000 [==============================] - 8s - loss: 1.3720 - acc: 0.4589 - val_loss: 1.5834 - val_acc: 0.3690\n",
      "Epoch 52/120\n",
      "10000/10000 [==============================] - 8s - loss: 1.3642 - acc: 0.4652 - val_loss: 1.6170 - val_acc: 0.3630\n",
      "Epoch 53/120\n",
      "10000/10000 [==============================] - 8s - loss: 1.3586 - acc: 0.4686 - val_loss: 1.5996 - val_acc: 0.3570\n",
      "Epoch 54/120\n",
      "10000/10000 [==============================] - 8s - loss: 1.3579 - acc: 0.4712 - val_loss: 1.5998 - val_acc: 0.3640\n",
      "Epoch 55/120\n",
      "10000/10000 [==============================] - 8s - loss: 1.3621 - acc: 0.4696 - val_loss: 1.6059 - val_acc: 0.3690\n",
      "Epoch 56/120\n",
      "10000/10000 [==============================] - 8s - loss: 1.3385 - acc: 0.4763 - val_loss: 1.5974 - val_acc: 0.3530\n",
      "Epoch 57/120\n",
      "10000/10000 [==============================] - 8s - loss: 1.3434 - acc: 0.4784 - val_loss: 1.6228 - val_acc: 0.3610\n",
      "Epoch 58/120\n",
      "10000/10000 [==============================] - 8s - loss: 1.3374 - acc: 0.4756 - val_loss: 1.6184 - val_acc: 0.3660\n",
      "Epoch 59/120\n",
      "10000/10000 [==============================] - 8s - loss: 1.3383 - acc: 0.4790 - val_loss: 1.6186 - val_acc: 0.3530\n",
      "Epoch 60/120\n",
      "10000/10000 [==============================] - 8s - loss: 1.3405 - acc: 0.4723 - val_loss: 1.6361 - val_acc: 0.3660\n",
      "Epoch 61/120\n",
      "10000/10000 [==============================] - 8s - loss: 1.3276 - acc: 0.4819 - val_loss: 1.6999 - val_acc: 0.3590\n",
      "Epoch 62/120\n",
      "10000/10000 [==============================] - 8s - loss: 1.3176 - acc: 0.4875 - val_loss: 1.6057 - val_acc: 0.3530\n",
      "Epoch 63/120\n",
      "10000/10000 [==============================] - 8s - loss: 1.3241 - acc: 0.4838 - val_loss: 1.6355 - val_acc: 0.3600\n",
      "Epoch 64/120\n",
      "10000/10000 [==============================] - 8s - loss: 1.3107 - acc: 0.4889 - val_loss: 1.6490 - val_acc: 0.3580\n",
      "Epoch 65/120\n",
      "10000/10000 [==============================] - 8s - loss: 1.3124 - acc: 0.4874 - val_loss: 1.6175 - val_acc: 0.3730\n",
      "Epoch 66/120\n",
      "10000/10000 [==============================] - 8s - loss: 1.3077 - acc: 0.4879 - val_loss: 1.6496 - val_acc: 0.3580\n",
      "Epoch 67/120\n",
      "10000/10000 [==============================] - 8s - loss: 1.3065 - acc: 0.4887 - val_loss: 1.6339 - val_acc: 0.3610\n",
      "Epoch 68/120\n",
      "10000/10000 [==============================] - 8s - loss: 1.3037 - acc: 0.4960 - val_loss: 1.6513 - val_acc: 0.3560\n",
      "Epoch 69/120\n",
      "10000/10000 [==============================] - 8s - loss: 1.3021 - acc: 0.4878 - val_loss: 1.6829 - val_acc: 0.3640\n",
      "Epoch 70/120\n",
      "10000/10000 [==============================] - 8s - loss: 1.2765 - acc: 0.5066 - val_loss: 1.6550 - val_acc: 0.3550\n",
      "Epoch 71/120\n",
      "10000/10000 [==============================] - 8s - loss: 1.2869 - acc: 0.4906 - val_loss: 1.6597 - val_acc: 0.3550\n",
      "Epoch 72/120\n",
      "10000/10000 [==============================] - 8s - loss: 1.2912 - acc: 0.4959 - val_loss: 1.6213 - val_acc: 0.3410\n",
      "Epoch 73/120\n",
      "10000/10000 [==============================] - 8s - loss: 1.2840 - acc: 0.4886 - val_loss: 1.6413 - val_acc: 0.3480\n",
      "Epoch 74/120\n",
      "10000/10000 [==============================] - 8s - loss: 1.2812 - acc: 0.5007 - val_loss: 1.6378 - val_acc: 0.3460\n",
      "Epoch 75/120\n",
      "10000/10000 [==============================] - 8s - loss: 1.2740 - acc: 0.5063 - val_loss: 1.6781 - val_acc: 0.3530\n",
      "Epoch 76/120\n",
      "10000/10000 [==============================] - 8s - loss: 1.2771 - acc: 0.5047 - val_loss: 1.6688 - val_acc: 0.3590\n",
      "Epoch 77/120\n",
      "10000/10000 [==============================] - 8s - loss: 1.2665 - acc: 0.5084 - val_loss: 1.6568 - val_acc: 0.3600\n",
      "Epoch 78/120\n",
      "10000/10000 [==============================] - 8s - loss: 1.2677 - acc: 0.5080 - val_loss: 1.6787 - val_acc: 0.3480\n",
      "Epoch 79/120\n",
      "10000/10000 [==============================] - 8s - loss: 1.2605 - acc: 0.5077 - val_loss: 1.7077 - val_acc: 0.3400\n",
      "Epoch 80/120\n",
      "10000/10000 [==============================] - 8s - loss: 1.2629 - acc: 0.5109 - val_loss: 1.6845 - val_acc: 0.3630\n",
      "Epoch 81/120\n",
      "10000/10000 [==============================] - 8s - loss: 1.2523 - acc: 0.5155 - val_loss: 1.7151 - val_acc: 0.3390\n",
      "Epoch 82/120\n",
      "10000/10000 [==============================] - 8s - loss: 1.2627 - acc: 0.5098 - val_loss: 1.6564 - val_acc: 0.3590\n",
      "Epoch 83/120\n",
      "10000/10000 [==============================] - 8s - loss: 1.2445 - acc: 0.5156 - val_loss: 1.7064 - val_acc: 0.3470\n",
      "Epoch 84/120\n",
      "10000/10000 [==============================] - 8s - loss: 1.2478 - acc: 0.5113 - val_loss: 1.6595 - val_acc: 0.3510\n",
      "Epoch 85/120\n",
      "10000/10000 [==============================] - 8s - loss: 1.2451 - acc: 0.5145 - val_loss: 1.6664 - val_acc: 0.3540\n",
      "Epoch 86/120\n",
      "10000/10000 [==============================] - 8s - loss: 1.2463 - acc: 0.5145 - val_loss: 1.6734 - val_acc: 0.3480\n",
      "Epoch 87/120\n",
      "10000/10000 [==============================] - 8s - loss: 1.2355 - acc: 0.5225 - val_loss: 1.6903 - val_acc: 0.3490\n",
      "Epoch 88/120\n",
      "10000/10000 [==============================] - 8s - loss: 1.2326 - acc: 0.5176 - val_loss: 1.6967 - val_acc: 0.3410\n",
      "Epoch 89/120\n",
      "10000/10000 [==============================] - 8s - loss: 1.2333 - acc: 0.5212 - val_loss: 1.7093 - val_acc: 0.3590\n",
      "Epoch 90/120\n",
      "10000/10000 [==============================] - 8s - loss: 1.2331 - acc: 0.5162 - val_loss: 1.7585 - val_acc: 0.3530\n",
      "Epoch 91/120\n",
      "10000/10000 [==============================] - 8s - loss: 1.2186 - acc: 0.5288 - val_loss: 1.7344 - val_acc: 0.3570\n",
      "Epoch 92/120\n",
      "10000/10000 [==============================] - 8s - loss: 1.2337 - acc: 0.5145 - val_loss: 1.7431 - val_acc: 0.3630\n",
      "Epoch 93/120\n",
      "10000/10000 [==============================] - 8s - loss: 1.2143 - acc: 0.5254 - val_loss: 1.7127 - val_acc: 0.3420\n",
      "Epoch 94/120\n",
      "10000/10000 [==============================] - 8s - loss: 1.2234 - acc: 0.5208 - val_loss: 1.7191 - val_acc: 0.3430\n",
      "Epoch 95/120\n",
      "10000/10000 [==============================] - 8s - loss: 1.2145 - acc: 0.5295 - val_loss: 1.7357 - val_acc: 0.3490\n",
      "Epoch 96/120\n",
      "10000/10000 [==============================] - 8s - loss: 1.2106 - acc: 0.5289 - val_loss: 1.7018 - val_acc: 0.3450\n",
      "Epoch 97/120\n",
      "10000/10000 [==============================] - 8s - loss: 1.2051 - acc: 0.5257 - val_loss: 1.7432 - val_acc: 0.3560\n",
      "Epoch 98/120\n",
      "10000/10000 [==============================] - 8s - loss: 1.2049 - acc: 0.5289 - val_loss: 1.7154 - val_acc: 0.3190\n",
      "Epoch 99/120\n",
      "10000/10000 [==============================] - 8s - loss: 1.1958 - acc: 0.5384 - val_loss: 1.7889 - val_acc: 0.3420\n",
      "Epoch 100/120\n",
      "10000/10000 [==============================] - 8s - loss: 1.1971 - acc: 0.5370 - val_loss: 1.7931 - val_acc: 0.3360\n",
      "Epoch 101/120\n",
      "10000/10000 [==============================] - 8s - loss: 1.1943 - acc: 0.5322 - val_loss: 1.7154 - val_acc: 0.3300\n",
      "Epoch 102/120\n",
      "10000/10000 [==============================] - 8s - loss: 1.1842 - acc: 0.5392 - val_loss: 1.7602 - val_acc: 0.3440\n",
      "Epoch 103/120\n",
      "10000/10000 [==============================] - 8s - loss: 1.1956 - acc: 0.5371 - val_loss: 1.7319 - val_acc: 0.3400\n",
      "Epoch 104/120\n",
      "10000/10000 [==============================] - 8s - loss: 1.1839 - acc: 0.5403 - val_loss: 1.8390 - val_acc: 0.3490\n",
      "Epoch 105/120\n",
      "10000/10000 [==============================] - 8s - loss: 1.1680 - acc: 0.5481 - val_loss: 1.7135 - val_acc: 0.3280\n",
      "Epoch 106/120\n",
      "10000/10000 [==============================] - 8s - loss: 1.1821 - acc: 0.5435 - val_loss: 1.7835 - val_acc: 0.3540\n",
      "Epoch 107/120\n",
      "10000/10000 [==============================] - 8s - loss: 1.1902 - acc: 0.5417 - val_loss: 1.7629 - val_acc: 0.3260\n",
      "Epoch 108/120\n",
      "10000/10000 [==============================] - 8s - loss: 1.1756 - acc: 0.5405 - val_loss: 1.7401 - val_acc: 0.3510\n",
      "Epoch 109/120\n",
      "10000/10000 [==============================] - 8s - loss: 1.1770 - acc: 0.5464 - val_loss: 1.7992 - val_acc: 0.3430\n",
      "Epoch 110/120\n",
      "10000/10000 [==============================] - 8s - loss: 1.1704 - acc: 0.5521 - val_loss: 1.7868 - val_acc: 0.3380\n",
      "Epoch 111/120\n",
      "10000/10000 [==============================] - 8s - loss: 1.1679 - acc: 0.5491 - val_loss: 1.7856 - val_acc: 0.3380\n",
      "Epoch 112/120\n",
      "10000/10000 [==============================] - 8s - loss: 1.1602 - acc: 0.5514 - val_loss: 1.7671 - val_acc: 0.3510\n",
      "Epoch 113/120\n",
      "10000/10000 [==============================] - 8s - loss: 1.1706 - acc: 0.5439 - val_loss: 1.8324 - val_acc: 0.3460\n",
      "Epoch 114/120\n",
      "10000/10000 [==============================] - 8s - loss: 1.1519 - acc: 0.5553 - val_loss: 1.7823 - val_acc: 0.3480\n",
      "Epoch 115/120\n",
      "10000/10000 [==============================] - 8s - loss: 1.1557 - acc: 0.5528 - val_loss: 1.8039 - val_acc: 0.3430\n",
      "Epoch 116/120\n",
      "10000/10000 [==============================] - 8s - loss: 1.1654 - acc: 0.5494 - val_loss: 1.8622 - val_acc: 0.3390\n",
      "Epoch 117/120\n",
      "10000/10000 [==============================] - 8s - loss: 1.1598 - acc: 0.5487 - val_loss: 1.8537 - val_acc: 0.3350\n",
      "Epoch 118/120\n",
      "10000/10000 [==============================] - 8s - loss: 1.1576 - acc: 0.5529 - val_loss: 1.7686 - val_acc: 0.3390\n",
      "Epoch 119/120\n",
      "10000/10000 [==============================] - 8s - loss: 1.1504 - acc: 0.5537 - val_loss: 1.7753 - val_acc: 0.3410\n",
      "Epoch 120/120\n",
      "10000/10000 [==============================] - 8s - loss: 1.1430 - acc: 0.5521 - val_loss: 1.8037 - val_acc: 0.3330\n"
     ]
    },
    {
     "data": {
      "text/plain": [
       "<keras.callbacks.History at 0x7fbcb0f9f150>"
      ]
     },
     "execution_count": 11,
     "metadata": {},
     "output_type": "execute_result"
    }
   ],
   "source": [
    "answer.compile(optimizer='rmsprop', loss='categorical_crossentropy',\n",
    "               metrics=['accuracy'])\n",
    "# Note: you could use a Graph model to avoid repeat the input twice\n",
    "answer.fit([inputs_train, queries_train, inputs_train], answers_train,\n",
    "           batch_size=24,\n",
    "           nb_epoch=120,\n",
    "           validation_data=([inputs_test, queries_test, inputs_test], answers_test))"
   ]
  },
  {
   "cell_type": "markdown",
   "metadata": {},
   "source": [
    "### Making predictions based on the fitted model"
   ]
  },
  {
   "cell_type": "code",
   "execution_count": 12,
   "metadata": {
    "collapsed": false
   },
   "outputs": [
    {
     "name": "stdout",
     "output_type": "stream",
     "text": [
      "1000/1000 [==============================] - 0s     \n"
     ]
    }
   ],
   "source": [
    "predictions=answer.predict_classes([inputs_test, queries_test, inputs_test], batch_size=32)"
   ]
  },
  {
   "cell_type": "markdown",
   "metadata": {},
   "source": [
    "### Example story and model prediction"
   ]
  },
  {
   "cell_type": "code",
   "execution_count": 13,
   "metadata": {
    "collapsed": false,
    "scrolled": true
   },
   "outputs": [],
   "source": [
    "def pred_evaluation(ind):\n",
    "    \n",
    "    print (\"The story is -: \")\n",
    "    facts = test_stories[ind]\n",
    "    print(' '.join(facts[0]))\n",
    "    print('\\n')\n",
    "    \n",
    "    print (\"The query is -:\")\n",
    "    print(' '.join(facts[1]))\n",
    "\n",
    "    print (\"\\nThe predicted answer is -:\")\n",
    "    ans = predictions[ind]\n",
    "    for key, value in (word_idx).items():\n",
    "        if value == ans:\n",
    "            print(key)\n",
    "            print('\\n')\n",
    "            \n"
   ]
  },
  {
   "cell_type": "code",
   "execution_count": 14,
   "metadata": {
    "collapsed": false
   },
   "outputs": [
    {
     "name": "stdout",
     "output_type": "stream",
     "text": [
      "The story is -: \n",
      "Mary got the milk there . John moved to the bedroom . Sandra went back to the kitchen . Mary travelled to the hallway . John got the football there . John went to the hallway .\n",
      "\n",
      "\n",
      "The query is -:\n",
      "Where is the football ?\n",
      "\n",
      "The predicted answer is -:\n",
      "hallway\n",
      "\n",
      "\n"
     ]
    }
   ],
   "source": [
    "pred_evaluation(1)\n"
   ]
  },
  {
   "cell_type": "code",
   "execution_count": 15,
   "metadata": {
    "collapsed": false
   },
   "outputs": [
    {
     "name": "stdout",
     "output_type": "stream",
     "text": [
      "The story is -: \n",
      "Mary moved to the kitchen . Mary travelled to the office . Daniel grabbed the football there . Mary moved to the hallway . Sandra moved to the bedroom . Mary went back to the bedroom . John grabbed the milk there . John put down the milk . Daniel journeyed to the bathroom . Sandra journeyed to the bathroom . John got the milk there . Mary took the apple there . Mary left the apple . John journeyed to the bedroom .\n",
      "\n",
      "\n",
      "The query is -:\n",
      "Where is the apple ?\n",
      "\n",
      "The predicted answer is -:\n",
      "bedroom\n",
      "\n",
      "\n"
     ]
    }
   ],
   "source": [
    "pred_evaluation(20)\n"
   ]
  },
  {
   "cell_type": "code",
   "execution_count": 16,
   "metadata": {
    "collapsed": false
   },
   "outputs": [
    {
     "name": "stdout",
     "output_type": "stream",
     "text": [
      "The story is -: \n",
      "John journeyed to the bedroom . Sandra went back to the bathroom . Sandra grabbed the football there . Sandra journeyed to the office .\n",
      "\n",
      "\n",
      "The query is -:\n",
      "Where is the football ?\n",
      "\n",
      "The predicted answer is -:\n",
      "bedroom\n",
      "\n",
      "\n"
     ]
    }
   ],
   "source": [
    "pred_evaluation(540)"
   ]
  }
 ],
 "metadata": {
  "kernelspec": {
   "display_name": "Python 2",
   "language": "python",
   "name": "python2"
  },
  "language_info": {
   "codemirror_mode": {
    "name": "ipython",
    "version": 2
   },
   "file_extension": ".py",
   "mimetype": "text/x-python",
   "name": "python",
   "nbconvert_exporter": "python",
   "pygments_lexer": "ipython2",
   "version": "2.7.9"
  }
 },
 "nbformat": 4,
 "nbformat_minor": 1
}
