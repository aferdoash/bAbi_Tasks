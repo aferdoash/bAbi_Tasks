{
 "cells": [
  {
   "cell_type": "markdown",
   "metadata": {},
   "source": [
    "### QA Type 9 : Simple Negation\n",
    "\n",
    "Task 9 tests one of the simplest forms of negation, that of supporting facts that imply a statement is false e.g. “Fred is no longer in the office” rather than “Fred travelled to the office”. (In this case, task 6 (yes/no questions) is a prerequisite to the task.)\n",
    "\n",
    "For training and testing we have used the 10k dataset, containing 10,000 training examples.\n",
    "An example QA set is as below -:\n",
    "\n",
    "1. Mary is no longer in the bedroom.\n",
    "2. Daniel moved to the hallway.\n",
    "3. Is Mary in the bedroom? \tno\t\n",
    "\n"
   ]
  },
  {
   "cell_type": "code",
   "execution_count": 1,
   "metadata": {
    "collapsed": false
   },
   "outputs": [
    {
     "name": "stderr",
     "output_type": "stream",
     "text": [
      "Using TensorFlow backend.\n"
     ]
    }
   ],
   "source": [
    "from __future__ import print_function\n",
    "from keras.models import Sequential\n",
    "from keras.layers.embeddings import Embedding\n",
    "from keras.layers import Activation, Dense, Merge, Permute, Dropout\n",
    "from keras.layers import LSTM\n",
    "from keras.utils.data_utils import get_file\n",
    "from keras.preprocessing.sequence import pad_sequences\n",
    "from functools import reduce\n",
    "import tarfile\n",
    "import numpy as np\n",
    "import re"
   ]
  },
  {
   "cell_type": "markdown",
   "metadata": {},
   "source": [
    "### Story processing\n",
    "\n",
    "Each story is processed to reduce sentences to tokens and combine all facts and queries relevant to the story. "
   ]
  },
  {
   "cell_type": "code",
   "execution_count": 2,
   "metadata": {
    "collapsed": false
   },
   "outputs": [],
   "source": [
    "def tokenize(sent):\n",
    "    '''Return the tokens of a sentence including punctuation.\n",
    "    >>> tokenize('Bob dropped the apple. Where is the apple?')\n",
    "    ['Bob', 'dropped', 'the', 'apple', '.', 'Where', 'is', 'the', 'apple', '?']\n",
    "    '''\n",
    "    return [x.strip() for x in re.split('(\\W+)?', sent) if x.strip()]\n"
   ]
  },
  {
   "cell_type": "code",
   "execution_count": 3,
   "metadata": {
    "collapsed": true
   },
   "outputs": [],
   "source": [
    "def parse_stories(lines, only_supporting=False):\n",
    "    '''Parse stories provided in the bAbi tasks format\n",
    "    If only_supporting is true, only the sentences that support the answer are kept.\n",
    "    '''\n",
    "    data = []\n",
    "    story = []\n",
    "    for line in lines:\n",
    "        line = line.decode('utf-8').strip()\n",
    "        nid, line = line.split(' ', 1)\n",
    "        nid = int(nid)\n",
    "        if nid == 1:\n",
    "            story = []\n",
    "        if '\\t' in line:\n",
    "            q, a, supporting = line.split('\\t')\n",
    "            q = tokenize(q)\n",
    "            substory = None\n",
    "            if only_supporting:\n",
    "                # Only select the related substory\n",
    "                supporting = map(int, supporting.split())\n",
    "                substory = [story[i - 1] for i in supporting]\n",
    "            else:\n",
    "                # Provide all the substories\n",
    "                substory = [x for x in story if x]\n",
    "            data.append((substory, q, a))\n",
    "            story.append('')\n",
    "        else:\n",
    "            sent = tokenize(line)\n",
    "            story.append(sent)\n",
    "    return data"
   ]
  },
  {
   "cell_type": "code",
   "execution_count": 4,
   "metadata": {
    "collapsed": true
   },
   "outputs": [],
   "source": [
    "\n",
    "def get_stories(f, only_supporting=False, max_length=None):\n",
    "    '''Given a file name, read the file, retrieve the stories, and then convert the sentences into a single story.\n",
    "    If max_length is supplied, any stories longer than max_length tokens will be discarded.\n",
    "    '''\n",
    "    data = parse_stories(f.readlines(), only_supporting=only_supporting)\n",
    "    flatten = lambda data: reduce(lambda x, y: x + y, data)\n",
    "    data = [(flatten(story), q, answer) for story, q, answer in data if not max_length or len(flatten(story)) < max_length]\n",
    "    return data\n"
   ]
  },
  {
   "cell_type": "code",
   "execution_count": 5,
   "metadata": {
    "collapsed": true
   },
   "outputs": [],
   "source": [
    "def vectorize_stories(data, word_idx, story_maxlen, query_maxlen):\n",
    "    X = []\n",
    "    Xq = []\n",
    "    Y = []\n",
    "    for story, query, answer in data:\n",
    "        x = [word_idx[w] for w in story]\n",
    "        xq = [word_idx[w] for w in query]\n",
    "        y = np.zeros(len(word_idx) + 1)  # let's not forget that index 0 is reserved\n",
    "        y[word_idx[answer]] = 1\n",
    "        X.append(x)\n",
    "        Xq.append(xq)\n",
    "        Y.append(y)\n",
    "    return (pad_sequences(X, maxlen=story_maxlen),\n",
    "            pad_sequences(Xq, maxlen=query_maxlen), np.array(Y))"
   ]
  },
  {
   "cell_type": "code",
   "execution_count": 6,
   "metadata": {
    "collapsed": false
   },
   "outputs": [],
   "source": [
    "try:\n",
    "    path = get_file('babi-tasks-v1-2.tar.gz', origin='https://s3.amazonaws.com/text-datasets/babi_tasks_1-20_v1-2.tar.gz')\n",
    "except:\n",
    "    print('Error downloading dataset, please download it manually:\\n'\n",
    "          '$ wget http://www.thespermwhale.com/jaseweston/babi/tasks_1-20_v1-2.tar.gz\\n'\n",
    "          '$ mv tasks_1-20_v1-2.tar.gz ~/.keras/datasets/babi-tasks-v1-2.tar.gz')\n",
    "    raise\n",
    "tar = tarfile.open(path)"
   ]
  },
  {
   "cell_type": "markdown",
   "metadata": {},
   "source": [
    "### Training Set\n",
    "\n",
    "Here the selection of 'Question' type (single supporting fact, three supporting facts etc.) is made for generating the training and test set. "
   ]
  },
  {
   "cell_type": "code",
   "execution_count": 7,
   "metadata": {
    "collapsed": false
   },
   "outputs": [
    {
     "name": "stdout",
     "output_type": "stream",
     "text": [
      "Extracting stories for the challenge: simple-negation_10k\n"
     ]
    }
   ],
   "source": [
    "challenges = {\n",
    "    # QA1 with 10,000 samples\n",
    "    'single_supporting_fact_10k': 'tasks_1-20_v1-2/en-10k/qa1_single-supporting-fact_{}.txt',\n",
    "    # QA2 with 10,000 samples\n",
    "    'two_supporting_facts_10k': 'tasks_1-20_v1-2/en-10k/qa2_two-supporting-facts_{}.txt',\n",
    "    # QA4\n",
    "    'two-arg-relations_10k' : 'tasks_1-20_v1-2/en-10k/qa4_two-arg-relations_{}.txt',\n",
    "    # QA5 \n",
    "    'three-arg-relations_10k' : 'tasks_1-20_v1-2/en-10k/qa5_three-arg-relations_{}.txt',\n",
    "    'yes-no-questions_10k' :'tasks_1-20_v1-2/en-10k/qa6_yes-no-questions_{}.txt',\n",
    "     'counting_10k':'tasks_1-20_v1-2/en-10k/qa7_counting_{}.txt',\n",
    "   'lists-sets_10k' : 'tasks_1-20_v1-2/en-10k/qa8_lists-sets_{}.txt',\n",
    "    'simple-negation_10k':'tasks_1-20_v1-2/en-10k/qa9_simple-negation_{}.txt'\n",
    "}\n",
    "challenge_type = 'simple-negation_10k'\n",
    "challenge = challenges[challenge_type]\n",
    "\n",
    "print('Extracting stories for the challenge:', challenge_type)\n",
    "train_stories = get_stories(tar.extractfile(challenge.format('train')))\n",
    "test_stories = get_stories(tar.extractfile(challenge.format('test')))\n"
   ]
  },
  {
   "cell_type": "code",
   "execution_count": 8,
   "metadata": {
    "collapsed": false
   },
   "outputs": [
    {
     "name": "stdout",
     "output_type": "stream",
     "text": [
      "Vocab size: 27 unique words\n",
      "Story max length: 74 words\n",
      "Query max length: 6 words\n",
      "Number of training stories: 10000\n",
      "Number of test stories: 1000\n",
      "\n",
      "\n",
      "Here's what a \"story\" tuple looks like (input, query, answer):\n",
      "([u'Mary', u'is', u'no', u'longer', u'in', u'the', u'bedroom', u'.', u'Daniel', u'moved', u'to', u'the', u'hallway', u'.'], [u'Is', u'Mary', u'in', u'the', u'bedroom', u'?'], u'no')\n"
     ]
    }
   ],
   "source": [
    "vocab = sorted(reduce(lambda x, y: x | y, (set(story + q + [answer]) for story, q, answer in train_stories + test_stories)))\n",
    "# Reserve 0 for masking via pad_sequences\n",
    "vocab_size = len(vocab) + 1\n",
    "story_maxlen = max(map(len, (x for x, _, _ in train_stories + test_stories)))\n",
    "query_maxlen = max(map(len, (x for _, x, _ in train_stories + test_stories)))\n",
    "\n",
    "print('Vocab size:', vocab_size, 'unique words')\n",
    "print('Story max length:', story_maxlen, 'words')\n",
    "print('Query max length:', query_maxlen, 'words')\n",
    "print('Number of training stories:', len(train_stories))\n",
    "print('Number of test stories:', len(test_stories))\n",
    "print('\\n')\n",
    "print('Here\\'s what a \"story\" tuple looks like (input, query, answer):')\n",
    "print(train_stories[0])"
   ]
  },
  {
   "cell_type": "markdown",
   "metadata": {},
   "source": [
    "### Vectorizing the word sequences\n",
    "\n",
    "Here we convert the word tokens to word vectors. We know the total number of unique words in the corpus, that is the size of the vocabulary. Thus, to each word in the corpus we assign a number. We also know the maximum length of a story, story_maxlen (story includes facts, query and answer). Thus, for each story we can construct a word vector of length story_maxlen. For eg. suppose, story_maxlen is 68 and the current story length is 24, then we can have a word vector with the first 34 indices as 0 and the next 24 indices with vocabulary index values of words in the current story"
   ]
  },
  {
   "cell_type": "code",
   "execution_count": 9,
   "metadata": {
    "collapsed": false
   },
   "outputs": [
    {
     "name": "stdout",
     "output_type": "stream",
     "text": [
      "inputs: integer tensor of shape (samples, max_length)\n",
      "inputs_train shape: (10000, 74)\n",
      "inputs_test shape: (1000, 74)\n",
      "\n",
      "\n",
      "queries: integer tensor of shape (samples, max_length)\n",
      "queries_train shape: (10000, 6)\n",
      "queries_test shape: (1000, 6)\n",
      "\n",
      "\n",
      "answers: binary (1 or 0) tensor of shape (samples, vocab_size)\n",
      "answers_train shape: (10000, 27)\n",
      "answers_test shape: (1000, 27)\n",
      "\n",
      "\n"
     ]
    }
   ],
   "source": [
    "word_idx = dict((c, i + 1) for i, c in enumerate(vocab))\n",
    "inputs_train, queries_train, answers_train = vectorize_stories(train_stories, word_idx, story_maxlen, query_maxlen)\n",
    "inputs_test, queries_test, answers_test = vectorize_stories(test_stories, word_idx, story_maxlen, query_maxlen)\n",
    "\n",
    "\n",
    "print('inputs: integer tensor of shape (samples, max_length)')\n",
    "print('inputs_train shape:', inputs_train.shape)\n",
    "print('inputs_test shape:', inputs_test.shape)\n",
    "print('\\n')\n",
    "print('queries: integer tensor of shape (samples, max_length)')\n",
    "print('queries_train shape:', queries_train.shape)\n",
    "print('queries_test shape:', queries_test.shape)\n",
    "print('\\n')\n",
    "print('answers: binary (1 or 0) tensor of shape (samples, vocab_size)')\n",
    "print('answers_train shape:', answers_train.shape)\n",
    "print('answers_test shape:', answers_test.shape)\n",
    "print('\\n')\n"
   ]
  },
  {
   "cell_type": "markdown",
   "metadata": {},
   "source": [
    "### End-to-End Memory Networks\n",
    "\n",
    "The model employed is the End-to-End Memory Networks described in Sukhbaatar et. al. (2015). The architecture is a modified form of Memory Network (Weston, 2014) with the training being weakly supervised.Weston's Memory Network was not easy to train via backpropagation and required supervision at each layer.\n",
    "\n",
    "\n",
    "Briefly, the model takes a discrete set of inputs x1, x2, ...xn that are to be stored in memory, a query q, and an answer a. The model writes all x to the memory up to a fixed buffer size, and then finds a continuous representation for x and q. The continuous representation is then processed via multiple hops to output a. \n"
   ]
  },
  {
   "cell_type": "code",
   "execution_count": 10,
   "metadata": {
    "collapsed": false
   },
   "outputs": [],
   "source": [
    "# embed the input sequence into a sequence of vectors\n",
    "# output: (samples, story_maxlen, embedding_dim)\n",
    "input_encoder_m = Sequential()\n",
    "input_encoder_m.add(Embedding(input_dim=vocab_size,\n",
    "                              output_dim=64,\n",
    "                              input_length=story_maxlen))\n",
    "input_encoder_m.add(Dropout(0.3))\n",
    "\n",
    "\n",
    "# embed the question into a sequence of vectors\n",
    "# output: (samples, query_maxlen, embedding_dim)\n",
    "question_encoder = Sequential()\n",
    "question_encoder.add(Embedding(input_dim=vocab_size,\n",
    "                               output_dim=64,\n",
    "                               input_length=query_maxlen))\n",
    "question_encoder.add(Dropout(0.3))\n",
    "\n",
    "# compute a 'match' between input sequence elements (which are vectors)\n",
    "# and the question vector sequence\n",
    "\n",
    "# output: (samples, story_maxlen, query_maxlen)\n",
    "match = Sequential()\n",
    "match.add(Merge([input_encoder_m, question_encoder],\n",
    "                mode='dot',\n",
    "                dot_axes=[2, 2]))\n",
    "match.add(Activation('softmax'))\n",
    "\n",
    "# embed the input into a single vector with size = story_maxlen:\n",
    "# output: (samples, story_maxlen, query_maxlen)\n",
    "input_encoder_c = Sequential()\n",
    "input_encoder_c.add(Embedding(input_dim=vocab_size,\n",
    "                              output_dim=query_maxlen,\n",
    "                              input_length=story_maxlen))\n",
    "input_encoder_c.add(Dropout(0.3))\n",
    "\n",
    "\n",
    "# sum the match vector with the input vector:\n",
    "# output: (samples, story_maxlen, query_maxlen)\n",
    "response = Sequential()\n",
    "response.add(Merge([match, input_encoder_c], mode='sum'))\n",
    "\n",
    "response.add(Permute((2, 1)))  # output: (samples, query_maxlen, story_maxlen)\n",
    "\n",
    "# concatenate the match vector with the question vector,\n",
    "# and do logistic regression on top\n",
    "answer = Sequential()\n",
    "answer.add(Merge([response, question_encoder], mode='concat', concat_axis=-1))\n",
    "\n",
    "\n",
    "# the original paper uses a matrix multiplication for this reduction step.\n",
    "# we choose to use a RNN instead.\n",
    "answer.add(LSTM(32))\n",
    "# one regularization layer -- more would probably be needed.\n",
    "answer.add(Dropout(0.3))\n",
    "answer.add(Dense(vocab_size))\n",
    "# we output a probability distribution over the vocabulary\n",
    "answer.add(Activation('softmax'))\n",
    "\n"
   ]
  },
  {
   "cell_type": "code",
   "execution_count": 11,
   "metadata": {
    "collapsed": false
   },
   "outputs": [
    {
     "name": "stdout",
     "output_type": "stream",
     "text": [
      "Train on 10000 samples, validate on 1000 samples\n",
      "Epoch 1/60\n",
      "10000/10000 [==============================] - 14s - loss: 0.8342 - acc: 0.5801 - val_loss: 0.7036 - val_acc: 0.4730\n",
      "Epoch 2/60\n",
      "10000/10000 [==============================] - 12s - loss: 0.6528 - acc: 0.6211 - val_loss: 0.6383 - val_acc: 0.6380\n",
      "Epoch 3/60\n",
      "10000/10000 [==============================] - 15s - loss: 0.6430 - acc: 0.6178 - val_loss: 0.6323 - val_acc: 0.6380\n",
      "Epoch 4/60\n",
      "10000/10000 [==============================] - 12s - loss: 0.6352 - acc: 0.6239 - val_loss: 0.6329 - val_acc: 0.6100\n",
      "Epoch 5/60\n",
      "10000/10000 [==============================] - 15s - loss: 0.6329 - acc: 0.6294 - val_loss: 0.6275 - val_acc: 0.6360\n",
      "Epoch 6/60\n",
      "10000/10000 [==============================] - 12s - loss: 0.6265 - acc: 0.6293 - val_loss: 0.6270 - val_acc: 0.6370\n",
      "Epoch 7/60\n",
      "10000/10000 [==============================] - 13s - loss: 0.6248 - acc: 0.6324 - val_loss: 0.6258 - val_acc: 0.6390\n",
      "Epoch 8/60\n",
      "10000/10000 [==============================] - 15s - loss: 0.6224 - acc: 0.6370 - val_loss: 0.6240 - val_acc: 0.6430\n",
      "Epoch 9/60\n",
      "10000/10000 [==============================] - 9s - loss: 0.6163 - acc: 0.6485 - val_loss: 0.6217 - val_acc: 0.6350\n",
      "Epoch 10/60\n",
      "10000/10000 [==============================] - 15s - loss: 0.5925 - acc: 0.6869 - val_loss: 0.5583 - val_acc: 0.7220\n",
      "Epoch 11/60\n",
      "10000/10000 [==============================] - 15s - loss: 0.5265 - acc: 0.7563 - val_loss: 0.4977 - val_acc: 0.7670\n",
      "Epoch 12/60\n",
      "10000/10000 [==============================] - 15s - loss: 0.4846 - acc: 0.7848 - val_loss: 0.4619 - val_acc: 0.8170\n",
      "Epoch 13/60\n",
      "10000/10000 [==============================] - 15s - loss: 0.4662 - acc: 0.7961 - val_loss: 0.4386 - val_acc: 0.8150\n",
      "Epoch 14/60\n",
      "10000/10000 [==============================] - 15s - loss: 0.4484 - acc: 0.8030 - val_loss: 0.4504 - val_acc: 0.8130\n",
      "Epoch 15/60\n",
      "10000/10000 [==============================] - 15s - loss: 0.4405 - acc: 0.8114 - val_loss: 0.4314 - val_acc: 0.8200\n",
      "Epoch 16/60\n",
      "10000/10000 [==============================] - 15s - loss: 0.4301 - acc: 0.8174 - val_loss: 0.4288 - val_acc: 0.8060\n",
      "Epoch 17/60\n",
      "10000/10000 [==============================] - 15s - loss: 0.4228 - acc: 0.8190 - val_loss: 0.4354 - val_acc: 0.8020\n",
      "Epoch 18/60\n",
      "10000/10000 [==============================] - 15s - loss: 0.4173 - acc: 0.8234 - val_loss: 0.4199 - val_acc: 0.8310\n",
      "Epoch 19/60\n",
      "10000/10000 [==============================] - 15s - loss: 0.4036 - acc: 0.8292 - val_loss: 0.4172 - val_acc: 0.8280\n",
      "Epoch 20/60\n",
      "10000/10000 [==============================] - 14s - loss: 0.3992 - acc: 0.8340 - val_loss: 0.4123 - val_acc: 0.8160\n",
      "Epoch 21/60\n",
      "10000/10000 [==============================] - 12s - loss: 0.3897 - acc: 0.8371 - val_loss: 0.4483 - val_acc: 0.8220\n",
      "Epoch 22/60\n",
      "10000/10000 [==============================] - 13s - loss: 0.3829 - acc: 0.8402 - val_loss: 0.4193 - val_acc: 0.8150\n",
      "Epoch 23/60\n",
      "10000/10000 [==============================] - 14s - loss: 0.3759 - acc: 0.8458 - val_loss: 0.4038 - val_acc: 0.8260\n",
      "Epoch 24/60\n",
      "10000/10000 [==============================] - 13s - loss: 0.3764 - acc: 0.8449 - val_loss: 0.4097 - val_acc: 0.8190\n",
      "Epoch 25/60\n",
      "10000/10000 [==============================] - 13s - loss: 0.3729 - acc: 0.8473 - val_loss: 0.3984 - val_acc: 0.8260\n",
      "Epoch 26/60\n",
      "10000/10000 [==============================] - 14s - loss: 0.3625 - acc: 0.8496 - val_loss: 0.4046 - val_acc: 0.8110\n",
      "Epoch 27/60\n",
      "10000/10000 [==============================] - 10s - loss: 0.3596 - acc: 0.8475 - val_loss: 0.4095 - val_acc: 0.8220\n",
      "Epoch 28/60\n",
      "10000/10000 [==============================] - 15s - loss: 0.3570 - acc: 0.8508 - val_loss: 0.3988 - val_acc: 0.8270\n",
      "Epoch 29/60\n",
      "10000/10000 [==============================] - 11s - loss: 0.3521 - acc: 0.8534 - val_loss: 0.3964 - val_acc: 0.8190\n",
      "Epoch 30/60\n",
      "10000/10000 [==============================] - 11s - loss: 0.3437 - acc: 0.8565 - val_loss: 0.3903 - val_acc: 0.8240\n",
      "Epoch 31/60\n",
      "10000/10000 [==============================] - 15s - loss: 0.3439 - acc: 0.8582 - val_loss: 0.4017 - val_acc: 0.8270\n",
      "Epoch 32/60\n",
      "10000/10000 [==============================] - 15s - loss: 0.3411 - acc: 0.8558 - val_loss: 0.3981 - val_acc: 0.8300\n",
      "Epoch 33/60\n",
      "10000/10000 [==============================] - 15s - loss: 0.3377 - acc: 0.8570 - val_loss: 0.4016 - val_acc: 0.8280\n",
      "Epoch 34/60\n",
      "10000/10000 [==============================] - 15s - loss: 0.3318 - acc: 0.8595 - val_loss: 0.3979 - val_acc: 0.8240\n",
      "Epoch 35/60\n",
      "10000/10000 [==============================] - 15s - loss: 0.3291 - acc: 0.8640 - val_loss: 0.4059 - val_acc: 0.8270\n",
      "Epoch 36/60\n",
      "10000/10000 [==============================] - 15s - loss: 0.3297 - acc: 0.8590 - val_loss: 0.4081 - val_acc: 0.8320\n",
      "Epoch 37/60\n",
      "10000/10000 [==============================] - 15s - loss: 0.3285 - acc: 0.8634 - val_loss: 0.4089 - val_acc: 0.8260\n",
      "Epoch 38/60\n",
      "10000/10000 [==============================] - 15s - loss: 0.3195 - acc: 0.8684 - val_loss: 0.3986 - val_acc: 0.8130\n",
      "Epoch 39/60\n",
      "10000/10000 [==============================] - 15s - loss: 0.3144 - acc: 0.8723 - val_loss: 0.4005 - val_acc: 0.8250\n",
      "Epoch 40/60\n",
      "10000/10000 [==============================] - 14s - loss: 0.3097 - acc: 0.8713 - val_loss: 0.4139 - val_acc: 0.8340\n",
      "Epoch 41/60\n",
      "10000/10000 [==============================] - 13s - loss: 0.3063 - acc: 0.8745 - val_loss: 0.4139 - val_acc: 0.8270\n",
      "Epoch 42/60\n",
      "10000/10000 [==============================] - 13s - loss: 0.3017 - acc: 0.8755 - val_loss: 0.4000 - val_acc: 0.8290\n",
      "Epoch 43/60\n",
      "10000/10000 [==============================] - 13s - loss: 0.2966 - acc: 0.8763 - val_loss: 0.3959 - val_acc: 0.8270\n",
      "Epoch 44/60\n",
      "10000/10000 [==============================] - 14s - loss: 0.2901 - acc: 0.8811 - val_loss: 0.4010 - val_acc: 0.8380\n",
      "Epoch 45/60\n",
      "10000/10000 [==============================] - 13s - loss: 0.2937 - acc: 0.8818 - val_loss: 0.4125 - val_acc: 0.8360\n",
      "Epoch 46/60\n",
      "10000/10000 [==============================] - 12s - loss: 0.2867 - acc: 0.8828 - val_loss: 0.3867 - val_acc: 0.8410\n",
      "Epoch 47/60\n",
      "10000/10000 [==============================] - 15s - loss: 0.2798 - acc: 0.8860 - val_loss: 0.3949 - val_acc: 0.8420\n",
      "Epoch 48/60\n",
      "10000/10000 [==============================] - 9s - loss: 0.2698 - acc: 0.8910 - val_loss: 0.3716 - val_acc: 0.8470\n",
      "Epoch 49/60\n",
      "10000/10000 [==============================] - 14s - loss: 0.2596 - acc: 0.8949 - val_loss: 0.3804 - val_acc: 0.8400\n",
      "Epoch 50/60\n",
      "10000/10000 [==============================] - 13s - loss: 0.2455 - acc: 0.9017 - val_loss: 0.3353 - val_acc: 0.8590\n",
      "Epoch 51/60\n",
      "10000/10000 [==============================] - 9s - loss: 0.2369 - acc: 0.9059 - val_loss: 0.3536 - val_acc: 0.8550\n",
      "Epoch 52/60\n",
      "10000/10000 [==============================] - 14s - loss: 0.2199 - acc: 0.9135 - val_loss: 0.3199 - val_acc: 0.8790\n",
      "Epoch 53/60\n",
      "10000/10000 [==============================] - 15s - loss: 0.2022 - acc: 0.9208 - val_loss: 0.3045 - val_acc: 0.8870\n",
      "Epoch 54/60\n",
      "10000/10000 [==============================] - 15s - loss: 0.1920 - acc: 0.9238 - val_loss: 0.2992 - val_acc: 0.8850\n",
      "Epoch 55/60\n",
      "10000/10000 [==============================] - 15s - loss: 0.1841 - acc: 0.9288 - val_loss: 0.2793 - val_acc: 0.8960\n",
      "Epoch 56/60\n",
      "10000/10000 [==============================] - 15s - loss: 0.1700 - acc: 0.9344 - val_loss: 0.2643 - val_acc: 0.9030\n",
      "Epoch 57/60\n",
      "10000/10000 [==============================] - 15s - loss: 0.1621 - acc: 0.9355 - val_loss: 0.2562 - val_acc: 0.9110\n",
      "Epoch 58/60\n",
      "10000/10000 [==============================] - 15s - loss: 0.1542 - acc: 0.9387 - val_loss: 0.2502 - val_acc: 0.9160\n",
      "Epoch 59/60\n",
      "10000/10000 [==============================] - 15s - loss: 0.1412 - acc: 0.9470 - val_loss: 0.2401 - val_acc: 0.9130\n",
      "Epoch 60/60\n",
      "10000/10000 [==============================] - 15s - loss: 0.1409 - acc: 0.9440 - val_loss: 0.2501 - val_acc: 0.9170\n"
     ]
    },
    {
     "data": {
      "text/plain": [
       "<keras.callbacks.History at 0x7f816c0ba450>"
      ]
     },
     "execution_count": 11,
     "metadata": {},
     "output_type": "execute_result"
    }
   ],
   "source": [
    "answer.compile(optimizer='rmsprop', loss='categorical_crossentropy',\n",
    "               metrics=['accuracy'])\n",
    "# Note: you could use a Graph model to avoid repeat the input twice\n",
    "answer.fit([inputs_train, queries_train, inputs_train], answers_train,\n",
    "           batch_size=32,\n",
    "           nb_epoch=60,\n",
    "           validation_data=([inputs_test, queries_test, inputs_test], answers_test))"
   ]
  },
  {
   "cell_type": "markdown",
   "metadata": {},
   "source": [
    "### Making predictions based on the fitted model"
   ]
  },
  {
   "cell_type": "code",
   "execution_count": 17,
   "metadata": {
    "collapsed": false
   },
   "outputs": [
    {
     "name": "stdout",
     "output_type": "stream",
     "text": [
      "1000/1000 [==============================] - 0s     \n"
     ]
    }
   ],
   "source": [
    "predictions=answer.predict_classes([inputs_test, queries_test, inputs_test], batch_size=32)"
   ]
  },
  {
   "cell_type": "markdown",
   "metadata": {},
   "source": [
    "### Example story and model prediction"
   ]
  },
  {
   "cell_type": "code",
   "execution_count": 18,
   "metadata": {
    "collapsed": false,
    "scrolled": true
   },
   "outputs": [],
   "source": [
    "def pred_evaluation(ind):\n",
    "    \n",
    "    print (\"The story is -: \")\n",
    "    facts = test_stories[ind]\n",
    "    print(' '.join(facts[0]))\n",
    "    print('\\n')\n",
    "    \n",
    "    print (\"The query is -:\")\n",
    "    print(' '.join(facts[1]))\n",
    "\n",
    "    print (\"\\nThe predicted answer is -:\")\n",
    "    ans = predictions[ind]\n",
    "    for key, value in (word_idx).items():\n",
    "        if value == ans:\n",
    "            print(key)\n",
    "            print('\\n')\n",
    "            \n"
   ]
  },
  {
   "cell_type": "code",
   "execution_count": 19,
   "metadata": {
    "collapsed": false
   },
   "outputs": [
    {
     "name": "stdout",
     "output_type": "stream",
     "text": [
      "The story is -: \n",
      "John is in the hallway . Sandra is in the kitchen . Sandra journeyed to the bedroom . Mary travelled to the garden .\n",
      "\n",
      "\n",
      "The query is -:\n",
      "Is Sandra in the bedroom ?\n",
      "\n",
      "The predicted answer is -:\n",
      "yes\n",
      "\n",
      "\n"
     ]
    }
   ],
   "source": [
    "pred_evaluation(1)\n"
   ]
  },
  {
   "cell_type": "code",
   "execution_count": 20,
   "metadata": {
    "collapsed": false
   },
   "outputs": [
    {
     "name": "stdout",
     "output_type": "stream",
     "text": [
      "The story is -: \n",
      "John is no longer in the garden . Daniel is in the hallway .\n",
      "\n",
      "\n",
      "The query is -:\n",
      "Is John in the garden ?\n",
      "\n",
      "The predicted answer is -:\n",
      "no\n",
      "\n",
      "\n"
     ]
    }
   ],
   "source": [
    "pred_evaluation(20)\n"
   ]
  },
  {
   "cell_type": "code",
   "execution_count": 21,
   "metadata": {
    "collapsed": false
   },
   "outputs": [
    {
     "name": "stdout",
     "output_type": "stream",
     "text": [
      "The story is -: \n",
      "Mary went to the bedroom . Daniel is no longer in the kitchen .\n",
      "\n",
      "\n",
      "The query is -:\n",
      "Is Daniel in the kitchen ?\n",
      "\n",
      "The predicted answer is -:\n",
      "no\n",
      "\n",
      "\n"
     ]
    }
   ],
   "source": [
    "pred_evaluation(540)"
   ]
  },
  {
   "cell_type": "code",
   "execution_count": null,
   "metadata": {
    "collapsed": true
   },
   "outputs": [],
   "source": []
  }
 ],
 "metadata": {
  "kernelspec": {
   "display_name": "Python 2",
   "language": "python",
   "name": "python2"
  },
  "language_info": {
   "codemirror_mode": {
    "name": "ipython",
    "version": 2
   },
   "file_extension": ".py",
   "mimetype": "text/x-python",
   "name": "python",
   "nbconvert_exporter": "python",
   "pygments_lexer": "ipython2",
   "version": "2.7.9"
  }
 },
 "nbformat": 4,
 "nbformat_minor": 1
}
