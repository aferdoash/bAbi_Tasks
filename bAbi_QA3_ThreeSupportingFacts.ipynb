{
 "cells": [
  {
   "cell_type": "markdown",
   "metadata": {},
   "source": [
    "### QA Type 3 : Three Supporting Facts\n",
    "\n",
    "Similar to task 2, one can make a task with three supporting facts, whereby the first three statements are all required to answer the question “Where was the apple before the kitchen?”. \n",
    "\n",
    "For training and testing we have used the 10k dataset, containing 10,000 training examples.\n",
    "An example QA set is as below -:\n",
    "\n",
    "1. Mary moved to the bathroom.\n",
    "2. Sandra journeyed to the bedroom.\n",
    "3. Mary got the football there.\n",
    "4. John went back to the bedroom.\n",
    "5. Mary journeyed to the office.\n",
    "6. John journeyed to the office.\n",
    "7. John took the milk.\n",
    "8. Daniel went back to the kitchen.\n",
    "9. John moved to the bedroom.\n",
    "10. Daniel went back to the hallway.\n",
    "11. Daniel took the apple.\n",
    "12. John left the milk there.\n",
    "13. John travelled to the kitchen.\n",
    "14. Sandra went back to the bathroom.\n",
    "15. Daniel journeyed to the bathroom.\n",
    "16. John journeyed to the bathroom.\n",
    "17. Mary journeyed to the bathroom.\n",
    "18. Sandra went back to the garden.\n",
    "19. Sandra went to the office.\n",
    "20. Daniel went to the garden.\n",
    "21. Sandra went back to the hallway.\n",
    "22. Daniel journeyed to the office.\n",
    "23. Mary dropped the football.\n",
    "24. John moved to the bedroom.\n",
    "25. Where was the football before the bathroom? \toffice\n",
    "\n"
   ]
  },
  {
   "cell_type": "code",
   "execution_count": 1,
   "metadata": {
    "collapsed": false
   },
   "outputs": [
    {
     "name": "stderr",
     "output_type": "stream",
     "text": [
      "Using TensorFlow backend.\n"
     ]
    }
   ],
   "source": [
    "from __future__ import print_function\n",
    "from keras.models import Sequential\n",
    "from keras.layers.embeddings import Embedding\n",
    "from keras.layers import Activation, Dense, Merge, Permute, Dropout\n",
    "from keras.layers import LSTM\n",
    "from keras.utils.data_utils import get_file\n",
    "from keras.preprocessing.sequence import pad_sequences\n",
    "from functools import reduce\n",
    "import tarfile\n",
    "import numpy as np\n",
    "import re"
   ]
  },
  {
   "cell_type": "markdown",
   "metadata": {},
   "source": [
    "### Story processing\n",
    "\n",
    "Each story is processed to reduce sentences to tokens and combine all facts and queries relevant to the story. "
   ]
  },
  {
   "cell_type": "code",
   "execution_count": 2,
   "metadata": {
    "collapsed": false
   },
   "outputs": [],
   "source": [
    "def tokenize(sent):\n",
    "    '''Return the tokens of a sentence including punctuation.\n",
    "    >>> tokenize('Bob dropped the apple. Where is the apple?')\n",
    "    ['Bob', 'dropped', 'the', 'apple', '.', 'Where', 'is', 'the', 'apple', '?']\n",
    "    '''\n",
    "    return [x.strip() for x in re.split('(\\W+)?', sent) if x.strip()]\n"
   ]
  },
  {
   "cell_type": "code",
   "execution_count": 3,
   "metadata": {
    "collapsed": true
   },
   "outputs": [],
   "source": [
    "def parse_stories(lines, only_supporting=False):\n",
    "    '''Parse stories provided in the bAbi tasks format\n",
    "    If only_supporting is true, only the sentences that support the answer are kept.\n",
    "    '''\n",
    "    data = []\n",
    "    story = []\n",
    "    for line in lines:\n",
    "        line = line.decode('utf-8').strip()\n",
    "        nid, line = line.split(' ', 1)\n",
    "        nid = int(nid)\n",
    "        if nid == 1:\n",
    "            story = []\n",
    "        if '\\t' in line:\n",
    "            q, a, supporting = line.split('\\t')\n",
    "            q = tokenize(q)\n",
    "            substory = None\n",
    "            if only_supporting:\n",
    "                # Only select the related substory\n",
    "                supporting = map(int, supporting.split())\n",
    "                substory = [story[i - 1] for i in supporting]\n",
    "            else:\n",
    "                # Provide all the substories\n",
    "                substory = [x for x in story if x]\n",
    "            data.append((substory, q, a))\n",
    "            story.append('')\n",
    "        else:\n",
    "            sent = tokenize(line)\n",
    "            story.append(sent)\n",
    "    return data"
   ]
  },
  {
   "cell_type": "code",
   "execution_count": 4,
   "metadata": {
    "collapsed": true
   },
   "outputs": [],
   "source": [
    "\n",
    "def get_stories(f, only_supporting=False, max_length=None):\n",
    "    '''Given a file name, read the file, retrieve the stories, and then convert the sentences into a single story.\n",
    "    If max_length is supplied, any stories longer than max_length tokens will be discarded.\n",
    "    '''\n",
    "    data = parse_stories(f.readlines(), only_supporting=only_supporting)\n",
    "    flatten = lambda data: reduce(lambda x, y: x + y, data)\n",
    "    data = [(flatten(story), q, answer) for story, q, answer in data if not max_length or len(flatten(story)) < max_length]\n",
    "    return data\n"
   ]
  },
  {
   "cell_type": "code",
   "execution_count": 5,
   "metadata": {
    "collapsed": true
   },
   "outputs": [],
   "source": [
    "def vectorize_stories(data, word_idx, story_maxlen, query_maxlen):\n",
    "    X = []\n",
    "    Xq = []\n",
    "    Y = []\n",
    "    for story, query, answer in data:\n",
    "        x = [word_idx[w] for w in story]\n",
    "        xq = [word_idx[w] for w in query]\n",
    "        y = np.zeros(len(word_idx) + 1)  # let's not forget that index 0 is reserved\n",
    "        y[word_idx[answer]] = 1\n",
    "        X.append(x)\n",
    "        Xq.append(xq)\n",
    "        Y.append(y)\n",
    "    return (pad_sequences(X, maxlen=story_maxlen),\n",
    "            pad_sequences(Xq, maxlen=query_maxlen), np.array(Y))"
   ]
  },
  {
   "cell_type": "code",
   "execution_count": 6,
   "metadata": {
    "collapsed": true
   },
   "outputs": [],
   "source": [
    "try:\n",
    "    path = get_file('babi-tasks-v1-2.tar.gz', origin='https://s3.amazonaws.com/text-datasets/babi_tasks_1-20_v1-2.tar.gz')\n",
    "except:\n",
    "    print('Error downloading dataset, please download it manually:\\n'\n",
    "          '$ wget http://www.thespermwhale.com/jaseweston/babi/tasks_1-20_v1-2.tar.gz\\n'\n",
    "          '$ mv tasks_1-20_v1-2.tar.gz ~/.keras/datasets/babi-tasks-v1-2.tar.gz')\n",
    "    raise\n",
    "tar = tarfile.open(path)"
   ]
  },
  {
   "cell_type": "markdown",
   "metadata": {},
   "source": [
    "### Training Set\n",
    "\n",
    "Here the selection of 'Question' type (single supporting fact, three supporting facts etc.) is made for generating the training and test set. "
   ]
  },
  {
   "cell_type": "code",
   "execution_count": 8,
   "metadata": {
    "collapsed": false
   },
   "outputs": [
    {
     "name": "stdout",
     "output_type": "stream",
     "text": [
      "Extracting stories for the challenge: three_supporting_facts_10k\n"
     ]
    }
   ],
   "source": [
    "challenges = {\n",
    "    'single_supporting_fact_10k': 'tasks_1-20_v1-2/en-10k/qa1_single-supporting-fact_{}.txt',\n",
    "    'two_supporting_facts_10k': 'tasks_1-20_v1-2/en-10k/qa2_two-supporting-facts_{}.txt',\n",
    "    'three_supporting_facts_10k': 'tasks_1-20_v1-2/en-10k/qa3_three-supporting-facts_{}.txt',\n",
    "    'two-arg-relations_10k' : 'tasks_1-20_v1-2/en-10k/qa4_two-arg-relations_{}.txt',\n",
    "    'three-arg-relations_10k' : 'tasks_1-20_v1-2/en-10k/qa5_three-arg-relations_{}.txt',\n",
    "    'yes-no-questions_10k' :'tasks_1-20_v1-2/en-10k/qa6_yes-no-questions_{}.txt',\n",
    "    'counting_10k':'tasks_1-20_v1-2/en-10k/qa7_counting_{}.txt',\n",
    "    'lists-sets_10k' : 'tasks_1-20_v1-2/en-10k/qa8_lists-sets_{}.txt',\n",
    "    'simple-negation_10k':'tasks_1-20_v1-2/en-10k/qa9_simple-negation_{}.txt',\n",
    "    'indefinite-knowledge_10k' : 'tasks_1-20_v1-2/en-10k/qa10_indefinite-knowledge_{}.txt',\n",
    "    'basic-coreference_10k':'tasks_1-20_v1-2/en-10k/qa11_basic-coreference_{}.txt',\n",
    "    'conjunction_10k':'tasks_1-20_v1-2/en-10k/qa12_conjunction_{}.txt',\n",
    "    'compound-coreference_10k':'tasks_1-20_v1-2/en-10k/qa13_compound-coreference_{}.txt',\n",
    "    'time-reasoning_10k':'tasks_1-20_v1-2/en-10k/qa14_time-reasoning_{}.txt',\n",
    "    'basic-deduction_10k' : 'tasks_1-20_v1-2/en-10k/qa15_basic-deduction_{}.txt',\n",
    "    'basic-induction_10k':'tasks_1-20_v1-2/en-10k/qa16_basic-induction_{}.txt',\n",
    "    'positional-reasoning_10k':'tasks_1-20_v1-2/en-10k/qa17_positional-reasoning_{}.txt',\n",
    "    'size-reasoning_10k':'tasks_1-20_v1-2/en-10k/qa18_size-reasoning_{}.txt',\n",
    "    'path-finding_10k':'tasks_1-20_v1-2/en-10k/qa19_path-finding_{}.txt',\n",
    "    'agents-motivations_10k':'tasks_1-20_v1-2/en-10k/qa20_agents-motivations_{}.txt'\n",
    "}\n",
    "challenge_type = 'three_supporting_facts_10k'\n",
    "challenge = challenges[challenge_type]\n",
    "\n",
    "print('Extracting stories for the challenge:', challenge_type)\n",
    "train_stories = get_stories(tar.extractfile(challenge.format('train')))\n",
    "test_stories = get_stories(tar.extractfile(challenge.format('test')))\n"
   ]
  },
  {
   "cell_type": "code",
   "execution_count": 9,
   "metadata": {
    "collapsed": false
   },
   "outputs": [
    {
     "name": "stdout",
     "output_type": "stream",
     "text": [
      "Vocab size: 37 unique words\n",
      "Story max length: 1875 words\n",
      "Query max length: 8 words\n",
      "Number of training stories: 10000\n",
      "Number of test stories: 1000\n",
      "\n",
      "\n",
      "Here's what a \"story\" tuple looks like (input, query, answer):\n",
      "([u'Mary', u'moved', u'to', u'the', u'bathroom', u'.', u'Sandra', u'journeyed', u'to', u'the', u'bedroom', u'.', u'Mary', u'got', u'the', u'football', u'there', u'.', u'John', u'went', u'back', u'to', u'the', u'bedroom', u'.', u'Mary', u'journeyed', u'to', u'the', u'office', u'.', u'John', u'journeyed', u'to', u'the', u'office', u'.', u'John', u'took', u'the', u'milk', u'.', u'Daniel', u'went', u'back', u'to', u'the', u'kitchen', u'.', u'John', u'moved', u'to', u'the', u'bedroom', u'.', u'Daniel', u'went', u'back', u'to', u'the', u'hallway', u'.', u'Daniel', u'took', u'the', u'apple', u'.', u'John', u'left', u'the', u'milk', u'there', u'.', u'John', u'travelled', u'to', u'the', u'kitchen', u'.', u'Sandra', u'went', u'back', u'to', u'the', u'bathroom', u'.', u'Daniel', u'journeyed', u'to', u'the', u'bathroom', u'.', u'John', u'journeyed', u'to', u'the', u'bathroom', u'.', u'Mary', u'journeyed', u'to', u'the', u'bathroom', u'.', u'Sandra', u'went', u'back', u'to', u'the', u'garden', u'.', u'Sandra', u'went', u'to', u'the', u'office', u'.', u'Daniel', u'went', u'to', u'the', u'garden', u'.', u'Sandra', u'went', u'back', u'to', u'the', u'hallway', u'.', u'Daniel', u'journeyed', u'to', u'the', u'office', u'.', u'Mary', u'dropped', u'the', u'football', u'.', u'John', u'moved', u'to', u'the', u'bedroom', u'.'], [u'Where', u'was', u'the', u'football', u'before', u'the', u'bathroom', u'?'], u'office')\n"
     ]
    }
   ],
   "source": [
    "vocab = sorted(reduce(lambda x, y: x | y, (set(story + q + [answer]) for story, q, answer in train_stories + test_stories)))\n",
    "# Reserve 0 for masking via pad_sequences\n",
    "vocab_size = len(vocab) + 1\n",
    "story_maxlen = max(map(len, (x for x, _, _ in train_stories + test_stories)))\n",
    "query_maxlen = max(map(len, (x for _, x, _ in train_stories + test_stories)))\n",
    "\n",
    "print('Vocab size:', vocab_size, 'unique words')\n",
    "print('Story max length:', story_maxlen, 'words')\n",
    "print('Query max length:', query_maxlen, 'words')\n",
    "print('Number of training stories:', len(train_stories))\n",
    "print('Number of test stories:', len(test_stories))\n",
    "print('\\n')\n",
    "print('Here\\'s what a \"story\" tuple looks like (input, query, answer):')\n",
    "print(train_stories[0])"
   ]
  },
  {
   "cell_type": "markdown",
   "metadata": {},
   "source": [
    "### Vectorizing the word sequences\n",
    "\n",
    "Here we convert the word tokens to word vectors. We know the total number of unique words in the corpus, that is the size of the vocabulary. Thus, to each word in the corpus we assign a number. We also know the maximum length of a story, story_maxlen (story includes facts, query and answer). Thus, for each story we can construct a word vector of length story_maxlen. For eg. suppose, story_maxlen is 68 and the current story length is 24, then we can have a word vector with the first 34 indices as 0 and the next 24 indices with vocabulary index values of words in the current story"
   ]
  },
  {
   "cell_type": "code",
   "execution_count": 10,
   "metadata": {
    "collapsed": false
   },
   "outputs": [
    {
     "name": "stdout",
     "output_type": "stream",
     "text": [
      "inputs: integer tensor of shape (samples, max_length)\n",
      "inputs_train shape: (10000, 1875)\n",
      "inputs_test shape: (1000, 1875)\n",
      "\n",
      "\n",
      "queries: integer tensor of shape (samples, max_length)\n",
      "queries_train shape: (10000, 8)\n",
      "queries_test shape: (1000, 8)\n",
      "\n",
      "\n",
      "answers: binary (1 or 0) tensor of shape (samples, vocab_size)\n",
      "answers_train shape: (10000, 37)\n",
      "answers_test shape: (1000, 37)\n",
      "\n",
      "\n"
     ]
    }
   ],
   "source": [
    "word_idx = dict((c, i + 1) for i, c in enumerate(vocab))\n",
    "inputs_train, queries_train, answers_train = vectorize_stories(train_stories, word_idx, story_maxlen, query_maxlen)\n",
    "inputs_test, queries_test, answers_test = vectorize_stories(test_stories, word_idx, story_maxlen, query_maxlen)\n",
    "\n",
    "\n",
    "print('inputs: integer tensor of shape (samples, max_length)')\n",
    "print('inputs_train shape:', inputs_train.shape)\n",
    "print('inputs_test shape:', inputs_test.shape)\n",
    "print('\\n')\n",
    "print('queries: integer tensor of shape (samples, max_length)')\n",
    "print('queries_train shape:', queries_train.shape)\n",
    "print('queries_test shape:', queries_test.shape)\n",
    "print('\\n')\n",
    "print('answers: binary (1 or 0) tensor of shape (samples, vocab_size)')\n",
    "print('answers_train shape:', answers_train.shape)\n",
    "print('answers_test shape:', answers_test.shape)\n",
    "print('\\n')\n"
   ]
  },
  {
   "cell_type": "markdown",
   "metadata": {},
   "source": [
    "### End-to-End Memory Networks\n",
    "\n",
    "The model employed is the End-to-End Memory Networks described in Sukhbaatar et. al. (2015). The architecture is a modified form of Memory Network (Weston, 2014) with the training being weakly supervised.Weston's Memory Network was not easy to train via backpropagation and required supervision at each layer.\n",
    "\n",
    "\n",
    "Briefly, the model takes a discrete set of inputs x1, x2, ...xn that are to be stored in memory, a query q, and an answer a. The model writes all x to the memory up to a fixed buffer size, and then finds a continuous representation for x and q. The continuous representation is then processed via multiple hops to output a. \n"
   ]
  },
  {
   "cell_type": "code",
   "execution_count": 11,
   "metadata": {
    "collapsed": false
   },
   "outputs": [],
   "source": [
    "# embed the input sequence into a sequence of vectors\n",
    "# output: (samples, story_maxlen, embedding_dim)\n",
    "input_encoder_m = Sequential()\n",
    "input_encoder_m.add(Embedding(input_dim=vocab_size,\n",
    "                              output_dim=64,\n",
    "                              input_length=story_maxlen))\n",
    "input_encoder_m.add(Dropout(0.3))\n",
    "\n",
    "\n",
    "# embed the question into a sequence of vectors\n",
    "# output: (samples, query_maxlen, embedding_dim)\n",
    "question_encoder = Sequential()\n",
    "question_encoder.add(Embedding(input_dim=vocab_size,\n",
    "                               output_dim=64,\n",
    "                               input_length=query_maxlen))\n",
    "question_encoder.add(Dropout(0.3))\n",
    "\n",
    "# compute a 'match' between input sequence elements (which are vectors)\n",
    "# and the question vector sequence\n",
    "\n",
    "# output: (samples, story_maxlen, query_maxlen)\n",
    "match = Sequential()\n",
    "match.add(Merge([input_encoder_m, question_encoder],\n",
    "                mode='dot',\n",
    "                dot_axes=[2, 2]))\n",
    "match.add(Activation('softmax'))\n",
    "\n",
    "# embed the input into a single vector with size = story_maxlen:\n",
    "# output: (samples, story_maxlen, query_maxlen)\n",
    "input_encoder_c = Sequential()\n",
    "input_encoder_c.add(Embedding(input_dim=vocab_size,\n",
    "                              output_dim=query_maxlen,\n",
    "                              input_length=story_maxlen))\n",
    "input_encoder_c.add(Dropout(0.3))\n",
    "\n",
    "\n",
    "# sum the match vector with the input vector:\n",
    "# output: (samples, story_maxlen, query_maxlen)\n",
    "response = Sequential()\n",
    "response.add(Merge([match, input_encoder_c], mode='sum'))\n",
    "\n",
    "# Permutes the dimensions of input\n",
    "response.add(Permute((2, 1)))  # output: (samples, query_maxlen, story_maxlen)\n",
    "\n",
    "# concatenate the match vector with the question vector,\n",
    "# and do logistic regression on top\n",
    "answer = Sequential()\n",
    "answer.add(Merge([response, question_encoder], mode='concat', concat_axis=-1))\n",
    "\n",
    "\n",
    "# the original paper uses a matrix multiplication for this reduction step.\n",
    "# we choose to use a RNN instead.\n",
    "answer.add(LSTM(32))\n",
    "# one regularization layer -- more would probably be needed.\n",
    "answer.add(Dropout(0.3))\n",
    "answer.add(Dense(vocab_size))\n",
    "# we output a probability distribution over the vocabulary\n",
    "answer.add(Activation('softmax'))\n",
    "\n"
   ]
  },
  {
   "cell_type": "code",
   "execution_count": 12,
   "metadata": {
    "collapsed": false
   },
   "outputs": [
    {
     "name": "stdout",
     "output_type": "stream",
     "text": [
      "Train on 10000 samples, validate on 1000 samples\n",
      "Epoch 1/120\n",
      "10000/10000 [==============================] - 14s - loss: 1.9310 - acc: 0.1719 - val_loss: 1.7842 - val_acc: 0.2150\n",
      "Epoch 2/120\n",
      "10000/10000 [==============================] - 14s - loss: 1.7744 - acc: 0.1943 - val_loss: 1.7267 - val_acc: 0.1700\n",
      "Epoch 3/120\n",
      "10000/10000 [==============================] - 14s - loss: 1.7247 - acc: 0.2086 - val_loss: 1.6855 - val_acc: 0.1670\n",
      "Epoch 4/120\n",
      "10000/10000 [==============================] - 14s - loss: 1.6871 - acc: 0.2147 - val_loss: 1.6670 - val_acc: 0.1960\n",
      "Epoch 5/120\n",
      "10000/10000 [==============================] - 14s - loss: 1.6507 - acc: 0.2444 - val_loss: 1.6551 - val_acc: 0.2250\n",
      "Epoch 6/120\n",
      "10000/10000 [==============================] - 14s - loss: 1.6148 - acc: 0.2736 - val_loss: 1.6535 - val_acc: 0.2200\n",
      "Epoch 7/120\n",
      "10000/10000 [==============================] - 13s - loss: 1.5659 - acc: 0.3093 - val_loss: 1.6541 - val_acc: 0.2340\n",
      "Epoch 8/120\n",
      "10000/10000 [==============================] - 13s - loss: 1.5207 - acc: 0.3447 - val_loss: 1.6734 - val_acc: 0.2340\n",
      "Epoch 9/120\n",
      "10000/10000 [==============================] - 13s - loss: 1.4721 - acc: 0.3783 - val_loss: 1.6824 - val_acc: 0.2330\n",
      "Epoch 10/120\n",
      "10000/10000 [==============================] - 13s - loss: 1.4395 - acc: 0.4010 - val_loss: 1.6959 - val_acc: 0.2300\n",
      "Epoch 11/120\n",
      "10000/10000 [==============================] - 13s - loss: 1.3999 - acc: 0.4160 - val_loss: 1.7321 - val_acc: 0.2090\n",
      "Epoch 12/120\n",
      "10000/10000 [==============================] - 13s - loss: 1.3623 - acc: 0.4365 - val_loss: 1.7445 - val_acc: 0.2060\n",
      "Epoch 13/120\n",
      "10000/10000 [==============================] - 13s - loss: 1.3217 - acc: 0.4597 - val_loss: 1.7654 - val_acc: 0.2310\n",
      "Epoch 14/120\n",
      "10000/10000 [==============================] - 13s - loss: 1.2914 - acc: 0.4711 - val_loss: 1.7980 - val_acc: 0.2160\n",
      "Epoch 15/120\n",
      "10000/10000 [==============================] - 13s - loss: 1.2541 - acc: 0.4940 - val_loss: 1.8295 - val_acc: 0.2010\n",
      "Epoch 16/120\n",
      "10000/10000 [==============================] - 13s - loss: 1.2235 - acc: 0.5052 - val_loss: 1.8396 - val_acc: 0.2080\n",
      "Epoch 17/120\n",
      "10000/10000 [==============================] - 13s - loss: 1.1908 - acc: 0.5259 - val_loss: 1.8928 - val_acc: 0.2020\n",
      "Epoch 18/120\n",
      "10000/10000 [==============================] - 13s - loss: 1.1558 - acc: 0.5386 - val_loss: 1.8949 - val_acc: 0.2020\n",
      "Epoch 19/120\n",
      "10000/10000 [==============================] - 13s - loss: 1.1284 - acc: 0.5529 - val_loss: 1.9089 - val_acc: 0.2100\n",
      "Epoch 20/120\n",
      "10000/10000 [==============================] - 13s - loss: 1.0942 - acc: 0.5692 - val_loss: 1.9530 - val_acc: 0.2070\n",
      "Epoch 21/120\n",
      "10000/10000 [==============================] - 13s - loss: 1.0631 - acc: 0.5779 - val_loss: 1.9681 - val_acc: 0.2060\n",
      "Epoch 22/120\n",
      "10000/10000 [==============================] - 13s - loss: 1.0392 - acc: 0.5924 - val_loss: 2.0218 - val_acc: 0.1980\n",
      "Epoch 23/120\n",
      "10000/10000 [==============================] - 13s - loss: 1.0212 - acc: 0.6011 - val_loss: 2.0172 - val_acc: 0.2060\n",
      "Epoch 24/120\n",
      "10000/10000 [==============================] - 13s - loss: 0.9979 - acc: 0.6109 - val_loss: 2.0794 - val_acc: 0.1890\n",
      "Epoch 25/120\n",
      "10000/10000 [==============================] - 13s - loss: 0.9769 - acc: 0.6186 - val_loss: 2.0777 - val_acc: 0.1940\n",
      "Epoch 26/120\n",
      "10000/10000 [==============================] - 13s - loss: 0.9717 - acc: 0.6223 - val_loss: 2.0903 - val_acc: 0.1990\n",
      "Epoch 27/120\n",
      "10000/10000 [==============================] - 13s - loss: 0.9420 - acc: 0.6342 - val_loss: 2.0883 - val_acc: 0.2070\n",
      "Epoch 28/120\n",
      "10000/10000 [==============================] - 13s - loss: 0.9215 - acc: 0.6386 - val_loss: 2.1637 - val_acc: 0.2020\n",
      "Epoch 29/120\n",
      "10000/10000 [==============================] - 13s - loss: 0.9208 - acc: 0.6440 - val_loss: 2.1503 - val_acc: 0.1990\n",
      "Epoch 30/120\n",
      "10000/10000 [==============================] - 13s - loss: 0.8897 - acc: 0.6578 - val_loss: 2.1785 - val_acc: 0.2020\n",
      "Epoch 31/120\n",
      "10000/10000 [==============================] - 13s - loss: 0.8825 - acc: 0.6595 - val_loss: 2.2137 - val_acc: 0.2070\n",
      "Epoch 32/120\n",
      "10000/10000 [==============================] - 13s - loss: 0.8603 - acc: 0.6669 - val_loss: 2.2331 - val_acc: 0.2020\n",
      "Epoch 33/120\n",
      "10000/10000 [==============================] - 13s - loss: 0.8586 - acc: 0.6652 - val_loss: 2.2111 - val_acc: 0.2120\n",
      "Epoch 34/120\n",
      "10000/10000 [==============================] - 13s - loss: 0.8379 - acc: 0.6748 - val_loss: 2.2621 - val_acc: 0.2090\n",
      "Epoch 35/120\n",
      "10000/10000 [==============================] - 13s - loss: 0.8205 - acc: 0.6834 - val_loss: 2.2820 - val_acc: 0.2070\n",
      "Epoch 36/120\n",
      "10000/10000 [==============================] - 13s - loss: 0.8089 - acc: 0.6936 - val_loss: 2.2918 - val_acc: 0.2180\n",
      "Epoch 37/120\n",
      "10000/10000 [==============================] - 13s - loss: 0.8090 - acc: 0.6879 - val_loss: 2.3149 - val_acc: 0.2150\n",
      "Epoch 38/120\n",
      "10000/10000 [==============================] - 13s - loss: 0.7827 - acc: 0.6985 - val_loss: 2.3583 - val_acc: 0.2030\n",
      "Epoch 39/120\n",
      "10000/10000 [==============================] - 13s - loss: 0.7865 - acc: 0.6926 - val_loss: 2.3676 - val_acc: 0.2100\n",
      "Epoch 40/120\n",
      "10000/10000 [==============================] - 13s - loss: 0.7725 - acc: 0.7017 - val_loss: 2.4180 - val_acc: 0.2090\n",
      "Epoch 41/120\n",
      "10000/10000 [==============================] - 13s - loss: 0.7545 - acc: 0.7112 - val_loss: 2.4368 - val_acc: 0.2110\n",
      "Epoch 42/120\n",
      "10000/10000 [==============================] - 13s - loss: 0.7499 - acc: 0.7126 - val_loss: 2.4604 - val_acc: 0.2110\n",
      "Epoch 43/120\n",
      "10000/10000 [==============================] - 13s - loss: 0.7460 - acc: 0.7110 - val_loss: 2.4660 - val_acc: 0.2050\n",
      "Epoch 44/120\n",
      "10000/10000 [==============================] - 13s - loss: 0.7402 - acc: 0.7164 - val_loss: 2.4387 - val_acc: 0.2100\n",
      "Epoch 45/120\n",
      "10000/10000 [==============================] - 13s - loss: 0.7359 - acc: 0.7143 - val_loss: 2.5124 - val_acc: 0.2030\n",
      "Epoch 46/120\n",
      "10000/10000 [==============================] - 13s - loss: 0.7290 - acc: 0.7199 - val_loss: 2.5533 - val_acc: 0.1990\n",
      "Epoch 47/120\n",
      "10000/10000 [==============================] - 13s - loss: 0.7169 - acc: 0.7261 - val_loss: 2.5519 - val_acc: 0.2020\n",
      "Epoch 48/120\n",
      "10000/10000 [==============================] - 13s - loss: 0.7111 - acc: 0.7201 - val_loss: 2.5424 - val_acc: 0.2130\n",
      "Epoch 49/120\n",
      "10000/10000 [==============================] - 13s - loss: 0.7061 - acc: 0.7300 - val_loss: 2.5472 - val_acc: 0.2130\n",
      "Epoch 50/120\n",
      "10000/10000 [==============================] - 13s - loss: 0.6937 - acc: 0.7322 - val_loss: 2.5988 - val_acc: 0.2210\n",
      "Epoch 51/120\n",
      "10000/10000 [==============================] - 13s - loss: 0.6839 - acc: 0.7361 - val_loss: 2.6339 - val_acc: 0.2140\n",
      "Epoch 52/120\n",
      "10000/10000 [==============================] - 13s - loss: 0.6884 - acc: 0.7348 - val_loss: 2.5829 - val_acc: 0.2270\n",
      "Epoch 53/120\n",
      "10000/10000 [==============================] - 13s - loss: 0.6817 - acc: 0.7380 - val_loss: 2.6457 - val_acc: 0.2150\n",
      "Epoch 54/120\n",
      "10000/10000 [==============================] - 13s - loss: 0.6727 - acc: 0.7417 - val_loss: 2.6218 - val_acc: 0.2150\n",
      "Epoch 55/120\n",
      "10000/10000 [==============================] - 13s - loss: 0.6652 - acc: 0.7461 - val_loss: 2.6173 - val_acc: 0.2240\n",
      "Epoch 56/120\n",
      "10000/10000 [==============================] - 13s - loss: 0.6550 - acc: 0.7536 - val_loss: 2.6848 - val_acc: 0.2070\n",
      "Epoch 57/120\n",
      "10000/10000 [==============================] - 13s - loss: 0.6516 - acc: 0.7478 - val_loss: 2.6440 - val_acc: 0.2130\n",
      "Epoch 58/120\n",
      "10000/10000 [==============================] - 13s - loss: 0.6364 - acc: 0.7548 - val_loss: 2.6658 - val_acc: 0.2130\n",
      "Epoch 59/120\n",
      "10000/10000 [==============================] - 13s - loss: 0.6428 - acc: 0.7553 - val_loss: 2.7651 - val_acc: 0.1970\n",
      "Epoch 60/120\n",
      "10000/10000 [==============================] - 13s - loss: 0.6458 - acc: 0.7578 - val_loss: 2.6864 - val_acc: 0.2140\n",
      "Epoch 61/120\n",
      "10000/10000 [==============================] - 13s - loss: 0.6344 - acc: 0.7622 - val_loss: 2.7529 - val_acc: 0.2020\n",
      "Epoch 62/120\n",
      "10000/10000 [==============================] - 13s - loss: 0.6326 - acc: 0.7579 - val_loss: 2.7765 - val_acc: 0.2060\n",
      "Epoch 63/120\n",
      "10000/10000 [==============================] - 13s - loss: 0.6289 - acc: 0.7588 - val_loss: 2.7357 - val_acc: 0.2020\n",
      "Epoch 64/120\n",
      "10000/10000 [==============================] - 13s - loss: 0.6113 - acc: 0.7690 - val_loss: 2.6694 - val_acc: 0.1990\n",
      "Epoch 65/120\n",
      "10000/10000 [==============================] - 13s - loss: 0.6187 - acc: 0.7656 - val_loss: 2.7743 - val_acc: 0.2110\n",
      "Epoch 66/120\n",
      "10000/10000 [==============================] - 13s - loss: 0.6123 - acc: 0.7697 - val_loss: 2.7581 - val_acc: 0.2040\n",
      "Epoch 67/120\n",
      "10000/10000 [==============================] - 13s - loss: 0.6105 - acc: 0.7668 - val_loss: 2.7716 - val_acc: 0.2090\n",
      "Epoch 68/120\n",
      "10000/10000 [==============================] - 13s - loss: 0.6054 - acc: 0.7667 - val_loss: 2.8816 - val_acc: 0.2010\n",
      "Epoch 69/120\n",
      "10000/10000 [==============================] - 13s - loss: 0.5982 - acc: 0.7724 - val_loss: 2.8798 - val_acc: 0.2060\n",
      "Epoch 70/120\n",
      "10000/10000 [==============================] - 13s - loss: 0.6066 - acc: 0.7695 - val_loss: 2.8655 - val_acc: 0.2150\n",
      "Epoch 71/120\n",
      "10000/10000 [==============================] - 13s - loss: 0.6016 - acc: 0.7741 - val_loss: 2.7901 - val_acc: 0.2130\n",
      "Epoch 72/120\n",
      "10000/10000 [==============================] - 13s - loss: 0.5930 - acc: 0.7752 - val_loss: 2.8489 - val_acc: 0.2120\n",
      "Epoch 73/120\n",
      "10000/10000 [==============================] - 13s - loss: 0.5942 - acc: 0.7794 - val_loss: 2.8659 - val_acc: 0.2110\n",
      "Epoch 74/120\n",
      "10000/10000 [==============================] - 13s - loss: 0.5940 - acc: 0.7752 - val_loss: 2.8500 - val_acc: 0.2120\n",
      "Epoch 75/120\n",
      "10000/10000 [==============================] - 13s - loss: 0.5832 - acc: 0.7774 - val_loss: 2.8429 - val_acc: 0.2270\n",
      "Epoch 76/120\n",
      "10000/10000 [==============================] - 13s - loss: 0.5699 - acc: 0.7829 - val_loss: 2.9300 - val_acc: 0.2090\n",
      "Epoch 77/120\n",
      "10000/10000 [==============================] - 13s - loss: 0.5658 - acc: 0.7891 - val_loss: 2.9102 - val_acc: 0.2050\n",
      "Epoch 78/120\n",
      "10000/10000 [==============================] - 13s - loss: 0.5586 - acc: 0.7886 - val_loss: 2.8685 - val_acc: 0.2300\n",
      "Epoch 79/120\n",
      "10000/10000 [==============================] - 13s - loss: 0.5619 - acc: 0.7873 - val_loss: 2.8900 - val_acc: 0.2430\n",
      "Epoch 80/120\n",
      "10000/10000 [==============================] - 13s - loss: 0.5652 - acc: 0.7844 - val_loss: 2.9194 - val_acc: 0.2150\n",
      "Epoch 81/120\n",
      "10000/10000 [==============================] - 13s - loss: 0.5587 - acc: 0.7912 - val_loss: 2.9648 - val_acc: 0.2140\n",
      "Epoch 82/120\n",
      "10000/10000 [==============================] - 13s - loss: 0.5581 - acc: 0.7905 - val_loss: 3.0105 - val_acc: 0.2140\n",
      "Epoch 83/120\n",
      "10000/10000 [==============================] - 13s - loss: 0.5586 - acc: 0.7904 - val_loss: 2.9390 - val_acc: 0.2360\n",
      "Epoch 84/120\n",
      "10000/10000 [==============================] - 13s - loss: 0.5461 - acc: 0.7902 - val_loss: 2.9394 - val_acc: 0.2260\n",
      "Epoch 85/120\n",
      "10000/10000 [==============================] - 13s - loss: 0.5345 - acc: 0.8005 - val_loss: 3.0305 - val_acc: 0.2150\n",
      "Epoch 86/120\n",
      "10000/10000 [==============================] - 13s - loss: 0.5587 - acc: 0.7894 - val_loss: 2.9782 - val_acc: 0.2220\n",
      "Epoch 87/120\n",
      "10000/10000 [==============================] - 13s - loss: 0.5473 - acc: 0.7914 - val_loss: 3.1062 - val_acc: 0.2110\n",
      "Epoch 88/120\n",
      "10000/10000 [==============================] - 13s - loss: 0.5254 - acc: 0.8023 - val_loss: 3.0981 - val_acc: 0.2160\n",
      "Epoch 89/120\n",
      "10000/10000 [==============================] - 13s - loss: 0.5413 - acc: 0.7934 - val_loss: 3.0310 - val_acc: 0.2240\n",
      "Epoch 90/120\n",
      "10000/10000 [==============================] - 13s - loss: 0.5355 - acc: 0.8016 - val_loss: 3.0541 - val_acc: 0.2230\n",
      "Epoch 91/120\n",
      "10000/10000 [==============================] - 13s - loss: 0.5313 - acc: 0.7925 - val_loss: 3.1136 - val_acc: 0.2160\n",
      "Epoch 92/120\n",
      "10000/10000 [==============================] - 13s - loss: 0.5246 - acc: 0.8017 - val_loss: 3.0815 - val_acc: 0.2320\n",
      "Epoch 93/120\n",
      "10000/10000 [==============================] - 13s - loss: 0.5317 - acc: 0.8008 - val_loss: 3.0280 - val_acc: 0.2310\n",
      "Epoch 94/120\n",
      "10000/10000 [==============================] - 13s - loss: 0.5262 - acc: 0.7993 - val_loss: 3.1351 - val_acc: 0.2150\n",
      "Epoch 95/120\n",
      "10000/10000 [==============================] - 13s - loss: 0.5155 - acc: 0.8060 - val_loss: 3.0389 - val_acc: 0.2200\n",
      "Epoch 96/120\n",
      "10000/10000 [==============================] - 13s - loss: 0.5210 - acc: 0.8031 - val_loss: 3.1330 - val_acc: 0.1950\n",
      "Epoch 97/120\n",
      "10000/10000 [==============================] - 13s - loss: 0.5062 - acc: 0.8125 - val_loss: 3.1159 - val_acc: 0.2160\n",
      "Epoch 98/120\n",
      "10000/10000 [==============================] - 13s - loss: 0.5206 - acc: 0.7992 - val_loss: 3.1196 - val_acc: 0.2170\n",
      "Epoch 99/120\n",
      "10000/10000 [==============================] - 13s - loss: 0.5073 - acc: 0.8060 - val_loss: 3.1865 - val_acc: 0.2100\n",
      "Epoch 100/120\n",
      "10000/10000 [==============================] - 13s - loss: 0.5039 - acc: 0.8121 - val_loss: 3.1339 - val_acc: 0.2120\n",
      "Epoch 101/120\n",
      "10000/10000 [==============================] - 13s - loss: 0.4930 - acc: 0.8200 - val_loss: 3.1821 - val_acc: 0.2050\n",
      "Epoch 102/120\n",
      "10000/10000 [==============================] - 13s - loss: 0.4974 - acc: 0.8135 - val_loss: 3.1307 - val_acc: 0.2240\n",
      "Epoch 103/120\n",
      "10000/10000 [==============================] - 13s - loss: 0.5030 - acc: 0.8144 - val_loss: 3.1381 - val_acc: 0.2250\n",
      "Epoch 104/120\n",
      "10000/10000 [==============================] - 13s - loss: 0.4935 - acc: 0.8188 - val_loss: 3.1857 - val_acc: 0.2160\n",
      "Epoch 105/120\n",
      "10000/10000 [==============================] - 13s - loss: 0.4980 - acc: 0.8137 - val_loss: 3.2078 - val_acc: 0.2250\n",
      "Epoch 106/120\n",
      "10000/10000 [==============================] - 13s - loss: 0.4949 - acc: 0.8166 - val_loss: 3.2550 - val_acc: 0.2200\n",
      "Epoch 107/120\n",
      "10000/10000 [==============================] - 13s - loss: 0.4972 - acc: 0.8110 - val_loss: 3.1601 - val_acc: 0.2210\n",
      "Epoch 108/120\n",
      "10000/10000 [==============================] - 13s - loss: 0.5002 - acc: 0.8103 - val_loss: 3.1339 - val_acc: 0.2330\n",
      "Epoch 109/120\n",
      "10000/10000 [==============================] - 13s - loss: 0.4998 - acc: 0.8135 - val_loss: 3.1830 - val_acc: 0.2360\n",
      "Epoch 110/120\n",
      "10000/10000 [==============================] - 13s - loss: 0.4785 - acc: 0.8189 - val_loss: 3.2041 - val_acc: 0.2210\n",
      "Epoch 111/120\n",
      "10000/10000 [==============================] - 13s - loss: 0.4823 - acc: 0.8196 - val_loss: 3.2166 - val_acc: 0.2200\n",
      "Epoch 112/120\n",
      "10000/10000 [==============================] - 13s - loss: 0.4843 - acc: 0.8166 - val_loss: 3.2204 - val_acc: 0.2160\n",
      "Epoch 113/120\n",
      "10000/10000 [==============================] - 13s - loss: 0.4925 - acc: 0.8151 - val_loss: 3.2587 - val_acc: 0.2260\n",
      "Epoch 114/120\n",
      "10000/10000 [==============================] - 13s - loss: 0.4753 - acc: 0.8217 - val_loss: 3.1690 - val_acc: 0.2260\n",
      "Epoch 115/120\n",
      "10000/10000 [==============================] - 13s - loss: 0.4689 - acc: 0.8269 - val_loss: 3.2630 - val_acc: 0.2080\n",
      "Epoch 116/120\n",
      "10000/10000 [==============================] - 13s - loss: 0.4800 - acc: 0.8258 - val_loss: 3.1884 - val_acc: 0.2220\n",
      "Epoch 117/120\n",
      "10000/10000 [==============================] - 13s - loss: 0.4867 - acc: 0.8162 - val_loss: 3.1907 - val_acc: 0.2170\n",
      "Epoch 118/120\n",
      "10000/10000 [==============================] - 13s - loss: 0.4760 - acc: 0.8191 - val_loss: 3.2187 - val_acc: 0.2280\n",
      "Epoch 119/120\n",
      "10000/10000 [==============================] - 13s - loss: 0.4788 - acc: 0.8218 - val_loss: 3.2710 - val_acc: 0.2200\n",
      "Epoch 120/120\n",
      "10000/10000 [==============================] - 13s - loss: 0.4614 - acc: 0.8286 - val_loss: 3.3146 - val_acc: 0.2210\n"
     ]
    },
    {
     "data": {
      "text/plain": [
       "<keras.callbacks.History at 0x7f29ef4f6d10>"
      ]
     },
     "execution_count": 12,
     "metadata": {},
     "output_type": "execute_result"
    }
   ],
   "source": [
    "answer.compile(optimizer='rmsprop', loss='categorical_crossentropy',\n",
    "               metrics=['accuracy'])\n",
    "# Note: you could use a Graph model to avoid repeat the input twice\n",
    "answer.fit([inputs_train, queries_train, inputs_train], answers_train,\n",
    "           batch_size=24,\n",
    "           nb_epoch=120,\n",
    "           validation_data=([inputs_test, queries_test, inputs_test], answers_test))"
   ]
  },
  {
   "cell_type": "markdown",
   "metadata": {},
   "source": [
    "### Making predictions based on the fitted model"
   ]
  },
  {
   "cell_type": "code",
   "execution_count": 13,
   "metadata": {
    "collapsed": false
   },
   "outputs": [
    {
     "name": "stdout",
     "output_type": "stream",
     "text": [
      " 992/1000 [============================>.] - ETA: 0s"
     ]
    }
   ],
   "source": [
    "predictions=answer.predict_classes([inputs_test, queries_test, inputs_test], batch_size=32)"
   ]
  },
  {
   "cell_type": "markdown",
   "metadata": {},
   "source": [
    "### Example story and model prediction"
   ]
  },
  {
   "cell_type": "code",
   "execution_count": 14,
   "metadata": {
    "collapsed": false,
    "scrolled": true
   },
   "outputs": [],
   "source": [
    "def pred_evaluation(ind):\n",
    "    \n",
    "    print (\"The story is -: \")\n",
    "    facts = test_stories[ind]\n",
    "    print(' '.join(facts[0]))\n",
    "    print('\\n')\n",
    "    \n",
    "    print (\"The query is -:\")\n",
    "    print(' '.join(facts[1]))\n",
    "\n",
    "    print (\"\\nThe predicted answer is -:\")\n",
    "    ans = predictions[ind]\n",
    "    for key, value in (word_idx).items():\n",
    "        if value == ans:\n",
    "            print(key)\n",
    "            print('\\n')\n",
    "            \n"
   ]
  },
  {
   "cell_type": "code",
   "execution_count": 15,
   "metadata": {
    "collapsed": false
   },
   "outputs": [
    {
     "name": "stdout",
     "output_type": "stream",
     "text": [
      "The story is -: \n",
      "Mary got the milk . John moved to the bedroom . Daniel journeyed to the office . John grabbed the apple there . John got the football . John journeyed to the garden . Mary left the milk . John left the football . Daniel moved to the garden . Daniel grabbed the football . Mary moved to the hallway . Mary went to the kitchen . John put down the apple there . John picked up the apple . Sandra moved to the hallway . Daniel left the football there . Daniel took the football . John travelled to the kitchen . Daniel dropped the football . John dropped the apple . John grabbed the apple . John went to the office . Sandra went back to the bedroom . Sandra took the milk . John journeyed to the bathroom . John travelled to the office . Sandra left the milk . Mary went to the bedroom . Mary moved to the office . John travelled to the hallway . Sandra moved to the garden . Mary moved to the kitchen . Daniel took the football . Mary journeyed to the bedroom . Mary grabbed the milk there . Mary discarded the milk . John went to the garden . John discarded the apple there . Sandra travelled to the bedroom . Daniel moved to the bathroom .\n",
      "\n",
      "\n",
      "The query is -:\n",
      "Where was the apple before the hallway ?\n",
      "\n",
      "The predicted answer is -:\n",
      "bedroom\n",
      "\n",
      "\n"
     ]
    }
   ],
   "source": [
    "pred_evaluation(1)\n"
   ]
  },
  {
   "cell_type": "code",
   "execution_count": 16,
   "metadata": {
    "collapsed": false
   },
   "outputs": [
    {
     "name": "stdout",
     "output_type": "stream",
     "text": [
      "The story is -: \n",
      "John took the football . Daniel went back to the garden . Mary moved to the bathroom . Mary went to the bedroom . Mary went to the hallway . John dropped the football . Daniel journeyed to the hallway . Sandra grabbed the football . John moved to the office . Sandra put down the football . Sandra took the football . Daniel went to the bedroom . Mary moved to the office . Mary journeyed to the bedroom . Mary grabbed the apple there . Sandra went back to the kitchen . Sandra picked up the milk there . Mary discarded the apple . John went back to the bathroom . Mary got the apple . Mary left the apple . Mary took the apple . Mary put down the apple . Sandra put down the milk . Daniel went to the kitchen . Sandra journeyed to the office . Sandra journeyed to the bedroom . John moved to the garden . Sandra journeyed to the garden . Mary got the apple . Mary discarded the apple . Mary travelled to the hallway . Daniel went to the garden . Sandra went back to the hallway . Sandra travelled to the garden . Sandra went back to the office . Daniel went to the bathroom . Sandra dropped the football .\n",
      "\n",
      "\n",
      "The query is -:\n",
      "Where was the football before the hallway ?\n",
      "\n",
      "The predicted answer is -:\n",
      "bathroom\n",
      "\n",
      "\n"
     ]
    }
   ],
   "source": [
    "pred_evaluation(20)\n"
   ]
  },
  {
   "cell_type": "code",
   "execution_count": 17,
   "metadata": {
    "collapsed": false
   },
   "outputs": [
    {
     "name": "stdout",
     "output_type": "stream",
     "text": [
      "The story is -: \n",
      "Sandra moved to the hallway . Daniel journeyed to the office . John journeyed to the bathroom . Daniel picked up the apple . Sandra got the football . John travelled to the office . Sandra left the football . Daniel put down the apple . Sandra got the football . John grabbed the apple . Daniel went to the bedroom . Daniel travelled to the hallway . John discarded the apple . Daniel moved to the office . John travelled to the bedroom . Sandra discarded the football there . Mary went to the bedroom . Daniel picked up the apple there . Daniel put down the apple . John went to the hallway . Daniel grabbed the apple . Sandra moved to the bathroom . John got the football there . John discarded the football there . John moved to the office . Daniel put down the apple . Mary picked up the milk . John went back to the kitchen . Daniel took the apple . Mary went back to the hallway . Mary travelled to the bedroom . Mary went to the hallway . John moved to the hallway . Mary took the football . Mary travelled to the office . John journeyed to the bedroom . John went back to the hallway . Mary went to the bathroom .\n",
      "\n",
      "\n",
      "The query is -:\n",
      "Where was the football before the bathroom ?\n",
      "\n",
      "The predicted answer is -:\n",
      "bedroom\n",
      "\n",
      "\n"
     ]
    }
   ],
   "source": [
    "pred_evaluation(540)"
   ]
  },
  {
   "cell_type": "code",
   "execution_count": null,
   "metadata": {
    "collapsed": true
   },
   "outputs": [],
   "source": []
  }
 ],
 "metadata": {
  "kernelspec": {
   "display_name": "Python 2",
   "language": "python",
   "name": "python2"
  },
  "language_info": {
   "codemirror_mode": {
    "name": "ipython",
    "version": 2
   },
   "file_extension": ".py",
   "mimetype": "text/x-python",
   "name": "python",
   "nbconvert_exporter": "python",
   "pygments_lexer": "ipython2",
   "version": "2.7.9"
  }
 },
 "nbformat": 4,
 "nbformat_minor": 1
}
