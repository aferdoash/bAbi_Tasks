{
 "cells": [
  {
   "cell_type": "markdown",
   "metadata": {},
   "source": [
    "### QA Type 15 : Basic Deduction\n",
    "\n",
    "Task 15 tests basic deduction via inheritance of properties, e.g. “Sheep are afraid of wolves. Gertrude is a sheep. What is Gertrude afraid of?”. \n",
    "\n",
    "For training and testing we have used the 10k dataset, containing 10,000 training examples.\n",
    "An example QA set is as below -:\n",
    "\n",
    "1. Mice are afraid of wolves.\n",
    "2. Gertrude is a mouse.\n",
    "3. Cats are afraid of sheep.\n",
    "4. Winona is a mouse.\n",
    "5. Sheep are afraid of wolves.\n",
    "6. Wolves are afraid of cats.\n",
    "7. Emily is a mouse.\n",
    "8. Jessica is a wolf.\n",
    "9. What is gertrude afraid of?\twolf\t"
   ]
  },
  {
   "cell_type": "code",
   "execution_count": 1,
   "metadata": {
    "collapsed": false
   },
   "outputs": [
    {
     "name": "stderr",
     "output_type": "stream",
     "text": [
      "Using TensorFlow backend.\n"
     ]
    }
   ],
   "source": [
    "from __future__ import print_function\n",
    "from keras.models import Sequential\n",
    "from keras.layers.embeddings import Embedding\n",
    "from keras.layers import Activation, Dense, Merge, Permute, Dropout\n",
    "from keras.layers import LSTM\n",
    "from keras.utils.data_utils import get_file\n",
    "from keras.preprocessing.sequence import pad_sequences\n",
    "from functools import reduce\n",
    "import tarfile\n",
    "import numpy as np\n",
    "import re"
   ]
  },
  {
   "cell_type": "markdown",
   "metadata": {},
   "source": [
    "### Story processing\n",
    "\n",
    "Each story is processed to reduce sentences to tokens and combine all facts and queries relevant to the story. "
   ]
  },
  {
   "cell_type": "code",
   "execution_count": 2,
   "metadata": {
    "collapsed": false
   },
   "outputs": [],
   "source": [
    "def tokenize(sent):\n",
    "    '''Return the tokens of a sentence including punctuation.\n",
    "    >>> tokenize('Bob dropped the apple. Where is the apple?')\n",
    "    ['Bob', 'dropped', 'the', 'apple', '.', 'Where', 'is', 'the', 'apple', '?']\n",
    "    '''\n",
    "    return [x.strip() for x in re.split('(\\W+)?', sent) if x.strip()]\n"
   ]
  },
  {
   "cell_type": "code",
   "execution_count": 3,
   "metadata": {
    "collapsed": true
   },
   "outputs": [],
   "source": [
    "def parse_stories(lines, only_supporting=False):\n",
    "    '''Parse stories provided in the bAbi tasks format\n",
    "    If only_supporting is true, only the sentences that support the answer are kept.\n",
    "    '''\n",
    "    data = []\n",
    "    story = []\n",
    "    for line in lines:\n",
    "        line = line.decode('utf-8').strip()\n",
    "        nid, line = line.split(' ', 1)\n",
    "        nid = int(nid)\n",
    "        if nid == 1:\n",
    "            story = []\n",
    "        if '\\t' in line:\n",
    "            q, a, supporting = line.split('\\t')\n",
    "            q = tokenize(q)\n",
    "            substory = None\n",
    "            if only_supporting:\n",
    "                # Only select the related substory\n",
    "                supporting = map(int, supporting.split())\n",
    "                substory = [story[i - 1] for i in supporting]\n",
    "            else:\n",
    "                # Provide all the substories\n",
    "                substory = [x for x in story if x]\n",
    "            data.append((substory, q, a))\n",
    "            story.append('')\n",
    "        else:\n",
    "            sent = tokenize(line)\n",
    "            story.append(sent)\n",
    "    return data"
   ]
  },
  {
   "cell_type": "code",
   "execution_count": 4,
   "metadata": {
    "collapsed": true
   },
   "outputs": [],
   "source": [
    "\n",
    "def get_stories(f, only_supporting=False, max_length=None):\n",
    "    '''Given a file name, read the file, retrieve the stories, and then convert the sentences into a single story.\n",
    "    If max_length is supplied, any stories longer than max_length tokens will be discarded.\n",
    "    '''\n",
    "    data = parse_stories(f.readlines(), only_supporting=only_supporting)\n",
    "    flatten = lambda data: reduce(lambda x, y: x + y, data)\n",
    "    data = [(flatten(story), q, answer) for story, q, answer in data if not max_length or len(flatten(story)) < max_length]\n",
    "    return data\n"
   ]
  },
  {
   "cell_type": "code",
   "execution_count": 5,
   "metadata": {
    "collapsed": true
   },
   "outputs": [],
   "source": [
    "def vectorize_stories(data, word_idx, story_maxlen, query_maxlen):\n",
    "    X = []\n",
    "    Xq = []\n",
    "    Y = []\n",
    "    for story, query, answer in data:\n",
    "        x = [word_idx[w] for w in story]\n",
    "        xq = [word_idx[w] for w in query]\n",
    "        y = np.zeros(len(word_idx) + 1)  # let's not forget that index 0 is reserved\n",
    "        y[word_idx[answer]] = 1\n",
    "        X.append(x)\n",
    "        Xq.append(xq)\n",
    "        Y.append(y)\n",
    "    return (pad_sequences(X, maxlen=story_maxlen),\n",
    "            pad_sequences(Xq, maxlen=query_maxlen), np.array(Y))"
   ]
  },
  {
   "cell_type": "code",
   "execution_count": 6,
   "metadata": {
    "collapsed": false
   },
   "outputs": [],
   "source": [
    "try:\n",
    "    path = get_file('babi-tasks-v1-2.tar.gz', origin='https://s3.amazonaws.com/text-datasets/babi_tasks_1-20_v1-2.tar.gz')\n",
    "except:\n",
    "    print('Error downloading dataset, please download it manually:\\n'\n",
    "          '$ wget http://www.thespermwhale.com/jaseweston/babi/tasks_1-20_v1-2.tar.gz\\n'\n",
    "          '$ mv tasks_1-20_v1-2.tar.gz ~/.keras/datasets/babi-tasks-v1-2.tar.gz')\n",
    "    raise\n",
    "tar = tarfile.open(path)"
   ]
  },
  {
   "cell_type": "markdown",
   "metadata": {},
   "source": [
    "### Training Set\n",
    "\n",
    "Here the selection of 'Question' type (single supporting fact, three supporting facts etc.) is made for generating the training and test set. "
   ]
  },
  {
   "cell_type": "code",
   "execution_count": 7,
   "metadata": {
    "collapsed": false
   },
   "outputs": [
    {
     "name": "stdout",
     "output_type": "stream",
     "text": [
      "Extracting stories for the challenge: basic-deduction_10k\n"
     ]
    }
   ],
   "source": [
    "challenges = {\n",
    "    'single_supporting_fact_10k': 'tasks_1-20_v1-2/en-10k/qa1_single-supporting-fact_{}.txt',\n",
    "    'two_supporting_facts_10k': 'tasks_1-20_v1-2/en-10k/qa2_two-supporting-facts_{}.txt',\n",
    "    'three_supporting_facts_10k': 'tasks_1-20_v1-2/en-10k/qa2_three-supporting-facts_{}.txt',\n",
    "    'two-arg-relations_10k' : 'tasks_1-20_v1-2/en-10k/qa4_two-arg-relations_{}.txt',\n",
    "    'three-arg-relations_10k' : 'tasks_1-20_v1-2/en-10k/qa5_three-arg-relations_{}.txt',\n",
    "    'yes-no-questions_10k' :'tasks_1-20_v1-2/en-10k/qa6_yes-no-questions_{}.txt',\n",
    "    'counting_10k':'tasks_1-20_v1-2/en-10k/qa7_counting_{}.txt',\n",
    "    'lists-sets_10k' : 'tasks_1-20_v1-2/en-10k/qa8_lists-sets_{}.txt',\n",
    "    'simple-negation_10k':'tasks_1-20_v1-2/en-10k/qa9_simple-negation_{}.txt',\n",
    "    'indefinite-knowledge_10k' : 'tasks_1-20_v1-2/en-10k/qa10_indefinite-knowledge_{}.txt',\n",
    "    'basic-coreference_10k':'tasks_1-20_v1-2/en-10k/qa11_basic-coreference_{}.txt',\n",
    "    'conjunction_10k':'tasks_1-20_v1-2/en-10k/qa12_conjunction_{}.txt',\n",
    "    'compound-coreference_10k':'tasks_1-20_v1-2/en-10k/qa13_compound-coreference_{}.txt',\n",
    "    'time-reasoning_10k':'tasks_1-20_v1-2/en-10k/qa14_time-reasoning_{}.txt',\n",
    "    'basic-deduction_10k' : 'tasks_1-20_v1-2/en-10k/qa15_basic-deduction_{}.txt',\n",
    "    'basic-induction_10k':'tasks_1-20_v1-2/en-10k/qa16_basic-induction_{}.txt',\n",
    "    'positional-reasoning_10k':'tasks_1-20_v1-2/en-10k/qa17_positional-reasoning_{}.txt',\n",
    "    'size-reasoning_10k':'tasks_1-20_v1-2/en-10k/qa18_size-reasoning_{}.txt',\n",
    "    'path-finding_10k':'tasks_1-20_v1-2/en-10k/qa19_path-finding_{}.txt',\n",
    "    'agents-motivations_10k':'tasks_1-20_v1-2/en-10k/qa20_agents-motivations_{}.txt'\n",
    "    \n",
    "}\n",
    "challenge_type = 'basic-deduction_10k'\n",
    "challenge = challenges[challenge_type]\n",
    "\n",
    "print('Extracting stories for the challenge:', challenge_type)\n",
    "train_stories = get_stories(tar.extractfile(challenge.format('train')))\n",
    "test_stories = get_stories(tar.extractfile(challenge.format('test')))\n"
   ]
  },
  {
   "cell_type": "code",
   "execution_count": 8,
   "metadata": {
    "collapsed": false
   },
   "outputs": [
    {
     "name": "stdout",
     "output_type": "stream",
     "text": [
      "Vocab size: 28 unique words\n",
      "Story max length: 44 words\n",
      "Query max length: 6 words\n",
      "Number of training stories: 10000\n",
      "Number of test stories: 1000\n",
      "\n",
      "\n",
      "Here's what a \"story\" tuple looks like (input, query, answer):\n",
      "([u'Mice', u'are', u'afraid', u'of', u'wolves', u'.', u'Gertrude', u'is', u'a', u'mouse', u'.', u'Cats', u'are', u'afraid', u'of', u'sheep', u'.', u'Winona', u'is', u'a', u'mouse', u'.', u'Sheep', u'are', u'afraid', u'of', u'wolves', u'.', u'Wolves', u'are', u'afraid', u'of', u'cats', u'.', u'Emily', u'is', u'a', u'mouse', u'.', u'Jessica', u'is', u'a', u'wolf', u'.'], [u'What', u'is', u'gertrude', u'afraid', u'of', u'?'], u'wolf')\n"
     ]
    }
   ],
   "source": [
    "vocab = sorted(reduce(lambda x, y: x | y, (set(story + q + [answer]) for story, q, answer in train_stories + test_stories)))\n",
    "# Reserve 0 for masking via pad_sequences\n",
    "vocab_size = len(vocab) + 1\n",
    "story_maxlen = max(map(len, (x for x, _, _ in train_stories + test_stories)))\n",
    "query_maxlen = max(map(len, (x for _, x, _ in train_stories + test_stories)))\n",
    "\n",
    "print('Vocab size:', vocab_size, 'unique words')\n",
    "print('Story max length:', story_maxlen, 'words')\n",
    "print('Query max length:', query_maxlen, 'words')\n",
    "print('Number of training stories:', len(train_stories))\n",
    "print('Number of test stories:', len(test_stories))\n",
    "print('\\n')\n",
    "print('Here\\'s what a \"story\" tuple looks like (input, query, answer):')\n",
    "print(train_stories[0])"
   ]
  },
  {
   "cell_type": "markdown",
   "metadata": {},
   "source": [
    "### Vectorizing the word sequences\n",
    "\n",
    "Here we convert the word tokens to word vectors. We know the total number of unique words in the corpus, that is the size of the vocabulary. Thus, to each word in the corpus we assign a number. We also know the maximum length of a story, story_maxlen (story includes facts, query and answer). Thus, for each story we can construct a word vector of length story_maxlen. For eg. suppose, story_maxlen is 68 and the current story length is 24, then we can have a word vector with the first 34 indices as 0 and the next 24 indices with vocabulary index values of words in the current story"
   ]
  },
  {
   "cell_type": "code",
   "execution_count": 9,
   "metadata": {
    "collapsed": false
   },
   "outputs": [
    {
     "name": "stdout",
     "output_type": "stream",
     "text": [
      "inputs: integer tensor of shape (samples, max_length)\n",
      "inputs_train shape: (10000, 44)\n",
      "inputs_test shape: (1000, 44)\n",
      "\n",
      "\n",
      "queries: integer tensor of shape (samples, max_length)\n",
      "queries_train shape: (10000, 6)\n",
      "queries_test shape: (1000, 6)\n",
      "\n",
      "\n",
      "answers: binary (1 or 0) tensor of shape (samples, vocab_size)\n",
      "answers_train shape: (10000, 28)\n",
      "answers_test shape: (1000, 28)\n",
      "\n",
      "\n"
     ]
    }
   ],
   "source": [
    "word_idx = dict((c, i + 1) for i, c in enumerate(vocab))\n",
    "inputs_train, queries_train, answers_train = vectorize_stories(train_stories, word_idx, story_maxlen, query_maxlen)\n",
    "inputs_test, queries_test, answers_test = vectorize_stories(test_stories, word_idx, story_maxlen, query_maxlen)\n",
    "\n",
    "\n",
    "print('inputs: integer tensor of shape (samples, max_length)')\n",
    "print('inputs_train shape:', inputs_train.shape)\n",
    "print('inputs_test shape:', inputs_test.shape)\n",
    "print('\\n')\n",
    "print('queries: integer tensor of shape (samples, max_length)')\n",
    "print('queries_train shape:', queries_train.shape)\n",
    "print('queries_test shape:', queries_test.shape)\n",
    "print('\\n')\n",
    "print('answers: binary (1 or 0) tensor of shape (samples, vocab_size)')\n",
    "print('answers_train shape:', answers_train.shape)\n",
    "print('answers_test shape:', answers_test.shape)\n",
    "print('\\n')\n"
   ]
  },
  {
   "cell_type": "markdown",
   "metadata": {},
   "source": [
    "### End-to-End Memory Networks\n",
    "\n",
    "The model employed is the End-to-End Memory Networks described in Sukhbaatar et. al. (2015). The architecture is a modified form of Memory Network (Weston, 2014) with the training being weakly supervised.Weston's Memory Network was not easy to train via backpropagation and required supervision at each layer.\n",
    "\n",
    "\n",
    "Briefly, the model takes a discrete set of inputs x1, x2, ...xn that are to be stored in memory, a query q, and an answer a. The model writes all x to the memory up to a fixed buffer size, and then finds a continuous representation for x and q. The continuous representation is then processed via multiple hops to output a. \n"
   ]
  },
  {
   "cell_type": "code",
   "execution_count": 10,
   "metadata": {
    "collapsed": false
   },
   "outputs": [],
   "source": [
    "# embed the input sequence into a sequence of vectors\n",
    "# output: (samples, story_maxlen, embedding_dim)\n",
    "input_encoder_m = Sequential()\n",
    "input_encoder_m.add(Embedding(input_dim=vocab_size,\n",
    "                              output_dim=64,\n",
    "                              input_length=story_maxlen))\n",
    "input_encoder_m.add(Dropout(0.3))\n",
    "\n",
    "\n",
    "# embed the question into a sequence of vectors\n",
    "# output: (samples, query_maxlen, embedding_dim)\n",
    "question_encoder = Sequential()\n",
    "question_encoder.add(Embedding(input_dim=vocab_size,\n",
    "                               output_dim=64,\n",
    "                               input_length=query_maxlen))\n",
    "question_encoder.add(Dropout(0.3))\n",
    "\n",
    "# compute a 'match' between input sequence elements (which are vectors)\n",
    "# and the question vector sequence\n",
    "\n",
    "# output: (samples, story_maxlen, query_maxlen)\n",
    "match = Sequential()\n",
    "match.add(Merge([input_encoder_m, question_encoder],\n",
    "                mode='dot',\n",
    "                dot_axes=[2, 2]))\n",
    "match.add(Activation('softmax'))\n",
    "\n",
    "# embed the input into a single vector with size = story_maxlen:\n",
    "# output: (samples, story_maxlen, query_maxlen)\n",
    "input_encoder_c = Sequential()\n",
    "input_encoder_c.add(Embedding(input_dim=vocab_size,\n",
    "                              output_dim=query_maxlen,\n",
    "                              input_length=story_maxlen))\n",
    "input_encoder_c.add(Dropout(0.3))\n",
    "\n",
    "\n",
    "# sum the match vector with the input vector:\n",
    "# output: (samples, story_maxlen, query_maxlen)\n",
    "response = Sequential()\n",
    "response.add(Merge([match, input_encoder_c], mode='sum'))\n",
    "\n",
    "response.add(Permute((2, 1)))  # output: (samples, query_maxlen, story_maxlen)\n",
    "\n",
    "# concatenate the match vector with the question vector,\n",
    "# and do logistic regression on top\n",
    "answer = Sequential()\n",
    "answer.add(Merge([response, question_encoder], mode='concat', concat_axis=-1))\n",
    "\n",
    "\n",
    "# the original paper uses a matrix multiplication for this reduction step.\n",
    "# we choose to use a RNN instead.\n",
    "answer.add(LSTM(32))\n",
    "# one regularization layer -- more would probably be needed.\n",
    "answer.add(Dropout(0.3))\n",
    "answer.add(Dense(vocab_size))\n",
    "# we output a probability distribution over the vocabulary\n",
    "answer.add(Activation('softmax'))\n",
    "\n"
   ]
  },
  {
   "cell_type": "code",
   "execution_count": 11,
   "metadata": {
    "collapsed": false
   },
   "outputs": [
    {
     "name": "stdout",
     "output_type": "stream",
     "text": [
      "Train on 10000 samples, validate on 1000 samples\n",
      "Epoch 1/60\n",
      "10000/10000 [==============================] - 15s - loss: 1.6065 - acc: 0.2500 - val_loss: 1.3983 - val_acc: 0.2410\n",
      "Epoch 2/60\n",
      "10000/10000 [==============================] - 12s - loss: 1.3361 - acc: 0.3520 - val_loss: 1.2915 - val_acc: 0.3620\n",
      "Epoch 3/60\n",
      "10000/10000 [==============================] - 15s - loss: 1.2709 - acc: 0.4179 - val_loss: 1.1893 - val_acc: 0.4730\n",
      "Epoch 4/60\n",
      "10000/10000 [==============================] - 12s - loss: 1.1932 - acc: 0.4809 - val_loss: 1.1241 - val_acc: 0.5030\n",
      "Epoch 5/60\n",
      "10000/10000 [==============================] - 15s - loss: 1.1513 - acc: 0.5026 - val_loss: 1.0892 - val_acc: 0.5270\n",
      "Epoch 6/60\n",
      "10000/10000 [==============================] - 10s - loss: 1.1233 - acc: 0.5121 - val_loss: 1.1332 - val_acc: 0.5030\n",
      "Epoch 7/60\n",
      "10000/10000 [==============================] - 14s - loss: 1.1000 - acc: 0.5228 - val_loss: 1.0243 - val_acc: 0.5340\n",
      "Epoch 8/60\n",
      "10000/10000 [==============================] - 13s - loss: 1.0507 - acc: 0.5397 - val_loss: 0.9854 - val_acc: 0.5470\n",
      "Epoch 9/60\n",
      "10000/10000 [==============================] - 10s - loss: 1.0154 - acc: 0.5499 - val_loss: 0.9930 - val_acc: 0.5340\n",
      "Epoch 10/60\n",
      "10000/10000 [==============================] - 15s - loss: 0.9995 - acc: 0.5538 - val_loss: 0.9394 - val_acc: 0.5560\n",
      "Epoch 11/60\n",
      "10000/10000 [==============================] - 15s - loss: 1.0015 - acc: 0.5493 - val_loss: 0.9520 - val_acc: 0.5480\n",
      "Epoch 12/60\n",
      "10000/10000 [==============================] - 15s - loss: 0.9879 - acc: 0.5428 - val_loss: 0.9389 - val_acc: 0.5620\n",
      "Epoch 13/60\n",
      "10000/10000 [==============================] - 15s - loss: 0.9767 - acc: 0.5563 - val_loss: 0.9381 - val_acc: 0.5600\n",
      "Epoch 14/60\n",
      "10000/10000 [==============================] - 15s - loss: 0.9697 - acc: 0.5564 - val_loss: 0.9347 - val_acc: 0.5460\n",
      "Epoch 15/60\n",
      "10000/10000 [==============================] - 15s - loss: 0.9675 - acc: 0.5542 - val_loss: 0.9328 - val_acc: 0.5530\n",
      "Epoch 16/60\n",
      "10000/10000 [==============================] - 15s - loss: 0.9652 - acc: 0.5506 - val_loss: 0.9217 - val_acc: 0.5580\n",
      "Epoch 17/60\n",
      "10000/10000 [==============================] - 15s - loss: 0.9575 - acc: 0.5549 - val_loss: 0.9385 - val_acc: 0.5570\n",
      "Epoch 18/60\n",
      "10000/10000 [==============================] - 15s - loss: 0.9464 - acc: 0.5570 - val_loss: 0.9217 - val_acc: 0.5410\n",
      "Epoch 19/60\n",
      "10000/10000 [==============================] - 15s - loss: 0.9514 - acc: 0.5617 - val_loss: 0.9242 - val_acc: 0.5620\n",
      "Epoch 20/60\n",
      "10000/10000 [==============================] - 12s - loss: 0.9390 - acc: 0.5689 - val_loss: 0.9092 - val_acc: 0.5390\n",
      "Epoch 21/60\n",
      "10000/10000 [==============================] - 12s - loss: 0.9415 - acc: 0.5607 - val_loss: 0.9208 - val_acc: 0.5520\n",
      "Epoch 22/60\n",
      "10000/10000 [==============================] - 15s - loss: 0.9304 - acc: 0.5691 - val_loss: 0.9010 - val_acc: 0.5590\n",
      "Epoch 23/60\n",
      "10000/10000 [==============================] - 12s - loss: 0.9289 - acc: 0.5671 - val_loss: 0.8997 - val_acc: 0.5570\n",
      "Epoch 24/60\n",
      "10000/10000 [==============================] - 15s - loss: 0.9243 - acc: 0.5647 - val_loss: 0.8984 - val_acc: 0.5590\n",
      "Epoch 25/60\n",
      "10000/10000 [==============================] - 11s - loss: 0.9160 - acc: 0.5748 - val_loss: 0.9408 - val_acc: 0.5480\n",
      "Epoch 26/60\n",
      "10000/10000 [==============================] - 14s - loss: 0.9113 - acc: 0.5796 - val_loss: 0.9152 - val_acc: 0.5560\n",
      "Epoch 27/60\n",
      "10000/10000 [==============================] - 12s - loss: 0.9157 - acc: 0.5717 - val_loss: 0.9095 - val_acc: 0.5710\n",
      "Epoch 28/60\n",
      "10000/10000 [==============================] - 12s - loss: 0.9079 - acc: 0.5770 - val_loss: 0.9254 - val_acc: 0.5680\n",
      "Epoch 29/60\n",
      "10000/10000 [==============================] - 15s - loss: 0.9035 - acc: 0.5743 - val_loss: 0.8913 - val_acc: 0.5680\n",
      "Epoch 30/60\n",
      "10000/10000 [==============================] - 9s - loss: 0.8955 - acc: 0.5770 - val_loss: 0.9212 - val_acc: 0.5570\n",
      "Epoch 31/60\n",
      "10000/10000 [==============================] - 13s - loss: 0.8940 - acc: 0.5811 - val_loss: 0.8936 - val_acc: 0.5640\n",
      "Epoch 32/60\n",
      "10000/10000 [==============================] - 15s - loss: 0.8905 - acc: 0.5793 - val_loss: 0.9278 - val_acc: 0.5460\n",
      "Epoch 33/60\n",
      "10000/10000 [==============================] - 15s - loss: 0.8836 - acc: 0.5867 - val_loss: 0.9034 - val_acc: 0.5600\n",
      "Epoch 34/60\n",
      "10000/10000 [==============================] - 15s - loss: 0.8815 - acc: 0.5876 - val_loss: 0.9086 - val_acc: 0.5700\n",
      "Epoch 35/60\n",
      "10000/10000 [==============================] - 15s - loss: 0.8802 - acc: 0.5874 - val_loss: 0.9028 - val_acc: 0.5680\n",
      "Epoch 36/60\n",
      "10000/10000 [==============================] - 15s - loss: 0.8733 - acc: 0.5915 - val_loss: 0.9040 - val_acc: 0.5780\n",
      "Epoch 37/60\n",
      "10000/10000 [==============================] - 15s - loss: 0.8720 - acc: 0.5952 - val_loss: 0.8888 - val_acc: 0.5650\n",
      "Epoch 38/60\n",
      "10000/10000 [==============================] - 15s - loss: 0.8693 - acc: 0.5944 - val_loss: 0.8934 - val_acc: 0.5620\n",
      "Epoch 39/60\n",
      "10000/10000 [==============================] - 15s - loss: 0.8687 - acc: 0.5932 - val_loss: 0.9005 - val_acc: 0.5390\n",
      "Epoch 40/60\n",
      "10000/10000 [==============================] - 15s - loss: 0.8696 - acc: 0.5922 - val_loss: 0.9130 - val_acc: 0.5540\n",
      "Epoch 41/60\n",
      "10000/10000 [==============================] - 13s - loss: 0.8530 - acc: 0.6050 - val_loss: 0.9112 - val_acc: 0.5470\n",
      "Epoch 42/60\n",
      "10000/10000 [==============================] - 15s - loss: 0.8545 - acc: 0.6005 - val_loss: 0.8975 - val_acc: 0.5780\n",
      "Epoch 43/60\n",
      "10000/10000 [==============================] - 12s - loss: 0.8469 - acc: 0.6062 - val_loss: 0.9185 - val_acc: 0.5410\n",
      "Epoch 44/60\n",
      "10000/10000 [==============================] - 15s - loss: 0.8401 - acc: 0.6093 - val_loss: 0.9226 - val_acc: 0.5720\n",
      "Epoch 45/60\n",
      "10000/10000 [==============================] - 15s - loss: 0.8409 - acc: 0.6090 - val_loss: 0.9233 - val_acc: 0.5530\n",
      "Epoch 46/60\n",
      "10000/10000 [==============================] - 11s - loss: 0.8411 - acc: 0.6110 - val_loss: 0.9310 - val_acc: 0.5560\n",
      "Epoch 47/60\n",
      "10000/10000 [==============================] - 15s - loss: 0.8351 - acc: 0.6122 - val_loss: 0.9408 - val_acc: 0.5430\n",
      "Epoch 48/60\n",
      "10000/10000 [==============================] - 10s - loss: 0.8235 - acc: 0.6212 - val_loss: 0.9285 - val_acc: 0.5360\n",
      "Epoch 49/60\n",
      "10000/10000 [==============================] - 14s - loss: 0.8300 - acc: 0.6156 - val_loss: 0.9315 - val_acc: 0.5500\n",
      "Epoch 50/60\n",
      "10000/10000 [==============================] - 15s - loss: 0.8289 - acc: 0.6125 - val_loss: 0.9321 - val_acc: 0.5520\n",
      "Epoch 51/60\n",
      "10000/10000 [==============================] - 10s - loss: 0.8125 - acc: 0.6275 - val_loss: 0.9322 - val_acc: 0.5570\n",
      "Epoch 52/60\n",
      "10000/10000 [==============================] - 14s - loss: 0.8122 - acc: 0.6213 - val_loss: 0.9104 - val_acc: 0.5690\n",
      "Epoch 53/60\n",
      "10000/10000 [==============================] - 15s - loss: 0.8097 - acc: 0.6276 - val_loss: 0.9323 - val_acc: 0.5710\n",
      "Epoch 54/60\n",
      "10000/10000 [==============================] - 15s - loss: 0.8111 - acc: 0.6309 - val_loss: 0.9539 - val_acc: 0.5550\n",
      "Epoch 55/60\n",
      "10000/10000 [==============================] - 15s - loss: 0.8013 - acc: 0.6300 - val_loss: 0.9126 - val_acc: 0.5700\n",
      "Epoch 56/60\n",
      "10000/10000 [==============================] - 15s - loss: 0.8018 - acc: 0.6283 - val_loss: 0.9220 - val_acc: 0.5540\n",
      "Epoch 57/60\n",
      "10000/10000 [==============================] - 15s - loss: 0.7934 - acc: 0.6350 - val_loss: 0.9645 - val_acc: 0.5380\n",
      "Epoch 58/60\n",
      "10000/10000 [==============================] - 15s - loss: 0.7873 - acc: 0.6382 - val_loss: 0.9552 - val_acc: 0.5670\n",
      "Epoch 59/60\n",
      "10000/10000 [==============================] - 15s - loss: 0.7882 - acc: 0.6424 - val_loss: 0.9933 - val_acc: 0.5470\n",
      "Epoch 60/60\n",
      "10000/10000 [==============================] - 15s - loss: 0.7831 - acc: 0.6427 - val_loss: 0.9837 - val_acc: 0.5620\n"
     ]
    },
    {
     "data": {
      "text/plain": [
       "<keras.callbacks.History at 0x7fbb7bc63c10>"
      ]
     },
     "execution_count": 11,
     "metadata": {},
     "output_type": "execute_result"
    }
   ],
   "source": [
    "answer.compile(optimizer='rmsprop', loss='categorical_crossentropy',\n",
    "               metrics=['accuracy'])\n",
    "# Note: you could use a Graph model to avoid repeat the input twice\n",
    "answer.fit([inputs_train, queries_train, inputs_train], answers_train,\n",
    "           batch_size=32,\n",
    "           nb_epoch=60,\n",
    "           validation_data=([inputs_test, queries_test, inputs_test], answers_test))"
   ]
  },
  {
   "cell_type": "markdown",
   "metadata": {},
   "source": [
    "### Making predictions based on the fitted model"
   ]
  },
  {
   "cell_type": "code",
   "execution_count": 12,
   "metadata": {
    "collapsed": false
   },
   "outputs": [
    {
     "name": "stdout",
     "output_type": "stream",
     "text": [
      "1000/1000 [==============================] - 0s     \n"
     ]
    }
   ],
   "source": [
    "predictions=answer.predict_classes([inputs_test, queries_test, inputs_test], batch_size=32)"
   ]
  },
  {
   "cell_type": "markdown",
   "metadata": {},
   "source": [
    "### Example story and model prediction"
   ]
  },
  {
   "cell_type": "code",
   "execution_count": 13,
   "metadata": {
    "collapsed": false,
    "scrolled": true
   },
   "outputs": [],
   "source": [
    "def pred_evaluation(ind):\n",
    "    \n",
    "    print (\"The story is -: \")\n",
    "    facts = test_stories[ind]\n",
    "    print(' '.join(facts[0]))\n",
    "    print('\\n')\n",
    "    \n",
    "    print (\"The query is -:\")\n",
    "    print(' '.join(facts[1]))\n",
    "\n",
    "    print (\"\\nThe predicted answer is -:\")\n",
    "    ans = predictions[ind]\n",
    "    for key, value in (word_idx).items():\n",
    "        if value == ans:\n",
    "            print(key)\n",
    "            print('\\n')\n",
    "            \n"
   ]
  },
  {
   "cell_type": "code",
   "execution_count": 14,
   "metadata": {
    "collapsed": false
   },
   "outputs": [
    {
     "name": "stdout",
     "output_type": "stream",
     "text": [
      "The story is -: \n",
      "Wolves are afraid of mice . Sheep are afraid of mice . Winona is a sheep . Mice are afraid of cats . Cats are afraid of wolves . Jessica is a mouse . Emily is a cat . Gertrude is a wolf .\n",
      "\n",
      "\n",
      "The query is -:\n",
      "What is winona afraid of ?\n",
      "\n",
      "The predicted answer is -:\n",
      "mouse\n",
      "\n",
      "\n"
     ]
    }
   ],
   "source": [
    "pred_evaluation(1)\n"
   ]
  },
  {
   "cell_type": "code",
   "execution_count": 15,
   "metadata": {
    "collapsed": false
   },
   "outputs": [
    {
     "name": "stdout",
     "output_type": "stream",
     "text": [
      "The story is -: \n",
      "Cats are afraid of wolves . Mice are afraid of sheep . Sheep are afraid of mice . Emily is a sheep . Wolves are afraid of sheep . Gertrude is a sheep . Winona is a wolf . Jessica is a mouse .\n",
      "\n",
      "\n",
      "The query is -:\n",
      "What is gertrude afraid of ?\n",
      "\n",
      "The predicted answer is -:\n",
      "mouse\n",
      "\n",
      "\n"
     ]
    }
   ],
   "source": [
    "pred_evaluation(20)\n"
   ]
  },
  {
   "cell_type": "code",
   "execution_count": 16,
   "metadata": {
    "collapsed": false
   },
   "outputs": [
    {
     "name": "stdout",
     "output_type": "stream",
     "text": [
      "The story is -: \n",
      "Mice are afraid of wolves . Sheep are afraid of mice . Wolves are afraid of sheep . Gertrude is a mouse . Cats are afraid of sheep . Winona is a cat . Jessica is a wolf . Emily is a mouse .\n",
      "\n",
      "\n",
      "The query is -:\n",
      "What is gertrude afraid of ?\n",
      "\n",
      "The predicted answer is -:\n",
      "sheep\n",
      "\n",
      "\n"
     ]
    }
   ],
   "source": [
    "pred_evaluation(540)"
   ]
  }
 ],
 "metadata": {
  "kernelspec": {
   "display_name": "Python 2",
   "language": "python",
   "name": "python2"
  },
  "language_info": {
   "codemirror_mode": {
    "name": "ipython",
    "version": 2
   },
   "file_extension": ".py",
   "mimetype": "text/x-python",
   "name": "python",
   "nbconvert_exporter": "python",
   "pygments_lexer": "ipython2",
   "version": "2.7.9"
  }
 },
 "nbformat": 4,
 "nbformat_minor": 1
}
