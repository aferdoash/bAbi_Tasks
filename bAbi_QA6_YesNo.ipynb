{
 "cells": [
  {
   "cell_type": "markdown",
   "metadata": {},
   "source": [
    "### QA Type 6 : Yes/No Questions\n",
    "\n",
    "Task 6 tests on some of the simplest questions possible (specifically, ones with a single supporting fact), the ability of a model to answer true/false type questions like “Is John in the playground?”. \n",
    "\n",
    "For training and testing we have used the 10k dataset, containing 10,000 training examples.\n",
    "An example QA set is as below -:\n",
    "\n",
    "1. Mary moved to the bathroom.\n",
    "2. Sandra journeyed to the bedroom.\n",
    "3. Is Sandra in the hallway? \tno\t"
   ]
  },
  {
   "cell_type": "code",
   "execution_count": 1,
   "metadata": {
    "collapsed": false
   },
   "outputs": [
    {
     "name": "stderr",
     "output_type": "stream",
     "text": [
      "Using TensorFlow backend.\n"
     ]
    }
   ],
   "source": [
    "from __future__ import print_function\n",
    "from keras.models import Sequential\n",
    "from keras.layers.embeddings import Embedding\n",
    "from keras.layers import Activation, Dense, Merge, Permute, Dropout\n",
    "from keras.layers import LSTM\n",
    "from keras.utils.data_utils import get_file\n",
    "from keras.preprocessing.sequence import pad_sequences\n",
    "from functools import reduce\n",
    "import tarfile\n",
    "import numpy as np\n",
    "import re"
   ]
  },
  {
   "cell_type": "markdown",
   "metadata": {},
   "source": [
    "### Story processing\n",
    "\n",
    "Each story is processed to reduce sentences to tokens and combine all facts and queries relevant to the story. "
   ]
  },
  {
   "cell_type": "code",
   "execution_count": 2,
   "metadata": {
    "collapsed": false
   },
   "outputs": [],
   "source": [
    "def tokenize(sent):\n",
    "    '''Return the tokens of a sentence including punctuation.\n",
    "    >>> tokenize('Bob dropped the apple. Where is the apple?')\n",
    "    ['Bob', 'dropped', 'the', 'apple', '.', 'Where', 'is', 'the', 'apple', '?']\n",
    "    '''\n",
    "    return [x.strip() for x in re.split('(\\W+)?', sent) if x.strip()]\n"
   ]
  },
  {
   "cell_type": "code",
   "execution_count": 3,
   "metadata": {
    "collapsed": true
   },
   "outputs": [],
   "source": [
    "def parse_stories(lines, only_supporting=False):\n",
    "    '''Parse stories provided in the bAbi tasks format\n",
    "    If only_supporting is true, only the sentences that support the answer are kept.\n",
    "    '''\n",
    "    data = []\n",
    "    story = []\n",
    "    for line in lines:\n",
    "        line = line.decode('utf-8').strip()\n",
    "        nid, line = line.split(' ', 1)\n",
    "        nid = int(nid)\n",
    "        if nid == 1:\n",
    "            story = []\n",
    "        if '\\t' in line:\n",
    "            q, a, supporting = line.split('\\t')\n",
    "            q = tokenize(q)\n",
    "            substory = None\n",
    "            if only_supporting:\n",
    "                # Only select the related substory\n",
    "                supporting = map(int, supporting.split())\n",
    "                substory = [story[i - 1] for i in supporting]\n",
    "            else:\n",
    "                # Provide all the substories\n",
    "                substory = [x for x in story if x]\n",
    "            data.append((substory, q, a))\n",
    "            story.append('')\n",
    "        else:\n",
    "            sent = tokenize(line)\n",
    "            story.append(sent)\n",
    "    return data"
   ]
  },
  {
   "cell_type": "code",
   "execution_count": 4,
   "metadata": {
    "collapsed": true
   },
   "outputs": [],
   "source": [
    "\n",
    "def get_stories(f, only_supporting=False, max_length=None):\n",
    "    '''Given a file name, read the file, retrieve the stories, and then convert the sentences into a single story.\n",
    "    If max_length is supplied, any stories longer than max_length tokens will be discarded.\n",
    "    '''\n",
    "    data = parse_stories(f.readlines(), only_supporting=only_supporting)\n",
    "    flatten = lambda data: reduce(lambda x, y: x + y, data)\n",
    "    data = [(flatten(story), q, answer) for story, q, answer in data if not max_length or len(flatten(story)) < max_length]\n",
    "    return data\n"
   ]
  },
  {
   "cell_type": "code",
   "execution_count": 5,
   "metadata": {
    "collapsed": true
   },
   "outputs": [],
   "source": [
    "def vectorize_stories(data, word_idx, story_maxlen, query_maxlen):\n",
    "    X = []\n",
    "    Xq = []\n",
    "    Y = []\n",
    "    for story, query, answer in data:\n",
    "        x = [word_idx[w] for w in story]\n",
    "        xq = [word_idx[w] for w in query]\n",
    "        y = np.zeros(len(word_idx) + 1)  # let's not forget that index 0 is reserved\n",
    "        y[word_idx[answer]] = 1\n",
    "        X.append(x)\n",
    "        Xq.append(xq)\n",
    "        Y.append(y)\n",
    "    return (pad_sequences(X, maxlen=story_maxlen),\n",
    "            pad_sequences(Xq, maxlen=query_maxlen), np.array(Y))"
   ]
  },
  {
   "cell_type": "code",
   "execution_count": 6,
   "metadata": {
    "collapsed": false
   },
   "outputs": [],
   "source": [
    "try:\n",
    "    path = get_file('babi-tasks-v1-2.tar.gz', origin='https://s3.amazonaws.com/text-datasets/babi_tasks_1-20_v1-2.tar.gz')\n",
    "except:\n",
    "    print('Error downloading dataset, please download it manually:\\n'\n",
    "          '$ wget http://www.thespermwhale.com/jaseweston/babi/tasks_1-20_v1-2.tar.gz\\n'\n",
    "          '$ mv tasks_1-20_v1-2.tar.gz ~/.keras/datasets/babi-tasks-v1-2.tar.gz')\n",
    "    raise\n",
    "tar = tarfile.open(path)"
   ]
  },
  {
   "cell_type": "markdown",
   "metadata": {},
   "source": [
    "### Training Set\n",
    "\n",
    "Here the selection of 'Question' type (single supporting fact, three supporting facts etc.) is made for generating the training and test set. "
   ]
  },
  {
   "cell_type": "code",
   "execution_count": 7,
   "metadata": {
    "collapsed": false
   },
   "outputs": [
    {
     "name": "stdout",
     "output_type": "stream",
     "text": [
      "Extracting stories for the challenge: yes-no-questions_10k\n"
     ]
    }
   ],
   "source": [
    "challenges = {\n",
    "    # QA1 with 10,000 samples\n",
    "    'single_supporting_fact_10k': 'tasks_1-20_v1-2/en-10k/qa1_single-supporting-fact_{}.txt',\n",
    "    # QA2 with 10,000 samples\n",
    "    'two_supporting_facts_10k': 'tasks_1-20_v1-2/en-10k/qa2_two-supporting-facts_{}.txt',\n",
    "    # QA4\n",
    "    'two-arg-relations_10k' : 'tasks_1-20_v1-2/en-10k/qa4_two-arg-relations_{}.txt',\n",
    "    # QA5 \n",
    "    'three-arg-relations_10k' : 'tasks_1-20_v1-2/en-10k/qa5_three-arg-relations_{}.txt',\n",
    "    'yes-no-questions_10k' :'tasks_1-20_v1-2/en-10k/qa6_yes-no-questions_{}.txt'\n",
    "}\n",
    "challenge_type = 'yes-no-questions_10k'\n",
    "challenge = challenges[challenge_type]\n",
    "\n",
    "print('Extracting stories for the challenge:', challenge_type)\n",
    "train_stories = get_stories(tar.extractfile(challenge.format('train')))\n",
    "test_stories = get_stories(tar.extractfile(challenge.format('test')))\n"
   ]
  },
  {
   "cell_type": "code",
   "execution_count": 8,
   "metadata": {
    "collapsed": false
   },
   "outputs": [
    {
     "name": "stdout",
     "output_type": "stream",
     "text": [
      "Vocab size: 38 unique words\n",
      "Story max length: 156 words\n",
      "Query max length: 6 words\n",
      "Number of training stories: 10000\n",
      "Number of test stories: 1000\n",
      "\n",
      "\n",
      "Here's what a \"story\" tuple looks like (input, query, answer):\n",
      "([u'Mary', u'moved', u'to', u'the', u'bathroom', u'.', u'Sandra', u'journeyed', u'to', u'the', u'bedroom', u'.'], [u'Is', u'Sandra', u'in', u'the', u'hallway', u'?'], u'no')\n"
     ]
    }
   ],
   "source": [
    "vocab = sorted(reduce(lambda x, y: x | y, (set(story + q + [answer]) for story, q, answer in train_stories + test_stories)))\n",
    "# Reserve 0 for masking via pad_sequences\n",
    "vocab_size = len(vocab) + 1\n",
    "story_maxlen = max(map(len, (x for x, _, _ in train_stories + test_stories)))\n",
    "query_maxlen = max(map(len, (x for _, x, _ in train_stories + test_stories)))\n",
    "\n",
    "print('Vocab size:', vocab_size, 'unique words')\n",
    "print('Story max length:', story_maxlen, 'words')\n",
    "print('Query max length:', query_maxlen, 'words')\n",
    "print('Number of training stories:', len(train_stories))\n",
    "print('Number of test stories:', len(test_stories))\n",
    "print('\\n')\n",
    "print('Here\\'s what a \"story\" tuple looks like (input, query, answer):')\n",
    "print(train_stories[0])"
   ]
  },
  {
   "cell_type": "markdown",
   "metadata": {},
   "source": [
    "### Vectorizing the word sequences\n",
    "\n",
    "Here we convert the word tokens to word vectors. We know the total number of unique words in the corpus, that is the size of the vocabulary. Thus, to each word in the corpus we assign a number. We also know the maximum length of a story, story_maxlen (story includes facts, query and answer). Thus, for each story we can construct a word vector of length story_maxlen. For eg. suppose, story_maxlen is 68 and the current story length is 24, then we can have a word vector with the first 34 indices as 0 and the next 24 indices with vocabulary index values of words in the current story"
   ]
  },
  {
   "cell_type": "code",
   "execution_count": 9,
   "metadata": {
    "collapsed": false
   },
   "outputs": [
    {
     "name": "stdout",
     "output_type": "stream",
     "text": [
      "inputs: integer tensor of shape (samples, max_length)\n",
      "inputs_train shape: (10000, 156)\n",
      "inputs_test shape: (1000, 156)\n",
      "\n",
      "\n",
      "queries: integer tensor of shape (samples, max_length)\n",
      "queries_train shape: (10000, 6)\n",
      "queries_test shape: (1000, 6)\n",
      "\n",
      "\n",
      "answers: binary (1 or 0) tensor of shape (samples, vocab_size)\n",
      "answers_train shape: (10000, 38)\n",
      "answers_test shape: (1000, 38)\n",
      "\n",
      "\n"
     ]
    }
   ],
   "source": [
    "word_idx = dict((c, i + 1) for i, c in enumerate(vocab))\n",
    "inputs_train, queries_train, answers_train = vectorize_stories(train_stories, word_idx, story_maxlen, query_maxlen)\n",
    "inputs_test, queries_test, answers_test = vectorize_stories(test_stories, word_idx, story_maxlen, query_maxlen)\n",
    "\n",
    "\n",
    "print('inputs: integer tensor of shape (samples, max_length)')\n",
    "print('inputs_train shape:', inputs_train.shape)\n",
    "print('inputs_test shape:', inputs_test.shape)\n",
    "print('\\n')\n",
    "print('queries: integer tensor of shape (samples, max_length)')\n",
    "print('queries_train shape:', queries_train.shape)\n",
    "print('queries_test shape:', queries_test.shape)\n",
    "print('\\n')\n",
    "print('answers: binary (1 or 0) tensor of shape (samples, vocab_size)')\n",
    "print('answers_train shape:', answers_train.shape)\n",
    "print('answers_test shape:', answers_test.shape)\n",
    "print('\\n')\n"
   ]
  },
  {
   "cell_type": "markdown",
   "metadata": {},
   "source": [
    "### End-to-End Memory Networks\n",
    "\n",
    "The model employed is the End-to-End Memory Networks described in Sukhbaatar et. al. (2015). The architecture is a modified form of Memory Network (Weston, 2014) with the training being weakly supervised.Weston's Memory Network was not easy to train via backpropagation and required supervision at each layer.\n",
    "\n",
    "\n",
    "Briefly, the model takes a discrete set of inputs x1, x2, ...xn that are to be stored in memory, a query q, and an answer a. The model writes all x to the memory up to a fixed buffer size, and then finds a continuous representation for x and q. The continuous representation is then processed via multiple hops to output a. \n"
   ]
  },
  {
   "cell_type": "code",
   "execution_count": null,
   "metadata": {
    "collapsed": false
   },
   "outputs": [],
   "source": [
    "# embed the input sequence into a sequence of vectors\n",
    "# output: (samples, story_maxlen, embedding_dim)\n",
    "input_encoder_m = Sequential()\n",
    "input_encoder_m.add(Embedding(input_dim=vocab_size,\n",
    "                              output_dim=64,\n",
    "                              input_length=story_maxlen))\n",
    "input_encoder_m.add(Dropout(0.3))\n",
    "\n",
    "\n",
    "# embed the question into a sequence of vectors\n",
    "# output: (samples, query_maxlen, embedding_dim)\n",
    "question_encoder = Sequential()\n",
    "question_encoder.add(Embedding(input_dim=vocab_size,\n",
    "                               output_dim=64,\n",
    "                               input_length=query_maxlen))\n",
    "question_encoder.add(Dropout(0.3))\n",
    "\n",
    "# compute a 'match' between input sequence elements (which are vectors)\n",
    "# and the question vector sequence\n",
    "\n",
    "# output: (samples, story_maxlen, query_maxlen)\n",
    "match = Sequential()\n",
    "match.add(Merge([input_encoder_m, question_encoder],\n",
    "                mode='dot',\n",
    "                dot_axes=[2, 2]))\n",
    "match.add(Activation('softmax'))\n",
    "\n",
    "# embed the input into a single vector with size = story_maxlen:\n",
    "# output: (samples, story_maxlen, query_maxlen)\n",
    "input_encoder_c = Sequential()\n",
    "input_encoder_c.add(Embedding(input_dim=vocab_size,\n",
    "                              output_dim=query_maxlen,\n",
    "                              input_length=story_maxlen))\n",
    "input_encoder_c.add(Dropout(0.3))\n",
    "\n",
    "\n",
    "# sum the match vector with the input vector:\n",
    "# output: (samples, story_maxlen, query_maxlen)\n",
    "response = Sequential()\n",
    "response.add(Merge([match, input_encoder_c], mode='sum'))\n",
    "\n",
    "response.add(Permute((2, 1)))  # output: (samples, query_maxlen, story_maxlen)\n",
    "\n",
    "# concatenate the match vector with the question vector,\n",
    "# and do logistic regression on top\n",
    "answer = Sequential()\n",
    "answer.add(Merge([response, question_encoder], mode='concat', concat_axis=-1))\n",
    "\n",
    "\n",
    "# the original paper uses a matrix multiplication for this reduction step.\n",
    "# we choose to use a RNN instead.\n",
    "answer.add(LSTM(32))\n",
    "# one regularization layer -- more would probably be needed.\n",
    "answer.add(Dropout(0.3))\n",
    "answer.add(Dense(vocab_size))\n",
    "# we output a probability distribution over the vocabulary\n",
    "answer.add(Activation('softmax'))\n",
    "\n"
   ]
  },
  {
   "cell_type": "code",
   "execution_count": null,
   "metadata": {
    "collapsed": false
   },
   "outputs": [
    {
     "name": "stdout",
     "output_type": "stream",
     "text": [
      "Train on 10000 samples, validate on 1000 samples\n",
      "Epoch 1/60\n",
      "10000/10000 [==============================] - 18s - loss: 0.8289 - acc: 0.5016 - val_loss: 0.6937 - val_acc: 0.5010\n",
      "Epoch 2/60\n",
      "10000/10000 [==============================] - 15s - loss: 0.7010 - acc: 0.5022 - val_loss: 0.6932 - val_acc: 0.5030\n",
      "Epoch 3/60\n",
      "10000/10000 [==============================] - 18s - loss: 0.6957 - acc: 0.5077 - val_loss: 0.6944 - val_acc: 0.5030\n",
      "Epoch 4/60\n",
      "10000/10000 [==============================] - 15s - loss: 0.6950 - acc: 0.4989 - val_loss: 0.6933 - val_acc: 0.5030\n",
      "Epoch 5/60\n",
      "10000/10000 [==============================] - 16s - loss: 0.6943 - acc: 0.4994 - val_loss: 0.6946 - val_acc: 0.5030\n",
      "Epoch 6/60\n",
      "10000/10000 [==============================] - 14s - loss: 0.6945 - acc: 0.4945 - val_loss: 0.6932 - val_acc: 0.5010\n",
      "Epoch 7/60\n",
      "10000/10000 [==============================] - 18s - loss: 0.6940 - acc: 0.5032 - val_loss: 0.6942 - val_acc: 0.4970\n",
      "Epoch 8/60\n",
      "10000/10000 [==============================] - 11s - loss: 0.6932 - acc: 0.5096 - val_loss: 0.6942 - val_acc: 0.4820\n",
      "Epoch 9/60\n",
      "10000/10000 [==============================] - 18s - loss: 0.6891 - acc: 0.5385 - val_loss: 0.6817 - val_acc: 0.5750\n",
      "Epoch 10/60\n",
      "10000/10000 [==============================] - 18s - loss: 0.6518 - acc: 0.6236 - val_loss: 0.6221 - val_acc: 0.6680\n",
      "Epoch 11/60\n",
      "10000/10000 [==============================] - 18s - loss: 0.6232 - acc: 0.6652 - val_loss: 0.6026 - val_acc: 0.6910\n",
      "Epoch 12/60\n",
      "10000/10000 [==============================] - 18s - loss: 0.5915 - acc: 0.6933 - val_loss: 0.5556 - val_acc: 0.7120\n",
      "Epoch 13/60\n",
      "10000/10000 [==============================] - 18s - loss: 0.5606 - acc: 0.7229 - val_loss: 0.5191 - val_acc: 0.7500\n",
      "Epoch 14/60\n",
      "10000/10000 [==============================] - 18s - loss: 0.5225 - acc: 0.7483 - val_loss: 0.4776 - val_acc: 0.7800\n",
      "Epoch 15/60\n",
      "10000/10000 [==============================] - 18s - loss: 0.4874 - acc: 0.7795 - val_loss: 0.4369 - val_acc: 0.8000\n",
      "Epoch 16/60\n",
      "10000/10000 [==============================] - 17s - loss: 0.4398 - acc: 0.8044 - val_loss: 0.4157 - val_acc: 0.8140\n",
      "Epoch 17/60\n",
      "10000/10000 [==============================] - 17s - loss: 0.4067 - acc: 0.8195 - val_loss: 0.4024 - val_acc: 0.8210\n",
      "Epoch 18/60\n",
      "10000/10000 [==============================] - 18s - loss: 0.3906 - acc: 0.8284 - val_loss: 0.3854 - val_acc: 0.8250\n",
      "Epoch 19/60\n",
      "10000/10000 [==============================] - 14s - loss: 0.3694 - acc: 0.8408 - val_loss: 0.3818 - val_acc: 0.8270\n",
      "Epoch 20/60\n",
      "10000/10000 [==============================] - 18s - loss: 0.3568 - acc: 0.8434 - val_loss: 0.3714 - val_acc: 0.8230\n",
      "Epoch 21/60\n",
      "10000/10000 [==============================] - 14s - loss: 0.3458 - acc: 0.8489 - val_loss: 0.3642 - val_acc: 0.8290\n",
      "Epoch 22/60\n",
      "10000/10000 [==============================] - 17s - loss: 0.3454 - acc: 0.8477 - val_loss: 0.3650 - val_acc: 0.8360\n",
      "Epoch 23/60\n",
      "10000/10000 [==============================] - 13s - loss: 0.3417 - acc: 0.8519 - val_loss: 0.3559 - val_acc: 0.8400\n",
      "Epoch 24/60\n",
      "10000/10000 [==============================] - 18s - loss: 0.3333 - acc: 0.8565 - val_loss: 0.3450 - val_acc: 0.8370\n",
      "Epoch 25/60\n",
      "10000/10000 [==============================] - 18s - loss: 0.3266 - acc: 0.8545 - val_loss: 0.3702 - val_acc: 0.8290\n",
      "Epoch 26/60\n",
      "10000/10000 [==============================] - 18s - loss: 0.3263 - acc: 0.8565 - val_loss: 0.3622 - val_acc: 0.8360\n",
      "Epoch 27/60\n",
      "10000/10000 [==============================] - 19s - loss: 0.3160 - acc: 0.8597 - val_loss: 0.3485 - val_acc: 0.8300\n",
      "Epoch 28/60\n",
      "10000/10000 [==============================] - 18s - loss: 0.3159 - acc: 0.8593 - val_loss: 0.3740 - val_acc: 0.8410\n",
      "Epoch 29/60\n",
      "10000/10000 [==============================] - 18s - loss: 0.3188 - acc: 0.8602 - val_loss: 0.3547 - val_acc: 0.8430\n",
      "Epoch 30/60\n",
      "10000/10000 [==============================] - 18s - loss: 0.3142 - acc: 0.8625 - val_loss: 0.3394 - val_acc: 0.8420\n",
      "Epoch 31/60\n",
      "10000/10000 [==============================] - 18s - loss: 0.3084 - acc: 0.8644 - val_loss: 0.3614 - val_acc: 0.8450\n",
      "Epoch 32/60\n",
      "10000/10000 [==============================] - 15s - loss: 0.3087 - acc: 0.8633 - val_loss: 0.3616 - val_acc: 0.8380\n",
      "Epoch 33/60\n",
      "10000/10000 [==============================] - 17s - loss: 0.3082 - acc: 0.8622 - val_loss: 0.3529 - val_acc: 0.8310\n",
      "Epoch 34/60\n",
      "10000/10000 [==============================] - 16s - loss: 0.2987 - acc: 0.8675 - val_loss: 0.3565 - val_acc: 0.8380\n",
      "Epoch 35/60\n",
      "10000/10000 [==============================] - 15s - loss: 0.3015 - acc: 0.8689 - val_loss: 0.3473 - val_acc: 0.8370\n",
      "Epoch 36/60\n",
      "10000/10000 [==============================] - 18s - loss: 0.3035 - acc: 0.8625 - val_loss: 0.3631 - val_acc: 0.8370\n",
      "Epoch 37/60\n",
      "10000/10000 [==============================] - 14s - loss: 0.2966 - acc: 0.8673 - val_loss: 0.3431 - val_acc: 0.8390\n",
      "Epoch 38/60\n",
      "10000/10000 [==============================] - 18s - loss: 0.2979 - acc: 0.8701 - val_loss: 0.3655 - val_acc: 0.8320\n",
      "Epoch 39/60\n",
      "10000/10000 [==============================] - 11s - loss: 0.2969 - acc: 0.8737 - val_loss: 0.3559 - val_acc: 0.8440\n",
      "Epoch 40/60\n",
      "10000/10000 [==============================] - 18s - loss: 0.2931 - acc: 0.8727 - val_loss: 0.3995 - val_acc: 0.8270\n",
      "Epoch 41/60\n",
      "10000/10000 [==============================] - 18s - loss: 0.2904 - acc: 0.8744 - val_loss: 0.3874 - val_acc: 0.8360\n",
      "Epoch 42/60\n",
      "10000/10000 [==============================] - 14s - loss: 0.2692 - acc: 0.8837 - val_loss: 0.3589 - val_acc: 0.8400\n",
      "Epoch 53/60\n",
      "10000/10000 [==============================] - 17s - loss: 0.2667 - acc: 0.8844 - val_loss: 0.3584 - val_acc: 0.8410\n",
      "Epoch 54/60\n",
      "10000/10000 [==============================] - 13s - loss: 0.2698 - acc: 0.8851 - val_loss: 0.3870 - val_acc: 0.8350\n",
      "Epoch 55/60\n",
      "10000/10000 [==============================] - 18s - loss: 0.2649 - acc: 0.8857 - val_loss: 0.3633 - val_acc: 0.8320\n",
      "Epoch 56/60\n",
      "10000/10000 [==============================] - 11s - loss: 0.2662 - acc: 0.8841 - val_loss: 0.3710 - val_acc: 0.8440\n",
      "Epoch 57/60\n",
      "10000/10000 [==============================] - 18s - loss: 0.2638 - acc: 0.8861 - val_loss: 0.3697 - val_acc: 0.8410\n",
      "Epoch 58/60\n",
      "10000/10000 [==============================] - 18s - loss: 0.2595 - acc: 0.8870 - val_loss: 0.3758 - val_acc: 0.8380\n",
      "Epoch 59/60\n",
      "10000/10000 [==============================] - 18s - loss: 0.2609 - acc: 0.8902 - val_loss: 0.3923 - val_acc: 0.8310\n",
      "Epoch 60/60\n",
      "10000/10000 [==============================] - 18s - loss: 0.2527 - acc: 0.8902 - val_loss: 0.3867 - val_acc: 0.8310\n"
     ]
    },
    {
     "data": {
      "text/plain": [
       "<keras.callbacks.History at 0x7fa153495c90>"
      ]
     },
     "execution_count": 11,
     "metadata": {},
     "output_type": "execute_result"
    }
   ],
   "source": [
    "answer.compile(optimizer='rmsprop', loss='categorical_crossentropy',\n",
    "               metrics=['accuracy'])\n",
    "# Note: you could use a Graph model to avoid repeat the input twice\n",
    "answer.fit([inputs_train, queries_train, inputs_train], answers_train,\n",
    "           batch_size=25,\n",
    "           nb_epoch=60,\n",
    "           validation_data=([inputs_test, queries_test, inputs_test], answers_test))"
   ]
  },
  {
   "cell_type": "markdown",
   "metadata": {},
   "source": [
    "### Making predictions based on the fitted model"
   ]
  },
  {
   "cell_type": "code",
   "execution_count": null,
   "metadata": {
    "collapsed": false
   },
   "outputs": [
    {
     "name": "stdout",
     "output_type": "stream",
     "text": [
      "1000/1000 [==============================] - 0s     \n"
     ]
    }
   ],
   "source": [
    "predictions=answer.predict_classes([inputs_test, queries_test, inputs_test], batch_size=32)"
   ]
  },
  {
   "cell_type": "markdown",
   "metadata": {},
   "source": [
    "### Example story and model prediction"
   ]
  },
  {
   "cell_type": "code",
   "execution_count": null,
   "metadata": {
    "collapsed": false,
    "scrolled": true
   },
   "outputs": [],
   "source": [
    "def pred_evaluation(ind):\n",
    "    \n",
    "    print (\"The story is -: \")\n",
    "    facts = test_stories[ind]\n",
    "    print(' '.join(facts[0]))\n",
    "    print('\\n')\n",
    "    \n",
    "    print (\"The query is -:\")\n",
    "    print(' '.join(facts[1]))\n",
    "\n",
    "    print (\"\\nThe predicted answer is -:\")\n",
    "    ans = predictions[ind]\n",
    "    for key, value in (word_idx).items():\n",
    "        if value == ans:\n",
    "            print(key)\n",
    "            print('\\n')\n",
    "            \n"
   ]
  },
  {
   "cell_type": "code",
   "execution_count": null,
   "metadata": {
    "collapsed": false
   },
   "outputs": [
    {
     "name": "stdout",
     "output_type": "stream",
     "text": [
      "The story is -: \n",
      "Mary got the milk there . John moved to the bedroom . Mary discarded the milk . John went to the garden .\n",
      "\n",
      "\n",
      "The query is -:\n",
      "Is John in the kitchen ?\n",
      "\n",
      "The predicted answer is -:\n",
      "no\n",
      "\n",
      "\n"
     ]
    }
   ],
   "source": [
    "pred_evaluation(1)\n"
   ]
  },
  {
   "cell_type": "code",
   "execution_count": null,
   "metadata": {
    "collapsed": false
   },
   "outputs": [
    {
     "name": "stdout",
     "output_type": "stream",
     "text": [
      "The story is -: \n",
      "Daniel grabbed the apple there . Mary travelled to the bedroom .\n",
      "\n",
      "\n",
      "The query is -:\n",
      "Is Mary in the bedroom ?\n",
      "\n",
      "The predicted answer is -:\n",
      "yes\n",
      "\n",
      "\n"
     ]
    }
   ],
   "source": [
    "pred_evaluation(20)\n"
   ]
  },
  {
   "cell_type": "code",
   "execution_count": null,
   "metadata": {
    "collapsed": false
   },
   "outputs": [
    {
     "name": "stdout",
     "output_type": "stream",
     "text": [
      "The story is -: \n",
      "Daniel went to the office . John moved to the garden .\n",
      "\n",
      "\n",
      "The query is -:\n",
      "Is Daniel in the hallway ?\n",
      "\n",
      "The predicted answer is -:\n",
      "no\n",
      "\n",
      "\n"
     ]
    }
   ],
   "source": [
    "pred_evaluation(540)"
   ]
  }
 ],
 "metadata": {
  "kernelspec": {
   "display_name": "Python 2",
   "language": "python",
   "name": "python2"
  },
  "language_info": {
   "codemirror_mode": {
    "name": "ipython",
    "version": 2
   },
   "file_extension": ".py",
   "mimetype": "text/x-python",
   "name": "python",
   "nbconvert_exporter": "python",
   "pygments_lexer": "ipython2",
   "version": "2.7.9"
  }
 },
 "nbformat": 4,
 "nbformat_minor": 1
}
