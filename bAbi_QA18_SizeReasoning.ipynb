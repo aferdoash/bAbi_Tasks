{
 "cells": [
  {
   "cell_type": "markdown",
   "metadata": {},
   "source": [
    "### QA Type 18 : Size Reasoning\n",
    "\n",
    "Task 18 requires reasoning about the relative size of objects and is inspired by the commonsense reasoning examples in the Winograd schema challenge (Levesque et al., 2011). \n",
    "\n",
    "For training and testing we have used the 10k dataset, containing 10,000 training examples and 10,000 testing examples.\n",
    "An example QA set is as below -:\n",
    "\n",
    "1. The box of chocolates fits inside the chest.\n",
    "2. The box is bigger than the chest.\n",
    "3. The box is bigger than the suitcase.\n",
    "4. The suitcase fits inside the box.\n",
    "5. The container is bigger than the box of chocolates.\n",
    "6. Does the box fit in the box of chocolates?\tno\t\n"
   ]
  },
  {
   "cell_type": "code",
   "execution_count": 1,
   "metadata": {
    "collapsed": false
   },
   "outputs": [
    {
     "name": "stderr",
     "output_type": "stream",
     "text": [
      "Using TensorFlow backend.\n"
     ]
    }
   ],
   "source": [
    "from __future__ import print_function\n",
    "from keras.models import Sequential\n",
    "from keras.layers.embeddings import Embedding\n",
    "from keras.layers import Activation, Dense, Merge, Permute, Dropout\n",
    "from keras.layers import LSTM\n",
    "from keras.utils.data_utils import get_file\n",
    "from keras.preprocessing.sequence import pad_sequences\n",
    "from functools import reduce\n",
    "import tarfile\n",
    "import numpy as np\n",
    "import re"
   ]
  },
  {
   "cell_type": "markdown",
   "metadata": {},
   "source": [
    "### Story processing\n",
    "\n",
    "Each story is processed to reduce sentences to tokens and combine all facts and queries relevant to the story. "
   ]
  },
  {
   "cell_type": "code",
   "execution_count": 2,
   "metadata": {
    "collapsed": false
   },
   "outputs": [],
   "source": [
    "def tokenize(sent):\n",
    "    '''Return the tokens of a sentence including punctuation.\n",
    "    >>> tokenize('Bob dropped the apple. Where is the apple?')\n",
    "    ['Bob', 'dropped', 'the', 'apple', '.', 'Where', 'is', 'the', 'apple', '?']\n",
    "    '''\n",
    "    return [x.strip() for x in re.split('(\\W+)?', sent) if x.strip()]\n"
   ]
  },
  {
   "cell_type": "code",
   "execution_count": 3,
   "metadata": {
    "collapsed": true
   },
   "outputs": [],
   "source": [
    "def parse_stories(lines, only_supporting=False):\n",
    "    '''Parse stories provided in the bAbi tasks format\n",
    "    If only_supporting is true, only the sentences that support the answer are kept.\n",
    "    '''\n",
    "    data = []\n",
    "    story = []\n",
    "    for line in lines:\n",
    "        line = line.decode('utf-8').strip()\n",
    "        nid, line = line.split(' ', 1)\n",
    "        nid = int(nid)\n",
    "        if nid == 1:\n",
    "            story = []\n",
    "        if '\\t' in line:\n",
    "            q, a, supporting = line.split('\\t')\n",
    "            q = tokenize(q)\n",
    "            substory = None\n",
    "            if only_supporting:\n",
    "                # Only select the related substory\n",
    "                supporting = map(int, supporting.split())\n",
    "                substory = [story[i - 1] for i in supporting]\n",
    "            else:\n",
    "                # Provide all the substories\n",
    "                substory = [x for x in story if x]\n",
    "            data.append((substory, q, a))\n",
    "            story.append('')\n",
    "        else:\n",
    "            sent = tokenize(line)\n",
    "            story.append(sent)\n",
    "    return data"
   ]
  },
  {
   "cell_type": "code",
   "execution_count": 4,
   "metadata": {
    "collapsed": true
   },
   "outputs": [],
   "source": [
    "\n",
    "def get_stories(f, only_supporting=False, max_length=None):\n",
    "    '''Given a file name, read the file, retrieve the stories, and then convert the sentences into a single story.\n",
    "    If max_length is supplied, any stories longer than max_length tokens will be discarded.\n",
    "    '''\n",
    "    data = parse_stories(f.readlines(), only_supporting=only_supporting)\n",
    "    flatten = lambda data: reduce(lambda x, y: x + y, data)\n",
    "    data = [(flatten(story), q, answer) for story, q, answer in data if not max_length or len(flatten(story)) < max_length]\n",
    "    return data\n"
   ]
  },
  {
   "cell_type": "code",
   "execution_count": 5,
   "metadata": {
    "collapsed": true
   },
   "outputs": [],
   "source": [
    "def vectorize_stories(data, word_idx, story_maxlen, query_maxlen):\n",
    "    X = []\n",
    "    Xq = []\n",
    "    Y = []\n",
    "    for story, query, answer in data:\n",
    "        x = [word_idx[w] for w in story]\n",
    "        xq = [word_idx[w] for w in query]\n",
    "        y = np.zeros(len(word_idx) + 1)  # let's not forget that index 0 is reserved\n",
    "        y[word_idx[answer]] = 1\n",
    "        X.append(x)\n",
    "        Xq.append(xq)\n",
    "        Y.append(y)\n",
    "    return (pad_sequences(X, maxlen=story_maxlen),\n",
    "            pad_sequences(Xq, maxlen=query_maxlen), np.array(Y))"
   ]
  },
  {
   "cell_type": "code",
   "execution_count": 6,
   "metadata": {
    "collapsed": false
   },
   "outputs": [],
   "source": [
    "try:\n",
    "    path = get_file('babi-tasks-v1-2.tar.gz', origin='https://s3.amazonaws.com/text-datasets/babi_tasks_1-20_v1-2.tar.gz')\n",
    "except:\n",
    "    print('Error downloading dataset, please download it manually:\\n'\n",
    "          '$ wget http://www.thespermwhale.com/jaseweston/babi/tasks_1-20_v1-2.tar.gz\\n'\n",
    "          '$ mv tasks_1-20_v1-2.tar.gz ~/.keras/datasets/babi-tasks-v1-2.tar.gz')\n",
    "    raise\n",
    "tar = tarfile.open(path)"
   ]
  },
  {
   "cell_type": "markdown",
   "metadata": {},
   "source": [
    "### Training Set\n",
    "\n",
    "Here the selection of 'Question' type (single supporting fact, three supporting facts etc.) is made for generating the training and test set. "
   ]
  },
  {
   "cell_type": "code",
   "execution_count": 7,
   "metadata": {
    "collapsed": false
   },
   "outputs": [
    {
     "name": "stdout",
     "output_type": "stream",
     "text": [
      "Extracting stories for the challenge: size-reasoning_10k\n"
     ]
    }
   ],
   "source": [
    "challenges = {\n",
    "    'single_supporting_fact_10k': 'tasks_1-20_v1-2/en-10k/qa1_single-supporting-fact_{}.txt',\n",
    "    'two_supporting_facts_10k': 'tasks_1-20_v1-2/en-10k/qa2_two-supporting-facts_{}.txt',\n",
    "    'three_supporting_facts_10k': 'tasks_1-20_v1-2/en-10k/qa2_three-supporting-facts_{}.txt',\n",
    "    'two-arg-relations_10k' : 'tasks_1-20_v1-2/en-10k/qa4_two-arg-relations_{}.txt',\n",
    "    'three-arg-relations_10k' : 'tasks_1-20_v1-2/en-10k/qa5_three-arg-relations_{}.txt',\n",
    "    'yes-no-questions_10k' :'tasks_1-20_v1-2/en-10k/qa6_yes-no-questions_{}.txt',\n",
    "    'counting_10k':'tasks_1-20_v1-2/en-10k/qa7_counting_{}.txt',\n",
    "    'lists-sets_10k' : 'tasks_1-20_v1-2/en-10k/qa8_lists-sets_{}.txt',\n",
    "    'simple-negation_10k':'tasks_1-20_v1-2/en-10k/qa9_simple-negation_{}.txt',\n",
    "    'indefinite-knowledge_10k' : 'tasks_1-20_v1-2/en-10k/qa10_indefinite-knowledge_{}.txt',\n",
    "    'basic-coreference_10k':'tasks_1-20_v1-2/en-10k/qa11_basic-coreference_{}.txt',\n",
    "    'conjunction_10k':'tasks_1-20_v1-2/en-10k/qa12_conjunction_{}.txt',\n",
    "    'compound-coreference_10k':'tasks_1-20_v1-2/en-10k/qa13_compound-coreference_{}.txt',\n",
    "    'time-reasoning_10k':'tasks_1-20_v1-2/en-10k/qa14_time-reasoning_{}.txt',\n",
    "    'basic-deduction_10k' : 'tasks_1-20_v1-2/en-10k/qa15_basic-deduction_{}.txt',\n",
    "    'basic-induction_10k':'tasks_1-20_v1-2/en-10k/qa16_basic-induction_{}.txt',\n",
    "    'positional-reasoning_10k':'tasks_1-20_v1-2/en-10k/qa17_positional-reasoning_{}.txt',\n",
    "    'size-reasoning_10k':'tasks_1-20_v1-2/en-10k/qa18_size-reasoning_{}.txt',\n",
    "    'path-finding_10k':'tasks_1-20_v1-2/en-10k/qa19_path-finding_{}.txt',\n",
    "    'agents-motivations_10k':'tasks_1-20_v1-2/en-10k/qa20_agents-motivations_{}.txt'\n",
    "    \n",
    "}\n",
    "challenge_type = 'size-reasoning_10k'\n",
    "challenge = challenges[challenge_type]\n",
    "\n",
    "print('Extracting stories for the challenge:', challenge_type)\n",
    "train_stories = get_stories(tar.extractfile(challenge.format('train')))\n",
    "test_stories = get_stories(tar.extractfile(challenge.format('test')))\n"
   ]
  },
  {
   "cell_type": "code",
   "execution_count": 8,
   "metadata": {
    "collapsed": false
   },
   "outputs": [
    {
     "name": "stdout",
     "output_type": "stream",
     "text": [
      "Vocab size: 23 unique words\n",
      "Story max length: 169 words\n",
      "Query max length: 10 words\n",
      "Number of training stories: 10000\n",
      "Number of test stories: 1000\n",
      "\n",
      "\n",
      "Here's what a \"story\" tuple looks like (input, query, answer):\n",
      "([u'The', u'box', u'of', u'chocolates', u'fits', u'inside', u'the', u'chest', u'.', u'The', u'box', u'is', u'bigger', u'than', u'the', u'chest', u'.', u'The', u'box', u'is', u'bigger', u'than', u'the', u'suitcase', u'.', u'The', u'suitcase', u'fits', u'inside', u'the', u'box', u'.', u'The', u'container', u'is', u'bigger', u'than', u'the', u'box', u'of', u'chocolates', u'.'], [u'Does', u'the', u'box', u'fit', u'in', u'the', u'box', u'of', u'chocolates', u'?'], u'no')\n"
     ]
    }
   ],
   "source": [
    "vocab = sorted(reduce(lambda x, y: x | y, (set(story + q + [answer]) for story, q, answer in train_stories + test_stories)))\n",
    "# Reserve 0 for masking via pad_sequences\n",
    "vocab_size = len(vocab) + 1\n",
    "story_maxlen = max(map(len, (x for x, _, _ in train_stories + test_stories)))\n",
    "query_maxlen = max(map(len, (x for _, x, _ in train_stories + test_stories)))\n",
    "\n",
    "print('Vocab size:', vocab_size, 'unique words')\n",
    "print('Story max length:', story_maxlen, 'words')\n",
    "print('Query max length:', query_maxlen, 'words')\n",
    "print('Number of training stories:', len(train_stories))\n",
    "print('Number of test stories:', len(test_stories))\n",
    "print('\\n')\n",
    "print('Here\\'s what a \"story\" tuple looks like (input, query, answer):')\n",
    "print(train_stories[0])"
   ]
  },
  {
   "cell_type": "markdown",
   "metadata": {},
   "source": [
    "### Vectorizing the word sequences\n",
    "\n",
    "Here we convert the word tokens to word vectors. We know the total number of unique words in the corpus, that is the size of the vocabulary. Thus, to each word in the corpus we assign a number. We also know the maximum length of a story, story_maxlen (story includes facts, query and answer). Thus, for each story we can construct a word vector of length story_maxlen. For eg. suppose, story_maxlen is 68 and the current story length is 24, then we can have a word vector with the first 34 indices as 0 and the next 24 indices with vocabulary index values of words in the current story"
   ]
  },
  {
   "cell_type": "code",
   "execution_count": 9,
   "metadata": {
    "collapsed": false
   },
   "outputs": [
    {
     "name": "stdout",
     "output_type": "stream",
     "text": [
      "inputs: integer tensor of shape (samples, max_length)\n",
      "inputs_train shape: (10000, 169)\n",
      "inputs_test shape: (1000, 169)\n",
      "\n",
      "\n",
      "queries: integer tensor of shape (samples, max_length)\n",
      "queries_train shape: (10000, 10)\n",
      "queries_test shape: (1000, 10)\n",
      "\n",
      "\n",
      "answers: binary (1 or 0) tensor of shape (samples, vocab_size)\n",
      "answers_train shape: (10000, 23)\n",
      "answers_test shape: (1000, 23)\n",
      "\n",
      "\n"
     ]
    }
   ],
   "source": [
    "word_idx = dict((c, i + 1) for i, c in enumerate(vocab))\n",
    "inputs_train, queries_train, answers_train = vectorize_stories(train_stories, word_idx, story_maxlen, query_maxlen)\n",
    "inputs_test, queries_test, answers_test = vectorize_stories(test_stories, word_idx, story_maxlen, query_maxlen)\n",
    "\n",
    "\n",
    "print('inputs: integer tensor of shape (samples, max_length)')\n",
    "print('inputs_train shape:', inputs_train.shape)\n",
    "print('inputs_test shape:', inputs_test.shape)\n",
    "print('\\n')\n",
    "print('queries: integer tensor of shape (samples, max_length)')\n",
    "print('queries_train shape:', queries_train.shape)\n",
    "print('queries_test shape:', queries_test.shape)\n",
    "print('\\n')\n",
    "print('answers: binary (1 or 0) tensor of shape (samples, vocab_size)')\n",
    "print('answers_train shape:', answers_train.shape)\n",
    "print('answers_test shape:', answers_test.shape)\n",
    "print('\\n')\n"
   ]
  },
  {
   "cell_type": "markdown",
   "metadata": {},
   "source": [
    "### End-to-End Memory Networks\n",
    "\n",
    "The model employed is the End-to-End Memory Networks described in Sukhbaatar et. al. (2015). The architecture is a modified form of Memory Network (Weston, 2014) with the training being weakly supervised.Weston's Memory Network was not easy to train via backpropagation and required supervision at each layer.\n",
    "\n",
    "\n",
    "Briefly, the model takes a discrete set of inputs x1, x2, ...xn that are to be stored in memory, a query q, and an answer a. The model writes all x to the memory up to a fixed buffer size, and then finds a continuous representation for x and q. The continuous representation is then processed via multiple hops to output a. \n"
   ]
  },
  {
   "cell_type": "code",
   "execution_count": 10,
   "metadata": {
    "collapsed": false
   },
   "outputs": [],
   "source": [
    "# embed the input sequence into a sequence of vectors\n",
    "# output: (samples, story_maxlen, embedding_dim)\n",
    "input_encoder_m = Sequential()\n",
    "input_encoder_m.add(Embedding(input_dim=vocab_size,\n",
    "                              output_dim=64,\n",
    "                              input_length=story_maxlen))\n",
    "input_encoder_m.add(Dropout(0.3))\n",
    "\n",
    "\n",
    "# embed the question into a sequence of vectors\n",
    "# output: (samples, query_maxlen, embedding_dim)\n",
    "question_encoder = Sequential()\n",
    "question_encoder.add(Embedding(input_dim=vocab_size,\n",
    "                               output_dim=64,\n",
    "                               input_length=query_maxlen))\n",
    "question_encoder.add(Dropout(0.3))\n",
    "\n",
    "# compute a 'match' between input sequence elements (which are vectors)\n",
    "# and the question vector sequence\n",
    "\n",
    "# output: (samples, story_maxlen, query_maxlen)\n",
    "match = Sequential()\n",
    "match.add(Merge([input_encoder_m, question_encoder],\n",
    "                mode='dot',\n",
    "                dot_axes=[2, 2]))\n",
    "match.add(Activation('softmax'))\n",
    "\n",
    "# embed the input into a single vector with size = story_maxlen:\n",
    "# output: (samples, story_maxlen, query_maxlen)\n",
    "input_encoder_c = Sequential()\n",
    "input_encoder_c.add(Embedding(input_dim=vocab_size,\n",
    "                              output_dim=query_maxlen,\n",
    "                              input_length=story_maxlen))\n",
    "input_encoder_c.add(Dropout(0.3))\n",
    "\n",
    "\n",
    "# sum the match vector with the input vector:\n",
    "# output: (samples, story_maxlen, query_maxlen)\n",
    "response = Sequential()\n",
    "response.add(Merge([match, input_encoder_c], mode='sum'))\n",
    "\n",
    "response.add(Permute((2, 1)))  # output: (samples, query_maxlen, story_maxlen)\n",
    "\n",
    "# concatenate the match vector with the question vector,\n",
    "# and do logistic regression on top\n",
    "answer = Sequential()\n",
    "answer.add(Merge([response, question_encoder], mode='concat', concat_axis=-1))\n",
    "\n",
    "\n",
    "# the original paper uses a matrix multiplication for this reduction step.\n",
    "# we choose to use a RNN instead.\n",
    "answer.add(LSTM(32))\n",
    "# one regularization layer -- more would probably be needed.\n",
    "answer.add(Dropout(0.3))\n",
    "answer.add(Dense(vocab_size))\n",
    "# we output a probability distribution over the vocabulary\n",
    "answer.add(Activation('softmax'))\n",
    "\n"
   ]
  },
  {
   "cell_type": "code",
   "execution_count": 11,
   "metadata": {
    "collapsed": false
   },
   "outputs": [
    {
     "name": "stdout",
     "output_type": "stream",
     "text": [
      "Train on 10000 samples, validate on 1000 samples\n",
      "Epoch 1/60\n",
      "10000/10000 [==============================] - 18s - loss: 0.8354 - acc: 0.4986 - val_loss: 0.6918 - val_acc: 0.5740\n",
      "Epoch 2/60\n",
      "10000/10000 [==============================] - 14s - loss: 0.3678 - acc: 0.8000 - val_loss: 0.1455 - val_acc: 0.9100\n",
      "Epoch 3/60\n",
      "10000/10000 [==============================] - 18s - loss: 0.1477 - acc: 0.9142 - val_loss: 0.1355 - val_acc: 0.9190\n",
      "Epoch 4/60\n",
      "10000/10000 [==============================] - 11s - loss: 0.1345 - acc: 0.9155 - val_loss: 0.1341 - val_acc: 0.9070\n",
      "Epoch 5/60\n",
      "10000/10000 [==============================] - 16s - loss: 0.1288 - acc: 0.9167 - val_loss: 0.1346 - val_acc: 0.9070\n",
      "Epoch 6/60\n",
      "10000/10000 [==============================] - 17s - loss: 0.1241 - acc: 0.9208 - val_loss: 0.1367 - val_acc: 0.9090\n",
      "Epoch 7/60\n",
      "10000/10000 [==============================] - 17s - loss: 0.1209 - acc: 0.9255 - val_loss: 0.1331 - val_acc: 0.9220\n",
      "Epoch 8/60\n",
      "10000/10000 [==============================] - 17s - loss: 0.1174 - acc: 0.9296 - val_loss: 0.1387 - val_acc: 0.9070\n",
      "Epoch 9/60\n",
      "10000/10000 [==============================] - 17s - loss: 0.1150 - acc: 0.9322 - val_loss: 0.1479 - val_acc: 0.9130\n",
      "Epoch 10/60\n",
      "10000/10000 [==============================] - 17s - loss: 0.1122 - acc: 0.9355 - val_loss: 0.1532 - val_acc: 0.8980\n",
      "Epoch 11/60\n",
      "10000/10000 [==============================] - 17s - loss: 0.1118 - acc: 0.9347 - val_loss: 0.1446 - val_acc: 0.9050\n",
      "Epoch 12/60\n",
      "10000/10000 [==============================] - 16s - loss: 0.1092 - acc: 0.9377 - val_loss: 0.1466 - val_acc: 0.9060\n",
      "Epoch 13/60\n",
      "10000/10000 [==============================] - 15s - loss: 0.1063 - acc: 0.9414 - val_loss: 0.1572 - val_acc: 0.9080\n",
      "Epoch 14/60\n",
      "10000/10000 [==============================] - 17s - loss: 0.1029 - acc: 0.9441 - val_loss: 0.1524 - val_acc: 0.8990\n",
      "Epoch 15/60\n",
      "10000/10000 [==============================] - 16s - loss: 0.1032 - acc: 0.9430 - val_loss: 0.1524 - val_acc: 0.9080\n",
      "Epoch 16/60\n",
      "10000/10000 [==============================] - 14s - loss: 0.1003 - acc: 0.9444 - val_loss: 0.1711 - val_acc: 0.9060\n",
      "Epoch 17/60\n",
      "10000/10000 [==============================] - 17s - loss: 0.0974 - acc: 0.9466 - val_loss: 0.1646 - val_acc: 0.9060\n",
      "Epoch 18/60\n",
      "10000/10000 [==============================] - 13s - loss: 0.0960 - acc: 0.9479 - val_loss: 0.1833 - val_acc: 0.9120\n",
      "Epoch 19/60\n",
      "10000/10000 [==============================] - 16s - loss: 0.0926 - acc: 0.9506 - val_loss: 0.1976 - val_acc: 0.9140\n",
      "Epoch 20/60\n",
      "10000/10000 [==============================] - 10s - loss: 0.0931 - acc: 0.9483 - val_loss: 0.1775 - val_acc: 0.8990\n",
      "Epoch 21/60\n",
      "10000/10000 [==============================] - 17s - loss: 0.0909 - acc: 0.9534 - val_loss: 0.1913 - val_acc: 0.9110\n",
      "Epoch 22/60\n",
      "10000/10000 [==============================] - 17s - loss: 0.0891 - acc: 0.9544 - val_loss: 0.1762 - val_acc: 0.9040\n",
      "Epoch 23/60\n",
      "10000/10000 [==============================] - 17s - loss: 0.0855 - acc: 0.9558 - val_loss: 0.1930 - val_acc: 0.9070\n",
      "Epoch 24/60\n",
      "10000/10000 [==============================] - 17s - loss: 0.0847 - acc: 0.9561 - val_loss: 0.1958 - val_acc: 0.9170\n",
      "Epoch 25/60\n",
      "10000/10000 [==============================] - 17s - loss: 0.0820 - acc: 0.9566 - val_loss: 0.1872 - val_acc: 0.9120\n",
      "Epoch 26/60\n",
      "10000/10000 [==============================] - 17s - loss: 0.0824 - acc: 0.9597 - val_loss: 0.2072 - val_acc: 0.9190\n",
      "Epoch 27/60\n",
      "10000/10000 [==============================] - 17s - loss: 0.0782 - acc: 0.9608 - val_loss: 0.2013 - val_acc: 0.9150\n",
      "Epoch 28/60\n",
      "10000/10000 [==============================] - 17s - loss: 0.0754 - acc: 0.9615 - val_loss: 0.1825 - val_acc: 0.9220\n",
      "Epoch 29/60\n",
      "10000/10000 [==============================] - 16s - loss: 0.0740 - acc: 0.9634 - val_loss: 0.1748 - val_acc: 0.9160\n",
      "Epoch 30/60\n",
      "10000/10000 [==============================] - 15s - loss: 0.0717 - acc: 0.9638 - val_loss: 0.2000 - val_acc: 0.9210\n",
      "Epoch 31/60\n",
      "10000/10000 [==============================] - 14s - loss: 0.0673 - acc: 0.9663 - val_loss: 0.2081 - val_acc: 0.9210\n",
      "Epoch 32/60\n",
      "10000/10000 [==============================] - 17s - loss: 0.0642 - acc: 0.9698 - val_loss: 0.2149 - val_acc: 0.9180\n",
      "Epoch 33/60\n",
      "10000/10000 [==============================] - 13s - loss: 0.0633 - acc: 0.9706 - val_loss: 0.2052 - val_acc: 0.9180\n",
      "Epoch 34/60\n",
      "10000/10000 [==============================] - 17s - loss: 0.0606 - acc: 0.9721 - val_loss: 0.1982 - val_acc: 0.9140\n",
      "Epoch 35/60\n",
      "10000/10000 [==============================] - 13s - loss: 0.0585 - acc: 0.9719 - val_loss: 0.2047 - val_acc: 0.9300\n",
      "Epoch 36/60\n",
      "10000/10000 [==============================] - 16s - loss: 0.0574 - acc: 0.9745 - val_loss: 0.1983 - val_acc: 0.9180\n",
      "Epoch 37/60\n",
      "10000/10000 [==============================] - 12s - loss: 0.0556 - acc: 0.9751 - val_loss: 0.2119 - val_acc: 0.9280\n",
      "Epoch 38/60\n",
      "10000/10000 [==============================] - 17s - loss: 0.0525 - acc: 0.9769 - val_loss: 0.2282 - val_acc: 0.9220\n",
      "Epoch 39/60\n",
      "10000/10000 [==============================] - 17s - loss: 0.0497 - acc: 0.9769 - val_loss: 0.2365 - val_acc: 0.9310\n",
      "Epoch 40/60\n",
      "10000/10000 [==============================] - 17s - loss: 0.0487 - acc: 0.9793 - val_loss: 0.2411 - val_acc: 0.9270\n",
      "Epoch 41/60\n",
      "10000/10000 [==============================] - 17s - loss: 0.0467 - acc: 0.9788 - val_loss: 0.2442 - val_acc: 0.9310\n",
      "Epoch 42/60\n",
      "10000/10000 [==============================] - 17s - loss: 0.0456 - acc: 0.9795 - val_loss: 0.2703 - val_acc: 0.9220\n",
      "Epoch 43/60\n",
      "10000/10000 [==============================] - 17s - loss: 0.0455 - acc: 0.9798 - val_loss: 0.2663 - val_acc: 0.9330\n",
      "Epoch 44/60\n",
      "10000/10000 [==============================] - 17s - loss: 0.0426 - acc: 0.9816 - val_loss: 0.2690 - val_acc: 0.9160\n",
      "Epoch 45/60\n",
      "10000/10000 [==============================] - 17s - loss: 0.0408 - acc: 0.9831 - val_loss: 0.2549 - val_acc: 0.9340\n",
      "Epoch 46/60\n",
      "10000/10000 [==============================] - 16s - loss: 0.0408 - acc: 0.9830 - val_loss: 0.2632 - val_acc: 0.9230\n",
      "Epoch 47/60\n",
      "10000/10000 [==============================] - 14s - loss: 0.0363 - acc: 0.9846 - val_loss: 0.2859 - val_acc: 0.9180\n",
      "Epoch 48/60\n",
      "10000/10000 [==============================] - 15s - loss: 0.0383 - acc: 0.9855 - val_loss: 0.2957 - val_acc: 0.9330\n",
      "Epoch 49/60\n",
      "10000/10000 [==============================] - 14s - loss: 0.0334 - acc: 0.9864 - val_loss: 0.2829 - val_acc: 0.9340\n",
      "Epoch 50/60\n",
      "10000/10000 [==============================] - 16s - loss: 0.0372 - acc: 0.9857 - val_loss: 0.2737 - val_acc: 0.9170\n",
      "Epoch 51/60\n",
      "10000/10000 [==============================] - 13s - loss: 0.0314 - acc: 0.9871 - val_loss: 0.2944 - val_acc: 0.9310\n",
      "Epoch 52/60\n",
      "10000/10000 [==============================] - 16s - loss: 0.0312 - acc: 0.9882 - val_loss: 0.3082 - val_acc: 0.9180\n",
      "Epoch 53/60\n",
      "10000/10000 [==============================] - 12s - loss: 0.0306 - acc: 0.9886 - val_loss: 0.2878 - val_acc: 0.9310\n",
      "Epoch 54/60\n",
      "10000/10000 [==============================] - 16s - loss: 0.0312 - acc: 0.9886 - val_loss: 0.3071 - val_acc: 0.9280\n",
      "Epoch 55/60\n",
      "10000/10000 [==============================] - 12s - loss: 0.0273 - acc: 0.9899 - val_loss: 0.3200 - val_acc: 0.9260\n",
      "Epoch 56/60\n",
      "10000/10000 [==============================] - 15s - loss: 0.0278 - acc: 0.9900 - val_loss: 0.3296 - val_acc: 0.9150\n",
      "Epoch 57/60\n",
      "10000/10000 [==============================] - 16s - loss: 0.0304 - acc: 0.9890 - val_loss: 0.3049 - val_acc: 0.9260\n",
      "Epoch 58/60\n",
      "10000/10000 [==============================] - 17s - loss: 0.0228 - acc: 0.9914 - val_loss: 0.3538 - val_acc: 0.9260\n",
      "Epoch 59/60\n",
      "10000/10000 [==============================] - 17s - loss: 0.0229 - acc: 0.9914 - val_loss: 0.3063 - val_acc: 0.9280\n",
      "Epoch 60/60\n",
      "10000/10000 [==============================] - 17s - loss: 0.0296 - acc: 0.9890 - val_loss: 0.3344 - val_acc: 0.9270\n"
     ]
    },
    {
     "data": {
      "text/plain": [
       "<keras.callbacks.History at 0x7f9379d83bd0>"
      ]
     },
     "execution_count": 11,
     "metadata": {},
     "output_type": "execute_result"
    }
   ],
   "source": [
    "answer.compile(optimizer='rmsprop', loss='categorical_crossentropy',\n",
    "               metrics=['accuracy'])\n",
    "# Note: you could use a Graph model to avoid repeat the input twice\n",
    "answer.fit([inputs_train, queries_train, inputs_train], answers_train,\n",
    "           batch_size=32,\n",
    "           nb_epoch=60,\n",
    "           validation_data=([inputs_test, queries_test, inputs_test], answers_test))"
   ]
  },
  {
   "cell_type": "markdown",
   "metadata": {},
   "source": [
    "### Making predictions based on the fitted model"
   ]
  },
  {
   "cell_type": "code",
   "execution_count": 12,
   "metadata": {
    "collapsed": false
   },
   "outputs": [
    {
     "name": "stdout",
     "output_type": "stream",
     "text": [
      "1000/1000 [==============================] - 0s     \n"
     ]
    }
   ],
   "source": [
    "predictions=answer.predict_classes([inputs_test, queries_test, inputs_test], batch_size=32)"
   ]
  },
  {
   "cell_type": "markdown",
   "metadata": {},
   "source": [
    "### Example story and model prediction"
   ]
  },
  {
   "cell_type": "code",
   "execution_count": 13,
   "metadata": {
    "collapsed": false,
    "scrolled": true
   },
   "outputs": [],
   "source": [
    "def pred_evaluation(ind):\n",
    "    \n",
    "    print (\"The story is -: \")\n",
    "    facts = test_stories[ind]\n",
    "    print(' '.join(facts[0]))\n",
    "    print('\\n')\n",
    "    \n",
    "    print (\"The query is -:\")\n",
    "    print(' '.join(facts[1]))\n",
    "\n",
    "    print (\"\\nThe predicted answer is -:\")\n",
    "    ans = predictions[ind]\n",
    "    for key, value in (word_idx).items():\n",
    "        if value == ans:\n",
    "            print(key)\n",
    "            print('\\n')\n",
    "            \n"
   ]
  },
  {
   "cell_type": "code",
   "execution_count": 14,
   "metadata": {
    "collapsed": false
   },
   "outputs": [
    {
     "name": "stdout",
     "output_type": "stream",
     "text": [
      "The story is -: \n",
      "The suitcase fits inside the box . The chocolate fits inside the box . The container is bigger than the box of chocolates . The container is bigger than the suitcase . The box is bigger than the box of chocolates . The container is bigger than the chocolate . The chocolate fits inside the container . The chocolate fits inside the suitcase . The chocolate fits inside the chest . The suitcase fits inside the container .\n",
      "\n",
      "\n",
      "The query is -:\n",
      "Is the chocolate bigger than the box ?\n",
      "\n",
      "The predicted answer is -:\n",
      "no\n",
      "\n",
      "\n"
     ]
    }
   ],
   "source": [
    "pred_evaluation(1)\n"
   ]
  },
  {
   "cell_type": "code",
   "execution_count": 15,
   "metadata": {
    "collapsed": false
   },
   "outputs": [
    {
     "name": "stdout",
     "output_type": "stream",
     "text": [
      "The story is -: \n",
      "The container is bigger than the suitcase . The chest fits inside the box . The chest is bigger than the box of chocolates . The box is bigger than the chocolate . The container is bigger than the suitcase .\n",
      "\n",
      "\n",
      "The query is -:\n",
      "Is the box bigger than the box of chocolates ?\n",
      "\n",
      "The predicted answer is -:\n",
      "yes\n",
      "\n",
      "\n"
     ]
    }
   ],
   "source": [
    "pred_evaluation(20)\n"
   ]
  },
  {
   "cell_type": "code",
   "execution_count": 16,
   "metadata": {
    "collapsed": false
   },
   "outputs": [
    {
     "name": "stdout",
     "output_type": "stream",
     "text": [
      "The story is -: \n",
      "The suitcase is bigger than the box . The container is bigger than the suitcase . The container is bigger than the chocolate . The box fits inside the chest . The container is bigger than the chocolate .\n",
      "\n",
      "\n",
      "The query is -:\n",
      "Is the container bigger than the box ?\n",
      "\n",
      "The predicted answer is -:\n",
      "no\n",
      "\n",
      "\n"
     ]
    }
   ],
   "source": [
    "pred_evaluation(540)"
   ]
  }
 ],
 "metadata": {
  "kernelspec": {
   "display_name": "Python 2",
   "language": "python",
   "name": "python2"
  },
  "language_info": {
   "codemirror_mode": {
    "name": "ipython",
    "version": 2
   },
   "file_extension": ".py",
   "mimetype": "text/x-python",
   "name": "python",
   "nbconvert_exporter": "python",
   "pygments_lexer": "ipython2",
   "version": "2.7.9"
  }
 },
 "nbformat": 4,
 "nbformat_minor": 1
}
