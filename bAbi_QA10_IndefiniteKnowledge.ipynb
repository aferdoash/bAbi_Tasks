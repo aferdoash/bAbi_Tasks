{
 "cells": [
  {
   "cell_type": "markdown",
   "metadata": {},
   "source": [
    "### QA Type 10 : Indefinite Knowledge\n",
    "\n",
    "Task 10 tests if we can model statements that describe possibilities rather than certainties, e.g. “John is either in the\n",
    "classroom or the playground.”, where in that case the answer is “maybe” to the question “Is John in the classroom? \n",
    "\n",
    "For training and testing we have used the 10k dataset, containing 10,000 training examples.\n",
    "An example QA set is as below -:\n",
    "\n",
    "1. Julie is either in the bedroom or the office.\n",
    "2. Fred is in the park.\n",
    "3. Is Julie in the bedroom? \tmaybe\t\n",
    "\n"
   ]
  },
  {
   "cell_type": "code",
   "execution_count": 1,
   "metadata": {
    "collapsed": false
   },
   "outputs": [
    {
     "name": "stderr",
     "output_type": "stream",
     "text": [
      "Using TensorFlow backend.\n"
     ]
    }
   ],
   "source": [
    "from __future__ import print_function\n",
    "from keras.models import Sequential\n",
    "from keras.layers.embeddings import Embedding\n",
    "from keras.layers import Activation, Dense, Merge, Permute, Dropout\n",
    "from keras.layers import LSTM\n",
    "from keras.utils.data_utils import get_file\n",
    "from keras.preprocessing.sequence import pad_sequences\n",
    "from functools import reduce\n",
    "import tarfile\n",
    "import numpy as np\n",
    "import re"
   ]
  },
  {
   "cell_type": "markdown",
   "metadata": {},
   "source": [
    "### Story processing\n",
    "\n",
    "Each story is processed to reduce sentences to tokens and combine all facts and queries relevant to the story. "
   ]
  },
  {
   "cell_type": "code",
   "execution_count": 2,
   "metadata": {
    "collapsed": false
   },
   "outputs": [],
   "source": [
    "def tokenize(sent):\n",
    "    '''Return the tokens of a sentence including punctuation.\n",
    "    >>> tokenize('Bob dropped the apple. Where is the apple?')\n",
    "    ['Bob', 'dropped', 'the', 'apple', '.', 'Where', 'is', 'the', 'apple', '?']\n",
    "    '''\n",
    "    return [x.strip() for x in re.split('(\\W+)?', sent) if x.strip()]\n"
   ]
  },
  {
   "cell_type": "code",
   "execution_count": 3,
   "metadata": {
    "collapsed": true
   },
   "outputs": [],
   "source": [
    "def parse_stories(lines, only_supporting=False):\n",
    "    '''Parse stories provided in the bAbi tasks format\n",
    "    If only_supporting is true, only the sentences that support the answer are kept.\n",
    "    '''\n",
    "    data = []\n",
    "    story = []\n",
    "    for line in lines:\n",
    "        line = line.decode('utf-8').strip()\n",
    "        nid, line = line.split(' ', 1)\n",
    "        nid = int(nid)\n",
    "        if nid == 1:\n",
    "            story = []\n",
    "        if '\\t' in line:\n",
    "            q, a, supporting = line.split('\\t')\n",
    "            q = tokenize(q)\n",
    "            substory = None\n",
    "            if only_supporting:\n",
    "                # Only select the related substory\n",
    "                supporting = map(int, supporting.split())\n",
    "                substory = [story[i - 1] for i in supporting]\n",
    "            else:\n",
    "                # Provide all the substories\n",
    "                substory = [x for x in story if x]\n",
    "            data.append((substory, q, a))\n",
    "            story.append('')\n",
    "        else:\n",
    "            sent = tokenize(line)\n",
    "            story.append(sent)\n",
    "    return data"
   ]
  },
  {
   "cell_type": "code",
   "execution_count": 4,
   "metadata": {
    "collapsed": true
   },
   "outputs": [],
   "source": [
    "\n",
    "def get_stories(f, only_supporting=False, max_length=None):\n",
    "    '''Given a file name, read the file, retrieve the stories, and then convert the sentences into a single story.\n",
    "    If max_length is supplied, any stories longer than max_length tokens will be discarded.\n",
    "    '''\n",
    "    data = parse_stories(f.readlines(), only_supporting=only_supporting)\n",
    "    flatten = lambda data: reduce(lambda x, y: x + y, data)\n",
    "    data = [(flatten(story), q, answer) for story, q, answer in data if not max_length or len(flatten(story)) < max_length]\n",
    "    return data\n"
   ]
  },
  {
   "cell_type": "code",
   "execution_count": 5,
   "metadata": {
    "collapsed": true
   },
   "outputs": [],
   "source": [
    "def vectorize_stories(data, word_idx, story_maxlen, query_maxlen):\n",
    "    X = []\n",
    "    Xq = []\n",
    "    Y = []\n",
    "    for story, query, answer in data:\n",
    "        x = [word_idx[w] for w in story]\n",
    "        xq = [word_idx[w] for w in query]\n",
    "        y = np.zeros(len(word_idx) + 1)  # let's not forget that index 0 is reserved\n",
    "        y[word_idx[answer]] = 1\n",
    "        X.append(x)\n",
    "        Xq.append(xq)\n",
    "        Y.append(y)\n",
    "    return (pad_sequences(X, maxlen=story_maxlen),\n",
    "            pad_sequences(Xq, maxlen=query_maxlen), np.array(Y))"
   ]
  },
  {
   "cell_type": "code",
   "execution_count": 6,
   "metadata": {
    "collapsed": false
   },
   "outputs": [],
   "source": [
    "try:\n",
    "    path = get_file('babi-tasks-v1-2.tar.gz', origin='https://s3.amazonaws.com/text-datasets/babi_tasks_1-20_v1-2.tar.gz')\n",
    "except:\n",
    "    print('Error downloading dataset, please download it manually:\\n'\n",
    "          '$ wget http://www.thespermwhale.com/jaseweston/babi/tasks_1-20_v1-2.tar.gz\\n'\n",
    "          '$ mv tasks_1-20_v1-2.tar.gz ~/.keras/datasets/babi-tasks-v1-2.tar.gz')\n",
    "    raise\n",
    "tar = tarfile.open(path)"
   ]
  },
  {
   "cell_type": "markdown",
   "metadata": {},
   "source": [
    "### Training Set\n",
    "\n",
    "Here the selection of 'Question' type (single supporting fact, three supporting facts etc.) is made for generating the training and test set. "
   ]
  },
  {
   "cell_type": "code",
   "execution_count": 7,
   "metadata": {
    "collapsed": false
   },
   "outputs": [
    {
     "name": "stdout",
     "output_type": "stream",
     "text": [
      "Extracting stories for the challenge: indefinite-knowledge_10k\n"
     ]
    }
   ],
   "source": [
    "challenges = {\n",
    "    # QA1 with 10,000 samples\n",
    "    'single_supporting_fact_10k': 'tasks_1-20_v1-2/en-10k/qa1_single-supporting-fact_{}.txt',\n",
    "    # QA2 with 10,000 samples\n",
    "    'two_supporting_facts_10k': 'tasks_1-20_v1-2/en-10k/qa2_two-supporting-facts_{}.txt',\n",
    "    # QA4\n",
    "    'two-arg-relations_10k' : 'tasks_1-20_v1-2/en-10k/qa4_two-arg-relations_{}.txt',\n",
    "    # QA5 \n",
    "    'three-arg-relations_10k' : 'tasks_1-20_v1-2/en-10k/qa5_three-arg-relations_{}.txt',\n",
    "    'yes-no-questions_10k' :'tasks_1-20_v1-2/en-10k/qa6_yes-no-questions_{}.txt',\n",
    "     'counting_10k':'tasks_1-20_v1-2/en-10k/qa7_counting_{}.txt',\n",
    "   'lists-sets_10k' : 'tasks_1-20_v1-2/en-10k/qa8_lists-sets_{}.txt',\n",
    "    'simple-negation_10k':'tasks_1-20_v1-2/en-10k/qa9_simple-negation_{}.txt',\n",
    "    'indefinite-knowledge_10k' : 'tasks_1-20_v1-2/en-10k/qa10_indefinite-knowledge_{}.txt'\n",
    "}\n",
    "challenge_type = 'indefinite-knowledge_10k'\n",
    "challenge = challenges[challenge_type]\n",
    "\n",
    "print('Extracting stories for the challenge:', challenge_type)\n",
    "train_stories = get_stories(tar.extractfile(challenge.format('train')))\n",
    "test_stories = get_stories(tar.extractfile(challenge.format('test')))\n"
   ]
  },
  {
   "cell_type": "code",
   "execution_count": 8,
   "metadata": {
    "collapsed": false
   },
   "outputs": [
    {
     "name": "stdout",
     "output_type": "stream",
     "text": [
      "Vocab size: 28 unique words\n",
      "Story max length: 89 words\n",
      "Query max length: 6 words\n",
      "Number of training stories: 10000\n",
      "Number of test stories: 1000\n",
      "\n",
      "\n",
      "Here's what a \"story\" tuple looks like (input, query, answer):\n",
      "([u'Fred', u'is', u'either', u'in', u'the', u'school', u'or', u'the', u'park', u'.', u'Mary', u'went', u'back', u'to', u'the', u'office', u'.'], [u'Is', u'Mary', u'in', u'the', u'office', u'?'], u'yes')\n"
     ]
    }
   ],
   "source": [
    "vocab = sorted(reduce(lambda x, y: x | y, (set(story + q + [answer]) for story, q, answer in train_stories + test_stories)))\n",
    "# Reserve 0 for masking via pad_sequences\n",
    "vocab_size = len(vocab) + 1\n",
    "story_maxlen = max(map(len, (x for x, _, _ in train_stories + test_stories)))\n",
    "query_maxlen = max(map(len, (x for _, x, _ in train_stories + test_stories)))\n",
    "\n",
    "print('Vocab size:', vocab_size, 'unique words')\n",
    "print('Story max length:', story_maxlen, 'words')\n",
    "print('Query max length:', query_maxlen, 'words')\n",
    "print('Number of training stories:', len(train_stories))\n",
    "print('Number of test stories:', len(test_stories))\n",
    "print('\\n')\n",
    "print('Here\\'s what a \"story\" tuple looks like (input, query, answer):')\n",
    "print(train_stories[0])"
   ]
  },
  {
   "cell_type": "markdown",
   "metadata": {},
   "source": [
    "### Vectorizing the word sequences\n",
    "\n",
    "Here we convert the word tokens to word vectors. We know the total number of unique words in the corpus, that is the size of the vocabulary. Thus, to each word in the corpus we assign a number. We also know the maximum length of a story, story_maxlen (story includes facts, query and answer). Thus, for each story we can construct a word vector of length story_maxlen. For eg. suppose, story_maxlen is 68 and the current story length is 24, then we can have a word vector with the first 34 indices as 0 and the next 24 indices with vocabulary index values of words in the current story"
   ]
  },
  {
   "cell_type": "code",
   "execution_count": 9,
   "metadata": {
    "collapsed": false
   },
   "outputs": [
    {
     "name": "stdout",
     "output_type": "stream",
     "text": [
      "inputs: integer tensor of shape (samples, max_length)\n",
      "inputs_train shape: (10000, 89)\n",
      "inputs_test shape: (1000, 89)\n",
      "\n",
      "\n",
      "queries: integer tensor of shape (samples, max_length)\n",
      "queries_train shape: (10000, 6)\n",
      "queries_test shape: (1000, 6)\n",
      "\n",
      "\n",
      "answers: binary (1 or 0) tensor of shape (samples, vocab_size)\n",
      "answers_train shape: (10000, 28)\n",
      "answers_test shape: (1000, 28)\n",
      "\n",
      "\n"
     ]
    }
   ],
   "source": [
    "word_idx = dict((c, i + 1) for i, c in enumerate(vocab))\n",
    "inputs_train, queries_train, answers_train = vectorize_stories(train_stories, word_idx, story_maxlen, query_maxlen)\n",
    "inputs_test, queries_test, answers_test = vectorize_stories(test_stories, word_idx, story_maxlen, query_maxlen)\n",
    "\n",
    "\n",
    "print('inputs: integer tensor of shape (samples, max_length)')\n",
    "print('inputs_train shape:', inputs_train.shape)\n",
    "print('inputs_test shape:', inputs_test.shape)\n",
    "print('\\n')\n",
    "print('queries: integer tensor of shape (samples, max_length)')\n",
    "print('queries_train shape:', queries_train.shape)\n",
    "print('queries_test shape:', queries_test.shape)\n",
    "print('\\n')\n",
    "print('answers: binary (1 or 0) tensor of shape (samples, vocab_size)')\n",
    "print('answers_train shape:', answers_train.shape)\n",
    "print('answers_test shape:', answers_test.shape)\n",
    "print('\\n')\n"
   ]
  },
  {
   "cell_type": "markdown",
   "metadata": {},
   "source": [
    "### End-to-End Memory Networks\n",
    "\n",
    "The model employed is the End-to-End Memory Networks described in Sukhbaatar et. al. (2015). The architecture is a modified form of Memory Network (Weston, 2014) with the training being weakly supervised.Weston's Memory Network was not easy to train via backpropagation and required supervision at each layer.\n",
    "\n",
    "\n",
    "Briefly, the model takes a discrete set of inputs x1, x2, ...xn that are to be stored in memory, a query q, and an answer a. The model writes all x to the memory up to a fixed buffer size, and then finds a continuous representation for x and q. The continuous representation is then processed via multiple hops to output a. \n"
   ]
  },
  {
   "cell_type": "code",
   "execution_count": 10,
   "metadata": {
    "collapsed": false
   },
   "outputs": [],
   "source": [
    "# embed the input sequence into a sequence of vectors\n",
    "# output: (samples, story_maxlen, embedding_dim)\n",
    "input_encoder_m = Sequential()\n",
    "input_encoder_m.add(Embedding(input_dim=vocab_size,\n",
    "                              output_dim=64,\n",
    "                              input_length=story_maxlen))\n",
    "input_encoder_m.add(Dropout(0.3))\n",
    "\n",
    "\n",
    "# embed the question into a sequence of vectors\n",
    "# output: (samples, query_maxlen, embedding_dim)\n",
    "question_encoder = Sequential()\n",
    "question_encoder.add(Embedding(input_dim=vocab_size,\n",
    "                               output_dim=64,\n",
    "                               input_length=query_maxlen))\n",
    "question_encoder.add(Dropout(0.3))\n",
    "\n",
    "# compute a 'match' between input sequence elements (which are vectors)\n",
    "# and the question vector sequence\n",
    "\n",
    "# output: (samples, story_maxlen, query_maxlen)\n",
    "match = Sequential()\n",
    "match.add(Merge([input_encoder_m, question_encoder],\n",
    "                mode='dot',\n",
    "                dot_axes=[2, 2]))\n",
    "match.add(Activation('softmax'))\n",
    "\n",
    "# embed the input into a single vector with size = story_maxlen:\n",
    "# output: (samples, story_maxlen, query_maxlen)\n",
    "input_encoder_c = Sequential()\n",
    "input_encoder_c.add(Embedding(input_dim=vocab_size,\n",
    "                              output_dim=query_maxlen,\n",
    "                              input_length=story_maxlen))\n",
    "input_encoder_c.add(Dropout(0.3))\n",
    "\n",
    "\n",
    "# sum the match vector with the input vector:\n",
    "# output: (samples, story_maxlen, query_maxlen)\n",
    "response = Sequential()\n",
    "response.add(Merge([match, input_encoder_c], mode='sum'))\n",
    "\n",
    "response.add(Permute((2, 1)))  # output: (samples, query_maxlen, story_maxlen)\n",
    "\n",
    "# concatenate the match vector with the question vector,\n",
    "# and do logistic regression on top\n",
    "answer = Sequential()\n",
    "answer.add(Merge([response, question_encoder], mode='concat', concat_axis=-1))\n",
    "\n",
    "\n",
    "# the original paper uses a matrix multiplication for this reduction step.\n",
    "# we choose to use a RNN instead.\n",
    "answer.add(LSTM(32))\n",
    "# one regularization layer -- more would probably be needed.\n",
    "answer.add(Dropout(0.3))\n",
    "answer.add(Dense(vocab_size))\n",
    "# we output a probability distribution over the vocabulary\n",
    "answer.add(Activation('softmax'))\n",
    "\n"
   ]
  },
  {
   "cell_type": "code",
   "execution_count": 11,
   "metadata": {
    "collapsed": false
   },
   "outputs": [
    {
     "name": "stdout",
     "output_type": "stream",
     "text": [
      "Train on 10000 samples, validate on 1000 samples\n",
      "Epoch 1/60\n",
      "10000/10000 [==============================] - 15s - loss: 1.1618 - acc: 0.4414 - val_loss: 1.0076 - val_acc: 0.4370\n",
      "Epoch 2/60\n",
      "10000/10000 [==============================] - 12s - loss: 0.9603 - acc: 0.4544 - val_loss: 0.9696 - val_acc: 0.4340\n",
      "Epoch 3/60\n",
      "10000/10000 [==============================] - 12s - loss: 0.9342 - acc: 0.4685 - val_loss: 0.9393 - val_acc: 0.4390\n",
      "Epoch 4/60\n",
      "10000/10000 [==============================] - 14s - loss: 0.9236 - acc: 0.4582 - val_loss: 0.9279 - val_acc: 0.4800\n",
      "Epoch 5/60\n",
      "10000/10000 [==============================] - 8s - loss: 0.9138 - acc: 0.4754 - val_loss: 0.9174 - val_acc: 0.4280\n",
      "Epoch 6/60\n",
      "10000/10000 [==============================] - 13s - loss: 0.9100 - acc: 0.4796 - val_loss: 0.9168 - val_acc: 0.4310\n",
      "Epoch 7/60\n",
      "10000/10000 [==============================] - 14s - loss: 0.9068 - acc: 0.4784 - val_loss: 0.9135 - val_acc: 0.4640\n",
      "Epoch 8/60\n",
      "10000/10000 [==============================] - 14s - loss: 0.9030 - acc: 0.4804 - val_loss: 0.9199 - val_acc: 0.4270\n",
      "Epoch 9/60\n",
      "10000/10000 [==============================] - 14s - loss: 0.8986 - acc: 0.4840 - val_loss: 0.9084 - val_acc: 0.4870\n",
      "Epoch 10/60\n",
      "10000/10000 [==============================] - 14s - loss: 0.8987 - acc: 0.4831 - val_loss: 0.9157 - val_acc: 0.4560\n",
      "Epoch 11/60\n",
      "10000/10000 [==============================] - 14s - loss: 0.8945 - acc: 0.4852 - val_loss: 0.9169 - val_acc: 0.4270\n",
      "Epoch 12/60\n",
      "10000/10000 [==============================] - 14s - loss: 0.8897 - acc: 0.4814 - val_loss: 0.9108 - val_acc: 0.4570\n",
      "Epoch 13/60\n",
      "10000/10000 [==============================] - 14s - loss: 0.8811 - acc: 0.4897 - val_loss: 0.8978 - val_acc: 0.5020\n",
      "Epoch 14/60\n",
      "10000/10000 [==============================] - 14s - loss: 0.8613 - acc: 0.4945 - val_loss: 0.8735 - val_acc: 0.4970\n",
      "Epoch 15/60\n",
      "10000/10000 [==============================] - 15s - loss: 0.8480 - acc: 0.5004 - val_loss: 0.8572 - val_acc: 0.4750\n",
      "Epoch 16/60\n",
      "10000/10000 [==============================] - 12s - loss: 0.8306 - acc: 0.5075 - val_loss: 0.8335 - val_acc: 0.4610\n",
      "Epoch 17/60\n",
      "10000/10000 [==============================] - 14s - loss: 0.8115 - acc: 0.5140 - val_loss: 0.8158 - val_acc: 0.4790\n",
      "Epoch 18/60\n",
      "10000/10000 [==============================] - 12s - loss: 0.7925 - acc: 0.5173 - val_loss: 0.7839 - val_acc: 0.4920\n",
      "Epoch 19/60\n",
      "10000/10000 [==============================] - 14s - loss: 0.7824 - acc: 0.5206 - val_loss: 0.7968 - val_acc: 0.5120\n",
      "Epoch 20/60\n",
      "10000/10000 [==============================] - 11s - loss: 0.7796 - acc: 0.5263 - val_loss: 0.7673 - val_acc: 0.4920\n",
      "Epoch 21/60\n",
      "10000/10000 [==============================] - 14s - loss: 0.7696 - acc: 0.5346 - val_loss: 0.7753 - val_acc: 0.4600\n",
      "Epoch 22/60\n",
      "10000/10000 [==============================] - 13s - loss: 0.7623 - acc: 0.5283 - val_loss: 0.7660 - val_acc: 0.5230\n",
      "Epoch 23/60\n",
      "10000/10000 [==============================] - 11s - loss: 0.7550 - acc: 0.5322 - val_loss: 0.7792 - val_acc: 0.5200\n",
      "Epoch 24/60\n",
      "10000/10000 [==============================] - 14s - loss: 0.7482 - acc: 0.5467 - val_loss: 0.7628 - val_acc: 0.5410\n",
      "Epoch 25/60\n",
      "10000/10000 [==============================] - 9s - loss: 0.7418 - acc: 0.5507 - val_loss: 0.7457 - val_acc: 0.5290\n",
      "Epoch 26/60\n",
      "10000/10000 [==============================] - 12s - loss: 0.7353 - acc: 0.5716 - val_loss: 0.7421 - val_acc: 0.5590\n",
      "Epoch 27/60\n",
      "10000/10000 [==============================] - 14s - loss: 0.7226 - acc: 0.5942 - val_loss: 0.7132 - val_acc: 0.6050\n",
      "Epoch 28/60\n",
      "10000/10000 [==============================] - 14s - loss: 0.6964 - acc: 0.6305 - val_loss: 0.6651 - val_acc: 0.6720\n",
      "Epoch 29/60\n",
      "10000/10000 [==============================] - 14s - loss: 0.6423 - acc: 0.6857 - val_loss: 0.5978 - val_acc: 0.7310\n",
      "Epoch 30/60\n",
      "10000/10000 [==============================] - 14s - loss: 0.5936 - acc: 0.7203 - val_loss: 0.5298 - val_acc: 0.7700\n",
      "Epoch 31/60\n",
      "10000/10000 [==============================] - 14s - loss: 0.5554 - acc: 0.7467 - val_loss: 0.4896 - val_acc: 0.7800\n",
      "Epoch 32/60\n",
      "10000/10000 [==============================] - 14s - loss: 0.5091 - acc: 0.7710 - val_loss: 0.4796 - val_acc: 0.7720\n",
      "Epoch 33/60\n",
      "10000/10000 [==============================] - 14s - loss: 0.4776 - acc: 0.7862 - val_loss: 0.4089 - val_acc: 0.8220\n",
      "Epoch 34/60\n",
      "10000/10000 [==============================] - 14s - loss: 0.4334 - acc: 0.8109 - val_loss: 0.3809 - val_acc: 0.8370\n",
      "Epoch 35/60\n",
      "10000/10000 [==============================] - 14s - loss: 0.4120 - acc: 0.8176 - val_loss: 0.3436 - val_acc: 0.8500\n",
      "Epoch 36/60\n",
      "10000/10000 [==============================] - 14s - loss: 0.3858 - acc: 0.8289 - val_loss: 0.3208 - val_acc: 0.8700\n",
      "Epoch 37/60\n",
      "10000/10000 [==============================] - 12s - loss: 0.3532 - acc: 0.8493 - val_loss: 0.3163 - val_acc: 0.8750\n",
      "Epoch 38/60\n",
      "10000/10000 [==============================] - 11s - loss: 0.3335 - acc: 0.8588 - val_loss: 0.2822 - val_acc: 0.8820\n",
      "Epoch 39/60\n",
      "10000/10000 [==============================] - 14s - loss: 0.3144 - acc: 0.8700 - val_loss: 0.2709 - val_acc: 0.8910\n",
      "Epoch 40/60\n",
      "10000/10000 [==============================] - 12s - loss: 0.2892 - acc: 0.8842 - val_loss: 0.2492 - val_acc: 0.9000\n",
      "Epoch 41/60\n",
      "10000/10000 [==============================] - 14s - loss: 0.2809 - acc: 0.8870 - val_loss: 0.2612 - val_acc: 0.8970\n",
      "Epoch 42/60\n",
      "10000/10000 [==============================] - 10s - loss: 0.2624 - acc: 0.8928 - val_loss: 0.2182 - val_acc: 0.9140\n",
      "Epoch 43/60\n",
      "10000/10000 [==============================] - 14s - loss: 0.2516 - acc: 0.8984 - val_loss: 0.2234 - val_acc: 0.9140\n",
      "Epoch 44/60\n",
      "10000/10000 [==============================] - 12s - loss: 0.2375 - acc: 0.9042 - val_loss: 0.1997 - val_acc: 0.9240\n",
      "Epoch 45/60\n",
      "10000/10000 [==============================] - 11s - loss: 0.2266 - acc: 0.9134 - val_loss: 0.2078 - val_acc: 0.9150\n",
      "Epoch 46/60\n",
      "10000/10000 [==============================] - 14s - loss: 0.2259 - acc: 0.9106 - val_loss: 0.2037 - val_acc: 0.9180\n",
      "Epoch 47/60\n",
      "10000/10000 [==============================] - 11s - loss: 0.2077 - acc: 0.9195 - val_loss: 0.1965 - val_acc: 0.9220\n",
      "Epoch 48/60\n",
      "10000/10000 [==============================] - 10s - loss: 0.2005 - acc: 0.9220 - val_loss: 0.1972 - val_acc: 0.9240\n",
      "Epoch 49/60\n",
      "10000/10000 [==============================] - 14s - loss: 0.1987 - acc: 0.9220 - val_loss: 0.1728 - val_acc: 0.9280\n",
      "Epoch 50/60\n",
      "10000/10000 [==============================] - 14s - loss: 0.1911 - acc: 0.9293 - val_loss: 0.1719 - val_acc: 0.9340\n",
      "Epoch 51/60\n",
      "10000/10000 [==============================] - 14s - loss: 0.1745 - acc: 0.9325 - val_loss: 0.1870 - val_acc: 0.9290\n",
      "Epoch 52/60\n",
      "10000/10000 [==============================] - 14s - loss: 0.1720 - acc: 0.9352 - val_loss: 0.1661 - val_acc: 0.9320\n",
      "Epoch 53/60\n",
      "10000/10000 [==============================] - 14s - loss: 0.1635 - acc: 0.9397 - val_loss: 0.1672 - val_acc: 0.9370\n",
      "Epoch 54/60\n",
      "10000/10000 [==============================] - 14s - loss: 0.1621 - acc: 0.9406 - val_loss: 0.1713 - val_acc: 0.9310\n",
      "Epoch 55/60\n",
      "10000/10000 [==============================] - 14s - loss: 0.1567 - acc: 0.9416 - val_loss: 0.1547 - val_acc: 0.9460\n",
      "Epoch 56/60\n",
      "10000/10000 [==============================] - 14s - loss: 0.1526 - acc: 0.9444 - val_loss: 0.1717 - val_acc: 0.9430\n",
      "Epoch 57/60\n",
      "10000/10000 [==============================] - 14s - loss: 0.1519 - acc: 0.9444 - val_loss: 0.1725 - val_acc: 0.9350\n",
      "Epoch 58/60\n",
      "10000/10000 [==============================] - 12s - loss: 0.1492 - acc: 0.9477 - val_loss: 0.1661 - val_acc: 0.9410\n",
      "Epoch 59/60\n",
      "10000/10000 [==============================] - 14s - loss: 0.1357 - acc: 0.9468 - val_loss: 0.1967 - val_acc: 0.9200\n",
      "Epoch 60/60\n",
      "10000/10000 [==============================] - 14s - loss: 0.1411 - acc: 0.9487 - val_loss: 0.1515 - val_acc: 0.9410\n"
     ]
    },
    {
     "data": {
      "text/plain": [
       "<keras.callbacks.History at 0x7f4e1276ecd0>"
      ]
     },
     "execution_count": 11,
     "metadata": {},
     "output_type": "execute_result"
    }
   ],
   "source": [
    "answer.compile(optimizer='rmsprop', loss='categorical_crossentropy',\n",
    "               metrics=['accuracy'])\n",
    "# Note: you could use a Graph model to avoid repeat the input twice\n",
    "answer.fit([inputs_train, queries_train, inputs_train], answers_train,\n",
    "           batch_size=32,\n",
    "           nb_epoch=60,\n",
    "           validation_data=([inputs_test, queries_test, inputs_test], answers_test))"
   ]
  },
  {
   "cell_type": "markdown",
   "metadata": {},
   "source": [
    "### Making predictions based on the fitted model"
   ]
  },
  {
   "cell_type": "code",
   "execution_count": 12,
   "metadata": {
    "collapsed": false
   },
   "outputs": [
    {
     "name": "stdout",
     "output_type": "stream",
     "text": [
      "1000/1000 [==============================] - 0s     \n"
     ]
    }
   ],
   "source": [
    "predictions=answer.predict_classes([inputs_test, queries_test, inputs_test], batch_size=32)"
   ]
  },
  {
   "cell_type": "markdown",
   "metadata": {},
   "source": [
    "### Example story and model prediction"
   ]
  },
  {
   "cell_type": "code",
   "execution_count": 13,
   "metadata": {
    "collapsed": false,
    "scrolled": true
   },
   "outputs": [],
   "source": [
    "def pred_evaluation(ind):\n",
    "    \n",
    "    print (\"The story is -: \")\n",
    "    facts = test_stories[ind]\n",
    "    print(' '.join(facts[0]))\n",
    "    print('\\n')\n",
    "    \n",
    "    print (\"The query is -:\")\n",
    "    print(' '.join(facts[1]))\n",
    "\n",
    "    print (\"\\nThe predicted answer is -:\")\n",
    "    ans = predictions[ind]\n",
    "    for key, value in (word_idx).items():\n",
    "        if value == ans:\n",
    "            print(key)\n",
    "            print('\\n')\n",
    "            \n"
   ]
  },
  {
   "cell_type": "code",
   "execution_count": 14,
   "metadata": {
    "collapsed": false
   },
   "outputs": [
    {
     "name": "stdout",
     "output_type": "stream",
     "text": [
      "The story is -: \n",
      "Mary is in the school . Bill is in the kitchen . Bill journeyed to the bedroom . Fred travelled to the cinema .\n",
      "\n",
      "\n",
      "The query is -:\n",
      "Is Bill in the bedroom ?\n",
      "\n",
      "The predicted answer is -:\n",
      "yes\n",
      "\n",
      "\n"
     ]
    }
   ],
   "source": [
    "pred_evaluation(1)\n"
   ]
  },
  {
   "cell_type": "code",
   "execution_count": 15,
   "metadata": {
    "collapsed": false
   },
   "outputs": [
    {
     "name": "stdout",
     "output_type": "stream",
     "text": [
      "The story is -: \n",
      "Bill went to the kitchen . Fred is either in the office or the park .\n",
      "\n",
      "\n",
      "The query is -:\n",
      "Is Fred in the park ?\n",
      "\n",
      "The predicted answer is -:\n",
      "maybe\n",
      "\n",
      "\n"
     ]
    }
   ],
   "source": [
    "pred_evaluation(20)\n"
   ]
  },
  {
   "cell_type": "code",
   "execution_count": 16,
   "metadata": {
    "collapsed": false
   },
   "outputs": [
    {
     "name": "stdout",
     "output_type": "stream",
     "text": [
      "The story is -: \n",
      "Julie is either in the park or the school . Fred went back to the school .\n",
      "\n",
      "\n",
      "The query is -:\n",
      "Is Julie in the park ?\n",
      "\n",
      "The predicted answer is -:\n",
      "maybe\n",
      "\n",
      "\n"
     ]
    }
   ],
   "source": [
    "pred_evaluation(540)"
   ]
  }
 ],
 "metadata": {
  "kernelspec": {
   "display_name": "Python 2",
   "language": "python",
   "name": "python2"
  },
  "language_info": {
   "codemirror_mode": {
    "name": "ipython",
    "version": 2
   },
   "file_extension": ".py",
   "mimetype": "text/x-python",
   "name": "python",
   "nbconvert_exporter": "python",
   "pygments_lexer": "ipython2",
   "version": "2.7.9"
  }
 },
 "nbformat": 4,
 "nbformat_minor": 1
}
