{
 "cells": [
  {
   "cell_type": "markdown",
   "metadata": {},
   "source": [
    "### QA Type 14 : Time Reasoning\n",
    "\n",
    "While the tasks so far have included time implicitly in the order of the statements,task 14 tests understanding the use of time expressions within the statements, e.g. “In the afternoon Julie went to the park. Yesterday Julie was at school.”, followed by questions about the order of events such as “Where was Julie before the park?”. Real-world datasets address the task of\n",
    "evaluating time expressions typically as a labeling, rather than a QA task.\n",
    "\n",
    "For training and testing we have used the 10k dataset, containing 10,000 training examples.\n",
    "An example QA set is as below -:\n",
    "\n",
    "1. Bill went back to the cinema yesterday.\n",
    "2. Julie went to the school this morning.\n",
    "3. Fred went to the park yesterday.\n",
    "4. Yesterday Julie went to the office.\n",
    "5. Where was Julie before the school? \toffice\t\n",
    "\n"
   ]
  },
  {
   "cell_type": "code",
   "execution_count": 1,
   "metadata": {
    "collapsed": false
   },
   "outputs": [
    {
     "name": "stderr",
     "output_type": "stream",
     "text": [
      "Using TensorFlow backend.\n"
     ]
    }
   ],
   "source": [
    "from __future__ import print_function\n",
    "from keras.models import Sequential\n",
    "from keras.layers.embeddings import Embedding\n",
    "from keras.layers import Activation, Dense, Merge, Permute, Dropout\n",
    "from keras.layers import LSTM\n",
    "from keras.utils.data_utils import get_file\n",
    "from keras.preprocessing.sequence import pad_sequences\n",
    "from functools import reduce\n",
    "import tarfile\n",
    "import numpy as np\n",
    "import re"
   ]
  },
  {
   "cell_type": "markdown",
   "metadata": {},
   "source": [
    "### Story processing\n",
    "\n",
    "Each story is processed to reduce sentences to tokens and combine all facts and queries relevant to the story. "
   ]
  },
  {
   "cell_type": "code",
   "execution_count": 2,
   "metadata": {
    "collapsed": false
   },
   "outputs": [],
   "source": [
    "def tokenize(sent):\n",
    "    '''Return the tokens of a sentence including punctuation.\n",
    "    >>> tokenize('Bob dropped the apple. Where is the apple?')\n",
    "    ['Bob', 'dropped', 'the', 'apple', '.', 'Where', 'is', 'the', 'apple', '?']\n",
    "    '''\n",
    "    return [x.strip() for x in re.split('(\\W+)?', sent) if x.strip()]\n"
   ]
  },
  {
   "cell_type": "code",
   "execution_count": 3,
   "metadata": {
    "collapsed": true
   },
   "outputs": [],
   "source": [
    "def parse_stories(lines, only_supporting=False):\n",
    "    '''Parse stories provided in the bAbi tasks format\n",
    "    If only_supporting is true, only the sentences that support the answer are kept.\n",
    "    '''\n",
    "    data = []\n",
    "    story = []\n",
    "    for line in lines:\n",
    "        line = line.decode('utf-8').strip()\n",
    "        nid, line = line.split(' ', 1)\n",
    "        nid = int(nid)\n",
    "        if nid == 1:\n",
    "            story = []\n",
    "        if '\\t' in line:\n",
    "            q, a, supporting = line.split('\\t')\n",
    "            q = tokenize(q)\n",
    "            substory = None\n",
    "            if only_supporting:\n",
    "                # Only select the related substory\n",
    "                supporting = map(int, supporting.split())\n",
    "                substory = [story[i - 1] for i in supporting]\n",
    "            else:\n",
    "                # Provide all the substories\n",
    "                substory = [x for x in story if x]\n",
    "            data.append((substory, q, a))\n",
    "            story.append('')\n",
    "        else:\n",
    "            sent = tokenize(line)\n",
    "            story.append(sent)\n",
    "    return data"
   ]
  },
  {
   "cell_type": "code",
   "execution_count": 4,
   "metadata": {
    "collapsed": true
   },
   "outputs": [],
   "source": [
    "\n",
    "def get_stories(f, only_supporting=False, max_length=None):\n",
    "    '''Given a file name, read the file, retrieve the stories, and then convert the sentences into a single story.\n",
    "    If max_length is supplied, any stories longer than max_length tokens will be discarded.\n",
    "    '''\n",
    "    data = parse_stories(f.readlines(), only_supporting=only_supporting)\n",
    "    flatten = lambda data: reduce(lambda x, y: x + y, data)\n",
    "    data = [(flatten(story), q, answer) for story, q, answer in data if not max_length or len(flatten(story)) < max_length]\n",
    "    return data\n"
   ]
  },
  {
   "cell_type": "code",
   "execution_count": 5,
   "metadata": {
    "collapsed": true
   },
   "outputs": [],
   "source": [
    "def vectorize_stories(data, word_idx, story_maxlen, query_maxlen):\n",
    "    X = []\n",
    "    Xq = []\n",
    "    Y = []\n",
    "    for story, query, answer in data:\n",
    "        x = [word_idx[w] for w in story]\n",
    "        xq = [word_idx[w] for w in query]\n",
    "        y = np.zeros(len(word_idx) + 1)  # let's not forget that index 0 is reserved\n",
    "        y[word_idx[answer]] = 1\n",
    "        X.append(x)\n",
    "        Xq.append(xq)\n",
    "        Y.append(y)\n",
    "    return (pad_sequences(X, maxlen=story_maxlen),\n",
    "            pad_sequences(Xq, maxlen=query_maxlen), np.array(Y))"
   ]
  },
  {
   "cell_type": "code",
   "execution_count": 6,
   "metadata": {
    "collapsed": false
   },
   "outputs": [],
   "source": [
    "try:\n",
    "    path = get_file('babi-tasks-v1-2.tar.gz', origin='https://s3.amazonaws.com/text-datasets/babi_tasks_1-20_v1-2.tar.gz')\n",
    "except:\n",
    "    print('Error downloading dataset, please download it manually:\\n'\n",
    "          '$ wget http://www.thespermwhale.com/jaseweston/babi/tasks_1-20_v1-2.tar.gz\\n'\n",
    "          '$ mv tasks_1-20_v1-2.tar.gz ~/.keras/datasets/babi-tasks-v1-2.tar.gz')\n",
    "    raise\n",
    "tar = tarfile.open(path)"
   ]
  },
  {
   "cell_type": "markdown",
   "metadata": {},
   "source": [
    "### Training Set\n",
    "\n",
    "Here the selection of 'Question' type (single supporting fact, three supporting facts etc.) is made for generating the training and test set. "
   ]
  },
  {
   "cell_type": "code",
   "execution_count": 8,
   "metadata": {
    "collapsed": false
   },
   "outputs": [
    {
     "name": "stdout",
     "output_type": "stream",
     "text": [
      "Extracting stories for the challenge: time-reasoning_10k\n"
     ]
    }
   ],
   "source": [
    "challenges = {\n",
    "    'single_supporting_fact_10k': 'tasks_1-20_v1-2/en-10k/qa1_single-supporting-fact_{}.txt',\n",
    "    'two_supporting_facts_10k': 'tasks_1-20_v1-2/en-10k/qa2_two-supporting-facts_{}.txt',\n",
    "    'three_supporting_facts_10k': 'tasks_1-20_v1-2/en-10k/qa2_three-supporting-facts_{}.txt',\n",
    "    'two-arg-relations_10k' : 'tasks_1-20_v1-2/en-10k/qa4_two-arg-relations_{}.txt',\n",
    "    'three-arg-relations_10k' : 'tasks_1-20_v1-2/en-10k/qa5_three-arg-relations_{}.txt',\n",
    "    'yes-no-questions_10k' :'tasks_1-20_v1-2/en-10k/qa6_yes-no-questions_{}.txt',\n",
    "    'counting_10k':'tasks_1-20_v1-2/en-10k/qa7_counting_{}.txt',\n",
    "    'lists-sets_10k' : 'tasks_1-20_v1-2/en-10k/qa8_lists-sets_{}.txt',\n",
    "    'simple-negation_10k':'tasks_1-20_v1-2/en-10k/qa9_simple-negation_{}.txt',\n",
    "    'indefinite-knowledge_10k' : 'tasks_1-20_v1-2/en-10k/qa10_indefinite-knowledge_{}.txt',\n",
    "    'basic-coreference_10k':'tasks_1-20_v1-2/en-10k/qa11_basic-coreference_{}.txt',\n",
    "    'conjunction_10k':'tasks_1-20_v1-2/en-10k/qa12_conjunction_{}.txt',\n",
    "    'compound-coreference_10k':'tasks_1-20_v1-2/en-10k/qa13_compound-coreference_{}.txt',\n",
    "    'time-reasoning_10k':'tasks_1-20_v1-2/en-10k/qa14_time-reasoning_{}.txt',\n",
    "    'basic-deduction_10k' : 'tasks_1-20_v1-2/en-10k/qa15_basic-deduction_{}.txt',\n",
    "    'basic-induction_10k':'tasks_1-20_v1-2/en-10k/qa16_basic-induction_{}.txt',\n",
    "    'positional-reasoning_10k':'tasks_1-20_v1-2/en-10k/qa17_positional-reasoning_{}.txt',\n",
    "    'size-reasoning_10k':'tasks_1-20_v1-2/en-10k/qa18_size-reasoning_{}.txt',\n",
    "    'path-finding_10k':'tasks_1-20_v1-2/en-10k/qa19_path-finding_{}.txt',\n",
    "    'agents-motivations_10k':'tasks_1-20_v1-2/en-10k/qa20_agents-motivations_{}.txt'\n",
    "    \n",
    "}\n",
    "challenge_type = 'time-reasoning_10k'\n",
    "challenge = challenges[challenge_type]\n",
    "\n",
    "print('Extracting stories for the challenge:', challenge_type)\n",
    "train_stories = get_stories(tar.extractfile(challenge.format('train')))\n",
    "test_stories = get_stories(tar.extractfile(challenge.format('test')))\n"
   ]
  },
  {
   "cell_type": "code",
   "execution_count": 11,
   "metadata": {
    "collapsed": false
   },
   "outputs": [
    {
     "name": "stdout",
     "output_type": "stream",
     "text": [
      "Vocab size: 30 unique words\n",
      "Story max length: 116 words\n",
      "Query max length: 7 words\n",
      "Number of training stories: 10000\n",
      "Number of test stories: 1000\n",
      "\n",
      "\n",
      "Here's what a \"story\" tuple looks like (input, query, answer):\n",
      "([u'Bill', u'went', u'back', u'to', u'the', u'cinema', u'yesterday', u'.', u'Julie', u'went', u'to', u'the', u'school', u'this', u'morning', u'.', u'Fred', u'went', u'to', u'the', u'park', u'yesterday', u'.', u'Yesterday', u'Julie', u'went', u'to', u'the', u'office', u'.'], [u'Where', u'was', u'Julie', u'before', u'the', u'school', u'?'], u'office')\n"
     ]
    }
   ],
   "source": [
    "vocab = sorted(reduce(lambda x, y: x | y, (set(story + q + [answer]) for story, q, answer in train_stories + test_stories)))\n",
    "# Reserve 0 for masking via pad_sequences\n",
    "vocab_size = len(vocab) + 1\n",
    "story_maxlen = max(map(len, (x for x, _, _ in train_stories + test_stories)))\n",
    "query_maxlen = max(map(len, (x for _, x, _ in train_stories + test_stories)))\n",
    "\n",
    "print('Vocab size:', vocab_size, 'unique words')\n",
    "print('Story max length:', story_maxlen, 'words')\n",
    "print('Query max length:', query_maxlen, 'words')\n",
    "print('Number of training stories:', len(train_stories))\n",
    "print('Number of test stories:', len(test_stories))\n",
    "print('\\n')\n",
    "print('Here\\'s what a \"story\" tuple looks like (input, query, answer):')\n",
    "print(train_stories[0])"
   ]
  },
  {
   "cell_type": "markdown",
   "metadata": {},
   "source": [
    "### Vectorizing the word sequences\n",
    "\n",
    "Here we convert the word tokens to word vectors. We know the total number of unique words in the corpus, that is the size of the vocabulary. Thus, to each word in the corpus we assign a number. We also know the maximum length of a story, story_maxlen (story includes facts, query and answer). Thus, for each story we can construct a word vector of length story_maxlen. For eg. suppose, story_maxlen is 68 and the current story length is 24, then we can have a word vector with the first 34 indices as 0 and the next 24 indices with vocabulary index values of words in the current story"
   ]
  },
  {
   "cell_type": "code",
   "execution_count": 12,
   "metadata": {
    "collapsed": false
   },
   "outputs": [
    {
     "name": "stdout",
     "output_type": "stream",
     "text": [
      "inputs: integer tensor of shape (samples, max_length)\n",
      "inputs_train shape: (10000, 116)\n",
      "inputs_test shape: (1000, 116)\n",
      "\n",
      "\n",
      "queries: integer tensor of shape (samples, max_length)\n",
      "queries_train shape: (10000, 7)\n",
      "queries_test shape: (1000, 7)\n",
      "\n",
      "\n",
      "answers: binary (1 or 0) tensor of shape (samples, vocab_size)\n",
      "answers_train shape: (10000, 30)\n",
      "answers_test shape: (1000, 30)\n",
      "\n",
      "\n"
     ]
    }
   ],
   "source": [
    "word_idx = dict((c, i + 1) for i, c in enumerate(vocab))\n",
    "inputs_train, queries_train, answers_train = vectorize_stories(train_stories, word_idx, story_maxlen, query_maxlen)\n",
    "inputs_test, queries_test, answers_test = vectorize_stories(test_stories, word_idx, story_maxlen, query_maxlen)\n",
    "\n",
    "\n",
    "print('inputs: integer tensor of shape (samples, max_length)')\n",
    "print('inputs_train shape:', inputs_train.shape)\n",
    "print('inputs_test shape:', inputs_test.shape)\n",
    "print('\\n')\n",
    "print('queries: integer tensor of shape (samples, max_length)')\n",
    "print('queries_train shape:', queries_train.shape)\n",
    "print('queries_test shape:', queries_test.shape)\n",
    "print('\\n')\n",
    "print('answers: binary (1 or 0) tensor of shape (samples, vocab_size)')\n",
    "print('answers_train shape:', answers_train.shape)\n",
    "print('answers_test shape:', answers_test.shape)\n",
    "print('\\n')\n"
   ]
  },
  {
   "cell_type": "markdown",
   "metadata": {},
   "source": [
    "### End-to-End Memory Networks\n",
    "\n",
    "The model employed is the End-to-End Memory Networks described in Sukhbaatar et. al. (2015). The architecture is a modified form of Memory Network (Weston, 2014) with the training being weakly supervised.Weston's Memory Network was not easy to train via backpropagation and required supervision at each layer.\n",
    "\n",
    "\n",
    "Briefly, the model takes a discrete set of inputs x1, x2, ...xn that are to be stored in memory, a query q, and an answer a. The model writes all x to the memory up to a fixed buffer size, and then finds a continuous representation for x and q. The continuous representation is then processed via multiple hops to output a. \n"
   ]
  },
  {
   "cell_type": "code",
   "execution_count": 13,
   "metadata": {
    "collapsed": false
   },
   "outputs": [],
   "source": [
    "# embed the input sequence into a sequence of vectors\n",
    "# output: (samples, story_maxlen, embedding_dim)\n",
    "input_encoder_m = Sequential()\n",
    "input_encoder_m.add(Embedding(input_dim=vocab_size,\n",
    "                              output_dim=64,\n",
    "                              input_length=story_maxlen))\n",
    "input_encoder_m.add(Dropout(0.3))\n",
    "\n",
    "\n",
    "# embed the question into a sequence of vectors\n",
    "# output: (samples, query_maxlen, embedding_dim)\n",
    "question_encoder = Sequential()\n",
    "question_encoder.add(Embedding(input_dim=vocab_size,\n",
    "                               output_dim=64,\n",
    "                               input_length=query_maxlen))\n",
    "question_encoder.add(Dropout(0.3))\n",
    "\n",
    "# compute a 'match' between input sequence elements (which are vectors)\n",
    "# and the question vector sequence\n",
    "\n",
    "# output: (samples, story_maxlen, query_maxlen)\n",
    "match = Sequential()\n",
    "match.add(Merge([input_encoder_m, question_encoder],\n",
    "                mode='dot',\n",
    "                dot_axes=[2, 2]))\n",
    "match.add(Activation('softmax'))\n",
    "\n",
    "# embed the input into a single vector with size = story_maxlen:\n",
    "# output: (samples, story_maxlen, query_maxlen)\n",
    "input_encoder_c = Sequential()\n",
    "input_encoder_c.add(Embedding(input_dim=vocab_size,\n",
    "                              output_dim=query_maxlen,\n",
    "                              input_length=story_maxlen))\n",
    "input_encoder_c.add(Dropout(0.3))\n",
    "\n",
    "\n",
    "# sum the match vector with the input vector:\n",
    "# output: (samples, story_maxlen, query_maxlen)\n",
    "response = Sequential()\n",
    "response.add(Merge([match, input_encoder_c], mode='sum'))\n",
    "\n",
    "response.add(Permute((2, 1)))  # output: (samples, query_maxlen, story_maxlen)\n",
    "\n",
    "# concatenate the match vector with the question vector,\n",
    "# and do logistic regression on top\n",
    "answer = Sequential()\n",
    "answer.add(Merge([response, question_encoder], mode='concat', concat_axis=-1))\n",
    "\n",
    "\n",
    "# the original paper uses a matrix multiplication for this reduction step.\n",
    "# we choose to use a RNN instead.\n",
    "answer.add(LSTM(32))\n",
    "# one regularization layer -- more would probably be needed.\n",
    "answer.add(Dropout(0.3))\n",
    "answer.add(Dense(vocab_size))\n",
    "# we output a probability distribution over the vocabulary\n",
    "answer.add(Activation('softmax'))\n",
    "\n"
   ]
  },
  {
   "cell_type": "code",
   "execution_count": 14,
   "metadata": {
    "collapsed": false
   },
   "outputs": [
    {
     "name": "stdout",
     "output_type": "stream",
     "text": [
      "Train on 10000 samples, validate on 1000 samples\n",
      "Epoch 1/60\n",
      "10000/10000 [==============================] - 16s - loss: 1.9707 - acc: 0.1694 - val_loss: 1.7862 - val_acc: 0.2270\n",
      "Epoch 2/60\n",
      "10000/10000 [==============================] - 10s - loss: 1.7698 - acc: 0.1962 - val_loss: 1.7391 - val_acc: 0.1940\n",
      "Epoch 3/60\n",
      "10000/10000 [==============================] - 15s - loss: 1.7170 - acc: 0.1973 - val_loss: 1.6824 - val_acc: 0.1930\n",
      "Epoch 4/60\n",
      "10000/10000 [==============================] - 14s - loss: 1.6814 - acc: 0.2207 - val_loss: 1.6530 - val_acc: 0.2120\n",
      "Epoch 5/60\n",
      "10000/10000 [==============================] - 10s - loss: 1.6584 - acc: 0.2309 - val_loss: 1.6046 - val_acc: 0.2910\n",
      "Epoch 6/60\n",
      "10000/10000 [==============================] - 15s - loss: 1.6165 - acc: 0.2715 - val_loss: 1.5509 - val_acc: 0.3180\n",
      "Epoch 7/60\n",
      "10000/10000 [==============================] - 15s - loss: 1.5755 - acc: 0.3007 - val_loss: 1.5426 - val_acc: 0.3050\n",
      "Epoch 8/60\n",
      "10000/10000 [==============================] - 15s - loss: 1.5388 - acc: 0.3348 - val_loss: 1.5001 - val_acc: 0.3300\n",
      "Epoch 9/60\n",
      "10000/10000 [==============================] - 16s - loss: 1.5180 - acc: 0.3499 - val_loss: 1.5126 - val_acc: 0.3450\n",
      "Epoch 10/60\n",
      "10000/10000 [==============================] - 15s - loss: 1.4941 - acc: 0.3618 - val_loss: 1.4676 - val_acc: 0.3830\n",
      "Epoch 11/60\n",
      "10000/10000 [==============================] - 16s - loss: 1.4802 - acc: 0.3702 - val_loss: 1.4715 - val_acc: 0.3780\n",
      "Epoch 12/60\n",
      "10000/10000 [==============================] - 15s - loss: 1.4629 - acc: 0.3848 - val_loss: 1.4380 - val_acc: 0.4090\n",
      "Epoch 13/60\n",
      "10000/10000 [==============================] - 16s - loss: 1.4373 - acc: 0.4048 - val_loss: 1.4207 - val_acc: 0.4120\n",
      "Epoch 14/60\n",
      "10000/10000 [==============================] - 15s - loss: 1.4167 - acc: 0.4176 - val_loss: 1.4164 - val_acc: 0.4120\n",
      "Epoch 15/60\n",
      "10000/10000 [==============================] - 13s - loss: 1.4068 - acc: 0.4188 - val_loss: 1.4296 - val_acc: 0.4060\n",
      "Epoch 16/60\n",
      "10000/10000 [==============================] - 16s - loss: 1.3982 - acc: 0.4232 - val_loss: 1.4121 - val_acc: 0.3950\n",
      "Epoch 17/60\n",
      "10000/10000 [==============================] - 14s - loss: 1.3837 - acc: 0.4293 - val_loss: 1.4396 - val_acc: 0.3960\n",
      "Epoch 18/60\n",
      "10000/10000 [==============================] - 14s - loss: 1.3746 - acc: 0.4377 - val_loss: 1.3903 - val_acc: 0.4110\n",
      "Epoch 19/60\n",
      "10000/10000 [==============================] - 14s - loss: 1.3669 - acc: 0.4380 - val_loss: 1.3912 - val_acc: 0.4160\n",
      "Epoch 20/60\n",
      "10000/10000 [==============================] - 12s - loss: 1.3542 - acc: 0.4448 - val_loss: 1.4056 - val_acc: 0.3920\n",
      "Epoch 21/60\n",
      "10000/10000 [==============================] - 16s - loss: 1.3371 - acc: 0.4538 - val_loss: 1.3864 - val_acc: 0.4280\n",
      "Epoch 22/60\n",
      "10000/10000 [==============================] - 10s - loss: 1.3299 - acc: 0.4530 - val_loss: 1.3714 - val_acc: 0.4120\n",
      "Epoch 23/60\n",
      "10000/10000 [==============================] - 15s - loss: 1.3177 - acc: 0.4660 - val_loss: 1.3740 - val_acc: 0.4270\n",
      "Epoch 24/60\n",
      "10000/10000 [==============================] - 14s - loss: 1.3034 - acc: 0.4667 - val_loss: 1.3684 - val_acc: 0.4240\n",
      "Epoch 25/60\n",
      "10000/10000 [==============================] - 9s - loss: 1.2939 - acc: 0.4758 - val_loss: 1.3605 - val_acc: 0.4320\n",
      "Epoch 26/60\n",
      "10000/10000 [==============================] - 15s - loss: 1.2862 - acc: 0.4753 - val_loss: 1.3516 - val_acc: 0.4160\n",
      "Epoch 27/60\n",
      "10000/10000 [==============================] - 15s - loss: 1.2754 - acc: 0.4830 - val_loss: 1.3547 - val_acc: 0.4230\n",
      "Epoch 28/60\n",
      "10000/10000 [==============================] - 15s - loss: 1.2655 - acc: 0.4912 - val_loss: 1.3537 - val_acc: 0.4280\n",
      "Epoch 29/60\n",
      "10000/10000 [==============================] - 15s - loss: 1.2578 - acc: 0.4896 - val_loss: 1.3704 - val_acc: 0.4350\n",
      "Epoch 30/60\n",
      "10000/10000 [==============================] - 16s - loss: 1.2483 - acc: 0.4992 - val_loss: 1.3450 - val_acc: 0.4380\n",
      "Epoch 31/60\n",
      "10000/10000 [==============================] - 15s - loss: 1.2438 - acc: 0.4940 - val_loss: 1.3369 - val_acc: 0.4250\n",
      "Epoch 32/60\n",
      "10000/10000 [==============================] - 16s - loss: 1.2231 - acc: 0.5058 - val_loss: 1.3741 - val_acc: 0.4260\n",
      "Epoch 33/60\n",
      "10000/10000 [==============================] - 16s - loss: 1.2314 - acc: 0.5034 - val_loss: 1.3308 - val_acc: 0.4290\n",
      "Epoch 34/60\n",
      "10000/10000 [==============================] - 15s - loss: 1.2183 - acc: 0.5092 - val_loss: 1.3527 - val_acc: 0.4150\n",
      "Epoch 35/60\n",
      "10000/10000 [==============================] - 14s - loss: 1.2170 - acc: 0.5069 - val_loss: 1.3342 - val_acc: 0.4340\n",
      "Epoch 36/60\n",
      "10000/10000 [==============================] - 16s - loss: 1.2129 - acc: 0.5143 - val_loss: 1.3491 - val_acc: 0.4360\n",
      "Epoch 37/60\n",
      "10000/10000 [==============================] - 15s - loss: 1.1955 - acc: 0.5235 - val_loss: 1.3280 - val_acc: 0.4330\n",
      "Epoch 38/60\n",
      "10000/10000 [==============================] - 13s - loss: 1.1845 - acc: 0.5259 - val_loss: 1.3742 - val_acc: 0.4230\n",
      "Epoch 39/60\n",
      "10000/10000 [==============================] - 16s - loss: 1.1703 - acc: 0.5380 - val_loss: 1.3411 - val_acc: 0.4340\n",
      "Epoch 40/60\n",
      "10000/10000 [==============================] - 11s - loss: 1.1757 - acc: 0.5321 - val_loss: 1.3483 - val_acc: 0.4390\n",
      "Epoch 41/60\n",
      "10000/10000 [==============================] - 15s - loss: 1.1604 - acc: 0.5345 - val_loss: 1.3403 - val_acc: 0.4280\n",
      "Epoch 42/60\n",
      "10000/10000 [==============================] - 12s - loss: 1.1577 - acc: 0.5432 - val_loss: 1.3553 - val_acc: 0.4480\n",
      "Epoch 43/60\n",
      "10000/10000 [==============================] - 12s - loss: 1.1522 - acc: 0.5408 - val_loss: 1.3758 - val_acc: 0.4540\n",
      "Epoch 44/60\n",
      "10000/10000 [==============================] - 16s - loss: 1.1495 - acc: 0.5400 - val_loss: 1.3544 - val_acc: 0.4310\n",
      "Epoch 45/60\n",
      "10000/10000 [==============================] - 16s - loss: 1.1411 - acc: 0.5460 - val_loss: 1.3781 - val_acc: 0.4330\n",
      "Epoch 46/60\n",
      "10000/10000 [==============================] - 15s - loss: 1.1329 - acc: 0.5483 - val_loss: 1.3583 - val_acc: 0.4230\n",
      "Epoch 47/60\n",
      "10000/10000 [==============================] - 15s - loss: 1.1310 - acc: 0.5510 - val_loss: 1.3628 - val_acc: 0.4300\n",
      "Epoch 48/60\n",
      "10000/10000 [==============================] - 15s - loss: 1.1285 - acc: 0.5457 - val_loss: 1.3758 - val_acc: 0.4300\n",
      "Epoch 49/60\n",
      "10000/10000 [==============================] - 16s - loss: 1.1136 - acc: 0.5542 - val_loss: 1.3913 - val_acc: 0.4320\n",
      "Epoch 50/60\n",
      "10000/10000 [==============================] - 16s - loss: 1.1120 - acc: 0.5622 - val_loss: 1.3740 - val_acc: 0.4260\n",
      "Epoch 51/60\n",
      "10000/10000 [==============================] - 16s - loss: 1.1189 - acc: 0.5518 - val_loss: 1.3754 - val_acc: 0.4280\n",
      "Epoch 52/60\n",
      "10000/10000 [==============================] - 16s - loss: 1.1057 - acc: 0.5629 - val_loss: 1.3828 - val_acc: 0.4340\n",
      "Epoch 53/60\n",
      "10000/10000 [==============================] - 13s - loss: 1.1021 - acc: 0.5607 - val_loss: 1.3840 - val_acc: 0.4230\n",
      "Epoch 54/60\n",
      "10000/10000 [==============================] - 13s - loss: 1.1013 - acc: 0.5690 - val_loss: 1.3841 - val_acc: 0.4360\n",
      "Epoch 55/60\n",
      "10000/10000 [==============================] - 16s - loss: 1.0814 - acc: 0.5697 - val_loss: 1.3870 - val_acc: 0.4160\n",
      "Epoch 56/60\n",
      "10000/10000 [==============================] - 12s - loss: 1.0789 - acc: 0.5712 - val_loss: 1.4067 - val_acc: 0.4080\n",
      "Epoch 57/60\n",
      "10000/10000 [==============================] - 16s - loss: 1.0735 - acc: 0.5810 - val_loss: 1.3863 - val_acc: 0.4320\n",
      "Epoch 58/60\n",
      "10000/10000 [==============================] - 11s - loss: 1.0725 - acc: 0.5802 - val_loss: 1.4109 - val_acc: 0.4150\n",
      "Epoch 59/60\n",
      "10000/10000 [==============================] - 15s - loss: 1.0777 - acc: 0.5701 - val_loss: 1.4088 - val_acc: 0.4210\n",
      "Epoch 60/60\n",
      "10000/10000 [==============================] - 13s - loss: 1.0634 - acc: 0.5755 - val_loss: 1.4234 - val_acc: 0.4170\n"
     ]
    },
    {
     "data": {
      "text/plain": [
       "<keras.callbacks.History at 0x7f39c653fe10>"
      ]
     },
     "execution_count": 14,
     "metadata": {},
     "output_type": "execute_result"
    }
   ],
   "source": [
    "answer.compile(optimizer='rmsprop', loss='categorical_crossentropy',\n",
    "               metrics=['accuracy'])\n",
    "# Note: you could use a Graph model to avoid repeat the input twice\n",
    "answer.fit([inputs_train, queries_train, inputs_train], answers_train,\n",
    "           batch_size=32,\n",
    "           nb_epoch=60,\n",
    "           validation_data=([inputs_test, queries_test, inputs_test], answers_test))"
   ]
  },
  {
   "cell_type": "markdown",
   "metadata": {},
   "source": [
    "### Making predictions based on the fitted model"
   ]
  },
  {
   "cell_type": "code",
   "execution_count": 15,
   "metadata": {
    "collapsed": false
   },
   "outputs": [
    {
     "name": "stdout",
     "output_type": "stream",
     "text": [
      " 992/1000 [============================>.] - ETA: 0s"
     ]
    }
   ],
   "source": [
    "predictions=answer.predict_classes([inputs_test, queries_test, inputs_test], batch_size=32)"
   ]
  },
  {
   "cell_type": "markdown",
   "metadata": {},
   "source": [
    "### Example story and model prediction"
   ]
  },
  {
   "cell_type": "code",
   "execution_count": 16,
   "metadata": {
    "collapsed": false,
    "scrolled": true
   },
   "outputs": [],
   "source": [
    "def pred_evaluation(ind):\n",
    "    \n",
    "    print (\"The story is -: \")\n",
    "    facts = test_stories[ind]\n",
    "    print(' '.join(facts[0]))\n",
    "    print('\\n')\n",
    "    \n",
    "    print (\"The query is -:\")\n",
    "    print(' '.join(facts[1]))\n",
    "\n",
    "    print (\"\\nThe predicted answer is -:\")\n",
    "    ans = predictions[ind]\n",
    "    for key, value in (word_idx).items():\n",
    "        if value == ans:\n",
    "            print(key)\n",
    "            print('\\n')\n",
    "            \n"
   ]
  },
  {
   "cell_type": "code",
   "execution_count": 17,
   "metadata": {
    "collapsed": false
   },
   "outputs": [
    {
     "name": "stdout",
     "output_type": "stream",
     "text": [
      "The story is -: \n",
      "This morning Mary moved to the kitchen . This afternoon Mary moved to the cinema . Yesterday Bill went to the bedroom . Yesterday Mary journeyed to the school . Yesterday Fred went back to the cinema . Bill journeyed to the office this morning .\n",
      "\n",
      "\n",
      "The query is -:\n",
      "Where was Bill before the office ?\n",
      "\n",
      "The predicted answer is -:\n",
      "kitchen\n",
      "\n",
      "\n"
     ]
    }
   ],
   "source": [
    "pred_evaluation(1)\n"
   ]
  },
  {
   "cell_type": "code",
   "execution_count": 18,
   "metadata": {
    "collapsed": false
   },
   "outputs": [
    {
     "name": "stdout",
     "output_type": "stream",
     "text": [
      "The story is -: \n",
      "Mary went back to the kitchen this morning . Mary travelled to the school yesterday .\n",
      "\n",
      "\n",
      "The query is -:\n",
      "Where was Mary before the kitchen ?\n",
      "\n",
      "The predicted answer is -:\n",
      "school\n",
      "\n",
      "\n"
     ]
    }
   ],
   "source": [
    "pred_evaluation(20)\n"
   ]
  },
  {
   "cell_type": "code",
   "execution_count": 19,
   "metadata": {
    "collapsed": false
   },
   "outputs": [
    {
     "name": "stdout",
     "output_type": "stream",
     "text": [
      "The story is -: \n",
      "Fred went to the cinema this morning . Yesterday Julie went back to the park . Fred travelled to the kitchen yesterday . Yesterday Bill went to the school .\n",
      "\n",
      "\n",
      "The query is -:\n",
      "Where was Fred before the cinema ?\n",
      "\n",
      "The predicted answer is -:\n",
      "school\n",
      "\n",
      "\n"
     ]
    }
   ],
   "source": [
    "pred_evaluation(540)"
   ]
  }
 ],
 "metadata": {
  "kernelspec": {
   "display_name": "Python 2",
   "language": "python",
   "name": "python2"
  },
  "language_info": {
   "codemirror_mode": {
    "name": "ipython",
    "version": 2
   },
   "file_extension": ".py",
   "mimetype": "text/x-python",
   "name": "python",
   "nbconvert_exporter": "python",
   "pygments_lexer": "ipython2",
   "version": "2.7.9"
  }
 },
 "nbformat": 4,
 "nbformat_minor": 1
}
