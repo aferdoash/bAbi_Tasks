{
 "cells": [
  {
   "cell_type": "markdown",
   "metadata": {},
   "source": [
    "### QA Type 19 : Path Finding\n",
    "\n",
    "The goal of task 19 is to find the path between locations: given the description of various locations, it asks: how do you get from one to another? This is related to the work of Chen & Mooney (2011) and effectively involves a search problem. \n",
    "\n",
    "For training and testing we have used the 10k dataset, containing 10,000 training examples and 10,000 testing examples.\n",
    "An example QA set is as below -:\n",
    "\n",
    "1 The office is east of the hallway.\n",
    "2 The kitchen is north of the office.\n",
    "3 The garden is west of the bedroom.\n",
    "4 The office is west of the garden.\n",
    "5 The bathroom is north of the garden.\n",
    "6 How do you go from the kitchen to the garden?\ts,e\t\n"
   ]
  },
  {
   "cell_type": "code",
   "execution_count": 1,
   "metadata": {
    "collapsed": false
   },
   "outputs": [
    {
     "name": "stderr",
     "output_type": "stream",
     "text": [
      "Using TensorFlow backend.\n"
     ]
    }
   ],
   "source": [
    "from __future__ import print_function\n",
    "from keras.models import Sequential\n",
    "from keras.layers.embeddings import Embedding\n",
    "from keras.layers import Activation, Dense, Merge, Permute, Dropout\n",
    "from keras.layers import LSTM\n",
    "from keras.utils.data_utils import get_file\n",
    "from keras.preprocessing.sequence import pad_sequences\n",
    "from functools import reduce\n",
    "import tarfile\n",
    "import numpy as np\n",
    "import re"
   ]
  },
  {
   "cell_type": "markdown",
   "metadata": {},
   "source": [
    "### Story processing\n",
    "\n",
    "Each story is processed to reduce sentences to tokens and combine all facts and queries relevant to the story. "
   ]
  },
  {
   "cell_type": "code",
   "execution_count": 2,
   "metadata": {
    "collapsed": false
   },
   "outputs": [],
   "source": [
    "def tokenize(sent):\n",
    "    '''Return the tokens of a sentence including punctuation.\n",
    "    >>> tokenize('Bob dropped the apple. Where is the apple?')\n",
    "    ['Bob', 'dropped', 'the', 'apple', '.', 'Where', 'is', 'the', 'apple', '?']\n",
    "    '''\n",
    "    return [x.strip() for x in re.split('(\\W+)?', sent) if x.strip()]\n"
   ]
  },
  {
   "cell_type": "code",
   "execution_count": 3,
   "metadata": {
    "collapsed": true
   },
   "outputs": [],
   "source": [
    "def parse_stories(lines, only_supporting=False):\n",
    "    '''Parse stories provided in the bAbi tasks format\n",
    "    If only_supporting is true, only the sentences that support the answer are kept.\n",
    "    '''\n",
    "    data = []\n",
    "    story = []\n",
    "    for line in lines:\n",
    "        line = line.decode('utf-8').strip()\n",
    "        nid, line = line.split(' ', 1)\n",
    "        nid = int(nid)\n",
    "        if nid == 1:\n",
    "            story = []\n",
    "        if '\\t' in line:\n",
    "            q, a, supporting = line.split('\\t')\n",
    "            q = tokenize(q)\n",
    "            substory = None\n",
    "            if only_supporting:\n",
    "                # Only select the related substory\n",
    "                supporting = map(int, supporting.split())\n",
    "                substory = [story[i - 1] for i in supporting]\n",
    "            else:\n",
    "                # Provide all the substories\n",
    "                substory = [x for x in story if x]\n",
    "            data.append((substory, q, a))\n",
    "            story.append('')\n",
    "        else:\n",
    "            sent = tokenize(line)\n",
    "            story.append(sent)\n",
    "    return data"
   ]
  },
  {
   "cell_type": "code",
   "execution_count": 4,
   "metadata": {
    "collapsed": true
   },
   "outputs": [],
   "source": [
    "\n",
    "def get_stories(f, only_supporting=False, max_length=None):\n",
    "    '''Given a file name, read the file, retrieve the stories, and then convert the sentences into a single story.\n",
    "    If max_length is supplied, any stories longer than max_length tokens will be discarded.\n",
    "    '''\n",
    "    data = parse_stories(f.readlines(), only_supporting=only_supporting)\n",
    "    flatten = lambda data: reduce(lambda x, y: x + y, data)\n",
    "    data = [(flatten(story), q, answer) for story, q, answer in data if not max_length or len(flatten(story)) < max_length]\n",
    "    return data\n"
   ]
  },
  {
   "cell_type": "code",
   "execution_count": 5,
   "metadata": {
    "collapsed": true
   },
   "outputs": [],
   "source": [
    "def vectorize_stories(data, word_idx, story_maxlen, query_maxlen):\n",
    "    X = []\n",
    "    Xq = []\n",
    "    Y = []\n",
    "    for story, query, answer in data:\n",
    "        x = [word_idx[w] for w in story]\n",
    "        xq = [word_idx[w] for w in query]\n",
    "        y = np.zeros(len(word_idx) + 1)  # let's not forget that index 0 is reserved\n",
    "        y[word_idx[answer]] = 1\n",
    "        X.append(x)\n",
    "        Xq.append(xq)\n",
    "        Y.append(y)\n",
    "    return (pad_sequences(X, maxlen=story_maxlen),\n",
    "            pad_sequences(Xq, maxlen=query_maxlen), np.array(Y))"
   ]
  },
  {
   "cell_type": "code",
   "execution_count": 6,
   "metadata": {
    "collapsed": false
   },
   "outputs": [],
   "source": [
    "try:\n",
    "    path = get_file('babi-tasks-v1-2.tar.gz', origin='https://s3.amazonaws.com/text-datasets/babi_tasks_1-20_v1-2.tar.gz')\n",
    "except:\n",
    "    print('Error downloading dataset, please download it manually:\\n'\n",
    "          '$ wget http://www.thespermwhale.com/jaseweston/babi/tasks_1-20_v1-2.tar.gz\\n'\n",
    "          '$ mv tasks_1-20_v1-2.tar.gz ~/.keras/datasets/babi-tasks-v1-2.tar.gz')\n",
    "    raise\n",
    "tar = tarfile.open(path)"
   ]
  },
  {
   "cell_type": "markdown",
   "metadata": {},
   "source": [
    "### Training Set\n",
    "\n",
    "Here the selection of 'Question' type (single supporting fact, three supporting facts etc.) is made for generating the training and test set. "
   ]
  },
  {
   "cell_type": "code",
   "execution_count": 7,
   "metadata": {
    "collapsed": false
   },
   "outputs": [
    {
     "name": "stdout",
     "output_type": "stream",
     "text": [
      "Extracting stories for the challenge: path-finding_10k\n"
     ]
    }
   ],
   "source": [
    "challenges = {\n",
    "    'single_supporting_fact_10k': 'tasks_1-20_v1-2/en-10k/qa1_single-supporting-fact_{}.txt',\n",
    "    'two_supporting_facts_10k': 'tasks_1-20_v1-2/en-10k/qa2_two-supporting-facts_{}.txt',\n",
    "    'three_supporting_facts_10k': 'tasks_1-20_v1-2/en-10k/qa2_three-supporting-facts_{}.txt',\n",
    "    'two-arg-relations_10k' : 'tasks_1-20_v1-2/en-10k/qa4_two-arg-relations_{}.txt',\n",
    "    'three-arg-relations_10k' : 'tasks_1-20_v1-2/en-10k/qa5_three-arg-relations_{}.txt',\n",
    "    'yes-no-questions_10k' :'tasks_1-20_v1-2/en-10k/qa6_yes-no-questions_{}.txt',\n",
    "    'counting_10k':'tasks_1-20_v1-2/en-10k/qa7_counting_{}.txt',\n",
    "    'lists-sets_10k' : 'tasks_1-20_v1-2/en-10k/qa8_lists-sets_{}.txt',\n",
    "    'simple-negation_10k':'tasks_1-20_v1-2/en-10k/qa9_simple-negation_{}.txt',\n",
    "    'indefinite-knowledge_10k' : 'tasks_1-20_v1-2/en-10k/qa10_indefinite-knowledge_{}.txt',\n",
    "    'basic-coreference_10k':'tasks_1-20_v1-2/en-10k/qa11_basic-coreference_{}.txt',\n",
    "    'conjunction_10k':'tasks_1-20_v1-2/en-10k/qa12_conjunction_{}.txt',\n",
    "    'compound-coreference_10k':'tasks_1-20_v1-2/en-10k/qa13_compound-coreference_{}.txt',\n",
    "    'time-reasoning_10k':'tasks_1-20_v1-2/en-10k/qa14_time-reasoning_{}.txt',\n",
    "    'basic-deduction_10k' : 'tasks_1-20_v1-2/en-10k/qa15_basic-deduction_{}.txt',\n",
    "    'basic-induction_10k':'tasks_1-20_v1-2/en-10k/qa16_basic-induction_{}.txt',\n",
    "    'positional-reasoning_10k':'tasks_1-20_v1-2/en-10k/qa17_positional-reasoning_{}.txt',\n",
    "    'size-reasoning_10k':'tasks_1-20_v1-2/en-10k/qa18_size-reasoning_{}.txt',\n",
    "    'path-finding_10k':'tasks_1-20_v1-2/en-10k/qa19_path-finding_{}.txt',\n",
    "    'agents-motivations_10k':'tasks_1-20_v1-2/en-10k/qa20_agents-motivations_{}.txt'\n",
    "    \n",
    "}\n",
    "challenge_type = 'path-finding_10k'\n",
    "challenge = challenges[challenge_type]\n",
    "\n",
    "print('Extracting stories for the challenge:', challenge_type)\n",
    "train_stories = get_stories(tar.extractfile(challenge.format('train')))\n",
    "test_stories = get_stories(tar.extractfile(challenge.format('test')))\n"
   ]
  },
  {
   "cell_type": "code",
   "execution_count": 8,
   "metadata": {
    "collapsed": false
   },
   "outputs": [
    {
     "name": "stdout",
     "output_type": "stream",
     "text": [
      "Vocab size: 35 unique words\n",
      "Story max length: 40 words\n",
      "Query max length: 11 words\n",
      "Number of training stories: 10000\n",
      "Number of test stories: 1000\n",
      "\n",
      "\n",
      "Here's what a \"story\" tuple looks like (input, query, answer):\n",
      "([u'The', u'office', u'is', u'east', u'of', u'the', u'hallway', u'.', u'The', u'kitchen', u'is', u'north', u'of', u'the', u'office', u'.', u'The', u'garden', u'is', u'west', u'of', u'the', u'bedroom', u'.', u'The', u'office', u'is', u'west', u'of', u'the', u'garden', u'.', u'The', u'bathroom', u'is', u'north', u'of', u'the', u'garden', u'.'], [u'How', u'do', u'you', u'go', u'from', u'the', u'kitchen', u'to', u'the', u'garden', u'?'], u's,e')\n"
     ]
    }
   ],
   "source": [
    "vocab = sorted(reduce(lambda x, y: x | y, (set(story + q + [answer]) for story, q, answer in train_stories + test_stories)))\n",
    "# Reserve 0 for masking via pad_sequences\n",
    "vocab_size = len(vocab) + 1\n",
    "story_maxlen = max(map(len, (x for x, _, _ in train_stories + test_stories)))\n",
    "query_maxlen = max(map(len, (x for _, x, _ in train_stories + test_stories)))\n",
    "\n",
    "print('Vocab size:', vocab_size, 'unique words')\n",
    "print('Story max length:', story_maxlen, 'words')\n",
    "print('Query max length:', query_maxlen, 'words')\n",
    "print('Number of training stories:', len(train_stories))\n",
    "print('Number of test stories:', len(test_stories))\n",
    "print('\\n')\n",
    "print('Here\\'s what a \"story\" tuple looks like (input, query, answer):')\n",
    "print(train_stories[0])"
   ]
  },
  {
   "cell_type": "markdown",
   "metadata": {},
   "source": [
    "### Vectorizing the word sequences\n",
    "\n",
    "Here we convert the word tokens to word vectors. We know the total number of unique words in the corpus, that is the size of the vocabulary. Thus, to each word in the corpus we assign a number. We also know the maximum length of a story, story_maxlen (story includes facts, query and answer). Thus, for each story we can construct a word vector of length story_maxlen. For eg. suppose, story_maxlen is 68 and the current story length is 24, then we can have a word vector with the first 34 indices as 0 and the next 24 indices with vocabulary index values of words in the current story"
   ]
  },
  {
   "cell_type": "code",
   "execution_count": 9,
   "metadata": {
    "collapsed": false
   },
   "outputs": [
    {
     "name": "stdout",
     "output_type": "stream",
     "text": [
      "inputs: integer tensor of shape (samples, max_length)\n",
      "inputs_train shape: (10000, 40)\n",
      "inputs_test shape: (1000, 40)\n",
      "\n",
      "\n",
      "queries: integer tensor of shape (samples, max_length)\n",
      "queries_train shape: (10000, 11)\n",
      "queries_test shape: (1000, 11)\n",
      "\n",
      "\n",
      "answers: binary (1 or 0) tensor of shape (samples, vocab_size)\n",
      "answers_train shape: (10000, 35)\n",
      "answers_test shape: (1000, 35)\n",
      "\n",
      "\n"
     ]
    }
   ],
   "source": [
    "word_idx = dict((c, i + 1) for i, c in enumerate(vocab))\n",
    "inputs_train, queries_train, answers_train = vectorize_stories(train_stories, word_idx, story_maxlen, query_maxlen)\n",
    "inputs_test, queries_test, answers_test = vectorize_stories(test_stories, word_idx, story_maxlen, query_maxlen)\n",
    "\n",
    "\n",
    "print('inputs: integer tensor of shape (samples, max_length)')\n",
    "print('inputs_train shape:', inputs_train.shape)\n",
    "print('inputs_test shape:', inputs_test.shape)\n",
    "print('\\n')\n",
    "print('queries: integer tensor of shape (samples, max_length)')\n",
    "print('queries_train shape:', queries_train.shape)\n",
    "print('queries_test shape:', queries_test.shape)\n",
    "print('\\n')\n",
    "print('answers: binary (1 or 0) tensor of shape (samples, vocab_size)')\n",
    "print('answers_train shape:', answers_train.shape)\n",
    "print('answers_test shape:', answers_test.shape)\n",
    "print('\\n')\n"
   ]
  },
  {
   "cell_type": "markdown",
   "metadata": {},
   "source": [
    "### End-to-End Memory Networks\n",
    "\n",
    "The model employed is the End-to-End Memory Networks described in Sukhbaatar et. al. (2015). The architecture is a modified form of Memory Network (Weston, 2014) with the training being weakly supervised.Weston's Memory Network was not easy to train via backpropagation and required supervision at each layer.\n",
    "\n",
    "\n",
    "Briefly, the model takes a discrete set of inputs x1, x2, ...xn that are to be stored in memory, a query q, and an answer a. The model writes all x to the memory up to a fixed buffer size, and then finds a continuous representation for x and q. The continuous representation is then processed via multiple hops to output a. \n"
   ]
  },
  {
   "cell_type": "code",
   "execution_count": 10,
   "metadata": {
    "collapsed": false
   },
   "outputs": [],
   "source": [
    "# embed the input sequence into a sequence of vectors\n",
    "# output: (samples, story_maxlen, embedding_dim)\n",
    "input_encoder_m = Sequential()\n",
    "input_encoder_m.add(Embedding(input_dim=vocab_size,\n",
    "                              output_dim=64,\n",
    "                              input_length=story_maxlen))\n",
    "input_encoder_m.add(Dropout(0.3))\n",
    "\n",
    "\n",
    "# embed the question into a sequence of vectors\n",
    "# output: (samples, query_maxlen, embedding_dim)\n",
    "question_encoder = Sequential()\n",
    "question_encoder.add(Embedding(input_dim=vocab_size,\n",
    "                               output_dim=64,\n",
    "                               input_length=query_maxlen))\n",
    "question_encoder.add(Dropout(0.3))\n",
    "\n",
    "# compute a 'match' between input sequence elements (which are vectors)\n",
    "# and the question vector sequence\n",
    "\n",
    "# output: (samples, story_maxlen, query_maxlen)\n",
    "match = Sequential()\n",
    "match.add(Merge([input_encoder_m, question_encoder],\n",
    "                mode='dot',\n",
    "                dot_axes=[2, 2]))\n",
    "match.add(Activation('softmax'))\n",
    "\n",
    "# embed the input into a single vector with size = story_maxlen:\n",
    "# output: (samples, story_maxlen, query_maxlen)\n",
    "input_encoder_c = Sequential()\n",
    "input_encoder_c.add(Embedding(input_dim=vocab_size,\n",
    "                              output_dim=query_maxlen,\n",
    "                              input_length=story_maxlen))\n",
    "input_encoder_c.add(Dropout(0.3))\n",
    "\n",
    "\n",
    "# sum the match vector with the input vector:\n",
    "# output: (samples, story_maxlen, query_maxlen)\n",
    "response = Sequential()\n",
    "response.add(Merge([match, input_encoder_c], mode='sum'))\n",
    "\n",
    "response.add(Permute((2, 1)))  # output: (samples, query_maxlen, story_maxlen)\n",
    "\n",
    "# concatenate the match vector with the question vector,\n",
    "# and do logistic regression on top\n",
    "answer = Sequential()\n",
    "answer.add(Merge([response, question_encoder], mode='concat', concat_axis=-1))\n",
    "\n",
    "\n",
    "# the original paper uses a matrix multiplication for this reduction step.\n",
    "# we choose to use a RNN instead.\n",
    "answer.add(LSTM(32))\n",
    "# one regularization layer -- more would probably be needed.\n",
    "answer.add(Dropout(0.3))\n",
    "answer.add(Dense(vocab_size))\n",
    "# we output a probability distribution over the vocabulary\n",
    "answer.add(Activation('softmax'))\n",
    "\n"
   ]
  },
  {
   "cell_type": "code",
   "execution_count": 11,
   "metadata": {
    "collapsed": false
   },
   "outputs": [
    {
     "name": "stdout",
     "output_type": "stream",
     "text": [
      "Train on 10000 samples, validate on 1000 samples\n",
      "Epoch 1/60\n",
      "10000/10000 [==============================] - 21s - loss: 2.6753 - acc: 0.0809 - val_loss: 2.5020 - val_acc: 0.0840\n",
      "Epoch 2/60\n",
      "10000/10000 [==============================] - 20s - loss: 2.5133 - acc: 0.0865 - val_loss: 2.4929 - val_acc: 0.0690\n",
      "Epoch 3/60\n",
      "10000/10000 [==============================] - 20s - loss: 2.4915 - acc: 0.0882 - val_loss: 2.4737 - val_acc: 0.0930\n",
      "Epoch 4/60\n",
      "10000/10000 [==============================] - 21s - loss: 2.4718 - acc: 0.1129 - val_loss: 2.4733 - val_acc: 0.1000\n",
      "Epoch 5/60\n",
      "10000/10000 [==============================] - 17s - loss: 2.4619 - acc: 0.1163 - val_loss: 2.4649 - val_acc: 0.0880\n",
      "Epoch 6/60\n",
      "10000/10000 [==============================] - 20s - loss: 2.4566 - acc: 0.1180 - val_loss: 2.4624 - val_acc: 0.1080\n",
      "Epoch 7/60\n",
      "10000/10000 [==============================] - 18s - loss: 2.4569 - acc: 0.1160 - val_loss: 2.4562 - val_acc: 0.1260\n",
      "Epoch 8/60\n",
      "10000/10000 [==============================] - 18s - loss: 2.4526 - acc: 0.1214 - val_loss: 2.4591 - val_acc: 0.1140\n",
      "Epoch 9/60\n",
      "10000/10000 [==============================] - 18s - loss: 2.4519 - acc: 0.1213 - val_loss: 2.4604 - val_acc: 0.1050\n",
      "Epoch 10/60\n",
      "10000/10000 [==============================] - 16s - loss: 2.4469 - acc: 0.1259 - val_loss: 2.4640 - val_acc: 0.1160\n",
      "Epoch 11/60\n",
      "10000/10000 [==============================] - 19s - loss: 2.4459 - acc: 0.1241 - val_loss: 2.4613 - val_acc: 0.0820\n",
      "Epoch 12/60\n",
      "10000/10000 [==============================] - 17s - loss: 2.4475 - acc: 0.1245 - val_loss: 2.4589 - val_acc: 0.1030\n",
      "Epoch 13/60\n",
      "10000/10000 [==============================] - 17s - loss: 2.4449 - acc: 0.1216 - val_loss: 2.4603 - val_acc: 0.0940\n",
      "Epoch 14/60\n",
      "10000/10000 [==============================] - 20s - loss: 2.4443 - acc: 0.1283 - val_loss: 2.4618 - val_acc: 0.0880\n",
      "Epoch 15/60\n",
      "10000/10000 [==============================] - 20s - loss: 2.4424 - acc: 0.1239 - val_loss: 2.4622 - val_acc: 0.0970\n",
      "Epoch 16/60\n",
      "10000/10000 [==============================] - 20s - loss: 2.4395 - acc: 0.1296 - val_loss: 2.4672 - val_acc: 0.0950\n",
      "Epoch 17/60\n",
      "10000/10000 [==============================] - 20s - loss: 2.4390 - acc: 0.1308 - val_loss: 2.4664 - val_acc: 0.1030\n",
      "Epoch 18/60\n",
      "10000/10000 [==============================] - 21s - loss: 2.4373 - acc: 0.1324 - val_loss: 2.4655 - val_acc: 0.0970\n",
      "Epoch 19/60\n",
      "10000/10000 [==============================] - 20s - loss: 2.4388 - acc: 0.1326 - val_loss: 2.4713 - val_acc: 0.0970\n",
      "Epoch 20/60\n",
      "10000/10000 [==============================] - 18s - loss: 2.4364 - acc: 0.1337 - val_loss: 2.4654 - val_acc: 0.0980\n",
      "Epoch 21/60\n",
      "10000/10000 [==============================] - 20s - loss: 2.4326 - acc: 0.1349 - val_loss: 2.4715 - val_acc: 0.0910\n",
      "Epoch 22/60\n",
      "10000/10000 [==============================] - 18s - loss: 2.4309 - acc: 0.1356 - val_loss: 2.4694 - val_acc: 0.1020\n",
      "Epoch 23/60\n",
      "10000/10000 [==============================] - 20s - loss: 2.4294 - acc: 0.1363 - val_loss: 2.4719 - val_acc: 0.1000\n",
      "Epoch 24/60\n",
      "10000/10000 [==============================] - 16s - loss: 2.4290 - acc: 0.1353 - val_loss: 2.4715 - val_acc: 0.1030\n",
      "Epoch 25/60\n",
      "10000/10000 [==============================] - 20s - loss: 2.4262 - acc: 0.1433 - val_loss: 2.4724 - val_acc: 0.1000\n",
      "Epoch 26/60\n",
      "10000/10000 [==============================] - 15s - loss: 2.4225 - acc: 0.1419 - val_loss: 2.4747 - val_acc: 0.1010\n",
      "Epoch 27/60\n",
      "10000/10000 [==============================] - 20s - loss: 2.4227 - acc: 0.1422 - val_loss: 2.4748 - val_acc: 0.0990\n",
      "Epoch 28/60\n",
      "10000/10000 [==============================] - 13s - loss: 2.4163 - acc: 0.1452 - val_loss: 2.4761 - val_acc: 0.0980\n",
      "Epoch 29/60\n",
      "10000/10000 [==============================] - 20s - loss: 2.4194 - acc: 0.1402 - val_loss: 2.4778 - val_acc: 0.0970\n",
      "Epoch 30/60\n",
      "10000/10000 [==============================] - 20s - loss: 2.4117 - acc: 0.1445 - val_loss: 2.4764 - val_acc: 0.0950\n",
      "Epoch 31/60\n",
      "10000/10000 [==============================] - 21s - loss: 2.4098 - acc: 0.1451 - val_loss: 2.4773 - val_acc: 0.0910\n",
      "Epoch 32/60\n",
      "10000/10000 [==============================] - 20s - loss: 2.4075 - acc: 0.1499 - val_loss: 2.4737 - val_acc: 0.1030\n",
      "Epoch 33/60\n",
      "10000/10000 [==============================] - 20s - loss: 2.4063 - acc: 0.1481 - val_loss: 2.4725 - val_acc: 0.1050\n",
      "Epoch 34/60\n",
      "10000/10000 [==============================] - 20s - loss: 2.3989 - acc: 0.1555 - val_loss: 2.4765 - val_acc: 0.1110\n",
      "Epoch 35/60\n",
      "10000/10000 [==============================] - 18s - loss: 2.4005 - acc: 0.1561 - val_loss: 2.4770 - val_acc: 0.1040\n",
      "Epoch 36/60\n",
      "10000/10000 [==============================] - 20s - loss: 2.3911 - acc: 0.1539 - val_loss: 2.4815 - val_acc: 0.1030\n",
      "Epoch 37/60\n",
      "10000/10000 [==============================] - 20s - loss: 2.3956 - acc: 0.1581 - val_loss: 2.4844 - val_acc: 0.1060\n",
      "Epoch 38/60\n",
      "10000/10000 [==============================] - 16s - loss: 2.3897 - acc: 0.1549 - val_loss: 2.4790 - val_acc: 0.1090\n",
      "Epoch 39/60\n",
      "10000/10000 [==============================] - 19s - loss: 2.3874 - acc: 0.1565 - val_loss: 2.4775 - val_acc: 0.1020\n",
      "Epoch 40/60\n",
      "10000/10000 [==============================] - 16s - loss: 2.3864 - acc: 0.1598 - val_loss: 2.4782 - val_acc: 0.1060\n",
      "Epoch 41/60\n",
      "10000/10000 [==============================] - 18s - loss: 2.3814 - acc: 0.1665 - val_loss: 2.4843 - val_acc: 0.1080\n",
      "Epoch 42/60\n",
      "10000/10000 [==============================] - 16s - loss: 2.3798 - acc: 0.1624 - val_loss: 2.4851 - val_acc: 0.1060\n",
      "Epoch 43/60\n",
      "10000/10000 [==============================] - 20s - loss: 2.3754 - acc: 0.1671 - val_loss: 2.4847 - val_acc: 0.1000\n",
      "Epoch 44/60\n",
      "10000/10000 [==============================] - 20s - loss: 2.3737 - acc: 0.1718 - val_loss: 2.4854 - val_acc: 0.1050\n",
      "Epoch 45/60\n",
      "10000/10000 [==============================] - 20s - loss: 2.3752 - acc: 0.1680 - val_loss: 2.4879 - val_acc: 0.1060\n",
      "Epoch 46/60\n",
      "10000/10000 [==============================] - 20s - loss: 2.3670 - acc: 0.1698 - val_loss: 2.4874 - val_acc: 0.1150\n",
      "Epoch 47/60\n",
      "10000/10000 [==============================] - 20s - loss: 2.3676 - acc: 0.1716 - val_loss: 2.4831 - val_acc: 0.1210\n",
      "Epoch 48/60\n",
      "10000/10000 [==============================] - 20s - loss: 2.3596 - acc: 0.1697 - val_loss: 2.4864 - val_acc: 0.1060\n",
      "Epoch 49/60\n",
      "10000/10000 [==============================] - 20s - loss: 2.3579 - acc: 0.1688 - val_loss: 2.4923 - val_acc: 0.1020\n",
      "Epoch 50/60\n",
      "10000/10000 [==============================] - 18s - loss: 2.3590 - acc: 0.1777 - val_loss: 2.4915 - val_acc: 0.0960\n",
      "Epoch 51/60\n",
      "10000/10000 [==============================] - 18s - loss: 2.3536 - acc: 0.1717 - val_loss: 2.4944 - val_acc: 0.1010\n",
      "Epoch 52/60\n",
      "10000/10000 [==============================] - 18s - loss: 2.3461 - acc: 0.1772 - val_loss: 2.4932 - val_acc: 0.0970\n",
      "Epoch 53/60\n",
      "10000/10000 [==============================] - 19s - loss: 2.3508 - acc: 0.1752 - val_loss: 2.4985 - val_acc: 0.0950\n",
      "Epoch 54/60\n",
      "10000/10000 [==============================] - 17s - loss: 2.3415 - acc: 0.1853 - val_loss: 2.4995 - val_acc: 0.0970\n",
      "Epoch 55/60\n",
      "10000/10000 [==============================] - 20s - loss: 2.3393 - acc: 0.1791 - val_loss: 2.5003 - val_acc: 0.1050\n",
      "Epoch 56/60\n",
      "10000/10000 [==============================] - 15s - loss: 2.3386 - acc: 0.1764 - val_loss: 2.4948 - val_acc: 0.1170\n",
      "Epoch 57/60\n",
      "10000/10000 [==============================] - 20s - loss: 2.3332 - acc: 0.1841 - val_loss: 2.4912 - val_acc: 0.1040\n",
      "Epoch 58/60\n",
      "10000/10000 [==============================] - 21s - loss: 2.3300 - acc: 0.1801 - val_loss: 2.4904 - val_acc: 0.1090\n",
      "Epoch 59/60\n",
      "10000/10000 [==============================] - 20s - loss: 2.3328 - acc: 0.1811 - val_loss: 2.4877 - val_acc: 0.1060\n",
      "Epoch 60/60\n",
      "10000/10000 [==============================] - 20s - loss: 2.3319 - acc: 0.1843 - val_loss: 2.4889 - val_acc: 0.1150\n"
     ]
    },
    {
     "data": {
      "text/plain": [
       "<keras.callbacks.History at 0x7f092bae6d50>"
      ]
     },
     "execution_count": 11,
     "metadata": {},
     "output_type": "execute_result"
    }
   ],
   "source": [
    "answer.compile(optimizer='rmsprop', loss='categorical_crossentropy',\n",
    "               metrics=['accuracy'])\n",
    "# Note: you could use a Graph model to avoid repeat the input twice\n",
    "answer.fit([inputs_train, queries_train, inputs_train], answers_train,\n",
    "           batch_size=32,\n",
    "           nb_epoch=60,\n",
    "           validation_data=([inputs_test, queries_test, inputs_test], answers_test))"
   ]
  },
  {
   "cell_type": "markdown",
   "metadata": {},
   "source": [
    "### Making predictions based on the fitted model"
   ]
  },
  {
   "cell_type": "code",
   "execution_count": 12,
   "metadata": {
    "collapsed": false
   },
   "outputs": [
    {
     "name": "stdout",
     "output_type": "stream",
     "text": [
      "1000/1000 [==============================] - 0s     \n"
     ]
    }
   ],
   "source": [
    "predictions=answer.predict_classes([inputs_test, queries_test, inputs_test], batch_size=32)"
   ]
  },
  {
   "cell_type": "markdown",
   "metadata": {},
   "source": [
    "### Example story and model prediction"
   ]
  },
  {
   "cell_type": "code",
   "execution_count": 13,
   "metadata": {
    "collapsed": false,
    "scrolled": true
   },
   "outputs": [],
   "source": [
    "def pred_evaluation(ind):\n",
    "    \n",
    "    print (\"The story is -: \")\n",
    "    facts = test_stories[ind]\n",
    "    print(' '.join(facts[0]))\n",
    "    print('\\n')\n",
    "    \n",
    "    print (\"The query is -:\")\n",
    "    print(' '.join(facts[1]))\n",
    "\n",
    "    print (\"\\nThe predicted answer is -:\")\n",
    "    ans = predictions[ind]\n",
    "    for key, value in (word_idx).items():\n",
    "        if value == ans:\n",
    "            print(key)\n",
    "            print('\\n')\n",
    "            \n"
   ]
  },
  {
   "cell_type": "code",
   "execution_count": 14,
   "metadata": {
    "collapsed": false
   },
   "outputs": [
    {
     "name": "stdout",
     "output_type": "stream",
     "text": [
      "The story is -: \n",
      "The hallway is west of the bathroom . The office is south of the bedroom . The garden is north of the bedroom . The kitchen is east of the bedroom . The hallway is east of the kitchen .\n",
      "\n",
      "\n",
      "The query is -:\n",
      "How do you go from the bedroom to the hallway ?\n",
      "\n",
      "The predicted answer is -:\n",
      "w,w\n",
      "\n",
      "\n"
     ]
    }
   ],
   "source": [
    "pred_evaluation(1)\n"
   ]
  },
  {
   "cell_type": "code",
   "execution_count": 15,
   "metadata": {
    "collapsed": false
   },
   "outputs": [
    {
     "name": "stdout",
     "output_type": "stream",
     "text": [
      "The story is -: \n",
      "The kitchen is east of the garden . The bathroom is east of the hallway . The bedroom is north of the hallway . The garden is south of the hallway . The office is west of the hallway .\n",
      "\n",
      "\n",
      "The query is -:\n",
      "How do you go from the office to the garden ?\n",
      "\n",
      "The predicted answer is -:\n",
      "w,w\n",
      "\n",
      "\n"
     ]
    }
   ],
   "source": [
    "pred_evaluation(20)\n"
   ]
  },
  {
   "cell_type": "code",
   "execution_count": 16,
   "metadata": {
    "collapsed": false
   },
   "outputs": [
    {
     "name": "stdout",
     "output_type": "stream",
     "text": [
      "The story is -: \n",
      "The bedroom is north of the garden . The kitchen is north of the bedroom . The bathroom is north of the office . The hallway is south of the office . The office is west of the bedroom .\n",
      "\n",
      "\n",
      "The query is -:\n",
      "How do you go from the hallway to the bedroom ?\n",
      "\n",
      "The predicted answer is -:\n",
      "s,w\n",
      "\n",
      "\n"
     ]
    }
   ],
   "source": [
    "pred_evaluation(540)"
   ]
  }
 ],
 "metadata": {
  "kernelspec": {
   "display_name": "Python 2",
   "language": "python",
   "name": "python2"
  },
  "language_info": {
   "codemirror_mode": {
    "name": "ipython",
    "version": 2
   },
   "file_extension": ".py",
   "mimetype": "text/x-python",
   "name": "python",
   "nbconvert_exporter": "python",
   "pygments_lexer": "ipython2",
   "version": "2.7.9"
  }
 },
 "nbformat": 4,
 "nbformat_minor": 1
}
