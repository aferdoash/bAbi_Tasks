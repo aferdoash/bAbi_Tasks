{
 "cells": [
  {
   "cell_type": "markdown",
   "metadata": {},
   "source": [
    "### QA Type 5 : Three Argument Relations\n",
    "\n",
    "This task is similar to task 4 in that we have reordering of subject and object. The difference lies in the fact that now we need to differentiate three separate arguments. Task 5 involves statements like “Jeff was given the milk by Bill” and then queries who is the giver, receiver or which object is involved.\n",
    "\n",
    "For training and testing we have used the 10k dataset, containing 10,000 training examples.\n",
    "An example QA set is as below -:\n",
    "\n",
    "1. Bill travelled to the office.\n",
    "2. Bill picked up the football there.\n",
    "3. Bill went to the bedroom.\n",
    "4. Bill gave the football to Fred.\n",
    "5. What did Bill give to Fred? \tfootball\t4\n"
   ]
  },
  {
   "cell_type": "code",
   "execution_count": 9,
   "metadata": {
    "collapsed": false
   },
   "outputs": [
    {
     "name": "stderr",
     "output_type": "stream",
     "text": [
      "Using TensorFlow backend.\n"
     ]
    }
   ],
   "source": [
    "from __future__ import print_function\n",
    "from keras.models import Sequential\n",
    "from keras.layers.embeddings import Embedding\n",
    "from keras.layers import Activation, Dense, Merge, Permute, Dropout\n",
    "from keras.layers import LSTM\n",
    "from keras.utils.data_utils import get_file\n",
    "from keras.preprocessing.sequence import pad_sequences\n",
    "from functools import reduce\n",
    "import tarfile\n",
    "import numpy as np\n",
    "import re"
   ]
  },
  {
   "cell_type": "markdown",
   "metadata": {},
   "source": [
    "### Story processing\n",
    "\n",
    "Each story is processed to reduce sentences to tokens and combine all facts and queries relevant to the story. "
   ]
  },
  {
   "cell_type": "code",
   "execution_count": 10,
   "metadata": {
    "collapsed": false
   },
   "outputs": [],
   "source": [
    "def tokenize(sent):\n",
    "    '''Return the tokens of a sentence including punctuation.\n",
    "    >>> tokenize('Bob dropped the apple. Where is the apple?')\n",
    "    ['Bob', 'dropped', 'the', 'apple', '.', 'Where', 'is', 'the', 'apple', '?']\n",
    "    '''\n",
    "    return [x.strip() for x in re.split('(\\W+)?', sent) if x.strip()]\n"
   ]
  },
  {
   "cell_type": "code",
   "execution_count": 11,
   "metadata": {
    "collapsed": true
   },
   "outputs": [],
   "source": [
    "def parse_stories(lines, only_supporting=False):\n",
    "    '''Parse stories provided in the bAbi tasks format\n",
    "    If only_supporting is true, only the sentences that support the answer are kept.\n",
    "    '''\n",
    "    data = []\n",
    "    story = []\n",
    "    for line in lines:\n",
    "        line = line.decode('utf-8').strip()\n",
    "        nid, line = line.split(' ', 1)\n",
    "        nid = int(nid)\n",
    "        if nid == 1:\n",
    "            story = []\n",
    "        if '\\t' in line:\n",
    "            q, a, supporting = line.split('\\t')\n",
    "            q = tokenize(q)\n",
    "            substory = None\n",
    "            if only_supporting:\n",
    "                # Only select the related substory\n",
    "                supporting = map(int, supporting.split())\n",
    "                substory = [story[i - 1] for i in supporting]\n",
    "            else:\n",
    "                # Provide all the substories\n",
    "                substory = [x for x in story if x]\n",
    "            data.append((substory, q, a))\n",
    "            story.append('')\n",
    "        else:\n",
    "            sent = tokenize(line)\n",
    "            story.append(sent)\n",
    "    return data"
   ]
  },
  {
   "cell_type": "code",
   "execution_count": 12,
   "metadata": {
    "collapsed": true
   },
   "outputs": [],
   "source": [
    "\n",
    "def get_stories(f, only_supporting=False, max_length=None):\n",
    "    '''Given a file name, read the file, retrieve the stories, and then convert the sentences into a single story.\n",
    "    If max_length is supplied, any stories longer than max_length tokens will be discarded.\n",
    "    '''\n",
    "    data = parse_stories(f.readlines(), only_supporting=only_supporting)\n",
    "    flatten = lambda data: reduce(lambda x, y: x + y, data)\n",
    "    data = [(flatten(story), q, answer) for story, q, answer in data if not max_length or len(flatten(story)) < max_length]\n",
    "    return data\n"
   ]
  },
  {
   "cell_type": "code",
   "execution_count": 13,
   "metadata": {
    "collapsed": true
   },
   "outputs": [],
   "source": [
    "def vectorize_stories(data, word_idx, story_maxlen, query_maxlen):\n",
    "    X = []\n",
    "    Xq = []\n",
    "    Y = []\n",
    "    for story, query, answer in data:\n",
    "        x = [word_idx[w] for w in story]\n",
    "        xq = [word_idx[w] for w in query]\n",
    "        y = np.zeros(len(word_idx) + 1)  # let's not forget that index 0 is reserved\n",
    "        y[word_idx[answer]] = 1\n",
    "        X.append(x)\n",
    "        Xq.append(xq)\n",
    "        Y.append(y)\n",
    "    return (pad_sequences(X, maxlen=story_maxlen),\n",
    "            pad_sequences(Xq, maxlen=query_maxlen), np.array(Y))"
   ]
  },
  {
   "cell_type": "code",
   "execution_count": 14,
   "metadata": {
    "collapsed": false
   },
   "outputs": [],
   "source": [
    "try:\n",
    "    path = get_file('babi-tasks-v1-2.tar.gz', origin='https://s3.amazonaws.com/text-datasets/babi_tasks_1-20_v1-2.tar.gz')\n",
    "except:\n",
    "    print('Error downloading dataset, please download it manually:\\n'\n",
    "          '$ wget http://www.thespermwhale.com/jaseweston/babi/tasks_1-20_v1-2.tar.gz\\n'\n",
    "          '$ mv tasks_1-20_v1-2.tar.gz ~/.keras/datasets/babi-tasks-v1-2.tar.gz')\n",
    "    raise\n",
    "tar = tarfile.open(path)"
   ]
  },
  {
   "cell_type": "markdown",
   "metadata": {},
   "source": [
    "### Training Set\n",
    "\n",
    "Here the selection of 'Question' type (single supporting fact, three supporting facts etc.) is made for generating the training and test set. "
   ]
  },
  {
   "cell_type": "code",
   "execution_count": 16,
   "metadata": {
    "collapsed": false
   },
   "outputs": [
    {
     "name": "stdout",
     "output_type": "stream",
     "text": [
      "Extracting stories for the challenge: three-arg-relations_10k\n"
     ]
    }
   ],
   "source": [
    "challenges = {\n",
    "    # QA1 with 10,000 samples\n",
    "    'single_supporting_fact_10k': 'tasks_1-20_v1-2/en-10k/qa1_single-supporting-fact_{}.txt',\n",
    "    # QA2 with 10,000 samples\n",
    "    'two_supporting_facts_10k': 'tasks_1-20_v1-2/en-10k/qa2_two-supporting-facts_{}.txt',\n",
    "    # QA4\n",
    "    'two-arg-relations_10k' : 'tasks_1-20_v1-2/en-10k/qa4_two-arg-relations_{}.txt',\n",
    "    # QA5 \n",
    "    'three-arg-relations_10k' : 'tasks_1-20_v1-2/en-10k/qa5_three-arg-relations_{}.txt'\n",
    "\n",
    "}\n",
    "challenge_type = 'three-arg-relations_10k'\n",
    "challenge = challenges[challenge_type]\n",
    "\n",
    "print('Extracting stories for the challenge:', challenge_type)\n",
    "train_stories = get_stories(tar.extractfile(challenge.format('train')))\n",
    "test_stories = get_stories(tar.extractfile(challenge.format('test')))\n"
   ]
  },
  {
   "cell_type": "code",
   "execution_count": 17,
   "metadata": {
    "collapsed": false
   },
   "outputs": [
    {
     "name": "stdout",
     "output_type": "stream",
     "text": [
      "Vocab size: 42 unique words\n",
      "Story max length: 782 words\n",
      "Query max length: 8 words\n",
      "Number of training stories: 10000\n",
      "Number of test stories: 1000\n",
      "\n",
      "\n",
      "Here's what a \"story\" tuple looks like (input, query, answer):\n",
      "([u'Bill', u'travelled', u'to', u'the', u'office', u'.', u'Bill', u'picked', u'up', u'the', u'football', u'there', u'.', u'Bill', u'went', u'to', u'the', u'bedroom', u'.', u'Bill', u'gave', u'the', u'football', u'to', u'Fred', u'.'], [u'What', u'did', u'Bill', u'give', u'to', u'Fred', u'?'], u'football')\n"
     ]
    }
   ],
   "source": [
    "vocab = sorted(reduce(lambda x, y: x | y, (set(story + q + [answer]) for story, q, answer in train_stories + test_stories)))\n",
    "# Reserve 0 for masking via pad_sequences\n",
    "vocab_size = len(vocab) + 1\n",
    "story_maxlen = max(map(len, (x for x, _, _ in train_stories + test_stories)))\n",
    "query_maxlen = max(map(len, (x for _, x, _ in train_stories + test_stories)))\n",
    "\n",
    "print('Vocab size:', vocab_size, 'unique words')\n",
    "print('Story max length:', story_maxlen, 'words')\n",
    "print('Query max length:', query_maxlen, 'words')\n",
    "print('Number of training stories:', len(train_stories))\n",
    "print('Number of test stories:', len(test_stories))\n",
    "print('\\n')\n",
    "print('Here\\'s what a \"story\" tuple looks like (input, query, answer):')\n",
    "print(train_stories[0])"
   ]
  },
  {
   "cell_type": "markdown",
   "metadata": {},
   "source": [
    "### Vectorizing the word sequences\n",
    "\n",
    "Here we convert the word tokens to word vectors. We know the total number of unique words in the corpus, that is the size of the vocabulary. Thus, to each word in the corpus we assign a number. We also know the maximum length of a story, story_maxlen (story includes facts, query and answer). Thus, for each story we can construct a word vector of length story_maxlen. For eg. suppose, story_maxlen is 68 and the current story length is 24, then we can have a word vector with the first 34 indices as 0 and the next 24 indices with vocabulary index values of words in the current story"
   ]
  },
  {
   "cell_type": "code",
   "execution_count": 18,
   "metadata": {
    "collapsed": false
   },
   "outputs": [
    {
     "name": "stdout",
     "output_type": "stream",
     "text": [
      "inputs: integer tensor of shape (samples, max_length)\n",
      "inputs_train shape: (10000, 782)\n",
      "inputs_test shape: (1000, 782)\n",
      "\n",
      "\n",
      "queries: integer tensor of shape (samples, max_length)\n",
      "queries_train shape: (10000, 8)\n",
      "queries_test shape: (1000, 8)\n",
      "\n",
      "\n",
      "answers: binary (1 or 0) tensor of shape (samples, vocab_size)\n",
      "answers_train shape: (10000, 42)\n",
      "answers_test shape: (1000, 42)\n",
      "\n",
      "\n"
     ]
    }
   ],
   "source": [
    "word_idx = dict((c, i + 1) for i, c in enumerate(vocab))\n",
    "inputs_train, queries_train, answers_train = vectorize_stories(train_stories, word_idx, story_maxlen, query_maxlen)\n",
    "inputs_test, queries_test, answers_test = vectorize_stories(test_stories, word_idx, story_maxlen, query_maxlen)\n",
    "\n",
    "\n",
    "print('inputs: integer tensor of shape (samples, max_length)')\n",
    "print('inputs_train shape:', inputs_train.shape)\n",
    "print('inputs_test shape:', inputs_test.shape)\n",
    "print('\\n')\n",
    "print('queries: integer tensor of shape (samples, max_length)')\n",
    "print('queries_train shape:', queries_train.shape)\n",
    "print('queries_test shape:', queries_test.shape)\n",
    "print('\\n')\n",
    "print('answers: binary (1 or 0) tensor of shape (samples, vocab_size)')\n",
    "print('answers_train shape:', answers_train.shape)\n",
    "print('answers_test shape:', answers_test.shape)\n",
    "print('\\n')\n"
   ]
  },
  {
   "cell_type": "markdown",
   "metadata": {},
   "source": [
    "### End-to-End Memory Networks\n",
    "\n",
    "The model employed is the End-to-End Memory Networks described in Sukhbaatar et. al. (2015). The architecture is a modified form of Memory Network (Weston, 2014) with the training being weakly supervised.Weston's Memory Network was not easy to train via backpropagation and required supervision at each layer.\n",
    "\n",
    "\n",
    "Briefly, the model takes a discrete set of inputs x1, x2, ...xn that are to be stored in memory, a query q, and an answer a. The model writes all x to the memory up to a fixed buffer size, and then finds a continuous representation for x and q. The continuous representation is then processed via multiple hops to output a. \n"
   ]
  },
  {
   "cell_type": "code",
   "execution_count": 19,
   "metadata": {
    "collapsed": false
   },
   "outputs": [],
   "source": [
    "# embed the input sequence into a sequence of vectors\n",
    "# output: (samples, story_maxlen, embedding_dim)\n",
    "input_encoder_m = Sequential()\n",
    "input_encoder_m.add(Embedding(input_dim=vocab_size,\n",
    "                              output_dim=64,\n",
    "                              input_length=story_maxlen))\n",
    "input_encoder_m.add(Dropout(0.3))\n",
    "\n",
    "\n",
    "# embed the question into a sequence of vectors\n",
    "# output: (samples, query_maxlen, embedding_dim)\n",
    "question_encoder = Sequential()\n",
    "question_encoder.add(Embedding(input_dim=vocab_size,\n",
    "                               output_dim=64,\n",
    "                               input_length=query_maxlen))\n",
    "question_encoder.add(Dropout(0.3))\n",
    "\n",
    "# compute a 'match' between input sequence elements (which are vectors)\n",
    "# and the question vector sequence\n",
    "\n",
    "# output: (samples, story_maxlen, query_maxlen)\n",
    "match = Sequential()\n",
    "match.add(Merge([input_encoder_m, question_encoder],\n",
    "                mode='dot',\n",
    "                dot_axes=[2, 2]))\n",
    "match.add(Activation('softmax'))\n",
    "\n",
    "# embed the input into a single vector with size = story_maxlen:\n",
    "# output: (samples, story_maxlen, query_maxlen)\n",
    "input_encoder_c = Sequential()\n",
    "input_encoder_c.add(Embedding(input_dim=vocab_size,\n",
    "                              output_dim=query_maxlen,\n",
    "                              input_length=story_maxlen))\n",
    "input_encoder_c.add(Dropout(0.3))\n",
    "\n",
    "\n",
    "# sum the match vector with the input vector:\n",
    "# output: (samples, story_maxlen, query_maxlen)\n",
    "response = Sequential()\n",
    "response.add(Merge([match, input_encoder_c], mode='sum'))\n",
    "\n",
    "response.add(Permute((2, 1)))  # output: (samples, query_maxlen, story_maxlen)\n",
    "\n",
    "# concatenate the match vector with the question vector,\n",
    "# and do logistic regression on top\n",
    "answer = Sequential()\n",
    "answer.add(Merge([response, question_encoder], mode='concat', concat_axis=-1))\n",
    "\n",
    "\n",
    "# the original paper uses a matrix multiplication for this reduction step.\n",
    "# we choose to use a RNN instead.\n",
    "answer.add(LSTM(32))\n",
    "# one regularization layer -- more would probably be needed.\n",
    "answer.add(Dropout(0.3))\n",
    "answer.add(Dense(vocab_size))\n",
    "# we output a probability distribution over the vocabulary\n",
    "answer.add(Activation('softmax'))\n",
    "\n"
   ]
  },
  {
   "cell_type": "code",
   "execution_count": 21,
   "metadata": {
    "collapsed": false
   },
   "outputs": [
    {
     "name": "stdout",
     "output_type": "stream",
     "text": [
      "Train on 10000 samples, validate on 1000 samples\n",
      "Epoch 1/100\n",
      "10000/10000 [==============================] - 28s - loss: 1.2300 - acc: 0.3802 - val_loss: 1.0952 - val_acc: 0.4480\n",
      "Epoch 2/100\n",
      "10000/10000 [==============================] - 27s - loss: 1.0915 - acc: 0.4581 - val_loss: 1.0080 - val_acc: 0.5650\n",
      "Epoch 3/100\n",
      "10000/10000 [==============================] - 26s - loss: 0.9696 - acc: 0.5593 - val_loss: 0.8569 - val_acc: 0.6310\n",
      "Epoch 4/100\n",
      "10000/10000 [==============================] - 24s - loss: 0.8692 - acc: 0.6109 - val_loss: 0.7932 - val_acc: 0.6580\n",
      "Epoch 5/100\n",
      "10000/10000 [==============================] - 28s - loss: 0.8088 - acc: 0.6457 - val_loss: 0.7652 - val_acc: 0.6760\n",
      "Epoch 6/100\n",
      "10000/10000 [==============================] - 24s - loss: 0.7582 - acc: 0.6672 - val_loss: 0.7063 - val_acc: 0.6740\n",
      "Epoch 7/100\n",
      "10000/10000 [==============================] - 29s - loss: 0.7039 - acc: 0.6931 - val_loss: 0.6922 - val_acc: 0.6770\n",
      "Epoch 8/100\n",
      "10000/10000 [==============================] - 29s - loss: 0.6662 - acc: 0.7181 - val_loss: 0.6797 - val_acc: 0.6950\n",
      "Epoch 9/100\n",
      "10000/10000 [==============================] - 29s - loss: 0.6399 - acc: 0.7279 - val_loss: 0.6412 - val_acc: 0.7130\n",
      "Epoch 10/100\n",
      "10000/10000 [==============================] - 29s - loss: 0.6052 - acc: 0.7421 - val_loss: 0.6262 - val_acc: 0.7100\n",
      "Epoch 11/100\n",
      "10000/10000 [==============================] - 26s - loss: 0.5733 - acc: 0.7603 - val_loss: 0.6257 - val_acc: 0.7200\n",
      "Epoch 12/100\n",
      "10000/10000 [==============================] - 28s - loss: 0.5237 - acc: 0.7862 - val_loss: 0.5537 - val_acc: 0.7620\n",
      "Epoch 13/100\n",
      "10000/10000 [==============================] - 26s - loss: 0.4911 - acc: 0.8078 - val_loss: 0.5051 - val_acc: 0.8070\n",
      "Epoch 14/100\n",
      "10000/10000 [==============================] - 25s - loss: 0.4534 - acc: 0.8271 - val_loss: 0.4746 - val_acc: 0.8130\n",
      "Epoch 15/100\n",
      "10000/10000 [==============================] - 24s - loss: 0.4291 - acc: 0.8402 - val_loss: 0.5072 - val_acc: 0.8190\n",
      "Epoch 16/100\n",
      "10000/10000 [==============================] - 27s - loss: 0.4017 - acc: 0.8542 - val_loss: 0.4742 - val_acc: 0.8190\n",
      "Epoch 17/100\n",
      "10000/10000 [==============================] - 24s - loss: 0.3873 - acc: 0.8601 - val_loss: 0.4667 - val_acc: 0.8340\n",
      "Epoch 18/100\n",
      "10000/10000 [==============================] - 29s - loss: 0.3587 - acc: 0.8686 - val_loss: 0.4509 - val_acc: 0.8380\n",
      "Epoch 19/100\n",
      "10000/10000 [==============================] - 30s - loss: 0.3493 - acc: 0.8742 - val_loss: 0.4550 - val_acc: 0.8520\n",
      "Epoch 20/100\n",
      "10000/10000 [==============================] - 29s - loss: 0.3365 - acc: 0.8780 - val_loss: 0.4697 - val_acc: 0.8450\n",
      "Epoch 21/100\n",
      "10000/10000 [==============================] - 29s - loss: 0.3203 - acc: 0.8820 - val_loss: 0.4128 - val_acc: 0.8530\n",
      "Epoch 22/100\n",
      "10000/10000 [==============================] - 27s - loss: 0.3062 - acc: 0.8943 - val_loss: 0.4282 - val_acc: 0.8540\n",
      "Epoch 23/100\n",
      "10000/10000 [==============================] - 29s - loss: 0.3014 - acc: 0.8940 - val_loss: 0.4366 - val_acc: 0.8500\n",
      "Epoch 24/100\n",
      "10000/10000 [==============================] - 26s - loss: 0.2841 - acc: 0.9029 - val_loss: 0.4239 - val_acc: 0.8500\n",
      "Epoch 25/100\n",
      "10000/10000 [==============================] - 24s - loss: 0.2794 - acc: 0.9052 - val_loss: 0.4504 - val_acc: 0.8560\n",
      "Epoch 26/100\n",
      "10000/10000 [==============================] - 24s - loss: 0.2787 - acc: 0.9028 - val_loss: 0.4542 - val_acc: 0.8540\n",
      "Epoch 27/100\n",
      "10000/10000 [==============================] - 27s - loss: 0.2667 - acc: 0.9065 - val_loss: 0.4538 - val_acc: 0.8530\n",
      "Epoch 28/100\n",
      "10000/10000 [==============================] - 29s - loss: 0.2547 - acc: 0.9139 - val_loss: 0.4548 - val_acc: 0.8520\n",
      "Epoch 29/100\n",
      "10000/10000 [==============================] - 29s - loss: 0.2420 - acc: 0.9167 - val_loss: 0.4735 - val_acc: 0.8590\n",
      "Epoch 30/100\n",
      "10000/10000 [==============================] - 29s - loss: 0.2439 - acc: 0.9180 - val_loss: 0.4744 - val_acc: 0.8450\n",
      "Epoch 31/100\n",
      "10000/10000 [==============================] - 29s - loss: 0.2407 - acc: 0.9188 - val_loss: 0.4800 - val_acc: 0.8560\n",
      "Epoch 32/100\n",
      "10000/10000 [==============================] - 28s - loss: 0.2360 - acc: 0.9194 - val_loss: 0.4507 - val_acc: 0.8500\n",
      "Epoch 33/100\n",
      "10000/10000 [==============================] - 26s - loss: 0.2183 - acc: 0.9271 - val_loss: 0.4876 - val_acc: 0.8640\n",
      "Epoch 34/100\n",
      "10000/10000 [==============================] - 25s - loss: 0.2190 - acc: 0.9272 - val_loss: 0.4948 - val_acc: 0.8480\n",
      "Epoch 35/100\n",
      "10000/10000 [==============================] - 25s - loss: 0.2180 - acc: 0.9241 - val_loss: 0.4747 - val_acc: 0.8590\n",
      "Epoch 36/100\n",
      "10000/10000 [==============================] - 26s - loss: 0.2118 - acc: 0.9285 - val_loss: 0.4909 - val_acc: 0.8490\n",
      "Epoch 37/100\n",
      "10000/10000 [==============================] - 25s - loss: 0.2038 - acc: 0.9316 - val_loss: 0.4939 - val_acc: 0.8500\n",
      "Epoch 38/100\n",
      "10000/10000 [==============================] - 29s - loss: 0.2091 - acc: 0.9275 - val_loss: 0.5123 - val_acc: 0.8480\n",
      "Epoch 39/100\n",
      "10000/10000 [==============================] - 29s - loss: 0.2050 - acc: 0.9318 - val_loss: 0.5146 - val_acc: 0.8430\n",
      "Epoch 40/100\n",
      "10000/10000 [==============================] - 30s - loss: 0.1977 - acc: 0.9327 - val_loss: 0.5054 - val_acc: 0.8440\n",
      "Epoch 41/100\n",
      "10000/10000 [==============================] - 29s - loss: 0.1879 - acc: 0.9388 - val_loss: 0.5023 - val_acc: 0.8460\n",
      "Epoch 42/100\n",
      "10000/10000 [==============================] - 28s - loss: 0.1882 - acc: 0.9361 - val_loss: 0.5143 - val_acc: 0.8510\n",
      "Epoch 43/100\n",
      "10000/10000 [==============================] - 27s - loss: 0.1890 - acc: 0.9375 - val_loss: 0.5124 - val_acc: 0.8470\n",
      "Epoch 44/100\n",
      "10000/10000 [==============================] - 26s - loss: 0.1813 - acc: 0.9385 - val_loss: 0.4971 - val_acc: 0.8430\n",
      "Epoch 45/100\n",
      "10000/10000 [==============================] - 26s - loss: 0.1786 - acc: 0.9398 - val_loss: 0.5195 - val_acc: 0.8460\n",
      "Epoch 46/100\n",
      "10000/10000 [==============================] - 24s - loss: 0.1828 - acc: 0.9401 - val_loss: 0.5284 - val_acc: 0.8520\n",
      "Epoch 47/100\n",
      "10000/10000 [==============================] - 24s - loss: 0.1662 - acc: 0.9431 - val_loss: 0.5417 - val_acc: 0.8550\n",
      "Epoch 48/100\n",
      "10000/10000 [==============================] - 28s - loss: 0.1691 - acc: 0.9422 - val_loss: 0.5667 - val_acc: 0.8540\n",
      "Epoch 49/100\n",
      "10000/10000 [==============================] - 29s - loss: 0.1699 - acc: 0.9428 - val_loss: 0.5622 - val_acc: 0.8520\n",
      "Epoch 50/100\n",
      "10000/10000 [==============================] - 28s - loss: 0.1697 - acc: 0.9442 - val_loss: 0.5315 - val_acc: 0.8530\n",
      "Epoch 51/100\n",
      "10000/10000 [==============================] - 30s - loss: 0.1737 - acc: 0.9420 - val_loss: 0.5490 - val_acc: 0.8540\n",
      "Epoch 52/100\n",
      "10000/10000 [==============================] - 29s - loss: 0.1636 - acc: 0.9440 - val_loss: 0.5458 - val_acc: 0.8500\n",
      "Epoch 53/100\n",
      "10000/10000 [==============================] - 28s - loss: 0.1631 - acc: 0.9465 - val_loss: 0.5372 - val_acc: 0.8520\n",
      "Epoch 54/100\n",
      "10000/10000 [==============================] - 27s - loss: 0.1623 - acc: 0.9447 - val_loss: 0.5499 - val_acc: 0.8530\n",
      "Epoch 55/100\n",
      "10000/10000 [==============================] - 26s - loss: 0.1653 - acc: 0.9446 - val_loss: 0.5667 - val_acc: 0.8560\n",
      "Epoch 56/100\n",
      "10000/10000 [==============================] - 24s - loss: 0.1499 - acc: 0.9493 - val_loss: 0.5393 - val_acc: 0.8640\n",
      "Epoch 57/100\n",
      "10000/10000 [==============================] - 24s - loss: 0.1549 - acc: 0.9494 - val_loss: 0.5855 - val_acc: 0.8520\n",
      "Epoch 58/100\n",
      "10000/10000 [==============================] - 28s - loss: 0.1522 - acc: 0.9475 - val_loss: 0.5982 - val_acc: 0.8520\n",
      "Epoch 59/100\n",
      "10000/10000 [==============================] - 29s - loss: 0.1541 - acc: 0.9487 - val_loss: 0.5728 - val_acc: 0.8570\n",
      "Epoch 60/100\n",
      "10000/10000 [==============================] - 30s - loss: 0.1546 - acc: 0.9477 - val_loss: 0.5698 - val_acc: 0.8500\n",
      "Epoch 61/100\n",
      "10000/10000 [==============================] - 29s - loss: 0.1502 - acc: 0.9496 - val_loss: 0.5855 - val_acc: 0.8590\n",
      "Epoch 62/100\n",
      "10000/10000 [==============================] - 29s - loss: 0.1520 - acc: 0.9510 - val_loss: 0.5801 - val_acc: 0.8540\n",
      "Epoch 63/100\n",
      "10000/10000 [==============================] - 27s - loss: 0.1409 - acc: 0.9521 - val_loss: 0.5885 - val_acc: 0.8590\n",
      "Epoch 64/100\n",
      "10000/10000 [==============================] - 26s - loss: 0.1427 - acc: 0.9525 - val_loss: 0.5630 - val_acc: 0.8610\n",
      "Epoch 65/100\n",
      "10000/10000 [==============================] - 26s - loss: 0.1390 - acc: 0.9523 - val_loss: 0.5422 - val_acc: 0.8670\n",
      "Epoch 66/100\n",
      "10000/10000 [==============================] - 27s - loss: 0.1505 - acc: 0.9499 - val_loss: 0.6304 - val_acc: 0.8530\n",
      "Epoch 67/100\n",
      "10000/10000 [==============================] - 26s - loss: 0.1366 - acc: 0.9542 - val_loss: 0.5878 - val_acc: 0.8700\n",
      "Epoch 68/100\n",
      "10000/10000 [==============================] - 23s - loss: 0.1415 - acc: 0.9507 - val_loss: 0.5833 - val_acc: 0.8620\n",
      "Epoch 69/100\n",
      "10000/10000 [==============================] - 29s - loss: 0.1320 - acc: 0.9556 - val_loss: 0.6409 - val_acc: 0.8650\n",
      "Epoch 70/100\n",
      "10000/10000 [==============================] - 29s - loss: 0.1496 - acc: 0.9507 - val_loss: 0.6334 - val_acc: 0.8550\n",
      "Epoch 71/100\n",
      "10000/10000 [==============================] - 30s - loss: 0.1423 - acc: 0.9528 - val_loss: 0.6062 - val_acc: 0.8560\n",
      "Epoch 72/100\n",
      "10000/10000 [==============================] - 30s - loss: 0.1514 - acc: 0.9499 - val_loss: 0.5986 - val_acc: 0.8600\n",
      "Epoch 73/100\n",
      "10000/10000 [==============================] - 29s - loss: 0.1325 - acc: 0.9596 - val_loss: 0.5534 - val_acc: 0.8640\n",
      "Epoch 74/100\n",
      "10000/10000 [==============================] - 26s - loss: 0.1305 - acc: 0.9572 - val_loss: 0.6275 - val_acc: 0.8600\n",
      "Epoch 75/100\n",
      "10000/10000 [==============================] - 27s - loss: 0.1271 - acc: 0.9586 - val_loss: 0.6123 - val_acc: 0.8590\n",
      "Epoch 76/100\n",
      "10000/10000 [==============================] - 26s - loss: 0.1224 - acc: 0.9583 - val_loss: 0.6009 - val_acc: 0.8520\n",
      "Epoch 77/100\n",
      "10000/10000 [==============================] - 24s - loss: 0.1385 - acc: 0.9546 - val_loss: 0.5979 - val_acc: 0.8590\n",
      "Epoch 78/100\n",
      "10000/10000 [==============================] - 25s - loss: 0.1341 - acc: 0.9549 - val_loss: 0.6055 - val_acc: 0.8620\n",
      "Epoch 79/100\n",
      "10000/10000 [==============================] - 28s - loss: 0.1287 - acc: 0.9574 - val_loss: 0.6045 - val_acc: 0.8590\n",
      "Epoch 80/100\n",
      "10000/10000 [==============================] - 29s - loss: 0.1272 - acc: 0.9567 - val_loss: 0.6153 - val_acc: 0.8540\n",
      "Epoch 81/100\n",
      "10000/10000 [==============================] - 30s - loss: 0.1282 - acc: 0.9559 - val_loss: 0.6040 - val_acc: 0.8620\n",
      "Epoch 82/100\n",
      "10000/10000 [==============================] - 29s - loss: 0.1297 - acc: 0.9571 - val_loss: 0.6232 - val_acc: 0.8560\n",
      "Epoch 83/100\n",
      "10000/10000 [==============================] - 29s - loss: 0.1215 - acc: 0.9594 - val_loss: 0.6672 - val_acc: 0.8630\n",
      "Epoch 84/100\n",
      "10000/10000 [==============================] - 28s - loss: 0.1242 - acc: 0.9580 - val_loss: 0.6493 - val_acc: 0.8600\n",
      "Epoch 85/100\n",
      "10000/10000 [==============================] - 25s - loss: 0.1193 - acc: 0.9615 - val_loss: 0.6616 - val_acc: 0.8470\n",
      "Epoch 86/100\n",
      "10000/10000 [==============================] - 27s - loss: 0.1254 - acc: 0.9604 - val_loss: 0.7352 - val_acc: 0.8610\n",
      "Epoch 87/100\n",
      "10000/10000 [==============================] - 27s - loss: 0.1161 - acc: 0.9621 - val_loss: 0.6796 - val_acc: 0.8560\n",
      "Epoch 88/100\n",
      "10000/10000 [==============================] - 24s - loss: 0.1291 - acc: 0.9580 - val_loss: 0.6759 - val_acc: 0.8550\n",
      "Epoch 89/100\n",
      "10000/10000 [==============================] - 22s - loss: 0.1214 - acc: 0.9600 - val_loss: 0.7249 - val_acc: 0.8530\n",
      "Epoch 90/100\n",
      "10000/10000 [==============================] - 29s - loss: 0.1084 - acc: 0.9649 - val_loss: 0.7457 - val_acc: 0.8580\n",
      "Epoch 91/100\n",
      "10000/10000 [==============================] - 29s - loss: 0.1158 - acc: 0.9598 - val_loss: 0.7178 - val_acc: 0.8530\n",
      "Epoch 92/100\n",
      "10000/10000 [==============================] - 29s - loss: 0.1114 - acc: 0.9625 - val_loss: 0.6893 - val_acc: 0.8490\n",
      "Epoch 93/100\n",
      "10000/10000 [==============================] - 29s - loss: 0.1291 - acc: 0.9597 - val_loss: 0.7049 - val_acc: 0.8520\n",
      "Epoch 94/100\n",
      "10000/10000 [==============================] - 30s - loss: 0.1197 - acc: 0.9608 - val_loss: 0.6836 - val_acc: 0.8540\n",
      "Epoch 95/100\n",
      "10000/10000 [==============================] - 27s - loss: 0.1171 - acc: 0.9600 - val_loss: 0.7195 - val_acc: 0.8510\n",
      "Epoch 96/100\n",
      "10000/10000 [==============================] - 27s - loss: 0.1219 - acc: 0.9589 - val_loss: 0.6563 - val_acc: 0.8590\n",
      "Epoch 97/100\n",
      "10000/10000 [==============================] - 26s - loss: 0.1079 - acc: 0.9639 - val_loss: 0.6613 - val_acc: 0.8600\n",
      "Epoch 98/100\n",
      "10000/10000 [==============================] - 25s - loss: 0.1225 - acc: 0.9611 - val_loss: 0.6389 - val_acc: 0.8700\n",
      "Epoch 99/100\n",
      "10000/10000 [==============================] - 22s - loss: 0.1189 - acc: 0.9604 - val_loss: 0.6677 - val_acc: 0.8580\n",
      "Epoch 100/100\n",
      "10000/10000 [==============================] - 29s - loss: 0.1151 - acc: 0.9630 - val_loss: 0.6375 - val_acc: 0.8640\n"
     ]
    },
    {
     "data": {
      "text/plain": [
       "<keras.callbacks.History at 0x7f4f76ea4c50>"
      ]
     },
     "execution_count": 21,
     "metadata": {},
     "output_type": "execute_result"
    }
   ],
   "source": [
    "answer.compile(optimizer='rmsprop', loss='categorical_crossentropy',\n",
    "               metrics=['accuracy'])\n",
    "# Note: you could use a Graph model to avoid repeat the input twice\n",
    "answer.fit([inputs_train, queries_train, inputs_train], answers_train,\n",
    "           batch_size=20,\n",
    "           nb_epoch=100,\n",
    "           validation_data=([inputs_test, queries_test, inputs_test], answers_test))"
   ]
  },
  {
   "cell_type": "markdown",
   "metadata": {},
   "source": [
    "### Making predictions based on the fitted model"
   ]
  },
  {
   "cell_type": "code",
   "execution_count": 22,
   "metadata": {
    "collapsed": false
   },
   "outputs": [
    {
     "name": "stdout",
     "output_type": "stream",
     "text": [
      "1000/1000 [==============================] - 0s     \n"
     ]
    }
   ],
   "source": [
    "predictions=answer.predict_classes([inputs_test, queries_test, inputs_test], batch_size=32)"
   ]
  },
  {
   "cell_type": "markdown",
   "metadata": {},
   "source": [
    "### Example story and model prediction"
   ]
  },
  {
   "cell_type": "code",
   "execution_count": 23,
   "metadata": {
    "collapsed": false,
    "scrolled": true
   },
   "outputs": [],
   "source": [
    "def pred_evaluation(ind):\n",
    "    \n",
    "    print (\"The story is -: \")\n",
    "    facts = test_stories[ind]\n",
    "    print(' '.join(facts[0]))\n",
    "    print('\\n')\n",
    "    \n",
    "    print (\"The query is -:\")\n",
    "    print(' '.join(facts[1]))\n",
    "\n",
    "    print (\"\\nThe predicted answer is -:\")\n",
    "    ans = predictions[ind]\n",
    "    for key, value in (word_idx).items():\n",
    "        if value == ans:\n",
    "            print(key)\n",
    "            print('\\n')\n",
    "            \n"
   ]
  },
  {
   "cell_type": "code",
   "execution_count": 24,
   "metadata": {
    "collapsed": false
   },
   "outputs": [
    {
     "name": "stdout",
     "output_type": "stream",
     "text": [
      "The story is -: \n",
      "Fred picked up the football there . Fred gave the football to Jeff . Bill went back to the bathroom . Jeff grabbed the milk there .\n",
      "\n",
      "\n",
      "The query is -:\n",
      "Who gave the football to Jeff ?\n",
      "\n",
      "The predicted answer is -:\n",
      "Fred\n",
      "\n",
      "\n"
     ]
    }
   ],
   "source": [
    "pred_evaluation(1)\n"
   ]
  },
  {
   "cell_type": "code",
   "execution_count": 25,
   "metadata": {
    "collapsed": false
   },
   "outputs": [
    {
     "name": "stdout",
     "output_type": "stream",
     "text": [
      "The story is -: \n",
      "Fred travelled to the kitchen . Bill travelled to the office . Mary travelled to the office . Jeff went back to the kitchen . Bill travelled to the hallway . Fred went to the bathroom . Mary travelled to the hallway . Mary travelled to the bedroom . Fred journeyed to the hallway . Mary moved to the bathroom . Bill went back to the kitchen . Bill went to the hallway . Mary journeyed to the kitchen . Mary went to the bathroom . Jeff journeyed to the office . Fred travelled to the garden . Fred grabbed the football there . Fred discarded the football . Bill travelled to the kitchen . Jeff went to the garden . Jeff travelled to the bedroom . Jeff moved to the garden . Jeff grabbed the football there . Jeff went back to the bedroom . Jeff journeyed to the office . Bill travelled to the hallway . Jeff left the football . Bill went to the bedroom . Jeff got the milk there . Mary went to the kitchen . Bill went to the kitchen . Jeff journeyed to the bathroom . Bill went to the hallway . Jeff dropped the milk . Mary went to the hallway . Mary went to the kitchen . Fred travelled to the office . Fred went back to the hallway . Jeff got the milk there . Fred travelled to the office . Bill went to the garden . Mary journeyed to the bathroom . Fred went back to the bathroom . Fred journeyed to the office . Jeff passed the milk to Mary . Fred grabbed the football there .\n",
      "\n",
      "\n",
      "The query is -:\n",
      "What did Jeff give to Mary ?\n",
      "\n",
      "The predicted answer is -:\n",
      "milk\n",
      "\n",
      "\n"
     ]
    }
   ],
   "source": [
    "pred_evaluation(20)\n"
   ]
  },
  {
   "cell_type": "code",
   "execution_count": 26,
   "metadata": {
    "collapsed": false
   },
   "outputs": [
    {
     "name": "stdout",
     "output_type": "stream",
     "text": [
      "The story is -: \n",
      "Bill picked up the apple there . Bill journeyed to the bedroom . Bill travelled to the bathroom . Bill handed the apple to Jeff .\n",
      "\n",
      "\n",
      "The query is -:\n",
      "Who received the apple ?\n",
      "\n",
      "The predicted answer is -:\n",
      "Jeff\n",
      "\n",
      "\n"
     ]
    }
   ],
   "source": [
    "pred_evaluation(540)"
   ]
  }
 ],
 "metadata": {
  "kernelspec": {
   "display_name": "Python 2",
   "language": "python",
   "name": "python2"
  },
  "language_info": {
   "codemirror_mode": {
    "name": "ipython",
    "version": 2
   },
   "file_extension": ".py",
   "mimetype": "text/x-python",
   "name": "python",
   "nbconvert_exporter": "python",
   "pygments_lexer": "ipython2",
   "version": "2.7.9"
  }
 },
 "nbformat": 4,
 "nbformat_minor": 1
}
