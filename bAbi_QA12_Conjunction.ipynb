{
 "cells": [
  {
   "cell_type": "markdown",
   "metadata": {},
   "source": [
    "### QA Type 12 : Conjunction\n",
    "\n",
    "Task 12 (conjunctions) tests referring to multiple subjects in a single statement, e.g. “Mary and Jeff went to the kitchen.”.\n",
    "\n",
    "For training and testing we have used the 10k dataset, containing 10,000 training examples.\n",
    "An example QA set is as below -:\n",
    "\n",
    "1. Mary and Daniel travelled to the bathroom.\n",
    "2. John and Daniel travelled to the office.\n",
    "3. Where is Daniel? \toffice\t\n"
   ]
  },
  {
   "cell_type": "code",
   "execution_count": 1,
   "metadata": {
    "collapsed": false
   },
   "outputs": [
    {
     "name": "stderr",
     "output_type": "stream",
     "text": [
      "Using TensorFlow backend.\n"
     ]
    }
   ],
   "source": [
    "from __future__ import print_function\n",
    "from keras.models import Sequential\n",
    "from keras.layers.embeddings import Embedding\n",
    "from keras.layers import Activation, Dense, Merge, Permute, Dropout\n",
    "from keras.layers import LSTM\n",
    "from keras.utils.data_utils import get_file\n",
    "from keras.preprocessing.sequence import pad_sequences\n",
    "from functools import reduce\n",
    "import tarfile\n",
    "import numpy as np\n",
    "import re"
   ]
  },
  {
   "cell_type": "markdown",
   "metadata": {},
   "source": [
    "### Story processing\n",
    "\n",
    "Each story is processed to reduce sentences to tokens and combine all facts and queries relevant to the story. "
   ]
  },
  {
   "cell_type": "code",
   "execution_count": 2,
   "metadata": {
    "collapsed": false
   },
   "outputs": [],
   "source": [
    "def tokenize(sent):\n",
    "    '''Return the tokens of a sentence including punctuation.\n",
    "    >>> tokenize('Bob dropped the apple. Where is the apple?')\n",
    "    ['Bob', 'dropped', 'the', 'apple', '.', 'Where', 'is', 'the', 'apple', '?']\n",
    "    '''\n",
    "    return [x.strip() for x in re.split('(\\W+)?', sent) if x.strip()]\n"
   ]
  },
  {
   "cell_type": "code",
   "execution_count": 3,
   "metadata": {
    "collapsed": true
   },
   "outputs": [],
   "source": [
    "def parse_stories(lines, only_supporting=False):\n",
    "    '''Parse stories provided in the bAbi tasks format\n",
    "    If only_supporting is true, only the sentences that support the answer are kept.\n",
    "    '''\n",
    "    data = []\n",
    "    story = []\n",
    "    for line in lines:\n",
    "        line = line.decode('utf-8').strip()\n",
    "        nid, line = line.split(' ', 1)\n",
    "        nid = int(nid)\n",
    "        if nid == 1:\n",
    "            story = []\n",
    "        if '\\t' in line:\n",
    "            q, a, supporting = line.split('\\t')\n",
    "            q = tokenize(q)\n",
    "            substory = None\n",
    "            if only_supporting:\n",
    "                # Only select the related substory\n",
    "                supporting = map(int, supporting.split())\n",
    "                substory = [story[i - 1] for i in supporting]\n",
    "            else:\n",
    "                # Provide all the substories\n",
    "                substory = [x for x in story if x]\n",
    "            data.append((substory, q, a))\n",
    "            story.append('')\n",
    "        else:\n",
    "            sent = tokenize(line)\n",
    "            story.append(sent)\n",
    "    return data"
   ]
  },
  {
   "cell_type": "code",
   "execution_count": 4,
   "metadata": {
    "collapsed": true
   },
   "outputs": [],
   "source": [
    "\n",
    "def get_stories(f, only_supporting=False, max_length=None):\n",
    "    '''Given a file name, read the file, retrieve the stories, and then convert the sentences into a single story.\n",
    "    If max_length is supplied, any stories longer than max_length tokens will be discarded.\n",
    "    '''\n",
    "    data = parse_stories(f.readlines(), only_supporting=only_supporting)\n",
    "    flatten = lambda data: reduce(lambda x, y: x + y, data)\n",
    "    data = [(flatten(story), q, answer) for story, q, answer in data if not max_length or len(flatten(story)) < max_length]\n",
    "    return data\n"
   ]
  },
  {
   "cell_type": "code",
   "execution_count": 5,
   "metadata": {
    "collapsed": true
   },
   "outputs": [],
   "source": [
    "def vectorize_stories(data, word_idx, story_maxlen, query_maxlen):\n",
    "    X = []\n",
    "    Xq = []\n",
    "    Y = []\n",
    "    for story, query, answer in data:\n",
    "        x = [word_idx[w] for w in story]\n",
    "        xq = [word_idx[w] for w in query]\n",
    "        y = np.zeros(len(word_idx) + 1)  # let's not forget that index 0 is reserved\n",
    "        y[word_idx[answer]] = 1\n",
    "        X.append(x)\n",
    "        Xq.append(xq)\n",
    "        Y.append(y)\n",
    "    return (pad_sequences(X, maxlen=story_maxlen),\n",
    "            pad_sequences(Xq, maxlen=query_maxlen), np.array(Y))"
   ]
  },
  {
   "cell_type": "code",
   "execution_count": 6,
   "metadata": {
    "collapsed": false
   },
   "outputs": [],
   "source": [
    "try:\n",
    "    path = get_file('babi-tasks-v1-2.tar.gz', origin='https://s3.amazonaws.com/text-datasets/babi_tasks_1-20_v1-2.tar.gz')\n",
    "except:\n",
    "    print('Error downloading dataset, please download it manually:\\n'\n",
    "          '$ wget http://www.thespermwhale.com/jaseweston/babi/tasks_1-20_v1-2.tar.gz\\n'\n",
    "          '$ mv tasks_1-20_v1-2.tar.gz ~/.keras/datasets/babi-tasks-v1-2.tar.gz')\n",
    "    raise\n",
    "tar = tarfile.open(path)"
   ]
  },
  {
   "cell_type": "markdown",
   "metadata": {},
   "source": [
    "### Training Set\n",
    "\n",
    "Here the selection of 'Question' type (single supporting fact, three supporting facts etc.) is made for generating the training and test set. "
   ]
  },
  {
   "cell_type": "code",
   "execution_count": 7,
   "metadata": {
    "collapsed": false
   },
   "outputs": [
    {
     "name": "stdout",
     "output_type": "stream",
     "text": [
      "Extracting stories for the challenge: conjunction_10k\n"
     ]
    }
   ],
   "source": [
    "challenges = {\n",
    "    # QA1 with 10,000 samples\n",
    "    'single_supporting_fact_10k': 'tasks_1-20_v1-2/en-10k/qa1_single-supporting-fact_{}.txt',\n",
    "    # QA2 with 10,000 samples\n",
    "    'two_supporting_facts_10k': 'tasks_1-20_v1-2/en-10k/qa2_two-supporting-facts_{}.txt',\n",
    "    # QA4\n",
    "    'two-arg-relations_10k' : 'tasks_1-20_v1-2/en-10k/qa4_two-arg-relations_{}.txt',\n",
    "    # QA5 \n",
    "    'three-arg-relations_10k' : 'tasks_1-20_v1-2/en-10k/qa5_three-arg-relations_{}.txt',\n",
    "    'yes-no-questions_10k' :'tasks_1-20_v1-2/en-10k/qa6_yes-no-questions_{}.txt',\n",
    "     'counting_10k':'tasks_1-20_v1-2/en-10k/qa7_counting_{}.txt',\n",
    "   'lists-sets_10k' : 'tasks_1-20_v1-2/en-10k/qa8_lists-sets_{}.txt',\n",
    "    'simple-negation_10k':'tasks_1-20_v1-2/en-10k/qa9_simple-negation_{}.txt',\n",
    "    'indefinite-knowledge_10k' : 'tasks_1-20_v1-2/en-10k/qa10_indefinite-knowledge_{}.txt',\n",
    "    'basic-coreference_10k':'tasks_1-20_v1-2/en-10k/qa11_basic-coreference_{}.txt',\n",
    "    'conjunction_10k':'tasks_1-20_v1-2/en-10k/qa12_conjunction_{}.txt'\n",
    "}\n",
    "challenge_type = 'conjunction_10k'\n",
    "challenge = challenges[challenge_type]\n",
    "\n",
    "print('Extracting stories for the challenge:', challenge_type)\n",
    "train_stories = get_stories(tar.extractfile(challenge.format('train')))\n",
    "test_stories = get_stories(tar.extractfile(challenge.format('test')))\n"
   ]
  },
  {
   "cell_type": "code",
   "execution_count": 8,
   "metadata": {
    "collapsed": false
   },
   "outputs": [
    {
     "name": "stdout",
     "output_type": "stream",
     "text": [
      "Vocab size: 23 unique words\n",
      "Story max length: 87 words\n",
      "Query max length: 4 words\n",
      "Number of training stories: 10000\n",
      "Number of test stories: 1000\n",
      "\n",
      "\n",
      "Here's what a \"story\" tuple looks like (input, query, answer):\n",
      "([u'Mary', u'and', u'Daniel', u'travelled', u'to', u'the', u'bathroom', u'.', u'John', u'and', u'Daniel', u'travelled', u'to', u'the', u'office', u'.'], [u'Where', u'is', u'Daniel', u'?'], u'office')\n"
     ]
    }
   ],
   "source": [
    "vocab = sorted(reduce(lambda x, y: x | y, (set(story + q + [answer]) for story, q, answer in train_stories + test_stories)))\n",
    "# Reserve 0 for masking via pad_sequences\n",
    "vocab_size = len(vocab) + 1\n",
    "story_maxlen = max(map(len, (x for x, _, _ in train_stories + test_stories)))\n",
    "query_maxlen = max(map(len, (x for _, x, _ in train_stories + test_stories)))\n",
    "\n",
    "print('Vocab size:', vocab_size, 'unique words')\n",
    "print('Story max length:', story_maxlen, 'words')\n",
    "print('Query max length:', query_maxlen, 'words')\n",
    "print('Number of training stories:', len(train_stories))\n",
    "print('Number of test stories:', len(test_stories))\n",
    "print('\\n')\n",
    "print('Here\\'s what a \"story\" tuple looks like (input, query, answer):')\n",
    "print(train_stories[0])"
   ]
  },
  {
   "cell_type": "markdown",
   "metadata": {},
   "source": [
    "### Vectorizing the word sequences\n",
    "\n",
    "Here we convert the word tokens to word vectors. We know the total number of unique words in the corpus, that is the size of the vocabulary. Thus, to each word in the corpus we assign a number. We also know the maximum length of a story, story_maxlen (story includes facts, query and answer). Thus, for each story we can construct a word vector of length story_maxlen. For eg. suppose, story_maxlen is 68 and the current story length is 24, then we can have a word vector with the first 34 indices as 0 and the next 24 indices with vocabulary index values of words in the current story"
   ]
  },
  {
   "cell_type": "code",
   "execution_count": 9,
   "metadata": {
    "collapsed": false
   },
   "outputs": [
    {
     "name": "stdout",
     "output_type": "stream",
     "text": [
      "inputs: integer tensor of shape (samples, max_length)\n",
      "inputs_train shape: (10000, 87)\n",
      "inputs_test shape: (1000, 87)\n",
      "\n",
      "\n",
      "queries: integer tensor of shape (samples, max_length)\n",
      "queries_train shape: (10000, 4)\n",
      "queries_test shape: (1000, 4)\n",
      "\n",
      "\n",
      "answers: binary (1 or 0) tensor of shape (samples, vocab_size)\n",
      "answers_train shape: (10000, 23)\n",
      "answers_test shape: (1000, 23)\n",
      "\n",
      "\n"
     ]
    }
   ],
   "source": [
    "word_idx = dict((c, i + 1) for i, c in enumerate(vocab))\n",
    "inputs_train, queries_train, answers_train = vectorize_stories(train_stories, word_idx, story_maxlen, query_maxlen)\n",
    "inputs_test, queries_test, answers_test = vectorize_stories(test_stories, word_idx, story_maxlen, query_maxlen)\n",
    "\n",
    "\n",
    "print('inputs: integer tensor of shape (samples, max_length)')\n",
    "print('inputs_train shape:', inputs_train.shape)\n",
    "print('inputs_test shape:', inputs_test.shape)\n",
    "print('\\n')\n",
    "print('queries: integer tensor of shape (samples, max_length)')\n",
    "print('queries_train shape:', queries_train.shape)\n",
    "print('queries_test shape:', queries_test.shape)\n",
    "print('\\n')\n",
    "print('answers: binary (1 or 0) tensor of shape (samples, vocab_size)')\n",
    "print('answers_train shape:', answers_train.shape)\n",
    "print('answers_test shape:', answers_test.shape)\n",
    "print('\\n')\n"
   ]
  },
  {
   "cell_type": "markdown",
   "metadata": {},
   "source": [
    "### End-to-End Memory Networks\n",
    "\n",
    "The model employed is the End-to-End Memory Networks described in Sukhbaatar et. al. (2015). The architecture is a modified form of Memory Network (Weston, 2014) with the training being weakly supervised.Weston's Memory Network was not easy to train via backpropagation and required supervision at each layer.\n",
    "\n",
    "\n",
    "Briefly, the model takes a discrete set of inputs x1, x2, ...xn that are to be stored in memory, a query q, and an answer a. The model writes all x to the memory up to a fixed buffer size, and then finds a continuous representation for x and q. The continuous representation is then processed via multiple hops to output a. \n"
   ]
  },
  {
   "cell_type": "code",
   "execution_count": 11,
   "metadata": {
    "collapsed": false
   },
   "outputs": [],
   "source": [
    "# embed the input sequence into a sequence of vectors\n",
    "# output: (samples, story_maxlen, embedding_dim)\n",
    "input_encoder_m = Sequential()\n",
    "input_encoder_m.add(Embedding(input_dim=vocab_size,\n",
    "                              output_dim=64,\n",
    "                              input_length=story_maxlen))\n",
    "input_encoder_m.add(Dropout(0.3))\n",
    "\n",
    "\n",
    "# embed the question into a sequence of vectors\n",
    "# output: (samples, query_maxlen, embedding_dim)\n",
    "question_encoder = Sequential()\n",
    "question_encoder.add(Embedding(input_dim=vocab_size,\n",
    "                               output_dim=64,\n",
    "                               input_length=query_maxlen))\n",
    "question_encoder.add(Dropout(0.3))\n",
    "\n",
    "# compute a 'match' between input sequence elements (which are vectors)\n",
    "# and the question vector sequence\n",
    "\n",
    "# output: (samples, story_maxlen, query_maxlen)\n",
    "match = Sequential()\n",
    "match.add(Merge([input_encoder_m, question_encoder],\n",
    "                mode='dot',\n",
    "                dot_axes=[2, 2]))\n",
    "match.add(Activation('softmax'))\n",
    "\n",
    "# embed the input into a single vector with size = story_maxlen:\n",
    "# output: (samples, story_maxlen, query_maxlen)\n",
    "input_encoder_c = Sequential()\n",
    "input_encoder_c.add(Embedding(input_dim=vocab_size,\n",
    "                              output_dim=query_maxlen,\n",
    "                              input_length=story_maxlen))\n",
    "input_encoder_c.add(Dropout(0.3))\n",
    "\n",
    "\n",
    "# sum the match vector with the input vector:\n",
    "# output: (samples, story_maxlen, query_maxlen)\n",
    "response = Sequential()\n",
    "response.add(Merge([match, input_encoder_c], mode='sum'))\n",
    "\n",
    "response.add(Permute((2, 1)))  # output: (samples, query_maxlen, story_maxlen)\n",
    "\n",
    "# concatenate the match vector with the question vector,\n",
    "# and do logistic regression on top\n",
    "answer = Sequential()\n",
    "answer.add(Merge([response, question_encoder], mode='concat', concat_axis=-1))\n",
    "\n",
    "\n",
    "# the original paper uses a matrix multiplication for this reduction step.\n",
    "# we choose to use a RNN instead.\n",
    "answer.add(LSTM(32))\n",
    "# one regularization layer -- more would probably be needed.\n",
    "answer.add(Dropout(0.3))\n",
    "answer.add(Dense(vocab_size))\n",
    "# we output a probability distribution over the vocabulary\n",
    "answer.add(Activation('softmax'))\n",
    "\n"
   ]
  },
  {
   "cell_type": "code",
   "execution_count": 12,
   "metadata": {
    "collapsed": false
   },
   "outputs": [
    {
     "name": "stdout",
     "output_type": "stream",
     "text": [
      "Train on 10000 samples, validate on 1000 samples\n",
      "Epoch 1/60\n",
      "10000/10000 [==============================] - 12s - loss: 1.9338 - acc: 0.1898 - val_loss: 1.6522 - val_acc: 0.2650\n",
      "Epoch 2/60\n",
      "10000/10000 [==============================] - 11s - loss: 1.4945 - acc: 0.4317 - val_loss: 1.2327 - val_acc: 0.6420\n",
      "Epoch 3/60\n",
      "10000/10000 [==============================] - 12s - loss: 1.2365 - acc: 0.6450 - val_loss: 0.9873 - val_acc: 0.7700\n",
      "Epoch 4/60\n",
      "10000/10000 [==============================] - 11s - loss: 1.1133 - acc: 0.6991 - val_loss: 0.9190 - val_acc: 0.7720\n",
      "Epoch 5/60\n",
      "10000/10000 [==============================] - 12s - loss: 1.0503 - acc: 0.7122 - val_loss: 0.8503 - val_acc: 0.7720\n",
      "Epoch 6/60\n",
      "10000/10000 [==============================] - 11s - loss: 1.0128 - acc: 0.7128 - val_loss: 0.8226 - val_acc: 0.7720\n",
      "Epoch 7/60\n",
      "10000/10000 [==============================] - 12s - loss: 0.9822 - acc: 0.7130 - val_loss: 0.8314 - val_acc: 0.7720\n",
      "Epoch 8/60\n",
      "10000/10000 [==============================] - 11s - loss: 0.9742 - acc: 0.7113 - val_loss: 0.7995 - val_acc: 0.7720\n",
      "Epoch 9/60\n",
      "10000/10000 [==============================] - 12s - loss: 0.9382 - acc: 0.7161 - val_loss: 0.7848 - val_acc: 0.7720\n",
      "Epoch 10/60\n",
      "10000/10000 [==============================] - 11s - loss: 0.9278 - acc: 0.7172 - val_loss: 0.7742 - val_acc: 0.7720\n",
      "Epoch 11/60\n",
      "10000/10000 [==============================] - 9s - loss: 0.9125 - acc: 0.7124 - val_loss: 0.7712 - val_acc: 0.7720\n",
      "Epoch 12/60\n",
      "10000/10000 [==============================] - 10s - loss: 0.8970 - acc: 0.7112 - val_loss: 0.7598 - val_acc: 0.7720\n",
      "Epoch 13/60\n",
      "10000/10000 [==============================] - 11s - loss: 0.8887 - acc: 0.7066 - val_loss: 0.7555 - val_acc: 0.7720\n",
      "Epoch 14/60\n",
      "10000/10000 [==============================] - 9s - loss: 0.8729 - acc: 0.7155 - val_loss: 0.7403 - val_acc: 0.7720\n",
      "Epoch 15/60\n",
      "10000/10000 [==============================] - 12s - loss: 0.8581 - acc: 0.7144 - val_loss: 0.7425 - val_acc: 0.7720\n",
      "Epoch 16/60\n",
      "10000/10000 [==============================] - 8s - loss: 0.8540 - acc: 0.7116 - val_loss: 0.7447 - val_acc: 0.7720\n",
      "Epoch 17/60\n",
      "10000/10000 [==============================] - 11s - loss: 0.8431 - acc: 0.7104 - val_loss: 0.7295 - val_acc: 0.7720\n",
      "Epoch 18/60\n",
      "10000/10000 [==============================] - 11s - loss: 0.8310 - acc: 0.7162 - val_loss: 0.7336 - val_acc: 0.7710\n",
      "Epoch 19/60\n",
      "10000/10000 [==============================] - 8s - loss: 0.8261 - acc: 0.7149 - val_loss: 0.7241 - val_acc: 0.7720\n",
      "Epoch 20/60\n",
      "10000/10000 [==============================] - 9s - loss: 0.8194 - acc: 0.7114 - val_loss: 0.7314 - val_acc: 0.7720\n",
      "Epoch 21/60\n",
      "10000/10000 [==============================] - 11s - loss: 0.8098 - acc: 0.7157 - val_loss: 0.7186 - val_acc: 0.7720\n",
      "Epoch 22/60\n",
      "10000/10000 [==============================] - 9s - loss: 0.8011 - acc: 0.7139 - val_loss: 0.7284 - val_acc: 0.7720\n",
      "Epoch 23/60\n",
      "10000/10000 [==============================] - 7s - loss: 0.7997 - acc: 0.7144 - val_loss: 0.7290 - val_acc: 0.7690\n",
      "Epoch 24/60\n",
      "10000/10000 [==============================] - 11s - loss: 0.7877 - acc: 0.7192 - val_loss: 0.7040 - val_acc: 0.7720\n",
      "Epoch 25/60\n",
      "10000/10000 [==============================] - 11s - loss: 0.7891 - acc: 0.7208 - val_loss: 0.7021 - val_acc: 0.7720\n",
      "Epoch 26/60\n",
      "10000/10000 [==============================] - 11s - loss: 0.7822 - acc: 0.7182 - val_loss: 0.7081 - val_acc: 0.7720\n",
      "Epoch 27/60\n",
      "10000/10000 [==============================] - 11s - loss: 0.7764 - acc: 0.7206 - val_loss: 0.7180 - val_acc: 0.7720\n",
      "Epoch 28/60\n",
      "10000/10000 [==============================] - 12s - loss: 0.7750 - acc: 0.7158 - val_loss: 0.7099 - val_acc: 0.7720\n",
      "Epoch 29/60\n",
      "10000/10000 [==============================] - 12s - loss: 0.7658 - acc: 0.7177 - val_loss: 0.7013 - val_acc: 0.7720\n",
      "Epoch 30/60\n",
      "10000/10000 [==============================] - 12s - loss: 0.7638 - acc: 0.7231 - val_loss: 0.7126 - val_acc: 0.7720\n",
      "Epoch 31/60\n",
      "10000/10000 [==============================] - 12s - loss: 0.7597 - acc: 0.7211 - val_loss: 0.7030 - val_acc: 0.7720\n",
      "Epoch 32/60\n",
      "10000/10000 [==============================] - 12s - loss: 0.7622 - acc: 0.7191 - val_loss: 0.7127 - val_acc: 0.7740\n",
      "Epoch 33/60\n",
      "10000/10000 [==============================] - 12s - loss: 0.7503 - acc: 0.7239 - val_loss: 0.6998 - val_acc: 0.7720\n",
      "Epoch 34/60\n",
      "10000/10000 [==============================] - 12s - loss: 0.7456 - acc: 0.7266 - val_loss: 0.6994 - val_acc: 0.7720\n",
      "Epoch 35/60\n",
      "10000/10000 [==============================] - 11s - loss: 0.7381 - acc: 0.7234 - val_loss: 0.7143 - val_acc: 0.7670\n",
      "Epoch 36/60\n",
      "10000/10000 [==============================] - 12s - loss: 0.7390 - acc: 0.7260 - val_loss: 0.7069 - val_acc: 0.7650\n",
      "Epoch 37/60\n",
      "10000/10000 [==============================] - 9s - loss: 0.7322 - acc: 0.7256 - val_loss: 0.6978 - val_acc: 0.7710\n",
      "Epoch 38/60\n",
      "10000/10000 [==============================] - 10s - loss: 0.7282 - acc: 0.7245 - val_loss: 0.7062 - val_acc: 0.7710\n",
      "Epoch 39/60\n",
      "10000/10000 [==============================] - 11s - loss: 0.7248 - acc: 0.7283 - val_loss: 0.7063 - val_acc: 0.7670\n",
      "Epoch 40/60\n",
      "10000/10000 [==============================] - 10s - loss: 0.7184 - acc: 0.7288 - val_loss: 0.7000 - val_acc: 0.7710\n",
      "Epoch 41/60\n",
      "10000/10000 [==============================] - 9s - loss: 0.7145 - acc: 0.7316 - val_loss: 0.7042 - val_acc: 0.7720\n",
      "Epoch 42/60\n",
      "10000/10000 [==============================] - 12s - loss: 0.7082 - acc: 0.7332 - val_loss: 0.6945 - val_acc: 0.7720\n",
      "Epoch 43/60\n",
      "10000/10000 [==============================] - 9s - loss: 0.7057 - acc: 0.7330 - val_loss: 0.7008 - val_acc: 0.7700\n",
      "Epoch 44/60\n",
      "10000/10000 [==============================] - 9s - loss: 0.6993 - acc: 0.7347 - val_loss: 0.7095 - val_acc: 0.7700\n",
      "Epoch 45/60\n",
      "10000/10000 [==============================] - 12s - loss: 0.6965 - acc: 0.7400 - val_loss: 0.7054 - val_acc: 0.7710\n",
      "Epoch 46/60\n",
      "10000/10000 [==============================] - 10s - loss: 0.6873 - acc: 0.7405 - val_loss: 0.7041 - val_acc: 0.7640\n",
      "Epoch 47/60\n",
      "10000/10000 [==============================] - 7s - loss: 0.6805 - acc: 0.7430 - val_loss: 0.6873 - val_acc: 0.7710\n",
      "Epoch 48/60\n",
      "10000/10000 [==============================] - 11s - loss: 0.6717 - acc: 0.7469 - val_loss: 0.6785 - val_acc: 0.7710\n",
      "Epoch 49/60\n",
      "10000/10000 [==============================] - 11s - loss: 0.6617 - acc: 0.7504 - val_loss: 0.6854 - val_acc: 0.7690\n",
      "Epoch 50/60\n",
      "10000/10000 [==============================] - 7s - loss: 0.6450 - acc: 0.7590 - val_loss: 0.6671 - val_acc: 0.7690\n",
      "Epoch 51/60\n",
      "10000/10000 [==============================] - 8s - loss: 0.6270 - acc: 0.7670 - val_loss: 0.6703 - val_acc: 0.7830\n",
      "Epoch 52/60\n",
      "10000/10000 [==============================] - 11s - loss: 0.6163 - acc: 0.7727 - val_loss: 0.6428 - val_acc: 0.7810\n",
      "Epoch 53/60\n",
      "10000/10000 [==============================] - 12s - loss: 0.5982 - acc: 0.7789 - val_loss: 0.6106 - val_acc: 0.7920\n",
      "Epoch 54/60\n",
      "10000/10000 [==============================] - 12s - loss: 0.5781 - acc: 0.7939 - val_loss: 0.6090 - val_acc: 0.8070\n",
      "Epoch 55/60\n",
      "10000/10000 [==============================] - 11s - loss: 0.5669 - acc: 0.7999 - val_loss: 0.6142 - val_acc: 0.7840\n",
      "Epoch 56/60\n",
      "10000/10000 [==============================] - 12s - loss: 0.5519 - acc: 0.8029 - val_loss: 0.5584 - val_acc: 0.8250\n",
      "Epoch 57/60\n",
      "10000/10000 [==============================] - 12s - loss: 0.5396 - acc: 0.8074 - val_loss: 0.5534 - val_acc: 0.8240\n",
      "Epoch 58/60\n",
      "10000/10000 [==============================] - 11s - loss: 0.5251 - acc: 0.8108 - val_loss: 0.5443 - val_acc: 0.8260\n",
      "Epoch 59/60\n",
      "10000/10000 [==============================] - 12s - loss: 0.5065 - acc: 0.8192 - val_loss: 0.5326 - val_acc: 0.8310\n",
      "Epoch 60/60\n",
      "10000/10000 [==============================] - 11s - loss: 0.4964 - acc: 0.8225 - val_loss: 0.5346 - val_acc: 0.8310\n"
     ]
    },
    {
     "data": {
      "text/plain": [
       "<keras.callbacks.History at 0x7f7729c0bc10>"
      ]
     },
     "execution_count": 12,
     "metadata": {},
     "output_type": "execute_result"
    }
   ],
   "source": [
    "answer.compile(optimizer='rmsprop', loss='categorical_crossentropy',\n",
    "               metrics=['accuracy'])\n",
    "# Note: you could use a Graph model to avoid repeat the input twice\n",
    "answer.fit([inputs_train, queries_train, inputs_train], answers_train,\n",
    "           batch_size=32,\n",
    "           nb_epoch=60,\n",
    "           validation_data=([inputs_test, queries_test, inputs_test], answers_test))"
   ]
  },
  {
   "cell_type": "markdown",
   "metadata": {},
   "source": [
    "### Making predictions based on the fitted model"
   ]
  },
  {
   "cell_type": "code",
   "execution_count": 18,
   "metadata": {
    "collapsed": false
   },
   "outputs": [
    {
     "name": "stdout",
     "output_type": "stream",
     "text": [
      "1000/1000 [==============================] - 0s     \n"
     ]
    }
   ],
   "source": [
    "predictions=answer.predict_classes([inputs_test, queries_test, inputs_test], batch_size=32)"
   ]
  },
  {
   "cell_type": "markdown",
   "metadata": {},
   "source": [
    "### Example story and model prediction"
   ]
  },
  {
   "cell_type": "code",
   "execution_count": 19,
   "metadata": {
    "collapsed": false,
    "scrolled": true
   },
   "outputs": [],
   "source": [
    "def pred_evaluation(ind):\n",
    "    \n",
    "    print (\"The story is -: \")\n",
    "    facts = test_stories[ind]\n",
    "    print(' '.join(facts[0]))\n",
    "    print('\\n')\n",
    "    \n",
    "    print (\"The query is -:\")\n",
    "    print(' '.join(facts[1]))\n",
    "\n",
    "    print (\"\\nThe predicted answer is -:\")\n",
    "    ans = predictions[ind]\n",
    "    for key, value in (word_idx).items():\n",
    "        if value == ans:\n",
    "            print(key)\n",
    "            print('\\n')\n",
    "            \n"
   ]
  },
  {
   "cell_type": "code",
   "execution_count": 20,
   "metadata": {
    "collapsed": false
   },
   "outputs": [
    {
     "name": "stdout",
     "output_type": "stream",
     "text": [
      "The story is -: \n",
      "John and Mary travelled to the hallway . Sandra and Mary journeyed to the bedroom . Mary and Daniel travelled to the bathroom . Daniel and Sandra journeyed to the office .\n",
      "\n",
      "\n",
      "The query is -:\n",
      "Where is Mary ?\n",
      "\n",
      "The predicted answer is -:\n",
      "bathroom\n",
      "\n",
      "\n"
     ]
    }
   ],
   "source": [
    "pred_evaluation(1)\n"
   ]
  },
  {
   "cell_type": "code",
   "execution_count": 21,
   "metadata": {
    "collapsed": false
   },
   "outputs": [
    {
     "name": "stdout",
     "output_type": "stream",
     "text": [
      "The story is -: \n",
      "Sandra and John went to the garden . Mary and John moved to the kitchen .\n",
      "\n",
      "\n",
      "The query is -:\n",
      "Where is John ?\n",
      "\n",
      "The predicted answer is -:\n",
      "kitchen\n",
      "\n",
      "\n"
     ]
    }
   ],
   "source": [
    "pred_evaluation(20)\n"
   ]
  },
  {
   "cell_type": "code",
   "execution_count": 22,
   "metadata": {
    "collapsed": false
   },
   "outputs": [
    {
     "name": "stdout",
     "output_type": "stream",
     "text": [
      "The story is -: \n",
      "Daniel and Sandra went to the office . Mary and John moved to the bedroom .\n",
      "\n",
      "\n",
      "The query is -:\n",
      "Where is Mary ?\n",
      "\n",
      "The predicted answer is -:\n",
      "bedroom\n",
      "\n",
      "\n"
     ]
    }
   ],
   "source": [
    "pred_evaluation(540)"
   ]
  },
  {
   "cell_type": "code",
   "execution_count": null,
   "metadata": {
    "collapsed": true
   },
   "outputs": [],
   "source": []
  }
 ],
 "metadata": {
  "kernelspec": {
   "display_name": "Python 2",
   "language": "python",
   "name": "python2"
  },
  "language_info": {
   "codemirror_mode": {
    "name": "ipython",
    "version": 2
   },
   "file_extension": ".py",
   "mimetype": "text/x-python",
   "name": "python",
   "nbconvert_exporter": "python",
   "pygments_lexer": "ipython2",
   "version": "2.7.9"
  }
 },
 "nbformat": 4,
 "nbformat_minor": 1
}
