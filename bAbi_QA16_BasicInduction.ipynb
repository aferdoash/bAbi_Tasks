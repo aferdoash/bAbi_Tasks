{
 "cells": [
  {
   "cell_type": "markdown",
   "metadata": {},
   "source": [
    "### QA Type 16 : BasicInduction\n",
    "\n",
    "Task 16 similarly tests basic induction via inheritance of properties.\n",
    "\n",
    "For training and testing we have used the 10k dataset, containing 10,000 training examples .An example QA set is as below -:\n",
    "\n",
    "1. Lily is a swan.\n",
    "2. Bernhard is a lion.\n",
    "3. Greg is a swan.\n",
    "4. Bernhard is white.\n",
    "5. Brian is a lion.\n",
    "6. Lily is gray.\n",
    "7. Julius is a rhino.\n",
    "8. Julius is gray.\n",
    "9. Greg is gray.\n",
    "10. What color is Brian?\twhite\t\n",
    "\n"
   ]
  },
  {
   "cell_type": "code",
   "execution_count": 1,
   "metadata": {
    "collapsed": false
   },
   "outputs": [
    {
     "name": "stderr",
     "output_type": "stream",
     "text": [
      "Using TensorFlow backend.\n"
     ]
    }
   ],
   "source": [
    "from __future__ import print_function\n",
    "from keras.models import Sequential\n",
    "from keras.layers.embeddings import Embedding\n",
    "from keras.layers import Activation, Dense, Merge, Permute, Dropout\n",
    "from keras.layers import LSTM\n",
    "from keras.utils.data_utils import get_file\n",
    "from keras.preprocessing.sequence import pad_sequences\n",
    "from functools import reduce\n",
    "import tarfile\n",
    "import numpy as np\n",
    "import re"
   ]
  },
  {
   "cell_type": "markdown",
   "metadata": {},
   "source": [
    "### Story processing\n",
    "\n",
    "Each story is processed to reduce sentences to tokens and combine all facts and queries relevant to the story. "
   ]
  },
  {
   "cell_type": "code",
   "execution_count": 2,
   "metadata": {
    "collapsed": false
   },
   "outputs": [],
   "source": [
    "def tokenize(sent):\n",
    "    '''Return the tokens of a sentence including punctuation.\n",
    "    >>> tokenize('Bob dropped the apple. Where is the apple?')\n",
    "    ['Bob', 'dropped', 'the', 'apple', '.', 'Where', 'is', 'the', 'apple', '?']\n",
    "    '''\n",
    "    return [x.strip() for x in re.split('(\\W+)?', sent) if x.strip()]\n"
   ]
  },
  {
   "cell_type": "code",
   "execution_count": 3,
   "metadata": {
    "collapsed": true
   },
   "outputs": [],
   "source": [
    "def parse_stories(lines, only_supporting=False):\n",
    "    '''Parse stories provided in the bAbi tasks format\n",
    "    If only_supporting is true, only the sentences that support the answer are kept.\n",
    "    '''\n",
    "    data = []\n",
    "    story = []\n",
    "    for line in lines:\n",
    "        line = line.decode('utf-8').strip()\n",
    "        nid, line = line.split(' ', 1)\n",
    "        nid = int(nid)\n",
    "        if nid == 1:\n",
    "            story = []\n",
    "        if '\\t' in line:\n",
    "            q, a, supporting = line.split('\\t')\n",
    "            q = tokenize(q)\n",
    "            substory = None\n",
    "            if only_supporting:\n",
    "                # Only select the related substory\n",
    "                supporting = map(int, supporting.split())\n",
    "                substory = [story[i - 1] for i in supporting]\n",
    "            else:\n",
    "                # Provide all the substories\n",
    "                substory = [x for x in story if x]\n",
    "            data.append((substory, q, a))\n",
    "            story.append('')\n",
    "        else:\n",
    "            sent = tokenize(line)\n",
    "            story.append(sent)\n",
    "    return data"
   ]
  },
  {
   "cell_type": "code",
   "execution_count": 4,
   "metadata": {
    "collapsed": true
   },
   "outputs": [],
   "source": [
    "\n",
    "def get_stories(f, only_supporting=False, max_length=None):\n",
    "    '''Given a file name, read the file, retrieve the stories, and then convert the sentences into a single story.\n",
    "    If max_length is supplied, any stories longer than max_length tokens will be discarded.\n",
    "    '''\n",
    "    data = parse_stories(f.readlines(), only_supporting=only_supporting)\n",
    "    flatten = lambda data: reduce(lambda x, y: x + y, data)\n",
    "    data = [(flatten(story), q, answer) for story, q, answer in data if not max_length or len(flatten(story)) < max_length]\n",
    "    return data\n"
   ]
  },
  {
   "cell_type": "code",
   "execution_count": 5,
   "metadata": {
    "collapsed": true
   },
   "outputs": [],
   "source": [
    "def vectorize_stories(data, word_idx, story_maxlen, query_maxlen):\n",
    "    X = []\n",
    "    Xq = []\n",
    "    Y = []\n",
    "    for story, query, answer in data:\n",
    "        x = [word_idx[w] for w in story]\n",
    "        xq = [word_idx[w] for w in query]\n",
    "        y = np.zeros(len(word_idx) + 1)  # let's not forget that index 0 is reserved\n",
    "        y[word_idx[answer]] = 1\n",
    "        X.append(x)\n",
    "        Xq.append(xq)\n",
    "        Y.append(y)\n",
    "    return (pad_sequences(X, maxlen=story_maxlen),\n",
    "            pad_sequences(Xq, maxlen=query_maxlen), np.array(Y))"
   ]
  },
  {
   "cell_type": "code",
   "execution_count": 6,
   "metadata": {
    "collapsed": false
   },
   "outputs": [],
   "source": [
    "try:\n",
    "    path = get_file('babi-tasks-v1-2.tar.gz', origin='https://s3.amazonaws.com/text-datasets/babi_tasks_1-20_v1-2.tar.gz')\n",
    "except:\n",
    "    print('Error downloading dataset, please download it manually:\\n'\n",
    "          '$ wget http://www.thespermwhale.com/jaseweston/babi/tasks_1-20_v1-2.tar.gz\\n'\n",
    "          '$ mv tasks_1-20_v1-2.tar.gz ~/.keras/datasets/babi-tasks-v1-2.tar.gz')\n",
    "    raise\n",
    "tar = tarfile.open(path)"
   ]
  },
  {
   "cell_type": "markdown",
   "metadata": {},
   "source": [
    "### Training Set\n",
    "\n",
    "Here the selection of 'Question' type (single supporting fact, three supporting facts etc.) is made for generating the training and test set. "
   ]
  },
  {
   "cell_type": "code",
   "execution_count": 7,
   "metadata": {
    "collapsed": false
   },
   "outputs": [
    {
     "name": "stdout",
     "output_type": "stream",
     "text": [
      "Extracting stories for the challenge: basic-induction_10k\n"
     ]
    }
   ],
   "source": [
    "challenges = {\n",
    "    'single_supporting_fact_10k': 'tasks_1-20_v1-2/en-10k/qa1_single-supporting-fact_{}.txt',\n",
    "    'two_supporting_facts_10k': 'tasks_1-20_v1-2/en-10k/qa2_two-supporting-facts_{}.txt',\n",
    "    'three_supporting_facts_10k': 'tasks_1-20_v1-2/en-10k/qa2_three-supporting-facts_{}.txt',\n",
    "    'two-arg-relations_10k' : 'tasks_1-20_v1-2/en-10k/qa4_two-arg-relations_{}.txt',\n",
    "    'three-arg-relations_10k' : 'tasks_1-20_v1-2/en-10k/qa5_three-arg-relations_{}.txt',\n",
    "    'yes-no-questions_10k' :'tasks_1-20_v1-2/en-10k/qa6_yes-no-questions_{}.txt',\n",
    "    'counting_10k':'tasks_1-20_v1-2/en-10k/qa7_counting_{}.txt',\n",
    "    'lists-sets_10k' : 'tasks_1-20_v1-2/en-10k/qa8_lists-sets_{}.txt',\n",
    "    'simple-negation_10k':'tasks_1-20_v1-2/en-10k/qa9_simple-negation_{}.txt',\n",
    "    'indefinite-knowledge_10k' : 'tasks_1-20_v1-2/en-10k/qa10_indefinite-knowledge_{}.txt',\n",
    "    'basic-coreference_10k':'tasks_1-20_v1-2/en-10k/qa11_basic-coreference_{}.txt',\n",
    "    'conjunction_10k':'tasks_1-20_v1-2/en-10k/qa12_conjunction_{}.txt',\n",
    "    'compound-coreference_10k':'tasks_1-20_v1-2/en-10k/qa13_compound-coreference_{}.txt',\n",
    "    'time-reasoning_10k':'tasks_1-20_v1-2/en-10k/qa14_time-reasoning_{}.txt',\n",
    "    'basic-deduction_10k' : 'tasks_1-20_v1-2/en-10k/qa15_basic-deduction_{}.txt',\n",
    "    'basic-induction_10k':'tasks_1-20_v1-2/en-10k/qa16_basic-induction_{}.txt',\n",
    "    'positional-reasoning_10k':'tasks_1-20_v1-2/en-10k/qa17_positional-reasoning_{}.txt',\n",
    "    'size-reasoning_10k':'tasks_1-20_v1-2/en-10k/qa18_size-reasoning_{}.txt',\n",
    "    'path-finding_10k':'tasks_1-20_v1-2/en-10k/qa19_path-finding_{}.txt',\n",
    "    'agents-motivations_10k':'tasks_1-20_v1-2/en-10k/qa20_agents-motivations_{}.txt'\n",
    "    \n",
    "}\n",
    "challenge_type = 'basic-induction_10k'\n",
    "challenge = challenges[challenge_type]\n",
    "\n",
    "print('Extracting stories for the challenge:', challenge_type)\n",
    "train_stories = get_stories(tar.extractfile(challenge.format('train')))\n",
    "test_stories = get_stories(tar.extractfile(challenge.format('test')))\n"
   ]
  },
  {
   "cell_type": "code",
   "execution_count": 8,
   "metadata": {
    "collapsed": false
   },
   "outputs": [
    {
     "name": "stdout",
     "output_type": "stream",
     "text": [
      "Vocab size: 20 unique words\n",
      "Story max length: 41 words\n",
      "Query max length: 5 words\n",
      "Number of training stories: 10000\n",
      "Number of test stories: 1000\n",
      "\n",
      "\n",
      "Here's what a \"story\" tuple looks like (input, query, answer):\n",
      "([u'Lily', u'is', u'a', u'frog', u'.', u'Bernhard', u'is', u'a', u'frog', u'.', u'Bernhard', u'is', u'green', u'.', u'Brian', u'is', u'a', u'lion', u'.', u'Brian', u'is', u'white', u'.', u'Julius', u'is', u'a', u'swan', u'.', u'Julius', u'is', u'green', u'.', u'Lily', u'is', u'green', u'.', u'Greg', u'is', u'a', u'swan', u'.'], [u'What', u'color', u'is', u'Greg', u'?'], u'green')\n"
     ]
    }
   ],
   "source": [
    "vocab = sorted(reduce(lambda x, y: x | y, (set(story + q + [answer]) for story, q, answer in train_stories + test_stories)))\n",
    "# Reserve 0 for masking via pad_sequences\n",
    "vocab_size = len(vocab) + 1\n",
    "story_maxlen = max(map(len, (x for x, _, _ in train_stories + test_stories)))\n",
    "query_maxlen = max(map(len, (x for _, x, _ in train_stories + test_stories)))\n",
    "\n",
    "print('Vocab size:', vocab_size, 'unique words')\n",
    "print('Story max length:', story_maxlen, 'words')\n",
    "print('Query max length:', query_maxlen, 'words')\n",
    "print('Number of training stories:', len(train_stories))\n",
    "print('Number of test stories:', len(test_stories))\n",
    "print('\\n')\n",
    "print('Here\\'s what a \"story\" tuple looks like (input, query, answer):')\n",
    "print(train_stories[0])"
   ]
  },
  {
   "cell_type": "markdown",
   "metadata": {},
   "source": [
    "### Vectorizing the word sequences\n",
    "\n",
    "Here we convert the word tokens to word vectors. We know the total number of unique words in the corpus, that is the size of the vocabulary. Thus, to each word in the corpus we assign a number. We also know the maximum length of a story, story_maxlen (story includes facts, query and answer). Thus, for each story we can construct a word vector of length story_maxlen. For eg. suppose, story_maxlen is 68 and the current story length is 24, then we can have a word vector with the first 34 indices as 0 and the next 24 indices with vocabulary index values of words in the current story"
   ]
  },
  {
   "cell_type": "code",
   "execution_count": 9,
   "metadata": {
    "collapsed": false
   },
   "outputs": [
    {
     "name": "stdout",
     "output_type": "stream",
     "text": [
      "inputs: integer tensor of shape (samples, max_length)\n",
      "inputs_train shape: (10000, 41)\n",
      "inputs_test shape: (1000, 41)\n",
      "\n",
      "\n",
      "queries: integer tensor of shape (samples, max_length)\n",
      "queries_train shape: (10000, 5)\n",
      "queries_test shape: (1000, 5)\n",
      "\n",
      "\n",
      "answers: binary (1 or 0) tensor of shape (samples, vocab_size)\n",
      "answers_train shape: (10000, 20)\n",
      "answers_test shape: (1000, 20)\n",
      "\n",
      "\n"
     ]
    }
   ],
   "source": [
    "word_idx = dict((c, i + 1) for i, c in enumerate(vocab))\n",
    "inputs_train, queries_train, answers_train = vectorize_stories(train_stories, word_idx, story_maxlen, query_maxlen)\n",
    "inputs_test, queries_test, answers_test = vectorize_stories(test_stories, word_idx, story_maxlen, query_maxlen)\n",
    "\n",
    "\n",
    "print('inputs: integer tensor of shape (samples, max_length)')\n",
    "print('inputs_train shape:', inputs_train.shape)\n",
    "print('inputs_test shape:', inputs_test.shape)\n",
    "print('\\n')\n",
    "print('queries: integer tensor of shape (samples, max_length)')\n",
    "print('queries_train shape:', queries_train.shape)\n",
    "print('queries_test shape:', queries_test.shape)\n",
    "print('\\n')\n",
    "print('answers: binary (1 or 0) tensor of shape (samples, vocab_size)')\n",
    "print('answers_train shape:', answers_train.shape)\n",
    "print('answers_test shape:', answers_test.shape)\n",
    "print('\\n')\n"
   ]
  },
  {
   "cell_type": "markdown",
   "metadata": {},
   "source": [
    "### End-to-End Memory Networks\n",
    "\n",
    "The model employed is the End-to-End Memory Networks described in Sukhbaatar et. al. (2015). The architecture is a modified form of Memory Network (Weston, 2014) with the training being weakly supervised.Weston's Memory Network was not easy to train via backpropagation and required supervision at each layer.\n",
    "\n",
    "\n",
    "Briefly, the model takes a discrete set of inputs x1, x2, ...xn that are to be stored in memory, a query q, and an answer a. The model writes all x to the memory up to a fixed buffer size, and then finds a continuous representation for x and q. The continuous representation is then processed via multiple hops to output a. \n"
   ]
  },
  {
   "cell_type": "code",
   "execution_count": 10,
   "metadata": {
    "collapsed": false
   },
   "outputs": [],
   "source": [
    "# embed the input sequence into a sequence of vectors\n",
    "# output: (samples, story_maxlen, embedding_dim)\n",
    "input_encoder_m = Sequential()\n",
    "input_encoder_m.add(Embedding(input_dim=vocab_size,\n",
    "                              output_dim=64,\n",
    "                              input_length=story_maxlen))\n",
    "input_encoder_m.add(Dropout(0.3))\n",
    "\n",
    "\n",
    "# embed the question into a sequence of vectors\n",
    "# output: (samples, query_maxlen, embedding_dim)\n",
    "question_encoder = Sequential()\n",
    "question_encoder.add(Embedding(input_dim=vocab_size,\n",
    "                               output_dim=64,\n",
    "                               input_length=query_maxlen))\n",
    "question_encoder.add(Dropout(0.3))\n",
    "\n",
    "# compute a 'match' between input sequence elements (which are vectors)\n",
    "# and the question vector sequence\n",
    "\n",
    "# output: (samples, story_maxlen, query_maxlen)\n",
    "match = Sequential()\n",
    "match.add(Merge([input_encoder_m, question_encoder],\n",
    "                mode='dot',\n",
    "                dot_axes=[2, 2]))\n",
    "match.add(Activation('softmax'))\n",
    "\n",
    "# embed the input into a single vector with size = story_maxlen:\n",
    "# output: (samples, story_maxlen, query_maxlen)\n",
    "input_encoder_c = Sequential()\n",
    "input_encoder_c.add(Embedding(input_dim=vocab_size,\n",
    "                              output_dim=query_maxlen,\n",
    "                              input_length=story_maxlen))\n",
    "input_encoder_c.add(Dropout(0.3))\n",
    "\n",
    "\n",
    "# sum the match vector with the input vector:\n",
    "# output: (samples, story_maxlen, query_maxlen)\n",
    "response = Sequential()\n",
    "response.add(Merge([match, input_encoder_c], mode='sum'))\n",
    "\n",
    "response.add(Permute((2, 1)))  # output: (samples, query_maxlen, story_maxlen)\n",
    "\n",
    "# concatenate the match vector with the question vector,\n",
    "# and do logistic regression on top\n",
    "answer = Sequential()\n",
    "answer.add(Merge([response, question_encoder], mode='concat', concat_axis=-1))\n",
    "\n",
    "\n",
    "# the original paper uses a matrix multiplication for this reduction step.\n",
    "# we choose to use a RNN instead.\n",
    "answer.add(LSTM(32))\n",
    "# one regularization layer -- more would probably be needed.\n",
    "answer.add(Dropout(0.3))\n",
    "answer.add(Dense(vocab_size))\n",
    "# we output a probability distribution over the vocabulary\n",
    "answer.add(Activation('softmax'))\n",
    "\n"
   ]
  },
  {
   "cell_type": "code",
   "execution_count": 11,
   "metadata": {
    "collapsed": false
   },
   "outputs": [
    {
     "name": "stdout",
     "output_type": "stream",
     "text": [
      "Train on 10000 samples, validate on 1000 samples\n",
      "Epoch 1/60\n",
      "10000/10000 [==============================] - 14s - loss: 1.5409 - acc: 0.2503 - val_loss: 1.3809 - val_acc: 0.2590\n",
      "Epoch 2/60\n",
      "10000/10000 [==============================] - 11s - loss: 1.3568 - acc: 0.3137 - val_loss: 1.2945 - val_acc: 0.3710\n",
      "Epoch 3/60\n",
      "10000/10000 [==============================] - 13s - loss: 1.2859 - acc: 0.3848 - val_loss: 1.2146 - val_acc: 0.4420\n",
      "Epoch 4/60\n",
      "10000/10000 [==============================] - 14s - loss: 1.2265 - acc: 0.4368 - val_loss: 1.1699 - val_acc: 0.4770\n",
      "Epoch 5/60\n",
      "10000/10000 [==============================] - 9s - loss: 1.1998 - acc: 0.4545 - val_loss: 1.1460 - val_acc: 0.4910\n",
      "Epoch 6/60\n",
      "10000/10000 [==============================] - 14s - loss: 1.1829 - acc: 0.4646 - val_loss: 1.1502 - val_acc: 0.4830\n",
      "Epoch 7/60\n",
      "10000/10000 [==============================] - 12s - loss: 1.1483 - acc: 0.4719 - val_loss: 1.0810 - val_acc: 0.4830\n",
      "Epoch 8/60\n",
      "10000/10000 [==============================] - 11s - loss: 1.1197 - acc: 0.4689 - val_loss: 1.0634 - val_acc: 0.4920\n",
      "Epoch 9/60\n",
      "10000/10000 [==============================] - 14s - loss: 1.0965 - acc: 0.4762 - val_loss: 1.0567 - val_acc: 0.4950\n",
      "Epoch 10/60\n",
      "10000/10000 [==============================] - 11s - loss: 1.0814 - acc: 0.4680 - val_loss: 1.0154 - val_acc: 0.4960\n",
      "Epoch 11/60\n",
      "10000/10000 [==============================] - 9s - loss: 1.0675 - acc: 0.4726 - val_loss: 0.9990 - val_acc: 0.4860\n",
      "Epoch 12/60\n",
      "10000/10000 [==============================] - 14s - loss: 1.0575 - acc: 0.4707 - val_loss: 0.9822 - val_acc: 0.4870\n",
      "Epoch 13/60\n",
      "10000/10000 [==============================] - 14s - loss: 1.0468 - acc: 0.4806 - val_loss: 1.0088 - val_acc: 0.4970\n",
      "Epoch 14/60\n",
      "10000/10000 [==============================] - 14s - loss: 1.0321 - acc: 0.4686 - val_loss: 0.9717 - val_acc: 0.4880\n",
      "Epoch 15/60\n",
      "10000/10000 [==============================] - 14s - loss: 1.0220 - acc: 0.4783 - val_loss: 0.9476 - val_acc: 0.4860\n",
      "Epoch 16/60\n",
      "10000/10000 [==============================] - 14s - loss: 1.0153 - acc: 0.4695 - val_loss: 0.9718 - val_acc: 0.4630\n",
      "Epoch 17/60\n",
      "10000/10000 [==============================] - 14s - loss: 1.0049 - acc: 0.4750 - val_loss: 0.9353 - val_acc: 0.4880\n",
      "Epoch 18/60\n",
      "10000/10000 [==============================] - 14s - loss: 0.9976 - acc: 0.4748 - val_loss: 0.9425 - val_acc: 0.4800\n",
      "Epoch 19/60\n",
      "10000/10000 [==============================] - 14s - loss: 0.9856 - acc: 0.4757 - val_loss: 0.9310 - val_acc: 0.4780\n",
      "Epoch 20/60\n",
      "10000/10000 [==============================] - 14s - loss: 0.9875 - acc: 0.4717 - val_loss: 0.9316 - val_acc: 0.4830\n",
      "Epoch 21/60\n",
      "10000/10000 [==============================] - 11s - loss: 0.9821 - acc: 0.4676 - val_loss: 0.9178 - val_acc: 0.4840\n",
      "Epoch 22/60\n",
      "10000/10000 [==============================] - 14s - loss: 0.9712 - acc: 0.4735 - val_loss: 0.9093 - val_acc: 0.4940\n",
      "Epoch 23/60\n",
      "10000/10000 [==============================] - 14s - loss: 0.9632 - acc: 0.4739 - val_loss: 0.9064 - val_acc: 0.4890\n",
      "Epoch 24/60\n",
      "10000/10000 [==============================] - 14s - loss: 0.9549 - acc: 0.4763 - val_loss: 0.9111 - val_acc: 0.4820\n",
      "Epoch 25/60\n",
      "10000/10000 [==============================] - 10s - loss: 0.9525 - acc: 0.4774 - val_loss: 0.9361 - val_acc: 0.4780\n",
      "Epoch 26/60\n",
      "10000/10000 [==============================] - 14s - loss: 0.9496 - acc: 0.4821 - val_loss: 0.9024 - val_acc: 0.4800\n",
      "Epoch 27/60\n",
      "10000/10000 [==============================] - 12s - loss: 0.9402 - acc: 0.4806 - val_loss: 0.8967 - val_acc: 0.4810\n",
      "Epoch 28/60\n",
      "10000/10000 [==============================] - 11s - loss: 0.9395 - acc: 0.4810 - val_loss: 0.8982 - val_acc: 0.4900\n",
      "Epoch 29/60\n",
      "10000/10000 [==============================] - 14s - loss: 0.9371 - acc: 0.4773 - val_loss: 0.9083 - val_acc: 0.4860\n",
      "Epoch 30/60\n",
      "10000/10000 [==============================] - 10s - loss: 0.9295 - acc: 0.4850 - val_loss: 0.8921 - val_acc: 0.4970\n",
      "Epoch 31/60\n",
      "10000/10000 [==============================] - 10s - loss: 0.9269 - acc: 0.4864 - val_loss: 0.9047 - val_acc: 0.4850\n",
      "Epoch 32/60\n",
      "10000/10000 [==============================] - 14s - loss: 0.9235 - acc: 0.4879 - val_loss: 0.8911 - val_acc: 0.4960\n",
      "Epoch 33/60\n",
      "10000/10000 [==============================] - 14s - loss: 0.9199 - acc: 0.4879 - val_loss: 0.8870 - val_acc: 0.5020\n",
      "Epoch 34/60\n",
      "10000/10000 [==============================] - 14s - loss: 0.9184 - acc: 0.4870 - val_loss: 0.8923 - val_acc: 0.4840\n",
      "Epoch 35/60\n",
      "10000/10000 [==============================] - 14s - loss: 0.9175 - acc: 0.4915 - val_loss: 0.8930 - val_acc: 0.4920\n",
      "Epoch 36/60\n",
      "10000/10000 [==============================] - 14s - loss: 0.9142 - acc: 0.4900 - val_loss: 0.8782 - val_acc: 0.5030\n",
      "Epoch 37/60\n",
      "10000/10000 [==============================] - 14s - loss: 0.9109 - acc: 0.4942 - val_loss: 0.8760 - val_acc: 0.5010\n",
      "Epoch 38/60\n",
      "10000/10000 [==============================] - 14s - loss: 0.9066 - acc: 0.4965 - val_loss: 0.8907 - val_acc: 0.4790\n",
      "Epoch 39/60\n",
      "10000/10000 [==============================] - 14s - loss: 0.9000 - acc: 0.4956 - val_loss: 0.8763 - val_acc: 0.4930\n",
      "Epoch 40/60\n",
      "10000/10000 [==============================] - 14s - loss: 0.8997 - acc: 0.4998 - val_loss: 0.8842 - val_acc: 0.4900\n",
      "Epoch 41/60\n",
      "10000/10000 [==============================] - 14s - loss: 0.8952 - acc: 0.4996 - val_loss: 0.8782 - val_acc: 0.4920\n",
      "Epoch 42/60\n",
      "10000/10000 [==============================] - 12s - loss: 0.8944 - acc: 0.5054 - val_loss: 0.8884 - val_acc: 0.4950\n",
      "Epoch 43/60\n",
      "10000/10000 [==============================] - 14s - loss: 0.8987 - acc: 0.4953 - val_loss: 0.8790 - val_acc: 0.4700\n",
      "Epoch 44/60\n",
      "10000/10000 [==============================] - 11s - loss: 0.8959 - acc: 0.4955 - val_loss: 0.8783 - val_acc: 0.4940\n",
      "Epoch 45/60\n",
      "10000/10000 [==============================] - 14s - loss: 0.8877 - acc: 0.5007 - val_loss: 0.8831 - val_acc: 0.4970\n",
      "Epoch 46/60\n",
      "10000/10000 [==============================] - 10s - loss: 0.8890 - acc: 0.5026 - val_loss: 0.8790 - val_acc: 0.4830\n",
      "Epoch 47/60\n",
      "10000/10000 [==============================] - 14s - loss: 0.8882 - acc: 0.5061 - val_loss: 0.8775 - val_acc: 0.4880\n",
      "Epoch 48/60\n",
      "10000/10000 [==============================] - 12s - loss: 0.8848 - acc: 0.5054 - val_loss: 0.8808 - val_acc: 0.4970\n",
      "Epoch 49/60\n",
      "10000/10000 [==============================] - 11s - loss: 0.8844 - acc: 0.5065 - val_loss: 0.8740 - val_acc: 0.5080\n",
      "Epoch 50/60\n",
      "10000/10000 [==============================] - 14s - loss: 0.8840 - acc: 0.5096 - val_loss: 0.8757 - val_acc: 0.4810\n",
      "Epoch 51/60\n",
      "10000/10000 [==============================] - 10s - loss: 0.8805 - acc: 0.5103 - val_loss: 0.8899 - val_acc: 0.4950\n",
      "Epoch 52/60\n",
      "10000/10000 [==============================] - 11s - loss: 0.8819 - acc: 0.5129 - val_loss: 0.8812 - val_acc: 0.4920\n",
      "Epoch 53/60\n",
      "10000/10000 [==============================] - 14s - loss: 0.8807 - acc: 0.5106 - val_loss: 0.8768 - val_acc: 0.4820\n",
      "Epoch 54/60\n",
      "10000/10000 [==============================] - 14s - loss: 0.8785 - acc: 0.5042 - val_loss: 0.8777 - val_acc: 0.4830\n",
      "Epoch 55/60\n",
      "10000/10000 [==============================] - 14s - loss: 0.8776 - acc: 0.5135 - val_loss: 0.8883 - val_acc: 0.4910\n",
      "Epoch 56/60\n",
      "10000/10000 [==============================] - 14s - loss: 0.8781 - acc: 0.5145 - val_loss: 0.8873 - val_acc: 0.4760\n",
      "Epoch 57/60\n",
      "10000/10000 [==============================] - 14s - loss: 0.8780 - acc: 0.5155 - val_loss: 0.8867 - val_acc: 0.5030\n",
      "Epoch 58/60\n",
      "10000/10000 [==============================] - 14s - loss: 0.8765 - acc: 0.5113 - val_loss: 0.8795 - val_acc: 0.4800\n",
      "Epoch 59/60\n",
      "10000/10000 [==============================] - 14s - loss: 0.8758 - acc: 0.5157 - val_loss: 0.8777 - val_acc: 0.4850\n",
      "Epoch 60/60\n",
      "10000/10000 [==============================] - 14s - loss: 0.8758 - acc: 0.5160 - val_loss: 0.8758 - val_acc: 0.4940\n"
     ]
    },
    {
     "data": {
      "text/plain": [
       "<keras.callbacks.History at 0x7f4df0567c10>"
      ]
     },
     "execution_count": 11,
     "metadata": {},
     "output_type": "execute_result"
    }
   ],
   "source": [
    "answer.compile(optimizer='rmsprop', loss='categorical_crossentropy',\n",
    "               metrics=['accuracy'])\n",
    "# Note: you could use a Graph model to avoid repeat the input twice\n",
    "answer.fit([inputs_train, queries_train, inputs_train], answers_train,\n",
    "           batch_size=32,\n",
    "           nb_epoch=60,\n",
    "           validation_data=([inputs_test, queries_test, inputs_test], answers_test))"
   ]
  },
  {
   "cell_type": "markdown",
   "metadata": {},
   "source": [
    "### Making predictions based on the fitted model"
   ]
  },
  {
   "cell_type": "code",
   "execution_count": 12,
   "metadata": {
    "collapsed": false
   },
   "outputs": [
    {
     "name": "stdout",
     "output_type": "stream",
     "text": [
      " 992/1000 [============================>.] - ETA: 0s"
     ]
    }
   ],
   "source": [
    "predictions=answer.predict_classes([inputs_test, queries_test, inputs_test], batch_size=32)"
   ]
  },
  {
   "cell_type": "markdown",
   "metadata": {},
   "source": [
    "### Example story and model prediction"
   ]
  },
  {
   "cell_type": "code",
   "execution_count": 13,
   "metadata": {
    "collapsed": false,
    "scrolled": true
   },
   "outputs": [],
   "source": [
    "def pred_evaluation(ind):\n",
    "    \n",
    "    print (\"The story is -: \")\n",
    "    facts = test_stories[ind]\n",
    "    print(' '.join(facts[0]))\n",
    "    print('\\n')\n",
    "    \n",
    "    print (\"The query is -:\")\n",
    "    print(' '.join(facts[1]))\n",
    "\n",
    "    print (\"\\nThe predicted answer is -:\")\n",
    "    ans = predictions[ind]\n",
    "    for key, value in (word_idx).items():\n",
    "        if value == ans:\n",
    "            print(key)\n",
    "            print('\\n')\n",
    "            \n"
   ]
  },
  {
   "cell_type": "code",
   "execution_count": 14,
   "metadata": {
    "collapsed": false
   },
   "outputs": [
    {
     "name": "stdout",
     "output_type": "stream",
     "text": [
      "The story is -: \n",
      "Lily is a rhino . Brian is a swan . Bernhard is a swan . Lily is gray . Brian is white . Bernhard is white . Julius is a frog . Julius is white . Greg is a frog .\n",
      "\n",
      "\n",
      "The query is -:\n",
      "What color is Greg ?\n",
      "\n",
      "The predicted answer is -:\n",
      "white\n",
      "\n",
      "\n"
     ]
    }
   ],
   "source": [
    "pred_evaluation(1)\n"
   ]
  },
  {
   "cell_type": "code",
   "execution_count": 15,
   "metadata": {
    "collapsed": false
   },
   "outputs": [
    {
     "name": "stdout",
     "output_type": "stream",
     "text": [
      "The story is -: \n",
      "Greg is a frog . Lily is a lion . Bernhard is a frog . Julius is a swan . Brian is a lion . Brian is yellow . Greg is yellow . Bernhard is yellow . Julius is green .\n",
      "\n",
      "\n",
      "The query is -:\n",
      "What color is Lily ?\n",
      "\n",
      "The predicted answer is -:\n",
      "green\n",
      "\n",
      "\n"
     ]
    }
   ],
   "source": [
    "pred_evaluation(20)\n"
   ]
  },
  {
   "cell_type": "code",
   "execution_count": 16,
   "metadata": {
    "collapsed": false
   },
   "outputs": [
    {
     "name": "stdout",
     "output_type": "stream",
     "text": [
      "The story is -: \n",
      "Lily is a lion . Lily is green . Brian is a swan . Bernhard is a rhino . Julius is a frog . Julius is gray . Brian is green . Bernhard is white . Greg is a frog .\n",
      "\n",
      "\n",
      "The query is -:\n",
      "What color is Greg ?\n",
      "\n",
      "The predicted answer is -:\n",
      "gray\n",
      "\n",
      "\n"
     ]
    }
   ],
   "source": [
    "pred_evaluation(540)"
   ]
  }
 ],
 "metadata": {
  "kernelspec": {
   "display_name": "Python 2",
   "language": "python",
   "name": "python2"
  },
  "language_info": {
   "codemirror_mode": {
    "name": "ipython",
    "version": 2
   },
   "file_extension": ".py",
   "mimetype": "text/x-python",
   "name": "python",
   "nbconvert_exporter": "python",
   "pygments_lexer": "ipython2",
   "version": "2.7.9"
  }
 },
 "nbformat": 4,
 "nbformat_minor": 1
}
