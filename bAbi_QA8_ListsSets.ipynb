{
 "cells": [
  {
   "cell_type": "markdown",
   "metadata": {},
   "source": [
    "### QA Type 8 : Lists/Sets\n",
    "\n",
    "Task 8 tests the ability to produce a set of single word answers in the form of a list, e.g. “What is Daniel holding?”. This and task 7 can be seen as QA tasks related to basic database search operations. \n",
    "\n",
    "For training and testing we have used the 10k dataset, containing 10,000 training examples.\n",
    "An example QA set is as below -:\n",
    "\n",
    "1. Mary moved to the bathroom.\n",
    "2. Sandra journeyed to the bedroom.\n",
    "3. Mary got the football there.\n",
    "4. John went to the kitchen.\n",
    "5. What is Mary carrying? \tfootball\n",
    "\n"
   ]
  },
  {
   "cell_type": "code",
   "execution_count": 1,
   "metadata": {
    "collapsed": false
   },
   "outputs": [
    {
     "name": "stderr",
     "output_type": "stream",
     "text": [
      "Using TensorFlow backend.\n"
     ]
    }
   ],
   "source": [
    "from __future__ import print_function\n",
    "from keras.models import Sequential\n",
    "from keras.layers.embeddings import Embedding\n",
    "from keras.layers import Activation, Dense, Merge, Permute, Dropout\n",
    "from keras.layers import LSTM\n",
    "from keras.utils.data_utils import get_file\n",
    "from keras.preprocessing.sequence import pad_sequences\n",
    "from functools import reduce\n",
    "import tarfile\n",
    "import numpy as np\n",
    "import re"
   ]
  },
  {
   "cell_type": "markdown",
   "metadata": {},
   "source": [
    "### Story processing\n",
    "\n",
    "Each story is processed to reduce sentences to tokens and combine all facts and queries relevant to the story. "
   ]
  },
  {
   "cell_type": "code",
   "execution_count": 2,
   "metadata": {
    "collapsed": false
   },
   "outputs": [],
   "source": [
    "def tokenize(sent):\n",
    "    '''Return the tokens of a sentence including punctuation.\n",
    "    >>> tokenize('Bob dropped the apple. Where is the apple?')\n",
    "    ['Bob', 'dropped', 'the', 'apple', '.', 'Where', 'is', 'the', 'apple', '?']\n",
    "    '''\n",
    "    return [x.strip() for x in re.split('(\\W+)?', sent) if x.strip()]\n"
   ]
  },
  {
   "cell_type": "code",
   "execution_count": 3,
   "metadata": {
    "collapsed": true
   },
   "outputs": [],
   "source": [
    "def parse_stories(lines, only_supporting=False):\n",
    "    '''Parse stories provided in the bAbi tasks format\n",
    "    If only_supporting is true, only the sentences that support the answer are kept.\n",
    "    '''\n",
    "    data = []\n",
    "    story = []\n",
    "    for line in lines:\n",
    "        line = line.decode('utf-8').strip()\n",
    "        nid, line = line.split(' ', 1)\n",
    "        nid = int(nid)\n",
    "        if nid == 1:\n",
    "            story = []\n",
    "        if '\\t' in line:\n",
    "            q, a, supporting = line.split('\\t')\n",
    "            q = tokenize(q)\n",
    "            substory = None\n",
    "            if only_supporting:\n",
    "                # Only select the related substory\n",
    "                supporting = map(int, supporting.split())\n",
    "                substory = [story[i - 1] for i in supporting]\n",
    "            else:\n",
    "                # Provide all the substories\n",
    "                substory = [x for x in story if x]\n",
    "            data.append((substory, q, a))\n",
    "            story.append('')\n",
    "        else:\n",
    "            sent = tokenize(line)\n",
    "            story.append(sent)\n",
    "    return data"
   ]
  },
  {
   "cell_type": "code",
   "execution_count": 4,
   "metadata": {
    "collapsed": true
   },
   "outputs": [],
   "source": [
    "\n",
    "def get_stories(f, only_supporting=False, max_length=None):\n",
    "    '''Given a file name, read the file, retrieve the stories, and then convert the sentences into a single story.\n",
    "    If max_length is supplied, any stories longer than max_length tokens will be discarded.\n",
    "    '''\n",
    "    data = parse_stories(f.readlines(), only_supporting=only_supporting)\n",
    "    flatten = lambda data: reduce(lambda x, y: x + y, data)\n",
    "    data = [(flatten(story), q, answer) for story, q, answer in data if not max_length or len(flatten(story)) < max_length]\n",
    "    return data\n"
   ]
  },
  {
   "cell_type": "code",
   "execution_count": 5,
   "metadata": {
    "collapsed": true
   },
   "outputs": [],
   "source": [
    "def vectorize_stories(data, word_idx, story_maxlen, query_maxlen):\n",
    "    X = []\n",
    "    Xq = []\n",
    "    Y = []\n",
    "    for story, query, answer in data:\n",
    "        x = [word_idx[w] for w in story]\n",
    "        xq = [word_idx[w] for w in query]\n",
    "        y = np.zeros(len(word_idx) + 1)  # let's not forget that index 0 is reserved\n",
    "        y[word_idx[answer]] = 1\n",
    "        X.append(x)\n",
    "        Xq.append(xq)\n",
    "        Y.append(y)\n",
    "    return (pad_sequences(X, maxlen=story_maxlen),\n",
    "            pad_sequences(Xq, maxlen=query_maxlen), np.array(Y))"
   ]
  },
  {
   "cell_type": "code",
   "execution_count": 6,
   "metadata": {
    "collapsed": false
   },
   "outputs": [],
   "source": [
    "try:\n",
    "    path = get_file('babi-tasks-v1-2.tar.gz', origin='https://s3.amazonaws.com/text-datasets/babi_tasks_1-20_v1-2.tar.gz')\n",
    "except:\n",
    "    print('Error downloading dataset, please download it manually:\\n'\n",
    "          '$ wget http://www.thespermwhale.com/jaseweston/babi/tasks_1-20_v1-2.tar.gz\\n'\n",
    "          '$ mv tasks_1-20_v1-2.tar.gz ~/.keras/datasets/babi-tasks-v1-2.tar.gz')\n",
    "    raise\n",
    "tar = tarfile.open(path)"
   ]
  },
  {
   "cell_type": "markdown",
   "metadata": {},
   "source": [
    "### Training Set\n",
    "\n",
    "Here the selection of 'Question' type (single supporting fact, three supporting facts etc.) is made for generating the training and test set. "
   ]
  },
  {
   "cell_type": "code",
   "execution_count": 7,
   "metadata": {
    "collapsed": false
   },
   "outputs": [
    {
     "name": "stdout",
     "output_type": "stream",
     "text": [
      "Extracting stories for the challenge: lists-sets_10k\n"
     ]
    }
   ],
   "source": [
    "challenges = {\n",
    "    # QA1 with 10,000 samples\n",
    "    'single_supporting_fact_10k': 'tasks_1-20_v1-2/en-10k/qa1_single-supporting-fact_{}.txt',\n",
    "    # QA2 with 10,000 samples\n",
    "    'two_supporting_facts_10k': 'tasks_1-20_v1-2/en-10k/qa2_two-supporting-facts_{}.txt',\n",
    "    # QA4\n",
    "    'two-arg-relations_10k' : 'tasks_1-20_v1-2/en-10k/qa4_two-arg-relations_{}.txt',\n",
    "    # QA5 \n",
    "    'three-arg-relations_10k' : 'tasks_1-20_v1-2/en-10k/qa5_three-arg-relations_{}.txt',\n",
    "    'yes-no-questions_10k' :'tasks_1-20_v1-2/en-10k/qa6_yes-no-questions_{}.txt',\n",
    "     'counting_10k':'tasks_1-20_v1-2/en-10k/qa7_counting_{}.txt',\n",
    "   'lists-sets_10k' : 'tasks_1-20_v1-2/en-10k/qa8_lists-sets_{}.txt',\n",
    "    'simple-negation_10k':'tasks_1-20_v1-2/en-10k/qa9_simple-negation_{}.txt'\n",
    "}\n",
    "challenge_type = 'lists-sets_10k'\n",
    "challenge = challenges[challenge_type]\n",
    "\n",
    "print('Extracting stories for the challenge:', challenge_type)\n",
    "train_stories = get_stories(tar.extractfile(challenge.format('train')))\n",
    "test_stories = get_stories(tar.extractfile(challenge.format('test')))\n"
   ]
  },
  {
   "cell_type": "code",
   "execution_count": 8,
   "metadata": {
    "collapsed": false
   },
   "outputs": [
    {
     "name": "stdout",
     "output_type": "stream",
     "text": [
      "Vocab size: 50 unique words\n",
      "Story max length: 358 words\n",
      "Query max length: 5 words\n",
      "Number of training stories: 10000\n",
      "Number of test stories: 1000\n",
      "\n",
      "\n",
      "Here's what a \"story\" tuple looks like (input, query, answer):\n",
      "([u'Mary', u'moved', u'to', u'the', u'bathroom', u'.', u'Sandra', u'journeyed', u'to', u'the', u'bedroom', u'.', u'Mary', u'got', u'the', u'football', u'there', u'.', u'John', u'went', u'to', u'the', u'kitchen', u'.'], [u'What', u'is', u'Mary', u'carrying', u'?'], u'football')\n"
     ]
    }
   ],
   "source": [
    "vocab = sorted(reduce(lambda x, y: x | y, (set(story + q + [answer]) for story, q, answer in train_stories + test_stories)))\n",
    "# Reserve 0 for masking via pad_sequences\n",
    "vocab_size = len(vocab) + 1\n",
    "story_maxlen = max(map(len, (x for x, _, _ in train_stories + test_stories)))\n",
    "query_maxlen = max(map(len, (x for _, x, _ in train_stories + test_stories)))\n",
    "\n",
    "print('Vocab size:', vocab_size, 'unique words')\n",
    "print('Story max length:', story_maxlen, 'words')\n",
    "print('Query max length:', query_maxlen, 'words')\n",
    "print('Number of training stories:', len(train_stories))\n",
    "print('Number of test stories:', len(test_stories))\n",
    "print('\\n')\n",
    "print('Here\\'s what a \"story\" tuple looks like (input, query, answer):')\n",
    "print(train_stories[0])"
   ]
  },
  {
   "cell_type": "markdown",
   "metadata": {},
   "source": [
    "### Vectorizing the word sequences\n",
    "\n",
    "Here we convert the word tokens to word vectors. We know the total number of unique words in the corpus, that is the size of the vocabulary. Thus, to each word in the corpus we assign a number. We also know the maximum length of a story, story_maxlen (story includes facts, query and answer). Thus, for each story we can construct a word vector of length story_maxlen. For eg. suppose, story_maxlen is 68 and the current story length is 24, then we can have a word vector with the first 34 indices as 0 and the next 24 indices with vocabulary index values of words in the current story"
   ]
  },
  {
   "cell_type": "code",
   "execution_count": 9,
   "metadata": {
    "collapsed": false
   },
   "outputs": [
    {
     "name": "stdout",
     "output_type": "stream",
     "text": [
      "inputs: integer tensor of shape (samples, max_length)\n",
      "inputs_train shape: (10000, 358)\n",
      "inputs_test shape: (1000, 358)\n",
      "\n",
      "\n",
      "queries: integer tensor of shape (samples, max_length)\n",
      "queries_train shape: (10000, 5)\n",
      "queries_test shape: (1000, 5)\n",
      "\n",
      "\n",
      "answers: binary (1 or 0) tensor of shape (samples, vocab_size)\n",
      "answers_train shape: (10000, 50)\n",
      "answers_test shape: (1000, 50)\n",
      "\n",
      "\n"
     ]
    }
   ],
   "source": [
    "word_idx = dict((c, i + 1) for i, c in enumerate(vocab))\n",
    "inputs_train, queries_train, answers_train = vectorize_stories(train_stories, word_idx, story_maxlen, query_maxlen)\n",
    "inputs_test, queries_test, answers_test = vectorize_stories(test_stories, word_idx, story_maxlen, query_maxlen)\n",
    "\n",
    "\n",
    "print('inputs: integer tensor of shape (samples, max_length)')\n",
    "print('inputs_train shape:', inputs_train.shape)\n",
    "print('inputs_test shape:', inputs_test.shape)\n",
    "print('\\n')\n",
    "print('queries: integer tensor of shape (samples, max_length)')\n",
    "print('queries_train shape:', queries_train.shape)\n",
    "print('queries_test shape:', queries_test.shape)\n",
    "print('\\n')\n",
    "print('answers: binary (1 or 0) tensor of shape (samples, vocab_size)')\n",
    "print('answers_train shape:', answers_train.shape)\n",
    "print('answers_test shape:', answers_test.shape)\n",
    "print('\\n')\n"
   ]
  },
  {
   "cell_type": "markdown",
   "metadata": {},
   "source": [
    "### End-to-End Memory Networks\n",
    "\n",
    "The model employed is the End-to-End Memory Networks described in Sukhbaatar et. al. (2015). The architecture is a modified form of Memory Network (Weston, 2014) with the training being weakly supervised.Weston's Memory Network was not easy to train via backpropagation and required supervision at each layer.\n",
    "\n",
    "\n",
    "Briefly, the model takes a discrete set of inputs x1, x2, ...xn that are to be stored in memory, a query q, and an answer a. The model writes all x to the memory up to a fixed buffer size, and then finds a continuous representation for x and q. The continuous representation is then processed via multiple hops to output a. \n"
   ]
  },
  {
   "cell_type": "code",
   "execution_count": 10,
   "metadata": {
    "collapsed": false
   },
   "outputs": [],
   "source": [
    "# embed the input sequence into a sequence of vectors\n",
    "# output: (samples, story_maxlen, embedding_dim)\n",
    "input_encoder_m = Sequential()\n",
    "input_encoder_m.add(Embedding(input_dim=vocab_size,\n",
    "                              output_dim=64,\n",
    "                              input_length=story_maxlen))\n",
    "input_encoder_m.add(Dropout(0.3))\n",
    "\n",
    "\n",
    "# embed the question into a sequence of vectors\n",
    "# output: (samples, query_maxlen, embedding_dim)\n",
    "question_encoder = Sequential()\n",
    "question_encoder.add(Embedding(input_dim=vocab_size,\n",
    "                               output_dim=64,\n",
    "                               input_length=query_maxlen))\n",
    "question_encoder.add(Dropout(0.3))\n",
    "\n",
    "# compute a 'match' between input sequence elements (which are vectors)\n",
    "# and the question vector sequence\n",
    "\n",
    "# output: (samples, story_maxlen, query_maxlen)\n",
    "match = Sequential()\n",
    "match.add(Merge([input_encoder_m, question_encoder],\n",
    "                mode='dot',\n",
    "                dot_axes=[2, 2]))\n",
    "match.add(Activation('softmax'))\n",
    "\n",
    "# embed the input into a single vector with size = story_maxlen:\n",
    "# output: (samples, story_maxlen, query_maxlen)\n",
    "input_encoder_c = Sequential()\n",
    "input_encoder_c.add(Embedding(input_dim=vocab_size,\n",
    "                              output_dim=query_maxlen,\n",
    "                              input_length=story_maxlen))\n",
    "input_encoder_c.add(Dropout(0.3))\n",
    "\n",
    "\n",
    "# sum the match vector with the input vector:\n",
    "# output: (samples, story_maxlen, query_maxlen)\n",
    "response = Sequential()\n",
    "response.add(Merge([match, input_encoder_c], mode='sum'))\n",
    "\n",
    "response.add(Permute((2, 1)))  # output: (samples, query_maxlen, story_maxlen)\n",
    "\n",
    "# concatenate the match vector with the question vector,\n",
    "# and do logistic regression on top\n",
    "answer = Sequential()\n",
    "answer.add(Merge([response, question_encoder], mode='concat', concat_axis=-1))\n",
    "\n",
    "\n",
    "# the original paper uses a matrix multiplication for this reduction step.\n",
    "# we choose to use a RNN instead.\n",
    "answer.add(LSTM(32))\n",
    "# one regularization layer -- more would probably be needed.\n",
    "answer.add(Dropout(0.3))\n",
    "answer.add(Dense(vocab_size))\n",
    "# we output a probability distribution over the vocabulary\n",
    "answer.add(Activation('softmax'))\n",
    "\n"
   ]
  },
  {
   "cell_type": "code",
   "execution_count": 11,
   "metadata": {
    "collapsed": false
   },
   "outputs": [
    {
     "name": "stdout",
     "output_type": "stream",
     "text": [
      "Train on 10000 samples, validate on 1000 samples\n",
      "Epoch 1/60\n",
      "10000/10000 [==============================] - 14s - loss: 1.7868 - acc: 0.3243 - val_loss: 1.6298 - val_acc: 0.3470\n",
      "Epoch 2/60\n",
      "10000/10000 [==============================] - 13s - loss: 1.5538 - acc: 0.3951 - val_loss: 1.4758 - val_acc: 0.4400\n",
      "Epoch 3/60\n",
      "10000/10000 [==============================] - 13s - loss: 1.4354 - acc: 0.4523 - val_loss: 1.3921 - val_acc: 0.4730\n",
      "Epoch 4/60\n",
      "10000/10000 [==============================] - 13s - loss: 1.3426 - acc: 0.5225 - val_loss: 1.3033 - val_acc: 0.5410\n",
      "Epoch 5/60\n",
      "10000/10000 [==============================] - 13s - loss: 1.2406 - acc: 0.5749 - val_loss: 1.1860 - val_acc: 0.6050\n",
      "Epoch 6/60\n",
      "10000/10000 [==============================] - 13s - loss: 1.1503 - acc: 0.6123 - val_loss: 1.1136 - val_acc: 0.6480\n",
      "Epoch 7/60\n",
      "10000/10000 [==============================] - 13s - loss: 1.0757 - acc: 0.6632 - val_loss: 1.0160 - val_acc: 0.6980\n",
      "Epoch 8/60\n",
      "10000/10000 [==============================] - 13s - loss: 1.0148 - acc: 0.7004 - val_loss: 0.9364 - val_acc: 0.7270\n",
      "Epoch 9/60\n",
      "10000/10000 [==============================] - 13s - loss: 0.9647 - acc: 0.7179 - val_loss: 0.8800 - val_acc: 0.7480\n",
      "Epoch 10/60\n",
      "10000/10000 [==============================] - 11s - loss: 0.9066 - acc: 0.7309 - val_loss: 0.8606 - val_acc: 0.7370\n",
      "Epoch 11/60\n",
      "10000/10000 [==============================] - 12s - loss: 0.8812 - acc: 0.7375 - val_loss: 0.8368 - val_acc: 0.7370\n",
      "Epoch 12/60\n",
      "10000/10000 [==============================] - 12s - loss: 0.8513 - acc: 0.7415 - val_loss: 0.8107 - val_acc: 0.7390\n",
      "Epoch 13/60\n",
      "10000/10000 [==============================] - 11s - loss: 0.8373 - acc: 0.7445 - val_loss: 0.8615 - val_acc: 0.7260\n",
      "Epoch 14/60\n",
      "10000/10000 [==============================] - 11s - loss: 0.8193 - acc: 0.7465 - val_loss: 0.7806 - val_acc: 0.7560\n",
      "Epoch 15/60\n",
      "10000/10000 [==============================] - 13s - loss: 0.8072 - acc: 0.7503 - val_loss: 0.7625 - val_acc: 0.7590\n",
      "Epoch 16/60\n",
      "10000/10000 [==============================] - 9s - loss: 0.7722 - acc: 0.7590 - val_loss: 0.7342 - val_acc: 0.7600\n",
      "Epoch 17/60\n",
      "10000/10000 [==============================] - 12s - loss: 0.7709 - acc: 0.7572 - val_loss: 0.8118 - val_acc: 0.7390\n",
      "Epoch 18/60\n",
      "10000/10000 [==============================] - 13s - loss: 0.7673 - acc: 0.7572 - val_loss: 0.7262 - val_acc: 0.7600\n",
      "Epoch 19/60\n",
      "10000/10000 [==============================] - 8s - loss: 0.7523 - acc: 0.7638 - val_loss: 0.7258 - val_acc: 0.7550\n",
      "Epoch 20/60\n",
      "10000/10000 [==============================] - 12s - loss: 0.7417 - acc: 0.7605 - val_loss: 0.7497 - val_acc: 0.7540\n",
      "Epoch 21/60\n",
      "10000/10000 [==============================] - 14s - loss: 0.7346 - acc: 0.7639 - val_loss: 0.7195 - val_acc: 0.7510\n",
      "Epoch 22/60\n",
      "10000/10000 [==============================] - 13s - loss: 0.7314 - acc: 0.7663 - val_loss: 0.7237 - val_acc: 0.7580\n",
      "Epoch 23/60\n",
      "10000/10000 [==============================] - 13s - loss: 0.7159 - acc: 0.7690 - val_loss: 0.7179 - val_acc: 0.7580\n",
      "Epoch 24/60\n",
      "10000/10000 [==============================] - 13s - loss: 0.7121 - acc: 0.7663 - val_loss: 0.7149 - val_acc: 0.7560\n",
      "Epoch 25/60\n",
      "10000/10000 [==============================] - 13s - loss: 0.7001 - acc: 0.7707 - val_loss: 0.7175 - val_acc: 0.7560\n",
      "Epoch 26/60\n",
      "10000/10000 [==============================] - 13s - loss: 0.6977 - acc: 0.7725 - val_loss: 0.7086 - val_acc: 0.7580\n",
      "Epoch 27/60\n",
      "10000/10000 [==============================] - 13s - loss: 0.6958 - acc: 0.7749 - val_loss: 0.6995 - val_acc: 0.7520\n",
      "Epoch 28/60\n",
      "10000/10000 [==============================] - 13s - loss: 0.6839 - acc: 0.7769 - val_loss: 0.7283 - val_acc: 0.7590\n",
      "Epoch 29/60\n",
      "10000/10000 [==============================] - 14s - loss: 0.6802 - acc: 0.7729 - val_loss: 0.6954 - val_acc: 0.7620\n",
      "Epoch 30/60\n",
      "10000/10000 [==============================] - 13s - loss: 0.6741 - acc: 0.7767 - val_loss: 0.7244 - val_acc: 0.7530\n",
      "Epoch 31/60\n",
      "10000/10000 [==============================] - 13s - loss: 0.6622 - acc: 0.7794 - val_loss: 0.7195 - val_acc: 0.7540\n",
      "Epoch 32/60\n",
      "10000/10000 [==============================] - 9s - loss: 0.6552 - acc: 0.7827 - val_loss: 0.7184 - val_acc: 0.7630\n",
      "Epoch 33/60\n",
      "10000/10000 [==============================] - 13s - loss: 0.6521 - acc: 0.7839 - val_loss: 0.6972 - val_acc: 0.7550\n",
      "Epoch 34/60\n",
      "10000/10000 [==============================] - 11s - loss: 0.6567 - acc: 0.7795 - val_loss: 0.7147 - val_acc: 0.7590\n",
      "Epoch 35/60\n",
      "10000/10000 [==============================] - 13s - loss: 0.6375 - acc: 0.7836 - val_loss: 0.6821 - val_acc: 0.7560\n",
      "Epoch 36/60\n",
      "10000/10000 [==============================] - 10s - loss: 0.6453 - acc: 0.7838 - val_loss: 0.7071 - val_acc: 0.7640\n",
      "Epoch 37/60\n",
      "10000/10000 [==============================] - 13s - loss: 0.6369 - acc: 0.7876 - val_loss: 0.7238 - val_acc: 0.7670\n",
      "Epoch 38/60\n",
      "10000/10000 [==============================] - 13s - loss: 0.6301 - acc: 0.7863 - val_loss: 0.6935 - val_acc: 0.7590\n",
      "Epoch 39/60\n",
      "10000/10000 [==============================] - 9s - loss: 0.6280 - acc: 0.7853 - val_loss: 0.7116 - val_acc: 0.7570\n",
      "Epoch 40/60\n",
      "10000/10000 [==============================] - 13s - loss: 0.6332 - acc: 0.7862 - val_loss: 0.7109 - val_acc: 0.7540\n",
      "Epoch 41/60\n",
      "10000/10000 [==============================] - 11s - loss: 0.6281 - acc: 0.7843 - val_loss: 0.6786 - val_acc: 0.7650\n",
      "Epoch 42/60\n",
      "10000/10000 [==============================] - 9s - loss: 0.6171 - acc: 0.7898 - val_loss: 0.7227 - val_acc: 0.7540\n",
      "Epoch 43/60\n",
      "10000/10000 [==============================] - 13s - loss: 0.6120 - acc: 0.7870 - val_loss: 0.7138 - val_acc: 0.7610\n",
      "Epoch 44/60\n",
      "10000/10000 [==============================] - 13s - loss: 0.6157 - acc: 0.7924 - val_loss: 0.7002 - val_acc: 0.7630\n",
      "Epoch 45/60\n",
      "10000/10000 [==============================] - 13s - loss: 0.6107 - acc: 0.7887 - val_loss: 0.7012 - val_acc: 0.7530\n",
      "Epoch 46/60\n",
      "10000/10000 [==============================] - 13s - loss: 0.6107 - acc: 0.7872 - val_loss: 0.6905 - val_acc: 0.7600\n",
      "Epoch 47/60\n",
      "10000/10000 [==============================] - 13s - loss: 0.6013 - acc: 0.7930 - val_loss: 0.7116 - val_acc: 0.7630\n",
      "Epoch 48/60\n",
      "10000/10000 [==============================] - 14s - loss: 0.5875 - acc: 0.7960 - val_loss: 0.7188 - val_acc: 0.7610\n",
      "Epoch 49/60\n",
      "10000/10000 [==============================] - 14s - loss: 0.5893 - acc: 0.7963 - val_loss: 0.7099 - val_acc: 0.7570\n",
      "Epoch 50/60\n",
      "10000/10000 [==============================] - 14s - loss: 0.5905 - acc: 0.7997 - val_loss: 0.6853 - val_acc: 0.7600\n",
      "Epoch 51/60\n",
      "10000/10000 [==============================] - 14s - loss: 0.5906 - acc: 0.7915 - val_loss: 0.7007 - val_acc: 0.7550\n",
      "Epoch 52/60\n",
      "10000/10000 [==============================] - 14s - loss: 0.5800 - acc: 0.7997 - val_loss: 0.7126 - val_acc: 0.7600\n",
      "Epoch 53/60\n",
      "10000/10000 [==============================] - 14s - loss: 0.5842 - acc: 0.7996 - val_loss: 0.6756 - val_acc: 0.7660\n",
      "Epoch 54/60\n",
      "10000/10000 [==============================] - 11s - loss: 0.5888 - acc: 0.7973 - val_loss: 0.6838 - val_acc: 0.7630\n",
      "Epoch 55/60\n",
      "10000/10000 [==============================] - 12s - loss: 0.5760 - acc: 0.8014 - val_loss: 0.7304 - val_acc: 0.7560\n",
      "Epoch 56/60\n",
      "10000/10000 [==============================] - 12s - loss: 0.5755 - acc: 0.8002 - val_loss: 0.7199 - val_acc: 0.7620\n",
      "Epoch 57/60\n",
      "10000/10000 [==============================] - 12s - loss: 0.5760 - acc: 0.8004 - val_loss: 0.6840 - val_acc: 0.7580\n",
      "Epoch 58/60\n",
      "10000/10000 [==============================] - 14s - loss: 0.5728 - acc: 0.8021 - val_loss: 0.6973 - val_acc: 0.7510\n",
      "Epoch 59/60\n",
      "10000/10000 [==============================] - 10s - loss: 0.5693 - acc: 0.8036 - val_loss: 0.6795 - val_acc: 0.7580\n",
      "Epoch 60/60\n",
      "10000/10000 [==============================] - 13s - loss: 0.5746 - acc: 0.7999 - val_loss: 0.6928 - val_acc: 0.7580\n"
     ]
    },
    {
     "data": {
      "text/plain": [
       "<keras.callbacks.History at 0x7f214d99cd10>"
      ]
     },
     "execution_count": 11,
     "metadata": {},
     "output_type": "execute_result"
    }
   ],
   "source": [
    "answer.compile(optimizer='rmsprop', loss='categorical_crossentropy',\n",
    "               metrics=['accuracy'])\n",
    "# Note: you could use a Graph model to avoid repeat the input twice\n",
    "answer.fit([inputs_train, queries_train, inputs_train], answers_train,\n",
    "           batch_size=32,\n",
    "           nb_epoch=60,\n",
    "           validation_data=([inputs_test, queries_test, inputs_test], answers_test))"
   ]
  },
  {
   "cell_type": "markdown",
   "metadata": {},
   "source": [
    "### Making predictions based on the fitted model"
   ]
  },
  {
   "cell_type": "code",
   "execution_count": 12,
   "metadata": {
    "collapsed": false
   },
   "outputs": [
    {
     "name": "stdout",
     "output_type": "stream",
     "text": [
      "1000/1000 [==============================] - 0s     \n"
     ]
    }
   ],
   "source": [
    "predictions=answer.predict_classes([inputs_test, queries_test, inputs_test], batch_size=32)"
   ]
  },
  {
   "cell_type": "markdown",
   "metadata": {},
   "source": [
    "### Example story and model prediction"
   ]
  },
  {
   "cell_type": "code",
   "execution_count": 13,
   "metadata": {
    "collapsed": false,
    "scrolled": true
   },
   "outputs": [],
   "source": [
    "def pred_evaluation(ind):\n",
    "    \n",
    "    print (\"The story is -: \")\n",
    "    facts = test_stories[ind]\n",
    "    print(' '.join(facts[0]))\n",
    "    print('\\n')\n",
    "    \n",
    "    print (\"The query is -:\")\n",
    "    print(' '.join(facts[1]))\n",
    "\n",
    "    print (\"\\nThe predicted answer is -:\")\n",
    "    ans = predictions[ind]\n",
    "    for key, value in (word_idx).items():\n",
    "        if value == ans:\n",
    "            print(key)\n",
    "            print('\\n')\n",
    "            \n"
   ]
  },
  {
   "cell_type": "code",
   "execution_count": 14,
   "metadata": {
    "collapsed": false
   },
   "outputs": [
    {
     "name": "stdout",
     "output_type": "stream",
     "text": [
      "The story is -: \n",
      "Mary got the milk there . John moved to the bedroom . John picked up the football there . John journeyed to the bathroom .\n",
      "\n",
      "\n",
      "The query is -:\n",
      "What is John carrying ?\n",
      "\n",
      "The predicted answer is -:\n",
      "football\n",
      "\n",
      "\n"
     ]
    }
   ],
   "source": [
    "pred_evaluation(1)\n"
   ]
  },
  {
   "cell_type": "code",
   "execution_count": 15,
   "metadata": {
    "collapsed": false
   },
   "outputs": [
    {
     "name": "stdout",
     "output_type": "stream",
     "text": [
      "The story is -: \n",
      "Sandra travelled to the garden . Mary grabbed the milk there .\n",
      "\n",
      "\n",
      "The query is -:\n",
      "What is Mary carrying ?\n",
      "\n",
      "The predicted answer is -:\n",
      "milk\n",
      "\n",
      "\n"
     ]
    }
   ],
   "source": [
    "pred_evaluation(20)\n"
   ]
  },
  {
   "cell_type": "code",
   "execution_count": 16,
   "metadata": {
    "collapsed": false
   },
   "outputs": [
    {
     "name": "stdout",
     "output_type": "stream",
     "text": [
      "The story is -: \n",
      "Sandra went to the kitchen . Sandra picked up the football there .\n",
      "\n",
      "\n",
      "The query is -:\n",
      "What is Sandra carrying ?\n",
      "\n",
      "The predicted answer is -:\n",
      "football\n",
      "\n",
      "\n"
     ]
    }
   ],
   "source": [
    "pred_evaluation(540)"
   ]
  }
 ],
 "metadata": {
  "kernelspec": {
   "display_name": "Python 2",
   "language": "python",
   "name": "python2"
  },
  "language_info": {
   "codemirror_mode": {
    "name": "ipython",
    "version": 2
   },
   "file_extension": ".py",
   "mimetype": "text/x-python",
   "name": "python",
   "nbconvert_exporter": "python",
   "pygments_lexer": "ipython2",
   "version": "2.7.9"
  }
 },
 "nbformat": 4,
 "nbformat_minor": 1
}
