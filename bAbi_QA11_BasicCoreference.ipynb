{
 "cells": [
  {
   "cell_type": "markdown",
   "metadata": {},
   "source": [
    "### QA Type 11 : Basic Coreference\n",
    "\n",
    "Task 11 tests the simplest type of coreference, that of detecting the nearest referent, e.g. “Daniel was in the kitchen. Then he went to the studio.”. Real-world data typically addresses this as a labeling problem and studies more sophisticated phenomena (Soon et al., 2001), whereas here it is evaluated as in all our other tasks as a question answering problem. \n",
    "\n",
    "For training and testing we have used the 10k dataset, containing 10,000 training examples.\n",
    "An example QA set is as below -:\n",
    "\n",
    "1. Mary went back to the bathroom.\n",
    "2. After that she went to the bedroom.\n",
    "3. Where is Mary? \tbedroom\t1 2\n"
   ]
  },
  {
   "cell_type": "code",
   "execution_count": 1,
   "metadata": {
    "collapsed": false
   },
   "outputs": [
    {
     "name": "stderr",
     "output_type": "stream",
     "text": [
      "Using TensorFlow backend.\n"
     ]
    }
   ],
   "source": [
    "from __future__ import print_function\n",
    "from keras.models import Sequential\n",
    "from keras.layers.embeddings import Embedding\n",
    "from keras.layers import Activation, Dense, Merge, Permute, Dropout\n",
    "from keras.layers import LSTM\n",
    "from keras.utils.data_utils import get_file\n",
    "from keras.preprocessing.sequence import pad_sequences\n",
    "from functools import reduce\n",
    "import tarfile\n",
    "import numpy as np\n",
    "import re"
   ]
  },
  {
   "cell_type": "markdown",
   "metadata": {},
   "source": [
    "### Story processing\n",
    "\n",
    "Each story is processed to reduce sentences to tokens and combine all facts and queries relevant to the story. "
   ]
  },
  {
   "cell_type": "code",
   "execution_count": 2,
   "metadata": {
    "collapsed": false
   },
   "outputs": [],
   "source": [
    "def tokenize(sent):\n",
    "    '''Return the tokens of a sentence including punctuation.\n",
    "    >>> tokenize('Bob dropped the apple. Where is the apple?')\n",
    "    ['Bob', 'dropped', 'the', 'apple', '.', 'Where', 'is', 'the', 'apple', '?']\n",
    "    '''\n",
    "    return [x.strip() for x in re.split('(\\W+)?', sent) if x.strip()]\n"
   ]
  },
  {
   "cell_type": "code",
   "execution_count": 3,
   "metadata": {
    "collapsed": true
   },
   "outputs": [],
   "source": [
    "def parse_stories(lines, only_supporting=False):\n",
    "    '''Parse stories provided in the bAbi tasks format\n",
    "    If only_supporting is true, only the sentences that support the answer are kept.\n",
    "    '''\n",
    "    data = []\n",
    "    story = []\n",
    "    for line in lines:\n",
    "        line = line.decode('utf-8').strip()\n",
    "        nid, line = line.split(' ', 1)\n",
    "        nid = int(nid)\n",
    "        if nid == 1:\n",
    "            story = []\n",
    "        if '\\t' in line:\n",
    "            q, a, supporting = line.split('\\t')\n",
    "            q = tokenize(q)\n",
    "            substory = None\n",
    "            if only_supporting:\n",
    "                # Only select the related substory\n",
    "                supporting = map(int, supporting.split())\n",
    "                substory = [story[i - 1] for i in supporting]\n",
    "            else:\n",
    "                # Provide all the substories\n",
    "                substory = [x for x in story if x]\n",
    "            data.append((substory, q, a))\n",
    "            story.append('')\n",
    "        else:\n",
    "            sent = tokenize(line)\n",
    "            story.append(sent)\n",
    "    return data"
   ]
  },
  {
   "cell_type": "code",
   "execution_count": 4,
   "metadata": {
    "collapsed": true
   },
   "outputs": [],
   "source": [
    "\n",
    "def get_stories(f, only_supporting=False, max_length=None):\n",
    "    '''Given a file name, read the file, retrieve the stories, and then convert the sentences into a single story.\n",
    "    If max_length is supplied, any stories longer than max_length tokens will be discarded.\n",
    "    '''\n",
    "    data = parse_stories(f.readlines(), only_supporting=only_supporting)\n",
    "    flatten = lambda data: reduce(lambda x, y: x + y, data)\n",
    "    data = [(flatten(story), q, answer) for story, q, answer in data if not max_length or len(flatten(story)) < max_length]\n",
    "    return data\n"
   ]
  },
  {
   "cell_type": "code",
   "execution_count": 5,
   "metadata": {
    "collapsed": true
   },
   "outputs": [],
   "source": [
    "def vectorize_stories(data, word_idx, story_maxlen, query_maxlen):\n",
    "    X = []\n",
    "    Xq = []\n",
    "    Y = []\n",
    "    for story, query, answer in data:\n",
    "        x = [word_idx[w] for w in story]\n",
    "        xq = [word_idx[w] for w in query]\n",
    "        y = np.zeros(len(word_idx) + 1)  # let's not forget that index 0 is reserved\n",
    "        y[word_idx[answer]] = 1\n",
    "        X.append(x)\n",
    "        Xq.append(xq)\n",
    "        Y.append(y)\n",
    "    return (pad_sequences(X, maxlen=story_maxlen),\n",
    "            pad_sequences(Xq, maxlen=query_maxlen), np.array(Y))"
   ]
  },
  {
   "cell_type": "code",
   "execution_count": 6,
   "metadata": {
    "collapsed": false
   },
   "outputs": [],
   "source": [
    "try:\n",
    "    path = get_file('babi-tasks-v1-2.tar.gz', origin='https://s3.amazonaws.com/text-datasets/babi_tasks_1-20_v1-2.tar.gz')\n",
    "except:\n",
    "    print('Error downloading dataset, please download it manually:\\n'\n",
    "          '$ wget http://www.thespermwhale.com/jaseweston/babi/tasks_1-20_v1-2.tar.gz\\n'\n",
    "          '$ mv tasks_1-20_v1-2.tar.gz ~/.keras/datasets/babi-tasks-v1-2.tar.gz')\n",
    "    raise\n",
    "tar = tarfile.open(path)"
   ]
  },
  {
   "cell_type": "markdown",
   "metadata": {},
   "source": [
    "### Training Set\n",
    "\n",
    "Here the selection of 'Question' type (single supporting fact, three supporting facts etc.) is made for generating the training and test set. "
   ]
  },
  {
   "cell_type": "code",
   "execution_count": 7,
   "metadata": {
    "collapsed": false
   },
   "outputs": [
    {
     "name": "stdout",
     "output_type": "stream",
     "text": [
      "Extracting stories for the challenge: basic-coreference_10k\n"
     ]
    }
   ],
   "source": [
    "challenges = {\n",
    "    # QA1 with 10,000 samples\n",
    "    'single_supporting_fact_10k': 'tasks_1-20_v1-2/en-10k/qa1_single-supporting-fact_{}.txt',\n",
    "    # QA2 with 10,000 samples\n",
    "    'two_supporting_facts_10k': 'tasks_1-20_v1-2/en-10k/qa2_two-supporting-facts_{}.txt',\n",
    "    # QA4\n",
    "    'two-arg-relations_10k' : 'tasks_1-20_v1-2/en-10k/qa4_two-arg-relations_{}.txt',\n",
    "    # QA5 \n",
    "    'three-arg-relations_10k' : 'tasks_1-20_v1-2/en-10k/qa5_three-arg-relations_{}.txt',\n",
    "    'yes-no-questions_10k' :'tasks_1-20_v1-2/en-10k/qa6_yes-no-questions_{}.txt',\n",
    "     'counting_10k':'tasks_1-20_v1-2/en-10k/qa7_counting_{}.txt',\n",
    "   'lists-sets_10k' : 'tasks_1-20_v1-2/en-10k/qa8_lists-sets_{}.txt',\n",
    "    'simple-negation_10k':'tasks_1-20_v1-2/en-10k/qa9_simple-negation_{}.txt',\n",
    "    'indefinite-knowledge_10k' : 'tasks_1-20_v1-2/en-10k/qa10_indefinite-knowledge_{}.txt',\n",
    "    'basic-coreference_10k':'tasks_1-20_v1-2/en-10k/qa11_basic-coreference_{}.txt'\n",
    "}\n",
    "challenge_type = 'basic-coreference_10k'\n",
    "challenge = challenges[challenge_type]\n",
    "\n",
    "print('Extracting stories for the challenge:', challenge_type)\n",
    "train_stories = get_stories(tar.extractfile(challenge.format('train')))\n",
    "test_stories = get_stories(tar.extractfile(challenge.format('test')))\n"
   ]
  },
  {
   "cell_type": "code",
   "execution_count": 8,
   "metadata": {
    "collapsed": false
   },
   "outputs": [
    {
     "name": "stdout",
     "output_type": "stream",
     "text": [
      "Vocab size: 29 unique words\n",
      "Story max length: 76 words\n",
      "Query max length: 4 words\n",
      "Number of training stories: 10000\n",
      "Number of test stories: 1000\n",
      "\n",
      "\n",
      "Here's what a \"story\" tuple looks like (input, query, answer):\n",
      "([u'Mary', u'went', u'back', u'to', u'the', u'bathroom', u'.', u'After', u'that', u'she', u'went', u'to', u'the', u'bedroom', u'.'], [u'Where', u'is', u'Mary', u'?'], u'bedroom')\n"
     ]
    }
   ],
   "source": [
    "vocab = sorted(reduce(lambda x, y: x | y, (set(story + q + [answer]) for story, q, answer in train_stories + test_stories)))\n",
    "# Reserve 0 for masking via pad_sequences\n",
    "vocab_size = len(vocab) + 1\n",
    "story_maxlen = max(map(len, (x for x, _, _ in train_stories + test_stories)))\n",
    "query_maxlen = max(map(len, (x for _, x, _ in train_stories + test_stories)))\n",
    "\n",
    "print('Vocab size:', vocab_size, 'unique words')\n",
    "print('Story max length:', story_maxlen, 'words')\n",
    "print('Query max length:', query_maxlen, 'words')\n",
    "print('Number of training stories:', len(train_stories))\n",
    "print('Number of test stories:', len(test_stories))\n",
    "print('\\n')\n",
    "print('Here\\'s what a \"story\" tuple looks like (input, query, answer):')\n",
    "print(train_stories[0])"
   ]
  },
  {
   "cell_type": "markdown",
   "metadata": {},
   "source": [
    "### Vectorizing the word sequences\n",
    "\n",
    "Here we convert the word tokens to word vectors. We know the total number of unique words in the corpus, that is the size of the vocabulary. Thus, to each word in the corpus we assign a number. We also know the maximum length of a story, story_maxlen (story includes facts, query and answer). Thus, for each story we can construct a word vector of length story_maxlen. For eg. suppose, story_maxlen is 68 and the current story length is 24, then we can have a word vector with the first 34 indices as 0 and the next 24 indices with vocabulary index values of words in the current story"
   ]
  },
  {
   "cell_type": "code",
   "execution_count": 9,
   "metadata": {
    "collapsed": false
   },
   "outputs": [
    {
     "name": "stdout",
     "output_type": "stream",
     "text": [
      "inputs: integer tensor of shape (samples, max_length)\n",
      "inputs_train shape: (10000, 76)\n",
      "inputs_test shape: (1000, 76)\n",
      "\n",
      "\n",
      "queries: integer tensor of shape (samples, max_length)\n",
      "queries_train shape: (10000, 4)\n",
      "queries_test shape: (1000, 4)\n",
      "\n",
      "\n",
      "answers: binary (1 or 0) tensor of shape (samples, vocab_size)\n",
      "answers_train shape: (10000, 29)\n",
      "answers_test shape: (1000, 29)\n",
      "\n",
      "\n"
     ]
    }
   ],
   "source": [
    "word_idx = dict((c, i + 1) for i, c in enumerate(vocab))\n",
    "inputs_train, queries_train, answers_train = vectorize_stories(train_stories, word_idx, story_maxlen, query_maxlen)\n",
    "inputs_test, queries_test, answers_test = vectorize_stories(test_stories, word_idx, story_maxlen, query_maxlen)\n",
    "\n",
    "\n",
    "print('inputs: integer tensor of shape (samples, max_length)')\n",
    "print('inputs_train shape:', inputs_train.shape)\n",
    "print('inputs_test shape:', inputs_test.shape)\n",
    "print('\\n')\n",
    "print('queries: integer tensor of shape (samples, max_length)')\n",
    "print('queries_train shape:', queries_train.shape)\n",
    "print('queries_test shape:', queries_test.shape)\n",
    "print('\\n')\n",
    "print('answers: binary (1 or 0) tensor of shape (samples, vocab_size)')\n",
    "print('answers_train shape:', answers_train.shape)\n",
    "print('answers_test shape:', answers_test.shape)\n",
    "print('\\n')\n"
   ]
  },
  {
   "cell_type": "markdown",
   "metadata": {},
   "source": [
    "### End-to-End Memory Networks\n",
    "\n",
    "The model employed is the End-to-End Memory Networks described in Sukhbaatar et. al. (2015). The architecture is a modified form of Memory Network (Weston, 2014) with the training being weakly supervised.Weston's Memory Network was not easy to train via backpropagation and required supervision at each layer.\n",
    "\n",
    "\n",
    "Briefly, the model takes a discrete set of inputs x1, x2, ...xn that are to be stored in memory, a query q, and an answer a. The model writes all x to the memory up to a fixed buffer size, and then finds a continuous representation for x and q. The continuous representation is then processed via multiple hops to output a. \n"
   ]
  },
  {
   "cell_type": "code",
   "execution_count": 10,
   "metadata": {
    "collapsed": false
   },
   "outputs": [],
   "source": [
    "# embed the input sequence into a sequence of vectors\n",
    "# output: (samples, story_maxlen, embedding_dim)\n",
    "input_encoder_m = Sequential()\n",
    "input_encoder_m.add(Embedding(input_dim=vocab_size,\n",
    "                              output_dim=64,\n",
    "                              input_length=story_maxlen))\n",
    "input_encoder_m.add(Dropout(0.3))\n",
    "\n",
    "\n",
    "# embed the question into a sequence of vectors\n",
    "# output: (samples, query_maxlen, embedding_dim)\n",
    "question_encoder = Sequential()\n",
    "question_encoder.add(Embedding(input_dim=vocab_size,\n",
    "                               output_dim=64,\n",
    "                               input_length=query_maxlen))\n",
    "question_encoder.add(Dropout(0.3))\n",
    "\n",
    "# compute a 'match' between input sequence elements (which are vectors)\n",
    "# and the question vector sequence\n",
    "\n",
    "# output: (samples, story_maxlen, query_maxlen)\n",
    "match = Sequential()\n",
    "match.add(Merge([input_encoder_m, question_encoder],\n",
    "                mode='dot',\n",
    "                dot_axes=[2, 2]))\n",
    "match.add(Activation('softmax'))\n",
    "\n",
    "# embed the input into a single vector with size = story_maxlen:\n",
    "# output: (samples, story_maxlen, query_maxlen)\n",
    "input_encoder_c = Sequential()\n",
    "input_encoder_c.add(Embedding(input_dim=vocab_size,\n",
    "                              output_dim=query_maxlen,\n",
    "                              input_length=story_maxlen))\n",
    "input_encoder_c.add(Dropout(0.3))\n",
    "\n",
    "\n",
    "# sum the match vector with the input vector:\n",
    "# output: (samples, story_maxlen, query_maxlen)\n",
    "response = Sequential()\n",
    "response.add(Merge([match, input_encoder_c], mode='sum'))\n",
    "\n",
    "response.add(Permute((2, 1)))  # output: (samples, query_maxlen, story_maxlen)\n",
    "\n",
    "# concatenate the match vector with the question vector,\n",
    "# and do logistic regression on top\n",
    "answer = Sequential()\n",
    "answer.add(Merge([response, question_encoder], mode='concat', concat_axis=-1))\n",
    "\n",
    "\n",
    "# the original paper uses a matrix multiplication for this reduction step.\n",
    "# we choose to use a RNN instead.\n",
    "answer.add(LSTM(32))\n",
    "# one regularization layer -- more would probably be needed.\n",
    "answer.add(Dropout(0.3))\n",
    "answer.add(Dense(vocab_size))\n",
    "# we output a probability distribution over the vocabulary\n",
    "answer.add(Activation('softmax'))\n",
    "\n"
   ]
  },
  {
   "cell_type": "code",
   "execution_count": 11,
   "metadata": {
    "collapsed": false
   },
   "outputs": [
    {
     "name": "stdout",
     "output_type": "stream",
     "text": [
      "Train on 10000 samples, validate on 1000 samples\n",
      "Epoch 1/60\n",
      "10000/10000 [==============================] - 9s - loss: 1.9800 - acc: 0.1648 - val_loss: 1.7858 - val_acc: 0.1870\n",
      "Epoch 2/60\n",
      "10000/10000 [==============================] - 10s - loss: 1.6703 - acc: 0.3071 - val_loss: 1.3660 - val_acc: 0.6400\n",
      "Epoch 3/60\n",
      "10000/10000 [==============================] - 12s - loss: 1.3734 - acc: 0.5131 - val_loss: 1.1459 - val_acc: 0.6440\n",
      "Epoch 4/60\n",
      "10000/10000 [==============================] - 8s - loss: 1.2399 - acc: 0.5798 - val_loss: 1.0659 - val_acc: 0.6630\n",
      "Epoch 5/60\n",
      "10000/10000 [==============================] - 9s - loss: 1.1430 - acc: 0.6255 - val_loss: 0.9758 - val_acc: 0.7010\n",
      "Epoch 6/60\n",
      "10000/10000 [==============================] - 12s - loss: 1.0892 - acc: 0.6465 - val_loss: 0.9468 - val_acc: 0.7160\n",
      "Epoch 7/60\n",
      "10000/10000 [==============================] - 10s - loss: 1.0303 - acc: 0.6585 - val_loss: 0.8600 - val_acc: 0.7440\n",
      "Epoch 8/60\n",
      "10000/10000 [==============================] - 7s - loss: 0.9964 - acc: 0.6704 - val_loss: 0.8282 - val_acc: 0.7400\n",
      "Epoch 9/60\n",
      "10000/10000 [==============================] - 11s - loss: 0.9616 - acc: 0.6748 - val_loss: 0.8033 - val_acc: 0.7360\n",
      "Epoch 10/60\n",
      "10000/10000 [==============================] - 11s - loss: 0.9398 - acc: 0.6762 - val_loss: 0.8114 - val_acc: 0.7220\n",
      "Epoch 11/60\n",
      "10000/10000 [==============================] - 11s - loss: 0.9218 - acc: 0.6772 - val_loss: 0.7653 - val_acc: 0.7430\n",
      "Epoch 12/60\n",
      "10000/10000 [==============================] - 11s - loss: 0.9055 - acc: 0.6805 - val_loss: 0.7592 - val_acc: 0.7290\n",
      "Epoch 13/60\n",
      "10000/10000 [==============================] - 11s - loss: 0.8898 - acc: 0.6778 - val_loss: 0.7490 - val_acc: 0.7430\n",
      "Epoch 14/60\n",
      "10000/10000 [==============================] - 11s - loss: 0.8702 - acc: 0.6852 - val_loss: 0.7216 - val_acc: 0.7410\n",
      "Epoch 15/60\n",
      "10000/10000 [==============================] - 11s - loss: 0.8596 - acc: 0.6851 - val_loss: 0.7111 - val_acc: 0.7420\n",
      "Epoch 16/60\n",
      "10000/10000 [==============================] - 11s - loss: 0.8441 - acc: 0.6826 - val_loss: 0.7355 - val_acc: 0.7170\n",
      "Epoch 17/60\n",
      "10000/10000 [==============================] - 11s - loss: 0.8300 - acc: 0.6833 - val_loss: 0.7051 - val_acc: 0.7430\n",
      "Epoch 18/60\n",
      "10000/10000 [==============================] - 11s - loss: 0.8188 - acc: 0.6841 - val_loss: 0.6981 - val_acc: 0.7370\n",
      "Epoch 19/60\n",
      "10000/10000 [==============================] - 11s - loss: 0.7982 - acc: 0.6874 - val_loss: 0.6960 - val_acc: 0.7190\n",
      "Epoch 20/60\n",
      "10000/10000 [==============================] - 11s - loss: 0.7944 - acc: 0.6877 - val_loss: 0.6924 - val_acc: 0.7060\n",
      "Epoch 21/60\n",
      "10000/10000 [==============================] - 9s - loss: 0.7833 - acc: 0.6921 - val_loss: 0.6708 - val_acc: 0.7270\n",
      "Epoch 22/60\n",
      "10000/10000 [==============================] - 10s - loss: 0.7670 - acc: 0.6931 - val_loss: 0.6728 - val_acc: 0.7260\n",
      "Epoch 23/60\n",
      "10000/10000 [==============================] - 11s - loss: 0.7645 - acc: 0.6941 - val_loss: 0.6647 - val_acc: 0.7350\n",
      "Epoch 24/60\n",
      "10000/10000 [==============================] - 11s - loss: 0.7562 - acc: 0.6930 - val_loss: 0.6685 - val_acc: 0.7230\n",
      "Epoch 25/60\n",
      "10000/10000 [==============================] - 8s - loss: 0.7506 - acc: 0.6984 - val_loss: 0.6663 - val_acc: 0.7330\n",
      "Epoch 26/60\n",
      "10000/10000 [==============================] - 10s - loss: 0.7434 - acc: 0.7007 - val_loss: 0.6648 - val_acc: 0.7290\n",
      "Epoch 27/60\n",
      "10000/10000 [==============================] - 11s - loss: 0.7446 - acc: 0.6986 - val_loss: 0.6655 - val_acc: 0.7360\n",
      "Epoch 28/60\n",
      "10000/10000 [==============================] - 8s - loss: 0.7318 - acc: 0.6982 - val_loss: 0.6570 - val_acc: 0.7480\n",
      "Epoch 29/60\n",
      "10000/10000 [==============================] - 8s - loss: 0.7292 - acc: 0.7045 - val_loss: 0.6510 - val_acc: 0.7370\n",
      "Epoch 30/60\n",
      "10000/10000 [==============================] - 11s - loss: 0.7305 - acc: 0.6992 - val_loss: 0.6459 - val_acc: 0.7380\n",
      "Epoch 31/60\n",
      "10000/10000 [==============================] - 9s - loss: 0.7094 - acc: 0.7048 - val_loss: 0.6455 - val_acc: 0.7340\n",
      "Epoch 32/60\n",
      "10000/10000 [==============================] - 6s - loss: 0.7141 - acc: 0.6988 - val_loss: 0.6523 - val_acc: 0.7390\n",
      "Epoch 33/60\n",
      "10000/10000 [==============================] - 9s - loss: 0.7067 - acc: 0.7086 - val_loss: 0.6572 - val_acc: 0.7170\n",
      "Epoch 34/60\n",
      "10000/10000 [==============================] - 11s - loss: 0.7085 - acc: 0.7019 - val_loss: 0.6499 - val_acc: 0.7300\n",
      "Epoch 35/60\n",
      "10000/10000 [==============================] - 11s - loss: 0.6998 - acc: 0.7060 - val_loss: 0.6620 - val_acc: 0.7390\n",
      "Epoch 36/60\n",
      "10000/10000 [==============================] - 11s - loss: 0.6895 - acc: 0.7107 - val_loss: 0.6460 - val_acc: 0.7440\n",
      "Epoch 37/60\n",
      "10000/10000 [==============================] - 11s - loss: 0.6933 - acc: 0.7063 - val_loss: 0.6572 - val_acc: 0.7220\n",
      "Epoch 38/60\n",
      "10000/10000 [==============================] - 10s - loss: 0.6876 - acc: 0.7148 - val_loss: 0.6548 - val_acc: 0.7130\n",
      "Epoch 39/60\n",
      "10000/10000 [==============================] - 11s - loss: 0.6670 - acc: 0.7225 - val_loss: 0.6499 - val_acc: 0.7290\n",
      "Epoch 40/60\n",
      "10000/10000 [==============================] - 11s - loss: 0.6644 - acc: 0.7273 - val_loss: 0.6553 - val_acc: 0.7270\n",
      "Epoch 41/60\n",
      "10000/10000 [==============================] - 11s - loss: 0.6488 - acc: 0.7366 - val_loss: 0.6957 - val_acc: 0.7190\n",
      "Epoch 42/60\n",
      "10000/10000 [==============================] - 11s - loss: 0.6408 - acc: 0.7450 - val_loss: 0.5925 - val_acc: 0.7850\n",
      "Epoch 43/60\n",
      "10000/10000 [==============================] - 11s - loss: 0.6275 - acc: 0.7591 - val_loss: 0.5779 - val_acc: 0.7980\n",
      "Epoch 44/60\n",
      "10000/10000 [==============================] - 11s - loss: 0.6098 - acc: 0.7657 - val_loss: 0.5685 - val_acc: 0.7920\n",
      "Epoch 45/60\n",
      "10000/10000 [==============================] - 11s - loss: 0.6012 - acc: 0.7745 - val_loss: 0.5570 - val_acc: 0.8020\n",
      "Epoch 46/60\n",
      "10000/10000 [==============================] - 11s - loss: 0.5899 - acc: 0.7756 - val_loss: 0.5432 - val_acc: 0.8210\n",
      "Epoch 47/60\n",
      "10000/10000 [==============================] - 10s - loss: 0.5752 - acc: 0.7916 - val_loss: 0.5328 - val_acc: 0.8210\n",
      "Epoch 48/60\n",
      "10000/10000 [==============================] - 7s - loss: 0.5681 - acc: 0.7932 - val_loss: 0.5398 - val_acc: 0.8280\n",
      "Epoch 49/60\n",
      "10000/10000 [==============================] - 10s - loss: 0.5464 - acc: 0.7978 - val_loss: 0.5254 - val_acc: 0.8410\n",
      "Epoch 50/60\n",
      "10000/10000 [==============================] - 9s - loss: 0.5381 - acc: 0.8052 - val_loss: 0.5051 - val_acc: 0.8520\n",
      "Epoch 51/60\n",
      "10000/10000 [==============================] - 10s - loss: 0.5353 - acc: 0.8141 - val_loss: 0.4977 - val_acc: 0.8550\n",
      "Epoch 52/60\n",
      "10000/10000 [==============================] - 11s - loss: 0.5138 - acc: 0.8210 - val_loss: 0.4875 - val_acc: 0.8630\n",
      "Epoch 53/60\n",
      "10000/10000 [==============================] - 8s - loss: 0.4956 - acc: 0.8278 - val_loss: 0.4516 - val_acc: 0.8690\n",
      "Epoch 54/60\n",
      "10000/10000 [==============================] - 11s - loss: 0.4757 - acc: 0.8412 - val_loss: 0.4270 - val_acc: 0.8840\n",
      "Epoch 55/60\n",
      "10000/10000 [==============================] - 11s - loss: 0.4427 - acc: 0.8541 - val_loss: 0.3948 - val_acc: 0.8910\n",
      "Epoch 56/60\n",
      "10000/10000 [==============================] - 7s - loss: 0.4113 - acc: 0.8696 - val_loss: 0.3638 - val_acc: 0.9050\n",
      "Epoch 57/60\n",
      "10000/10000 [==============================] - 9s - loss: 0.3745 - acc: 0.8825 - val_loss: 0.3219 - val_acc: 0.9220\n",
      "Epoch 58/60\n",
      "10000/10000 [==============================] - 11s - loss: 0.3288 - acc: 0.9035 - val_loss: 0.3074 - val_acc: 0.9230\n",
      "Epoch 59/60\n",
      "10000/10000 [==============================] - 8s - loss: 0.2877 - acc: 0.9176 - val_loss: 0.2654 - val_acc: 0.9300\n",
      "Epoch 60/60\n",
      "10000/10000 [==============================] - 7s - loss: 0.2709 - acc: 0.9230 - val_loss: 0.2470 - val_acc: 0.9390\n"
     ]
    },
    {
     "data": {
      "text/plain": [
       "<keras.callbacks.History at 0x7efe57287d10>"
      ]
     },
     "execution_count": 11,
     "metadata": {},
     "output_type": "execute_result"
    }
   ],
   "source": [
    "answer.compile(optimizer='rmsprop', loss='categorical_crossentropy',\n",
    "               metrics=['accuracy'])\n",
    "# Note: you could use a Graph model to avoid repeat the input twice\n",
    "answer.fit([inputs_train, queries_train, inputs_train], answers_train,\n",
    "           batch_size=32,\n",
    "           nb_epoch=60,\n",
    "           validation_data=([inputs_test, queries_test, inputs_test], answers_test))"
   ]
  },
  {
   "cell_type": "markdown",
   "metadata": {},
   "source": [
    "### Making predictions based on the fitted model"
   ]
  },
  {
   "cell_type": "code",
   "execution_count": 12,
   "metadata": {
    "collapsed": false
   },
   "outputs": [
    {
     "name": "stdout",
     "output_type": "stream",
     "text": [
      "1000/1000 [==============================] - 0s     \n"
     ]
    }
   ],
   "source": [
    "predictions=answer.predict_classes([inputs_test, queries_test, inputs_test], batch_size=32)"
   ]
  },
  {
   "cell_type": "markdown",
   "metadata": {},
   "source": [
    "### Example story and model prediction"
   ]
  },
  {
   "cell_type": "code",
   "execution_count": 13,
   "metadata": {
    "collapsed": false,
    "scrolled": true
   },
   "outputs": [],
   "source": [
    "def pred_evaluation(ind):\n",
    "    \n",
    "    print (\"The story is -: \")\n",
    "    facts = test_stories[ind]\n",
    "    print(' '.join(facts[0]))\n",
    "    print('\\n')\n",
    "    \n",
    "    print (\"The query is -:\")\n",
    "    print(' '.join(facts[1]))\n",
    "\n",
    "    print (\"\\nThe predicted answer is -:\")\n",
    "    ans = predictions[ind]\n",
    "    for key, value in (word_idx).items():\n",
    "        if value == ans:\n",
    "            print(key)\n",
    "            print('\\n')\n",
    "            \n"
   ]
  },
  {
   "cell_type": "code",
   "execution_count": 14,
   "metadata": {
    "collapsed": false
   },
   "outputs": [
    {
     "name": "stdout",
     "output_type": "stream",
     "text": [
      "The story is -: \n",
      "John journeyed to the hallway . After that he journeyed to the garden . John moved to the office . Following that he went to the hallway .\n",
      "\n",
      "\n",
      "The query is -:\n",
      "Where is John ?\n",
      "\n",
      "The predicted answer is -:\n",
      "hallway\n",
      "\n",
      "\n"
     ]
    }
   ],
   "source": [
    "pred_evaluation(1)\n"
   ]
  },
  {
   "cell_type": "code",
   "execution_count": 15,
   "metadata": {
    "collapsed": false
   },
   "outputs": [
    {
     "name": "stdout",
     "output_type": "stream",
     "text": [
      "The story is -: \n",
      "Sandra journeyed to the hallway . Then she journeyed to the kitchen .\n",
      "\n",
      "\n",
      "The query is -:\n",
      "Where is Sandra ?\n",
      "\n",
      "The predicted answer is -:\n",
      "kitchen\n",
      "\n",
      "\n"
     ]
    }
   ],
   "source": [
    "pred_evaluation(20)\n"
   ]
  },
  {
   "cell_type": "code",
   "execution_count": 16,
   "metadata": {
    "collapsed": false
   },
   "outputs": [
    {
     "name": "stdout",
     "output_type": "stream",
     "text": [
      "The story is -: \n",
      "John moved to the office . Following that he journeyed to the bathroom .\n",
      "\n",
      "\n",
      "The query is -:\n",
      "Where is John ?\n",
      "\n",
      "The predicted answer is -:\n",
      "bathroom\n",
      "\n",
      "\n"
     ]
    }
   ],
   "source": [
    "pred_evaluation(540)"
   ]
  }
 ],
 "metadata": {
  "kernelspec": {
   "display_name": "Python 2",
   "language": "python",
   "name": "python2"
  },
  "language_info": {
   "codemirror_mode": {
    "name": "ipython",
    "version": 2
   },
   "file_extension": ".py",
   "mimetype": "text/x-python",
   "name": "python",
   "nbconvert_exporter": "python",
   "pygments_lexer": "ipython2",
   "version": "2.7.9"
  }
 },
 "nbformat": 4,
 "nbformat_minor": 1
}
