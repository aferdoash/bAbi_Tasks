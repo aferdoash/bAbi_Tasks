{
 "cells": [
  {
   "cell_type": "markdown",
   "metadata": {},
   "source": [
    "### QA Type 4 : Two Argument Relations\n",
    "\n",
    "To answer questions, the ability to differentiate and recognize subjects and objects is crucial. In task 4, extreme cases are considered where sentences feature reordered words, i.e. a bag-of-words will not work. For example, the questions “What is north of the bedroom?” and “What is the bedroom north of?” have exactly the same words, but a different order, with different answers. \n",
    "\n",
    "For training and testing we have used the 10k dataset, containing 10,000 training examples.\n",
    "An example QA set is as below -:\n",
    "\n",
    "1. The office is north of the kitchen.\n",
    "2. The garden is south of the kitchen.\n",
    "3. What is north of the kitchen?\toffice\t"
   ]
  },
  {
   "cell_type": "code",
   "execution_count": 33,
   "metadata": {
    "collapsed": false
   },
   "outputs": [],
   "source": [
    "from __future__ import print_function\n",
    "from keras.models import Sequential\n",
    "from keras.layers.embeddings import Embedding\n",
    "from keras.layers import Activation, Dense, Merge, Permute, Dropout\n",
    "from keras.layers import LSTM\n",
    "from keras.utils.data_utils import get_file\n",
    "from keras.preprocessing.sequence import pad_sequences\n",
    "from functools import reduce\n",
    "import tarfile\n",
    "import numpy as np\n",
    "import re"
   ]
  },
  {
   "cell_type": "markdown",
   "metadata": {},
   "source": [
    "### Story processing\n",
    "\n",
    "Each story is processed to reduce sentences to tokens and combine all facts and queries relevant to the story. "
   ]
  },
  {
   "cell_type": "code",
   "execution_count": 34,
   "metadata": {
    "collapsed": false
   },
   "outputs": [],
   "source": [
    "def tokenize(sent):\n",
    "    '''Return the tokens of a sentence including punctuation.\n",
    "    >>> tokenize('Bob dropped the apple. Where is the apple?')\n",
    "    ['Bob', 'dropped', 'the', 'apple', '.', 'Where', 'is', 'the', 'apple', '?']\n",
    "    '''\n",
    "    return [x.strip() for x in re.split('(\\W+)?', sent) if x.strip()]\n"
   ]
  },
  {
   "cell_type": "code",
   "execution_count": 35,
   "metadata": {
    "collapsed": true
   },
   "outputs": [],
   "source": [
    "def parse_stories(lines, only_supporting=False):\n",
    "    '''Parse stories provided in the bAbi tasks format\n",
    "    If only_supporting is true, only the sentences that support the answer are kept.\n",
    "    '''\n",
    "    data = []\n",
    "    story = []\n",
    "    for line in lines:\n",
    "        line = line.decode('utf-8').strip()\n",
    "        nid, line = line.split(' ', 1)\n",
    "        nid = int(nid)\n",
    "        if nid == 1:\n",
    "            story = []\n",
    "        if '\\t' in line:\n",
    "            q, a, supporting = line.split('\\t')\n",
    "            q = tokenize(q)\n",
    "            substory = None\n",
    "            if only_supporting:\n",
    "                # Only select the related substory\n",
    "                supporting = map(int, supporting.split())\n",
    "                substory = [story[i - 1] for i in supporting]\n",
    "            else:\n",
    "                # Provide all the substories\n",
    "                substory = [x for x in story if x]\n",
    "            data.append((substory, q, a))\n",
    "            story.append('')\n",
    "        else:\n",
    "            sent = tokenize(line)\n",
    "            story.append(sent)\n",
    "    return data"
   ]
  },
  {
   "cell_type": "code",
   "execution_count": 36,
   "metadata": {
    "collapsed": true
   },
   "outputs": [],
   "source": [
    "\n",
    "def get_stories(f, only_supporting=False, max_length=None):\n",
    "    '''Given a file name, read the file, retrieve the stories, and then convert the sentences into a single story.\n",
    "    If max_length is supplied, any stories longer than max_length tokens will be discarded.\n",
    "    '''\n",
    "    data = parse_stories(f.readlines(), only_supporting=only_supporting)\n",
    "    flatten = lambda data: reduce(lambda x, y: x + y, data)\n",
    "    data = [(flatten(story), q, answer) for story, q, answer in data if not max_length or len(flatten(story)) < max_length]\n",
    "    return data\n"
   ]
  },
  {
   "cell_type": "code",
   "execution_count": 37,
   "metadata": {
    "collapsed": true
   },
   "outputs": [],
   "source": [
    "def vectorize_stories(data, word_idx, story_maxlen, query_maxlen):\n",
    "    X = []\n",
    "    Xq = []\n",
    "    Y = []\n",
    "    for story, query, answer in data:\n",
    "        x = [word_idx[w] for w in story]\n",
    "        xq = [word_idx[w] for w in query]\n",
    "        y = np.zeros(len(word_idx) + 1)  # let's not forget that index 0 is reserved\n",
    "        y[word_idx[answer]] = 1\n",
    "        X.append(x)\n",
    "        Xq.append(xq)\n",
    "        Y.append(y)\n",
    "    return (pad_sequences(X, maxlen=story_maxlen),\n",
    "            pad_sequences(Xq, maxlen=query_maxlen), np.array(Y))"
   ]
  },
  {
   "cell_type": "code",
   "execution_count": 38,
   "metadata": {
    "collapsed": false
   },
   "outputs": [],
   "source": [
    "try:\n",
    "    path = get_file('babi-tasks-v1-2.tar.gz', origin='https://s3.amazonaws.com/text-datasets/babi_tasks_1-20_v1-2.tar.gz')\n",
    "except:\n",
    "    print('Error downloading dataset, please download it manually:\\n'\n",
    "          '$ wget http://www.thespermwhale.com/jaseweston/babi/tasks_1-20_v1-2.tar.gz\\n'\n",
    "          '$ mv tasks_1-20_v1-2.tar.gz ~/.keras/datasets/babi-tasks-v1-2.tar.gz')\n",
    "    raise\n",
    "tar = tarfile.open(path)"
   ]
  },
  {
   "cell_type": "markdown",
   "metadata": {},
   "source": [
    "### Training Set\n",
    "\n",
    "Here the selection of 'Question' type (single supporting fact, three supporting facts etc.) is made for generating the training and test set. "
   ]
  },
  {
   "cell_type": "code",
   "execution_count": 39,
   "metadata": {
    "collapsed": false
   },
   "outputs": [
    {
     "name": "stdout",
     "output_type": "stream",
     "text": [
      "Extracting stories for the challenge: two-arg-relations_10k\n"
     ]
    }
   ],
   "source": [
    "challenges = {\n",
    "    # QA1 with 10,000 samples\n",
    "    'single_supporting_fact_10k': 'tasks_1-20_v1-2/en-10k/qa1_single-supporting-fact_{}.txt',\n",
    "    # QA2 with 10,000 samples\n",
    "    'two_supporting_facts_10k': 'tasks_1-20_v1-2/en-10k/qa2_two-supporting-facts_{}.txt',\n",
    "    'two-arg-relations_10k' : 'tasks_1-20_v1-2/en-10k/qa4_two-arg-relations_{}.txt'\n",
    "}\n",
    "challenge_type = 'two-arg-relations_10k'\n",
    "challenge = challenges[challenge_type]\n",
    "\n",
    "print('Extracting stories for the challenge:', challenge_type)\n",
    "train_stories = get_stories(tar.extractfile(challenge.format('train')))\n",
    "test_stories = get_stories(tar.extractfile(challenge.format('test')))\n"
   ]
  },
  {
   "cell_type": "code",
   "execution_count": 40,
   "metadata": {
    "collapsed": false
   },
   "outputs": [
    {
     "name": "stdout",
     "output_type": "stream",
     "text": [
      "Vocab size: 18 unique words\n",
      "Story max length: 16 words\n",
      "Query max length: 7 words\n",
      "Number of training stories: 10000\n",
      "Number of test stories: 1000\n",
      "\n",
      "\n",
      "Here's what a \"story\" tuple looks like (input, query, answer):\n",
      "([u'The', u'office', u'is', u'north', u'of', u'the', u'kitchen', u'.', u'The', u'garden', u'is', u'south', u'of', u'the', u'kitchen', u'.'], [u'What', u'is', u'north', u'of', u'the', u'kitchen', u'?'], u'office')\n"
     ]
    }
   ],
   "source": [
    "vocab = sorted(reduce(lambda x, y: x | y, (set(story + q + [answer]) for story, q, answer in train_stories + test_stories)))\n",
    "# Reserve 0 for masking via pad_sequences\n",
    "vocab_size = len(vocab) + 1\n",
    "story_maxlen = max(map(len, (x for x, _, _ in train_stories + test_stories)))\n",
    "query_maxlen = max(map(len, (x for _, x, _ in train_stories + test_stories)))\n",
    "\n",
    "print('Vocab size:', vocab_size, 'unique words')\n",
    "print('Story max length:', story_maxlen, 'words')\n",
    "print('Query max length:', query_maxlen, 'words')\n",
    "print('Number of training stories:', len(train_stories))\n",
    "print('Number of test stories:', len(test_stories))\n",
    "print('\\n')\n",
    "print('Here\\'s what a \"story\" tuple looks like (input, query, answer):')\n",
    "print(train_stories[0])"
   ]
  },
  {
   "cell_type": "markdown",
   "metadata": {},
   "source": [
    "### Vectorizing the word sequences\n",
    "\n",
    "Here we convert the word tokens to word vectors. We know the total number of unique words in the corpus, that is the size of the vocabulary. Thus, to each word in the corpus we assign a number. We also know the maximum length of a story, story_maxlen (story includes facts, query and answer). Thus, for each story we can construct a word vector of length story_maxlen. For eg. suppose, story_maxlen is 68 and the current story length is 24, then we can have a word vector with the first 34 indices as 0 and the next 24 indices with vocabulary index values of words in the current story"
   ]
  },
  {
   "cell_type": "code",
   "execution_count": 41,
   "metadata": {
    "collapsed": false
   },
   "outputs": [
    {
     "name": "stdout",
     "output_type": "stream",
     "text": [
      "inputs: integer tensor of shape (samples, max_length)\n",
      "inputs_train shape: (10000, 16)\n",
      "inputs_test shape: (1000, 16)\n",
      "\n",
      "\n",
      "queries: integer tensor of shape (samples, max_length)\n",
      "queries_train shape: (10000, 7)\n",
      "queries_test shape: (1000, 7)\n",
      "\n",
      "\n",
      "answers: binary (1 or 0) tensor of shape (samples, vocab_size)\n",
      "answers_train shape: (10000, 18)\n",
      "answers_test shape: (1000, 18)\n",
      "\n",
      "\n"
     ]
    }
   ],
   "source": [
    "word_idx = dict((c, i + 1) for i, c in enumerate(vocab))\n",
    "inputs_train, queries_train, answers_train = vectorize_stories(train_stories, word_idx, story_maxlen, query_maxlen)\n",
    "inputs_test, queries_test, answers_test = vectorize_stories(test_stories, word_idx, story_maxlen, query_maxlen)\n",
    "\n",
    "\n",
    "print('inputs: integer tensor of shape (samples, max_length)')\n",
    "print('inputs_train shape:', inputs_train.shape)\n",
    "print('inputs_test shape:', inputs_test.shape)\n",
    "print('\\n')\n",
    "print('queries: integer tensor of shape (samples, max_length)')\n",
    "print('queries_train shape:', queries_train.shape)\n",
    "print('queries_test shape:', queries_test.shape)\n",
    "print('\\n')\n",
    "print('answers: binary (1 or 0) tensor of shape (samples, vocab_size)')\n",
    "print('answers_train shape:', answers_train.shape)\n",
    "print('answers_test shape:', answers_test.shape)\n",
    "print('\\n')\n"
   ]
  },
  {
   "cell_type": "markdown",
   "metadata": {},
   "source": [
    "### End-to-End Memory Networks\n",
    "\n",
    "The model employed is the End-to-End Memory Networks described in Sukhbaatar et. al. (2015). The architecture is a modified form of Memory Network (Weston, 2014).Weston's Memory Network was not easy to train via backpropagation and required supervision at each layer.\n",
    "\n",
    "\n",
    "Briefly, the model takes a discrete set of inputs x1, x2, ...xn that are to be stored in memory, a query q, and an answer a. The model writes all x to the memory up to a fixed buffer size, and then finds a continuous representation for x and q. The continuous representation is then processed via multiple hops to output a. \n"
   ]
  },
  {
   "cell_type": "code",
   "execution_count": 42,
   "metadata": {
    "collapsed": false
   },
   "outputs": [],
   "source": [
    "# embed the input sequence into a sequence of vectors\n",
    "# output: (samples, story_maxlen, embedding_dim)\n",
    "input_encoder_m = Sequential()\n",
    "input_encoder_m.add(Embedding(input_dim=vocab_size,\n",
    "                              output_dim=64,\n",
    "                              input_length=story_maxlen))\n",
    "input_encoder_m.add(Dropout(0.3))\n",
    "\n",
    "\n",
    "# embed the question into a sequence of vectors\n",
    "# output: (samples, query_maxlen, embedding_dim)\n",
    "question_encoder = Sequential()\n",
    "question_encoder.add(Embedding(input_dim=vocab_size,\n",
    "                               output_dim=64,\n",
    "                               input_length=query_maxlen))\n",
    "question_encoder.add(Dropout(0.3))\n",
    "\n",
    "# compute a 'match' between input sequence elements (which are vectors)\n",
    "# and the question vector sequence\n",
    "\n",
    "# output: (samples, story_maxlen, query_maxlen)\n",
    "match = Sequential()\n",
    "match.add(Merge([input_encoder_m, question_encoder],\n",
    "                mode='dot',\n",
    "                dot_axes=[2, 2]))\n",
    "match.add(Activation('softmax'))\n",
    "\n",
    "# embed the input into a single vector with size = story_maxlen:\n",
    "# output: (samples, story_maxlen, query_maxlen)\n",
    "input_encoder_c = Sequential()\n",
    "input_encoder_c.add(Embedding(input_dim=vocab_size,\n",
    "                              output_dim=query_maxlen,\n",
    "                              input_length=story_maxlen))\n",
    "input_encoder_c.add(Dropout(0.3))\n",
    "\n",
    "\n",
    "# sum the match vector with the input vector:\n",
    "# output: (samples, story_maxlen, query_maxlen)\n",
    "response = Sequential()\n",
    "response.add(Merge([match, input_encoder_c], mode='sum'))\n",
    "\n",
    "response.add(Permute((2, 1)))  # output: (samples, query_maxlen, story_maxlen)\n",
    "\n",
    "# concatenate the match vector with the question vector,\n",
    "# and do logistic regression on top\n",
    "answer = Sequential()\n",
    "answer.add(Merge([response, question_encoder], mode='concat', concat_axis=-1))\n",
    "\n",
    "\n",
    "# the original paper uses a matrix multiplication for this reduction step.\n",
    "# we choose to use a RNN instead.\n",
    "answer.add(LSTM(32))\n",
    "# one regularization layer -- more would probably be needed.\n",
    "answer.add(Dropout(0.3))\n",
    "answer.add(Dense(vocab_size))\n",
    "# we output a probability distribution over the vocabulary\n",
    "answer.add(Activation('softmax'))\n",
    "\n"
   ]
  },
  {
   "cell_type": "code",
   "execution_count": 43,
   "metadata": {
    "collapsed": false
   },
   "outputs": [
    {
     "name": "stdout",
     "output_type": "stream",
     "text": [
      "Train on 10000 samples, validate on 1000 samples\n",
      "Epoch 1/60\n",
      "10000/10000 [==============================] - 15s - loss: 1.8390 - acc: 0.2202 - val_loss: 1.4933 - val_acc: 0.4420\n",
      "Epoch 2/60\n",
      "10000/10000 [==============================] - 19s - loss: 1.4237 - acc: 0.4276 - val_loss: 1.1758 - val_acc: 0.5770\n",
      "Epoch 3/60\n",
      "10000/10000 [==============================] - 19s - loss: 1.2240 - acc: 0.5193 - val_loss: 1.0232 - val_acc: 0.6230\n",
      "Epoch 4/60\n",
      "10000/10000 [==============================] - 20s - loss: 1.1084 - acc: 0.5571 - val_loss: 0.8793 - val_acc: 0.6280\n",
      "Epoch 5/60\n",
      "10000/10000 [==============================] - 19s - loss: 0.9984 - acc: 0.5906 - val_loss: 0.7612 - val_acc: 0.6450\n",
      "Epoch 6/60\n",
      "10000/10000 [==============================] - 20s - loss: 0.9307 - acc: 0.6119 - val_loss: 0.7241 - val_acc: 0.6830\n",
      "Epoch 7/60\n",
      "10000/10000 [==============================] - 20s - loss: 0.8902 - acc: 0.6306 - val_loss: 0.6605 - val_acc: 0.7170\n",
      "Epoch 8/60\n",
      "10000/10000 [==============================] - 20s - loss: 0.8317 - acc: 0.6504 - val_loss: 0.5813 - val_acc: 0.7390\n",
      "Epoch 9/60\n",
      "10000/10000 [==============================] - 17s - loss: 0.7722 - acc: 0.6711 - val_loss: 0.5533 - val_acc: 0.7290\n",
      "Epoch 10/60\n",
      "10000/10000 [==============================] - 17s - loss: 0.7413 - acc: 0.6798 - val_loss: 0.5354 - val_acc: 0.7430\n",
      "Epoch 11/60\n",
      "10000/10000 [==============================] - 18s - loss: 0.6938 - acc: 0.7014 - val_loss: 0.5009 - val_acc: 0.7510\n",
      "Epoch 12/60\n",
      "10000/10000 [==============================] - 18s - loss: 0.6835 - acc: 0.7047 - val_loss: 0.4809 - val_acc: 0.7650\n",
      "Epoch 13/60\n",
      "10000/10000 [==============================] - 15s - loss: 0.6499 - acc: 0.7123 - val_loss: 0.4712 - val_acc: 0.7530\n",
      "Epoch 14/60\n",
      "10000/10000 [==============================] - 19s - loss: 0.6310 - acc: 0.7219 - val_loss: 0.4624 - val_acc: 0.7460\n",
      "Epoch 15/60\n",
      "10000/10000 [==============================] - 14s - loss: 0.6196 - acc: 0.7232 - val_loss: 0.4560 - val_acc: 0.7730\n",
      "Epoch 16/60\n",
      "10000/10000 [==============================] - 20s - loss: 0.6120 - acc: 0.7228 - val_loss: 0.4511 - val_acc: 0.7650\n",
      "Epoch 17/60\n",
      "10000/10000 [==============================] - 13s - loss: 0.6000 - acc: 0.7305 - val_loss: 0.4303 - val_acc: 0.7560\n",
      "Epoch 18/60\n",
      "10000/10000 [==============================] - 18s - loss: 0.5905 - acc: 0.7360 - val_loss: 0.4564 - val_acc: 0.7570\n",
      "Epoch 19/60\n",
      "10000/10000 [==============================] - 20s - loss: 0.5749 - acc: 0.7363 - val_loss: 0.4235 - val_acc: 0.7630\n",
      "Epoch 20/60\n",
      "10000/10000 [==============================] - 19s - loss: 0.5518 - acc: 0.7468 - val_loss: 0.4237 - val_acc: 0.7600\n",
      "Epoch 21/60\n",
      "10000/10000 [==============================] - 19s - loss: 0.5535 - acc: 0.7454 - val_loss: 0.4319 - val_acc: 0.7570\n",
      "Epoch 22/60\n",
      "10000/10000 [==============================] - 20s - loss: 0.5496 - acc: 0.7541 - val_loss: 0.4160 - val_acc: 0.7610\n",
      "Epoch 23/60\n",
      "10000/10000 [==============================] - 19s - loss: 0.5382 - acc: 0.7502 - val_loss: 0.4137 - val_acc: 0.7600\n",
      "Epoch 24/60\n",
      "10000/10000 [==============================] - 19s - loss: 0.5369 - acc: 0.7428 - val_loss: 0.4065 - val_acc: 0.7680\n",
      "Epoch 25/60\n",
      "10000/10000 [==============================] - 18s - loss: 0.5304 - acc: 0.7471 - val_loss: 0.4239 - val_acc: 0.7560\n",
      "Epoch 26/60\n",
      "10000/10000 [==============================] - 19s - loss: 0.5300 - acc: 0.7467 - val_loss: 0.4169 - val_acc: 0.7690\n",
      "Epoch 27/60\n",
      "10000/10000 [==============================] - 17s - loss: 0.5067 - acc: 0.7575 - val_loss: 0.3898 - val_acc: 0.7780\n",
      "Epoch 28/60\n",
      "10000/10000 [==============================] - 19s - loss: 0.5075 - acc: 0.7564 - val_loss: 0.4170 - val_acc: 0.7730\n",
      "Epoch 29/60\n",
      "10000/10000 [==============================] - 15s - loss: 0.4927 - acc: 0.7568 - val_loss: 0.3877 - val_acc: 0.7810\n",
      "Epoch 30/60\n",
      "10000/10000 [==============================] - 19s - loss: 0.4859 - acc: 0.7613 - val_loss: 0.3824 - val_acc: 0.7880\n",
      "Epoch 31/60\n",
      "10000/10000 [==============================] - 14s - loss: 0.4847 - acc: 0.7613 - val_loss: 0.4029 - val_acc: 0.7510\n",
      "Epoch 32/60\n",
      "10000/10000 [==============================] - 19s - loss: 0.4883 - acc: 0.7593 - val_loss: 0.3974 - val_acc: 0.7720\n",
      "Epoch 33/60\n",
      "10000/10000 [==============================] - 11s - loss: 0.4852 - acc: 0.7662 - val_loss: 0.3968 - val_acc: 0.7670\n",
      "Epoch 34/60\n",
      "10000/10000 [==============================] - 19s - loss: 0.4703 - acc: 0.7678 - val_loss: 0.3874 - val_acc: 0.7650\n",
      "Epoch 35/60\n",
      "10000/10000 [==============================] - 19s - loss: 0.4634 - acc: 0.7702 - val_loss: 0.3830 - val_acc: 0.7660\n",
      "Epoch 36/60\n",
      "10000/10000 [==============================] - 19s - loss: 0.4559 - acc: 0.7752 - val_loss: 0.3790 - val_acc: 0.7760\n",
      "Epoch 37/60\n",
      "10000/10000 [==============================] - 20s - loss: 0.4672 - acc: 0.7679 - val_loss: 0.3770 - val_acc: 0.7650\n",
      "Epoch 38/60\n",
      "10000/10000 [==============================] - 20s - loss: 0.4609 - acc: 0.7719 - val_loss: 0.3917 - val_acc: 0.7720\n",
      "Epoch 39/60\n",
      "10000/10000 [==============================] - 20s - loss: 0.4485 - acc: 0.7781 - val_loss: 0.3817 - val_acc: 0.7610\n",
      "Epoch 40/60\n",
      "10000/10000 [==============================] - 19s - loss: 0.4525 - acc: 0.7704 - val_loss: 0.3767 - val_acc: 0.7750\n",
      "Epoch 41/60\n",
      "10000/10000 [==============================] - 17s - loss: 0.4400 - acc: 0.7755 - val_loss: 0.3837 - val_acc: 0.7740\n",
      "Epoch 42/60\n",
      "10000/10000 [==============================] - 20s - loss: 0.4398 - acc: 0.7721 - val_loss: 0.3779 - val_acc: 0.7640\n",
      "Epoch 43/60\n",
      "10000/10000 [==============================] - 17s - loss: 0.4350 - acc: 0.7792 - val_loss: 0.3740 - val_acc: 0.7620\n",
      "Epoch 44/60\n",
      "10000/10000 [==============================] - 18s - loss: 0.4314 - acc: 0.7777 - val_loss: 0.3686 - val_acc: 0.7730\n",
      "Epoch 45/60\n",
      "10000/10000 [==============================] - 15s - loss: 0.4177 - acc: 0.7810 - val_loss: 0.3689 - val_acc: 0.7840\n",
      "Epoch 46/60\n",
      "10000/10000 [==============================] - 19s - loss: 0.4180 - acc: 0.7872 - val_loss: 0.3663 - val_acc: 0.7490\n",
      "Epoch 47/60\n",
      "10000/10000 [==============================] - 14s - loss: 0.4198 - acc: 0.7841 - val_loss: 0.3713 - val_acc: 0.7670\n",
      "Epoch 48/60\n",
      "10000/10000 [==============================] - 19s - loss: 0.4056 - acc: 0.7887 - val_loss: 0.3637 - val_acc: 0.7600\n",
      "Epoch 49/60\n",
      "10000/10000 [==============================] - 13s - loss: 0.4085 - acc: 0.7870 - val_loss: 0.3597 - val_acc: 0.7750\n",
      "Epoch 50/60\n",
      "10000/10000 [==============================] - 17s - loss: 0.4145 - acc: 0.7802 - val_loss: 0.3623 - val_acc: 0.7660\n",
      "Epoch 51/60\n",
      "10000/10000 [==============================] - 20s - loss: 0.4075 - acc: 0.7846 - val_loss: 0.3675 - val_acc: 0.7930\n",
      "Epoch 52/60\n",
      "10000/10000 [==============================] - 20s - loss: 0.3993 - acc: 0.7919 - val_loss: 0.3541 - val_acc: 0.7800\n",
      "Epoch 53/60\n",
      "10000/10000 [==============================] - 19s - loss: 0.3960 - acc: 0.7946 - val_loss: 0.3569 - val_acc: 0.7740\n",
      "Epoch 54/60\n",
      "10000/10000 [==============================] - 20s - loss: 0.3997 - acc: 0.7896 - val_loss: 0.3565 - val_acc: 0.7720\n",
      "Epoch 55/60\n",
      "10000/10000 [==============================] - 20s - loss: 0.3960 - acc: 0.7855 - val_loss: 0.3537 - val_acc: 0.7610\n",
      "Epoch 56/60\n",
      "10000/10000 [==============================] - 20s - loss: 0.3874 - acc: 0.7965 - val_loss: 0.3456 - val_acc: 0.7840\n",
      "Epoch 57/60\n",
      "10000/10000 [==============================] - 17s - loss: 0.3805 - acc: 0.8017 - val_loss: 0.3316 - val_acc: 0.8070\n",
      "Epoch 58/60\n",
      "10000/10000 [==============================] - 20s - loss: 0.3639 - acc: 0.8095 - val_loss: 0.3178 - val_acc: 0.8140\n",
      "Epoch 59/60\n",
      "10000/10000 [==============================] - 19s - loss: 0.3373 - acc: 0.8327 - val_loss: 0.2559 - val_acc: 0.8630\n",
      "Epoch 60/60\n",
      "10000/10000 [==============================] - 17s - loss: 0.2781 - acc: 0.8698 - val_loss: 0.1613 - val_acc: 0.9440\n"
     ]
    },
    {
     "data": {
      "text/plain": [
       "<keras.callbacks.History at 0x7f19c18dee10>"
      ]
     },
     "execution_count": 43,
     "metadata": {},
     "output_type": "execute_result"
    }
   ],
   "source": [
    "answer.compile(optimizer='rmsprop', loss='categorical_crossentropy',\n",
    "               metrics=['accuracy'])\n",
    "# Note: you could use a Graph model to avoid repeat the input twice\n",
    "answer.fit([inputs_train, queries_train, inputs_train], answers_train,\n",
    "           batch_size=25,\n",
    "           nb_epoch=60,\n",
    "           validation_data=([inputs_test, queries_test, inputs_test], answers_test))"
   ]
  },
  {
   "cell_type": "markdown",
   "metadata": {},
   "source": [
    "### Making predictions based on the fitted model"
   ]
  },
  {
   "cell_type": "code",
   "execution_count": 44,
   "metadata": {
    "collapsed": false
   },
   "outputs": [
    {
     "name": "stdout",
     "output_type": "stream",
     "text": [
      "1000/1000 [==============================] - 0s     \n"
     ]
    }
   ],
   "source": [
    "predictions=answer.predict_classes([inputs_test, queries_test, inputs_test], batch_size=32)"
   ]
  },
  {
   "cell_type": "markdown",
   "metadata": {},
   "source": [
    "### Example story and model prediction"
   ]
  },
  {
   "cell_type": "code",
   "execution_count": 45,
   "metadata": {
    "collapsed": false,
    "scrolled": true
   },
   "outputs": [],
   "source": [
    "def pred_evaluation(ind):\n",
    "    \n",
    "    print (\"The story is -: \")\n",
    "    facts = test_stories[ind]\n",
    "    print(' '.join(facts[0]))\n",
    "    print('\\n')\n",
    "    \n",
    "    print (\"The query is -:\")\n",
    "    print(' '.join(facts[1]))\n",
    "\n",
    "    print (\"\\nThe predicted answer is -:\")\n",
    "    ans = predictions[ind]\n",
    "    for key, value in (word_idx).items():\n",
    "        if value == ans:\n",
    "            print(key)\n",
    "            print('\\n')\n",
    "            \n"
   ]
  },
  {
   "cell_type": "code",
   "execution_count": 46,
   "metadata": {
    "collapsed": false
   },
   "outputs": [
    {
     "name": "stdout",
     "output_type": "stream",
     "text": [
      "The story is -: \n",
      "The garden is east of the bathroom . The garden is west of the hallway .\n",
      "\n",
      "\n",
      "The query is -:\n",
      "What is the bathroom west of ?\n",
      "\n",
      "The predicted answer is -:\n",
      "garden\n",
      "\n",
      "\n"
     ]
    }
   ],
   "source": [
    "pred_evaluation(5)\n"
   ]
  },
  {
   "cell_type": "code",
   "execution_count": 47,
   "metadata": {
    "collapsed": false
   },
   "outputs": [
    {
     "name": "stdout",
     "output_type": "stream",
     "text": [
      "The story is -: \n",
      "The hallway is east of the office . The garden is west of the office .\n",
      "\n",
      "\n",
      "The query is -:\n",
      "What is the office east of ?\n",
      "\n",
      "The predicted answer is -:\n",
      "hallway\n",
      "\n",
      "\n"
     ]
    }
   ],
   "source": [
    "pred_evaluation(20)\n"
   ]
  },
  {
   "cell_type": "code",
   "execution_count": 48,
   "metadata": {
    "collapsed": false
   },
   "outputs": [
    {
     "name": "stdout",
     "output_type": "stream",
     "text": [
      "The story is -: \n",
      "The hallway is west of the bedroom . The office is west of the hallway .\n",
      "\n",
      "\n",
      "The query is -:\n",
      "What is the bedroom east of ?\n",
      "\n",
      "The predicted answer is -:\n",
      "hallway\n",
      "\n",
      "\n"
     ]
    }
   ],
   "source": [
    "pred_evaluation(540)"
   ]
  }
 ],
 "metadata": {
  "kernelspec": {
   "display_name": "Python 2",
   "language": "python",
   "name": "python2"
  },
  "language_info": {
   "codemirror_mode": {
    "name": "ipython",
    "version": 2
   },
   "file_extension": ".py",
   "mimetype": "text/x-python",
   "name": "python",
   "nbconvert_exporter": "python",
   "pygments_lexer": "ipython2",
   "version": "2.7.9"
  }
 },
 "nbformat": 4,
 "nbformat_minor": 1
}
