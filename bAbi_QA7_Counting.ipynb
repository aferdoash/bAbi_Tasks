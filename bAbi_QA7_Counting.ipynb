{
 "cells": [
  {
   "cell_type": "markdown",
   "metadata": {},
   "source": [
    "### QA Type 7 : Counting\n",
    "\n",
    "Task 7 tests the ability of the QA system to perform simple counting operations, by asking about the number of objects with a certain property, e.g. “How many objects is Daniel holding?”. \n",
    "\n",
    "For training and testing we have used the 10k dataset, containing 10,000 training examples.\n",
    "An example QA set is as below -:\n",
    "\n",
    "\n",
    "1. Mary moved to the bathroom.\n",
    "2. Sandra journeyed to the bedroom.\n",
    "3. John went to the kitchen.\n",
    "4. Mary took the football there.\n",
    "5. How many objects is Mary carrying? \tone\t"
   ]
  },
  {
   "cell_type": "code",
   "execution_count": 1,
   "metadata": {
    "collapsed": false
   },
   "outputs": [
    {
     "name": "stderr",
     "output_type": "stream",
     "text": [
      "Using TensorFlow backend.\n"
     ]
    }
   ],
   "source": [
    "from __future__ import print_function\n",
    "from keras.models import Sequential\n",
    "from keras.layers.embeddings import Embedding\n",
    "from keras.layers import Activation, Dense, Merge, Permute, Dropout\n",
    "from keras.layers import LSTM\n",
    "from keras.utils.data_utils import get_file\n",
    "from keras.preprocessing.sequence import pad_sequences\n",
    "from functools import reduce\n",
    "import tarfile\n",
    "import numpy as np\n",
    "import re"
   ]
  },
  {
   "cell_type": "markdown",
   "metadata": {},
   "source": [
    "### Story processing\n",
    "\n",
    "Each story is processed to reduce sentences to tokens and combine all facts and queries relevant to the story. "
   ]
  },
  {
   "cell_type": "code",
   "execution_count": 2,
   "metadata": {
    "collapsed": false
   },
   "outputs": [],
   "source": [
    "def tokenize(sent):\n",
    "    '''Return the tokens of a sentence including punctuation.\n",
    "    >>> tokenize('Bob dropped the apple. Where is the apple?')\n",
    "    ['Bob', 'dropped', 'the', 'apple', '.', 'Where', 'is', 'the', 'apple', '?']\n",
    "    '''\n",
    "    return [x.strip() for x in re.split('(\\W+)?', sent) if x.strip()]\n"
   ]
  },
  {
   "cell_type": "code",
   "execution_count": 3,
   "metadata": {
    "collapsed": true
   },
   "outputs": [],
   "source": [
    "def parse_stories(lines, only_supporting=False):\n",
    "    '''Parse stories provided in the bAbi tasks format\n",
    "    If only_supporting is true, only the sentences that support the answer are kept.\n",
    "    '''\n",
    "    data = []\n",
    "    story = []\n",
    "    for line in lines:\n",
    "        line = line.decode('utf-8').strip()\n",
    "        nid, line = line.split(' ', 1)\n",
    "        nid = int(nid)\n",
    "        if nid == 1:\n",
    "            story = []\n",
    "        if '\\t' in line:\n",
    "            q, a, supporting = line.split('\\t')\n",
    "            q = tokenize(q)\n",
    "            substory = None\n",
    "            if only_supporting:\n",
    "                # Only select the related substory\n",
    "                supporting = map(int, supporting.split())\n",
    "                substory = [story[i - 1] for i in supporting]\n",
    "            else:\n",
    "                # Provide all the substories\n",
    "                substory = [x for x in story if x]\n",
    "            data.append((substory, q, a))\n",
    "            story.append('')\n",
    "        else:\n",
    "            sent = tokenize(line)\n",
    "            story.append(sent)\n",
    "    return data"
   ]
  },
  {
   "cell_type": "code",
   "execution_count": 4,
   "metadata": {
    "collapsed": true
   },
   "outputs": [],
   "source": [
    "\n",
    "def get_stories(f, only_supporting=False, max_length=None):\n",
    "    '''Given a file name, read the file, retrieve the stories, and then convert the sentences into a single story.\n",
    "    If max_length is supplied, any stories longer than max_length tokens will be discarded.\n",
    "    '''\n",
    "    data = parse_stories(f.readlines(), only_supporting=only_supporting)\n",
    "    flatten = lambda data: reduce(lambda x, y: x + y, data)\n",
    "    data = [(flatten(story), q, answer) for story, q, answer in data if not max_length or len(flatten(story)) < max_length]\n",
    "    return data\n"
   ]
  },
  {
   "cell_type": "code",
   "execution_count": 5,
   "metadata": {
    "collapsed": true
   },
   "outputs": [],
   "source": [
    "def vectorize_stories(data, word_idx, story_maxlen, query_maxlen):\n",
    "    X = []\n",
    "    Xq = []\n",
    "    Y = []\n",
    "    for story, query, answer in data:\n",
    "        x = [word_idx[w] for w in story]\n",
    "        xq = [word_idx[w] for w in query]\n",
    "        y = np.zeros(len(word_idx) + 1)  # let's not forget that index 0 is reserved\n",
    "        y[word_idx[answer]] = 1\n",
    "        X.append(x)\n",
    "        Xq.append(xq)\n",
    "        Y.append(y)\n",
    "    return (pad_sequences(X, maxlen=story_maxlen),\n",
    "            pad_sequences(Xq, maxlen=query_maxlen), np.array(Y))"
   ]
  },
  {
   "cell_type": "code",
   "execution_count": 6,
   "metadata": {
    "collapsed": false
   },
   "outputs": [],
   "source": [
    "try:\n",
    "    path = get_file('babi-tasks-v1-2.tar.gz', origin='https://s3.amazonaws.com/text-datasets/babi_tasks_1-20_v1-2.tar.gz')\n",
    "except:\n",
    "    print('Error downloading dataset, please download it manually:\\n'\n",
    "          '$ wget http://www.thespermwhale.com/jaseweston/babi/tasks_1-20_v1-2.tar.gz\\n'\n",
    "          '$ mv tasks_1-20_v1-2.tar.gz ~/.keras/datasets/babi-tasks-v1-2.tar.gz')\n",
    "    raise\n",
    "tar = tarfile.open(path)"
   ]
  },
  {
   "cell_type": "markdown",
   "metadata": {},
   "source": [
    "### Training Set\n",
    "\n",
    "Here the selection of 'Question' type (single supporting fact, three supporting facts etc.) is made for generating the training and test set. "
   ]
  },
  {
   "cell_type": "code",
   "execution_count": 7,
   "metadata": {
    "collapsed": false
   },
   "outputs": [
    {
     "name": "stdout",
     "output_type": "stream",
     "text": [
      "Extracting stories for the challenge: counting_10k\n"
     ]
    }
   ],
   "source": [
    "challenges = {\n",
    "    # QA1 with 10,000 samples\n",
    "    'single_supporting_fact_10k': 'tasks_1-20_v1-2/en-10k/qa1_single-supporting-fact_{}.txt',\n",
    "    # QA2 with 10,000 samples\n",
    "    'two_supporting_facts_10k': 'tasks_1-20_v1-2/en-10k/qa2_two-supporting-facts_{}.txt',\n",
    "    # QA4\n",
    "    'two-arg-relations_10k' : 'tasks_1-20_v1-2/en-10k/qa4_two-arg-relations_{}.txt',\n",
    "    # QA5 \n",
    "    'three-arg-relations_10k' : 'tasks_1-20_v1-2/en-10k/qa5_three-arg-relations_{}.txt',\n",
    "    'yes-no-questions_10k' :'tasks_1-20_v1-2/en-10k/qa6_yes-no-questions_{}.txt',\n",
    "     'counting_10k':'tasks_1-20_v1-2/en-10k/qa7_counting_{}.txt',\n",
    "   'lists-sets_10k' : 'tasks_1-20_v1-2/en-10k/qa8_lists-sets_{}.txt',\n",
    "    'simple-negation_10k':'tasks_1-20_v1-2/en-10k/qa9_simple-negation_{}.txt'\n",
    "}\n",
    "challenge_type = 'counting_10k'\n",
    "challenge = challenges[challenge_type]\n",
    "\n",
    "print('Extracting stories for the challenge:', challenge_type)\n",
    "train_stories = get_stories(tar.extractfile(challenge.format('train')))\n",
    "test_stories = get_stories(tar.extractfile(challenge.format('test')))\n"
   ]
  },
  {
   "cell_type": "code",
   "execution_count": 8,
   "metadata": {
    "collapsed": false
   },
   "outputs": [
    {
     "name": "stdout",
     "output_type": "stream",
     "text": [
      "Vocab size: 46 unique words\n",
      "Story max length: 321 words\n",
      "Query max length: 7 words\n",
      "Number of training stories: 10000\n",
      "Number of test stories: 1000\n",
      "\n",
      "\n",
      "Here's what a \"story\" tuple looks like (input, query, answer):\n",
      "([u'Mary', u'moved', u'to', u'the', u'bathroom', u'.', u'Sandra', u'journeyed', u'to', u'the', u'bedroom', u'.', u'John', u'went', u'to', u'the', u'kitchen', u'.', u'Mary', u'took', u'the', u'football', u'there', u'.'], [u'How', u'many', u'objects', u'is', u'Mary', u'carrying', u'?'], u'one')\n"
     ]
    }
   ],
   "source": [
    "vocab = sorted(reduce(lambda x, y: x | y, (set(story + q + [answer]) for story, q, answer in train_stories + test_stories)))\n",
    "# Reserve 0 for masking via pad_sequences\n",
    "vocab_size = len(vocab) + 1\n",
    "story_maxlen = max(map(len, (x for x, _, _ in train_stories + test_stories)))\n",
    "query_maxlen = max(map(len, (x for _, x, _ in train_stories + test_stories)))\n",
    "\n",
    "print('Vocab size:', vocab_size, 'unique words')\n",
    "print('Story max length:', story_maxlen, 'words')\n",
    "print('Query max length:', query_maxlen, 'words')\n",
    "print('Number of training stories:', len(train_stories))\n",
    "print('Number of test stories:', len(test_stories))\n",
    "print('\\n')\n",
    "print('Here\\'s what a \"story\" tuple looks like (input, query, answer):')\n",
    "print(train_stories[0])"
   ]
  },
  {
   "cell_type": "markdown",
   "metadata": {},
   "source": [
    "### Vectorizing the word sequences\n",
    "\n",
    "Here we convert the word tokens to word vectors. We know the total number of unique words in the corpus, that is the size of the vocabulary. Thus, to each word in the corpus we assign a number. We also know the maximum length of a story, story_maxlen (story includes facts, query and answer). Thus, for each story we can construct a word vector of length story_maxlen. For eg. suppose, story_maxlen is 68 and the current story length is 24, then we can have a word vector with the first 34 indices as 0 and the next 24 indices with vocabulary index values of words in the current story"
   ]
  },
  {
   "cell_type": "code",
   "execution_count": 9,
   "metadata": {
    "collapsed": false
   },
   "outputs": [
    {
     "name": "stdout",
     "output_type": "stream",
     "text": [
      "inputs: integer tensor of shape (samples, max_length)\n",
      "inputs_train shape: (10000, 321)\n",
      "inputs_test shape: (1000, 321)\n",
      "\n",
      "\n",
      "queries: integer tensor of shape (samples, max_length)\n",
      "queries_train shape: (10000, 7)\n",
      "queries_test shape: (1000, 7)\n",
      "\n",
      "\n",
      "answers: binary (1 or 0) tensor of shape (samples, vocab_size)\n",
      "answers_train shape: (10000, 46)\n",
      "answers_test shape: (1000, 46)\n",
      "\n",
      "\n"
     ]
    }
   ],
   "source": [
    "word_idx = dict((c, i + 1) for i, c in enumerate(vocab))\n",
    "inputs_train, queries_train, answers_train = vectorize_stories(train_stories, word_idx, story_maxlen, query_maxlen)\n",
    "inputs_test, queries_test, answers_test = vectorize_stories(test_stories, word_idx, story_maxlen, query_maxlen)\n",
    "\n",
    "\n",
    "print('inputs: integer tensor of shape (samples, max_length)')\n",
    "print('inputs_train shape:', inputs_train.shape)\n",
    "print('inputs_test shape:', inputs_test.shape)\n",
    "print('\\n')\n",
    "print('queries: integer tensor of shape (samples, max_length)')\n",
    "print('queries_train shape:', queries_train.shape)\n",
    "print('queries_test shape:', queries_test.shape)\n",
    "print('\\n')\n",
    "print('answers: binary (1 or 0) tensor of shape (samples, vocab_size)')\n",
    "print('answers_train shape:', answers_train.shape)\n",
    "print('answers_test shape:', answers_test.shape)\n",
    "print('\\n')\n"
   ]
  },
  {
   "cell_type": "markdown",
   "metadata": {},
   "source": [
    "### End-to-End Memory Networks\n",
    "\n",
    "The model employed is the End-to-End Memory Networks described in Sukhbaatar et. al. (2015). The architecture is a modified form of Memory Network (Weston, 2014) with the training being weakly supervised.Weston's Memory Network was not easy to train via backpropagation and required supervision at each layer.\n",
    "\n",
    "\n",
    "Briefly, the model takes a discrete set of inputs x1, x2, ...xn that are to be stored in memory, a query q, and an answer a. The model writes all x to the memory up to a fixed buffer size, and then finds a continuous representation for x and q. The continuous representation is then processed via multiple hops to output a. \n"
   ]
  },
  {
   "cell_type": "code",
   "execution_count": 10,
   "metadata": {
    "collapsed": false
   },
   "outputs": [],
   "source": [
    "# embed the input sequence into a sequence of vectors\n",
    "# output: (samples, story_maxlen, embedding_dim)\n",
    "input_encoder_m = Sequential()\n",
    "input_encoder_m.add(Embedding(input_dim=vocab_size,\n",
    "                              output_dim=64,\n",
    "                              input_length=story_maxlen))\n",
    "input_encoder_m.add(Dropout(0.3))\n",
    "\n",
    "\n",
    "# embed the question into a sequence of vectors\n",
    "# output: (samples, query_maxlen, embedding_dim)\n",
    "question_encoder = Sequential()\n",
    "question_encoder.add(Embedding(input_dim=vocab_size,\n",
    "                               output_dim=64,\n",
    "                               input_length=query_maxlen))\n",
    "question_encoder.add(Dropout(0.3))\n",
    "\n",
    "# compute a 'match' between input sequence elements (which are vectors)\n",
    "# and the question vector sequence\n",
    "\n",
    "# output: (samples, story_maxlen, query_maxlen)\n",
    "match = Sequential()\n",
    "match.add(Merge([input_encoder_m, question_encoder],\n",
    "                mode='dot',\n",
    "                dot_axes=[2, 2]))\n",
    "match.add(Activation('softmax'))\n",
    "\n",
    "# embed the input into a single vector with size = story_maxlen:\n",
    "# output: (samples, story_maxlen, query_maxlen)\n",
    "input_encoder_c = Sequential()\n",
    "input_encoder_c.add(Embedding(input_dim=vocab_size,\n",
    "                              output_dim=query_maxlen,\n",
    "                              input_length=story_maxlen))\n",
    "input_encoder_c.add(Dropout(0.3))\n",
    "\n",
    "\n",
    "# sum the match vector with the input vector:\n",
    "# output: (samples, story_maxlen, query_maxlen)\n",
    "response = Sequential()\n",
    "response.add(Merge([match, input_encoder_c], mode='sum'))\n",
    "\n",
    "response.add(Permute((2, 1)))  # output: (samples, query_maxlen, story_maxlen)\n",
    "\n",
    "# concatenate the match vector with the question vector,\n",
    "# and do logistic regression on top\n",
    "answer = Sequential()\n",
    "answer.add(Merge([response, question_encoder], mode='concat', concat_axis=-1))\n",
    "\n",
    "\n",
    "# the original paper uses a matrix multiplication for this reduction step.\n",
    "# we choose to use a RNN instead.\n",
    "answer.add(LSTM(32))\n",
    "# one regularization layer -- more would probably be needed.\n",
    "answer.add(Dropout(0.3))\n",
    "answer.add(Dense(vocab_size))\n",
    "# we output a probability distribution over the vocabulary\n",
    "answer.add(Activation('softmax'))\n",
    "\n"
   ]
  },
  {
   "cell_type": "code",
   "execution_count": 11,
   "metadata": {
    "collapsed": false
   },
   "outputs": [
    {
     "name": "stdout",
     "output_type": "stream",
     "text": [
      "Train on 10000 samples, validate on 1000 samples\n",
      "Epoch 1/60\n",
      "10000/10000 [==============================] - 16s - loss: 0.9985 - acc: 0.4853 - val_loss: 0.8434 - val_acc: 0.4880\n",
      "Epoch 2/60\n",
      "10000/10000 [==============================] - 16s - loss: 0.8369 - acc: 0.5576 - val_loss: 0.7699 - val_acc: 0.6650\n",
      "Epoch 3/60\n",
      "10000/10000 [==============================] - 16s - loss: 0.7493 - acc: 0.6728 - val_loss: 0.6770 - val_acc: 0.7220\n",
      "Epoch 4/60\n",
      "10000/10000 [==============================] - 13s - loss: 0.6789 - acc: 0.7185 - val_loss: 0.6057 - val_acc: 0.7510\n",
      "Epoch 5/60\n",
      "10000/10000 [==============================] - 16s - loss: 0.6115 - acc: 0.7447 - val_loss: 0.5637 - val_acc: 0.7620\n",
      "Epoch 6/60\n",
      "10000/10000 [==============================] - 16s - loss: 0.5557 - acc: 0.7681 - val_loss: 0.5643 - val_acc: 0.7790\n",
      "Epoch 7/60\n",
      "10000/10000 [==============================] - 12s - loss: 0.5188 - acc: 0.7859 - val_loss: 0.5162 - val_acc: 0.7900\n",
      "Epoch 8/60\n",
      "10000/10000 [==============================] - 16s - loss: 0.5036 - acc: 0.7893 - val_loss: 0.5011 - val_acc: 0.7980\n",
      "Epoch 9/60\n",
      "10000/10000 [==============================] - 13s - loss: 0.4851 - acc: 0.7889 - val_loss: 0.4939 - val_acc: 0.7900\n",
      "Epoch 10/60\n",
      "10000/10000 [==============================] - 13s - loss: 0.4711 - acc: 0.7917 - val_loss: 0.4671 - val_acc: 0.8020\n",
      "Epoch 11/60\n",
      "10000/10000 [==============================] - 15s - loss: 0.4626 - acc: 0.7939 - val_loss: 0.4691 - val_acc: 0.7980\n",
      "Epoch 12/60\n",
      "10000/10000 [==============================] - 9s - loss: 0.4558 - acc: 0.8010 - val_loss: 0.4654 - val_acc: 0.7960\n",
      "Epoch 13/60\n",
      "10000/10000 [==============================] - 16s - loss: 0.4481 - acc: 0.8000 - val_loss: 0.4794 - val_acc: 0.7810\n",
      "Epoch 14/60\n",
      "10000/10000 [==============================] - 16s - loss: 0.4415 - acc: 0.7971 - val_loss: 0.4649 - val_acc: 0.7880\n",
      "Epoch 15/60\n",
      "10000/10000 [==============================] - 16s - loss: 0.4390 - acc: 0.8040 - val_loss: 0.4539 - val_acc: 0.8040\n",
      "Epoch 16/60\n",
      "10000/10000 [==============================] - 16s - loss: 0.4279 - acc: 0.8051 - val_loss: 0.4564 - val_acc: 0.8070\n",
      "Epoch 17/60\n",
      "10000/10000 [==============================] - 16s - loss: 0.4275 - acc: 0.8027 - val_loss: 0.4464 - val_acc: 0.8090\n",
      "Epoch 18/60\n",
      "10000/10000 [==============================] - 15s - loss: 0.4258 - acc: 0.8064 - val_loss: 0.4407 - val_acc: 0.8040\n",
      "Epoch 19/60\n",
      "10000/10000 [==============================] - 16s - loss: 0.4180 - acc: 0.8092 - val_loss: 0.4621 - val_acc: 0.7890\n",
      "Epoch 20/60\n",
      "10000/10000 [==============================] - 16s - loss: 0.4152 - acc: 0.8083 - val_loss: 0.4676 - val_acc: 0.7980\n",
      "Epoch 21/60\n",
      "10000/10000 [==============================] - 15s - loss: 0.4136 - acc: 0.8085 - val_loss: 0.4726 - val_acc: 0.7980\n",
      "Epoch 22/60\n",
      "10000/10000 [==============================] - 16s - loss: 0.4084 - acc: 0.8105 - val_loss: 0.4594 - val_acc: 0.7890\n",
      "Epoch 23/60\n",
      "10000/10000 [==============================] - 13s - loss: 0.4002 - acc: 0.8122 - val_loss: 0.4515 - val_acc: 0.8060\n",
      "Epoch 24/60\n",
      "10000/10000 [==============================] - 13s - loss: 0.4036 - acc: 0.8160 - val_loss: 0.4630 - val_acc: 0.8040\n",
      "Epoch 25/60\n",
      "10000/10000 [==============================] - 14s - loss: 0.4000 - acc: 0.8156 - val_loss: 0.4465 - val_acc: 0.8030\n",
      "Epoch 26/60\n",
      "10000/10000 [==============================] - 14s - loss: 0.3986 - acc: 0.8170 - val_loss: 0.4586 - val_acc: 0.7910\n",
      "Epoch 27/60\n",
      "10000/10000 [==============================] - 13s - loss: 0.3945 - acc: 0.8185 - val_loss: 0.4938 - val_acc: 0.8020\n",
      "Epoch 28/60\n",
      "10000/10000 [==============================] - 14s - loss: 0.3877 - acc: 0.8203 - val_loss: 0.4647 - val_acc: 0.8010\n",
      "Epoch 29/60\n",
      "10000/10000 [==============================] - 14s - loss: 0.3904 - acc: 0.8201 - val_loss: 0.4682 - val_acc: 0.7840\n",
      "Epoch 30/60\n",
      "10000/10000 [==============================] - 11s - loss: 0.3875 - acc: 0.8197 - val_loss: 0.4558 - val_acc: 0.8060\n",
      "Epoch 31/60\n",
      "10000/10000 [==============================] - 16s - loss: 0.3799 - acc: 0.8243 - val_loss: 0.4601 - val_acc: 0.7930\n",
      "Epoch 32/60\n",
      "10000/10000 [==============================] - 11s - loss: 0.3832 - acc: 0.8179 - val_loss: 0.4669 - val_acc: 0.8050\n",
      "Epoch 33/60\n",
      "10000/10000 [==============================] - 13s - loss: 0.3766 - acc: 0.8277 - val_loss: 0.4581 - val_acc: 0.8030\n",
      "Epoch 34/60\n",
      "10000/10000 [==============================] - 16s - loss: 0.3753 - acc: 0.8248 - val_loss: 0.4660 - val_acc: 0.8130\n",
      "Epoch 35/60\n",
      "10000/10000 [==============================] - 16s - loss: 0.3768 - acc: 0.8274 - val_loss: 0.4563 - val_acc: 0.7940\n",
      "Epoch 36/60\n",
      "10000/10000 [==============================] - 15s - loss: 0.3740 - acc: 0.8215 - val_loss: 0.4858 - val_acc: 0.7950\n",
      "Epoch 37/60\n",
      "10000/10000 [==============================] - 16s - loss: 0.3693 - acc: 0.8262 - val_loss: 0.5062 - val_acc: 0.8020\n",
      "Epoch 38/60\n",
      "10000/10000 [==============================] - 16s - loss: 0.3648 - acc: 0.8291 - val_loss: 0.4836 - val_acc: 0.7940\n",
      "Epoch 39/60\n",
      "10000/10000 [==============================] - 16s - loss: 0.3638 - acc: 0.8306 - val_loss: 0.4651 - val_acc: 0.7930\n",
      "Epoch 40/60\n",
      "10000/10000 [==============================] - 16s - loss: 0.3594 - acc: 0.8350 - val_loss: 0.4697 - val_acc: 0.8010\n",
      "Epoch 41/60\n",
      "10000/10000 [==============================] - 16s - loss: 0.3588 - acc: 0.8356 - val_loss: 0.5024 - val_acc: 0.7940\n",
      "Epoch 42/60\n",
      "10000/10000 [==============================] - 16s - loss: 0.3608 - acc: 0.8338 - val_loss: 0.4634 - val_acc: 0.8030\n",
      "Epoch 43/60\n",
      "10000/10000 [==============================] - 13s - loss: 0.3518 - acc: 0.8348 - val_loss: 0.5145 - val_acc: 0.7940\n",
      "Epoch 44/60\n",
      "10000/10000 [==============================] - 14s - loss: 0.3468 - acc: 0.8366 - val_loss: 0.5061 - val_acc: 0.7990\n",
      "Epoch 45/60\n",
      "10000/10000 [==============================] - 13s - loss: 0.3539 - acc: 0.8399 - val_loss: 0.5053 - val_acc: 0.7940\n",
      "Epoch 46/60\n",
      "10000/10000 [==============================] - 13s - loss: 0.3535 - acc: 0.8344 - val_loss: 0.5409 - val_acc: 0.7780\n",
      "Epoch 47/60\n",
      "10000/10000 [==============================] - 12s - loss: 0.3475 - acc: 0.8372 - val_loss: 0.5194 - val_acc: 0.7900\n",
      "Epoch 48/60\n",
      "10000/10000 [==============================] - 14s - loss: 0.3517 - acc: 0.8382 - val_loss: 0.4927 - val_acc: 0.8050\n",
      "Epoch 49/60\n",
      "10000/10000 [==============================] - 10s - loss: 0.3397 - acc: 0.8414 - val_loss: 0.4958 - val_acc: 0.7720\n",
      "Epoch 50/60\n",
      "10000/10000 [==============================] - 14s - loss: 0.3427 - acc: 0.8387 - val_loss: 0.4913 - val_acc: 0.7960\n",
      "Epoch 51/60\n",
      "10000/10000 [==============================] - 13s - loss: 0.3345 - acc: 0.8452 - val_loss: 0.5017 - val_acc: 0.7930\n",
      "Epoch 52/60\n",
      "10000/10000 [==============================] - 9s - loss: 0.3392 - acc: 0.8457 - val_loss: 0.5004 - val_acc: 0.7790\n",
      "Epoch 53/60\n",
      "10000/10000 [==============================] - 14s - loss: 0.3386 - acc: 0.8453 - val_loss: 0.5176 - val_acc: 0.7820\n",
      "Epoch 54/60\n",
      "10000/10000 [==============================] - 14s - loss: 0.3335 - acc: 0.8440 - val_loss: 0.5239 - val_acc: 0.7910\n",
      "Epoch 55/60\n",
      "10000/10000 [==============================] - 14s - loss: 0.3330 - acc: 0.8474 - val_loss: 0.5093 - val_acc: 0.7940\n",
      "Epoch 56/60\n",
      "10000/10000 [==============================] - 14s - loss: 0.3226 - acc: 0.8500 - val_loss: 0.5687 - val_acc: 0.7960\n",
      "Epoch 57/60\n",
      "10000/10000 [==============================] - 14s - loss: 0.3321 - acc: 0.8496 - val_loss: 0.5257 - val_acc: 0.7910\n",
      "Epoch 58/60\n",
      "10000/10000 [==============================] - 14s - loss: 0.3280 - acc: 0.8499 - val_loss: 0.5470 - val_acc: 0.7910\n",
      "Epoch 59/60\n",
      "10000/10000 [==============================] - 14s - loss: 0.3207 - acc: 0.8533 - val_loss: 0.5631 - val_acc: 0.7830\n",
      "Epoch 60/60\n",
      "10000/10000 [==============================] - 14s - loss: 0.3194 - acc: 0.8529 - val_loss: 0.5215 - val_acc: 0.7900\n"
     ]
    },
    {
     "data": {
      "text/plain": [
       "<keras.callbacks.History at 0x7fe31a2f5450>"
      ]
     },
     "execution_count": 11,
     "metadata": {},
     "output_type": "execute_result"
    }
   ],
   "source": [
    "answer.compile(optimizer='rmsprop', loss='categorical_crossentropy',\n",
    "               metrics=['accuracy'])\n",
    "# Note: you could use a Graph model to avoid repeat the input twice\n",
    "answer.fit([inputs_train, queries_train, inputs_train], answers_train,\n",
    "           batch_size=32,\n",
    "           nb_epoch=60,\n",
    "           validation_data=([inputs_test, queries_test, inputs_test], answers_test))"
   ]
  },
  {
   "cell_type": "markdown",
   "metadata": {},
   "source": [
    "### Making predictions based on the fitted model"
   ]
  },
  {
   "cell_type": "code",
   "execution_count": 12,
   "metadata": {
    "collapsed": false
   },
   "outputs": [
    {
     "name": "stdout",
     "output_type": "stream",
     "text": [
      "1000/1000 [==============================] - 0s     \n"
     ]
    }
   ],
   "source": [
    "predictions=answer.predict_classes([inputs_test, queries_test, inputs_test], batch_size=32)"
   ]
  },
  {
   "cell_type": "markdown",
   "metadata": {},
   "source": [
    "### Example story and model prediction"
   ]
  },
  {
   "cell_type": "code",
   "execution_count": 13,
   "metadata": {
    "collapsed": false,
    "scrolled": true
   },
   "outputs": [],
   "source": [
    "def pred_evaluation(ind):\n",
    "    \n",
    "    print (\"The story is -: \")\n",
    "    facts = test_stories[ind]\n",
    "    print(' '.join(facts[0]))\n",
    "    print('\\n')\n",
    "    \n",
    "    print (\"The query is -:\")\n",
    "    print(' '.join(facts[1]))\n",
    "\n",
    "    print (\"\\nThe predicted answer is -:\")\n",
    "    ans = predictions[ind]\n",
    "    for key, value in (word_idx).items():\n",
    "        if value == ans:\n",
    "            print(key)\n",
    "            print('\\n')\n",
    "            \n"
   ]
  },
  {
   "cell_type": "code",
   "execution_count": 14,
   "metadata": {
    "collapsed": false
   },
   "outputs": [
    {
     "name": "stdout",
     "output_type": "stream",
     "text": [
      "The story is -: \n",
      "Mary got the milk there . John moved to the bedroom . Sandra went back to the bathroom . John got the football there .\n",
      "\n",
      "\n",
      "The query is -:\n",
      "How many objects is Mary carrying ?\n",
      "\n",
      "The predicted answer is -:\n",
      "one\n",
      "\n",
      "\n"
     ]
    }
   ],
   "source": [
    "pred_evaluation(1)\n"
   ]
  },
  {
   "cell_type": "code",
   "execution_count": 15,
   "metadata": {
    "collapsed": false
   },
   "outputs": [
    {
     "name": "stdout",
     "output_type": "stream",
     "text": [
      "The story is -: \n",
      "John moved to the hallway . Mary grabbed the milk there .\n",
      "\n",
      "\n",
      "The query is -:\n",
      "How many objects is Mary carrying ?\n",
      "\n",
      "The predicted answer is -:\n",
      "one\n",
      "\n",
      "\n"
     ]
    }
   ],
   "source": [
    "pred_evaluation(20)\n"
   ]
  },
  {
   "cell_type": "code",
   "execution_count": 16,
   "metadata": {
    "collapsed": false
   },
   "outputs": [
    {
     "name": "stdout",
     "output_type": "stream",
     "text": [
      "The story is -: \n",
      "Sandra went to the garden . Sandra moved to the office . Mary travelled to the office . John moved to the kitchen . Sandra travelled to the hallway . Daniel journeyed to the bedroom . Mary went to the kitchen . Daniel travelled to the kitchen . Sandra grabbed the apple there . Sandra put down the apple .\n",
      "\n",
      "\n",
      "The query is -:\n",
      "How many objects is Sandra carrying ?\n",
      "\n",
      "The predicted answer is -:\n",
      "none\n",
      "\n",
      "\n"
     ]
    }
   ],
   "source": [
    "pred_evaluation(540)"
   ]
  }
 ],
 "metadata": {
  "kernelspec": {
   "display_name": "Python 2",
   "language": "python",
   "name": "python2"
  },
  "language_info": {
   "codemirror_mode": {
    "name": "ipython",
    "version": 2
   },
   "file_extension": ".py",
   "mimetype": "text/x-python",
   "name": "python",
   "nbconvert_exporter": "python",
   "pygments_lexer": "ipython2",
   "version": "2.7.9"
  }
 },
 "nbformat": 4,
 "nbformat_minor": 1
}
